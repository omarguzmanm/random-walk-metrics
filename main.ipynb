{
 "cells": [
  {
   "cell_type": "markdown",
   "metadata": {},
   "source": [
    "# Homework 3\n",
    "\n",
    "**Name:** Omar Alejandro Guzmán Munguía\n",
    "\n",
    "**e-mail:** omar.guzman5063@alumnos.udg.mx"
   ]
  },
  {
   "cell_type": "markdown",
   "metadata": {},
   "source": [
    "# MODULES"
   ]
  },
  {
   "cell_type": "code",
   "execution_count": 148,
   "metadata": {},
   "outputs": [],
   "source": [
    "# Load modules\n",
    "import numpy as np\n",
    "import math\n",
    "\n",
    "import plotly.graph_objects as go\n",
    "\n",
    "from scipy.stats import exponweib\n",
    "from scipy.spatial import distance\n",
    "\n",
    "import pandas as pd\n",
    "from scipy.stats  import wrapcauchy"
   ]
  },
  {
   "cell_type": "markdown",
   "metadata": {},
   "source": [
    "# CLASSES"
   ]
  },
  {
   "cell_type": "code",
   "execution_count": 137,
   "metadata": {},
   "outputs": [],
   "source": [
    "################# http://www.pygame.org/wiki/2DVectorClass ##################\n",
    "class Vec2d(object):\n",
    "    \"\"\"2d vector class, supports vector and scalar operators,\n",
    "       and also provides a bunch of high level functions\n",
    "       \"\"\"\n",
    "    __slots__ = ['x', 'y']\n",
    "\n",
    "    def __init__(self, x_or_pair, y = None):\n",
    "        if y == None:            \n",
    "            self.x = x_or_pair[0]\n",
    "            self.y = x_or_pair[1]\n",
    "        else:\n",
    "            self.x = x_or_pair\n",
    "            self.y = y\n",
    "            \n",
    "    # Addition\n",
    "    def __add__(self, other):\n",
    "        if isinstance(other, Vec2d):\n",
    "            return Vec2d(self.x + other.x, self.y + other.y)\n",
    "        elif hasattr(other, \"__getitem__\"):\n",
    "            return Vec2d(self.x + other[0], self.y + other[1])\n",
    "        else:\n",
    "            return Vec2d(self.x + other, self.y + other)\n",
    "\n",
    "    # Subtraction\n",
    "    def __sub__(self, other):\n",
    "        if isinstance(other, Vec2d):\n",
    "            return Vec2d(self.x - other.x, self.y - other.y)\n",
    "        elif (hasattr(other, \"__getitem__\")):\n",
    "            return Vec2d(self.x - other[0], self.y - other[1])\n",
    "        else:\n",
    "            return Vec2d(self.x - other, self.y - other)\n",
    "    \n",
    "    # Vector length\n",
    "    def get_length(self):\n",
    "        return math.sqrt(self.x**2 + self.y**2)\n",
    "    \n",
    "    # rotate vector\n",
    "    def rotated(self, angle):        \n",
    "        cos = math.cos(angle)\n",
    "        sin = math.sin(angle)\n",
    "        x = self.x*cos - self.y*sin\n",
    "        y = self.x*sin + self.y*cos\n",
    "        return Vec2d(x, y)"
   ]
  },
  {
   "cell_type": "markdown",
   "metadata": {},
   "source": [
    "# Activity 1: Path length - (BM1 vs BM2 vs CRW)"
   ]
  },
  {
   "cell_type": "markdown",
   "metadata": {},
   "source": [
    "- Write a function that returns a **Brownian Motion (BM)** trajectory in **pandas** df.\n",
    "- Write a function that returns a **Correlated Random Walk (CRW)** trajectory in **pandas** df.\n",
    "- Write a function that returns the **path length** for a given trajectory.\n",
    "- **Compare** at least the **path lengt** of **three** trajectories as shown in the figure below.\n",
    "- Display the results using **plotly.**"
   ]
  },
  {
   "cell_type": "markdown",
   "metadata": {},
   "source": [
    "# FUNCTIONS"
   ]
  },
  {
   "cell_type": "code",
   "execution_count": 138,
   "metadata": {},
   "outputs": [],
   "source": [
    "#####################################################################################\n",
    "# Brownian motion trajectoy\n",
    "#####################################################################################\n",
    "def bm_2d(n_steps=1000, speed=5, s_pos=[0,0]):\n",
    "    \"\"\"\n",
    "    Arguments:\n",
    "        n_steps: Number of steps in the trajectory.\n",
    "        speed: Speed of the trajectory.\n",
    "        s_pos: Starting position of the trajectory.\n",
    "    Returns:\n",
    "        BM_2d_df:  DataFrame with the x and y positions of the trajectory.\n",
    "    \"\"\"\n",
    "    \n",
    "    # Init velocity vector\n",
    "    velocity =Vec2d(speed,0)\n",
    "    \n",
    "    # Init DF\n",
    "    BM_2d_df = pd.DataFrame(columns=['x_pos','y_pos'])    \n",
    "    # Add initial position\n",
    "    temp_df = pd.DataFrame([{'x_pos':s_pos[0], 'y_pos':s_pos[1]}])    \n",
    "    BM_2d_df = pd.concat([BM_2d_df, temp_df], ignore_index=True)\n",
    "    \n",
    "    # Generate the trajectory\n",
    "    for i in range(n_steps-1):        \n",
    "        turn_angle = np.random.uniform(low=-np.pi, high=np.pi)\n",
    "        velocity = velocity.rotated(turn_angle)\n",
    "    \n",
    "        temp_df = pd.DataFrame([{'x_pos':BM_2d_df.x_pos[i]+velocity.x, 'y_pos':BM_2d_df.y_pos[i]+velocity.y}])    \n",
    "        BM_2d_df = pd.concat([BM_2d_df, temp_df], ignore_index=True)\n",
    "        \n",
    "    return BM_2d_df"
   ]
  },
  {
   "cell_type": "code",
   "execution_count": 139,
   "metadata": {},
   "outputs": [],
   "source": [
    "#####################################################################################\n",
    "# Correlated Random Walk (CRW)\n",
    "#####################################################################################\n",
    "def crw_trajectory(n_steps=1000, speed=5, correlation_coeff=0.9, s_pos=0.0):\n",
    "    \"\"\"\n",
    "    Arguments:\n",
    "        n_steps: Number of steps in the trajectory.\n",
    "        speed: Length of each step.\n",
    "        correlation_coeff: Correlation coefficient (between -1 and 1) that controls the correlation between consecutive steps.\n",
    "        s_pos: Initial direction of movement in radians (default is 0.0).\n",
    "    Returns:\n",
    "        crw_df: A pandas DataFrame with columns ['x', 'y'] representing the trajectory.\n",
    "    \"\"\"\n",
    "    # Initialize the trajectory with the starting point at the origin\n",
    "    trajectory = [Vec2d(0.0, 0.0)]\n",
    "    \n",
    "    # Initialize the current direction\n",
    "    current_direction = s_pos\n",
    "    \n",
    "    for _ in range(n_steps):\n",
    "        # Generate a random angle change based on the correlation coefficient\n",
    "        angle_change = np.random.normal(0, np.sqrt(1 - correlation_coeff**2))\n",
    "        \n",
    "        # Update the current direction\n",
    "        current_direction += angle_change\n",
    "        \n",
    "        # Calculate the next step vector\n",
    "        next_step = Vec2d(speed, 0).rotated(current_direction)\n",
    "        \n",
    "        # Update the trajectory\n",
    "        next_position = trajectory[-1] + next_step\n",
    "        trajectory.append(next_position)\n",
    "    \n",
    "    # Convert the trajectory to a pandas DataFrame\n",
    "    crw_df = pd.DataFrame([(pos.x, pos.y) for pos in trajectory], columns=['x', 'y'])\n",
    "    \n",
    "    return crw_df"
   ]
  },
  {
   "cell_type": "code",
   "execution_count": 140,
   "metadata": {},
   "outputs": [],
   "source": [
    "#####################################################################################\n",
    "# Path length\n",
    "#####################################################################################\n",
    "def path_length(trajectory_df, s_pos=[0]):\n",
    "    \"\"\"\n",
    "    Arguments:\n",
    "        trajectory_df: DataFrame with the x and y positions of the trajectory.\n",
    "        s_pos: Starting position of the trajectory.\n",
    "    Returns:\n",
    "        path_length: Length of the trajectory.\n",
    "    \"\"\"\n",
    "    # Initialize the path length\n",
    "    path_length = pd.DataFrame(columns=['y_pos'])\n",
    "    df = pd.DataFrame([{'y_pos':s_pos[0]}])\n",
    "\n",
    "    path_length = pd.concat([path_length, df], ignore_index=True)\n",
    "\n",
    "    for i in range(len(trajectory_df)-1):\n",
    "        df = pd.DataFrame([{'y_pos':path_length.y_pos[i] + distance.euclidean(trajectory_df.iloc[i], trajectory_df.iloc[i+1])}])\n",
    "        path_length = pd.concat([path_length, df], ignore_index=True)\n",
    "        \n",
    "    return path_length"
   ]
  },
  {
   "cell_type": "code",
   "execution_count": 141,
   "metadata": {},
   "outputs": [],
   "source": [
    "# Generate trajectories\n",
    "bm_traj_3 = bm_2d(speed=3)\n",
    "bm_traj_6 = bm_2d(speed=6)\n",
    "crw_traj_6 = crw_trajectory(speed=6)\n",
    "\n",
    "# Calculate path lengths\n",
    "bm_pl_3 = path_length(bm_traj_3)\n",
    "bm_pl_6 = path_length(bm_traj_6)\n",
    "crw_pl_6 = path_length(crw_traj_6)"
   ]
  },
  {
   "cell_type": "code",
   "execution_count": 142,
   "metadata": {},
   "outputs": [
    {
     "data": {
      "application/vnd.plotly.v1+json": {
       "config": {
        "plotlyServerURL": "https://plot.ly"
       },
       "data": [
        {
         "mode": "lines",
         "name": "Path length - BM 3",
         "showlegend": true,
         "type": "scatter",
         "x": {
          "bdata": "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",
          "dtype": "i2"
         },
         "y": [
          0,
          3,
          6,
          9,
          12,
          15,
          18,
          21,
          24,
          27,
          30,
          33,
          36,
          39,
          42,
          45,
          48,
          51,
          54,
          57,
          60,
          63,
          66,
          69,
          72,
          75,
          78,
          81,
          84,
          87,
          90,
          93,
          96,
          99,
          102,
          105,
          108,
          111,
          114,
          117,
          120,
          123,
          126,
          129,
          132,
          135,
          138,
          141,
          144,
          147,
          150,
          153,
          156,
          159,
          162,
          165,
          168,
          171,
          174,
          177,
          180,
          183,
          186,
          189,
          192,
          195,
          198,
          201,
          204,
          207,
          210,
          213,
          216,
          219,
          222,
          225,
          228,
          231,
          234,
          237,
          240,
          243,
          246,
          249,
          252,
          255,
          258,
          261,
          264,
          267,
          270,
          273,
          276,
          279,
          282,
          285,
          288,
          291,
          294,
          297,
          300,
          303,
          306,
          309,
          312,
          315,
          318,
          321,
          324,
          327,
          330,
          333,
          336,
          339,
          342,
          345,
          348,
          351,
          354,
          357,
          360,
          363,
          366,
          369,
          372,
          375,
          378,
          381,
          384,
          387,
          390,
          393,
          396,
          399,
          402,
          405,
          408,
          411,
          414,
          417,
          420,
          423,
          426,
          429,
          432,
          435,
          438,
          441,
          444,
          447,
          450,
          453,
          456,
          459,
          462,
          465,
          468,
          471,
          474,
          477,
          480,
          483,
          486,
          489,
          492,
          495,
          498,
          501,
          504,
          507,
          510,
          513,
          516,
          519,
          522,
          525,
          528,
          531,
          534,
          537,
          540,
          543,
          546,
          549,
          552,
          555,
          558,
          561,
          564,
          567,
          570,
          573,
          576,
          579,
          582,
          585,
          588,
          591,
          594,
          597,
          600,
          603,
          606,
          609,
          612,
          615,
          618,
          621,
          624,
          627,
          630,
          633,
          636,
          639,
          642,
          645,
          648,
          651,
          654,
          657,
          660,
          663,
          666,
          669,
          672,
          675,
          678,
          681,
          684,
          687,
          690,
          693,
          696,
          699,
          702,
          705,
          708,
          711,
          714,
          717,
          720,
          723,
          726,
          729,
          732,
          735,
          738,
          741,
          744,
          747,
          750,
          753,
          756,
          759,
          762,
          765,
          768,
          771,
          774,
          777,
          780,
          783,
          786,
          789,
          792,
          795,
          798,
          801,
          804,
          807,
          810,
          813,
          816,
          819,
          822,
          825,
          828,
          831,
          834,
          837,
          840,
          843,
          846,
          849,
          852,
          855,
          858,
          861,
          864,
          867,
          870,
          873,
          876,
          879,
          882,
          885,
          888,
          891,
          894,
          897,
          900,
          903,
          906,
          909,
          912,
          915,
          918,
          921,
          924,
          927,
          930,
          933,
          936,
          939,
          942,
          945,
          948,
          951,
          954,
          957,
          960,
          963,
          966,
          969,
          972,
          975,
          978,
          981,
          984,
          987,
          990,
          993,
          996,
          999,
          1002,
          1005,
          1008,
          1011,
          1014,
          1017,
          1020,
          1023,
          1026,
          1029,
          1032,
          1035,
          1038,
          1041,
          1044,
          1047,
          1050,
          1053,
          1056,
          1059,
          1062,
          1065,
          1068,
          1071,
          1074,
          1077,
          1080,
          1083,
          1086,
          1089,
          1092,
          1095,
          1098,
          1101,
          1104,
          1107,
          1110,
          1113,
          1116,
          1119,
          1122,
          1125,
          1128,
          1131,
          1134,
          1137,
          1140,
          1143,
          1146,
          1149,
          1152,
          1155,
          1158,
          1161,
          1164,
          1167,
          1170,
          1173,
          1176,
          1179,
          1182,
          1185,
          1188,
          1191,
          1194,
          1197,
          1200,
          1203,
          1206,
          1209,
          1212,
          1215,
          1218,
          1221,
          1224,
          1227,
          1230,
          1233,
          1236,
          1239,
          1242,
          1245,
          1248,
          1251,
          1254,
          1257,
          1260,
          1263,
          1266,
          1269,
          1272,
          1275,
          1278,
          1281,
          1284,
          1287,
          1290,
          1293,
          1296,
          1299,
          1302,
          1305,
          1308,
          1311,
          1314,
          1317,
          1320,
          1323,
          1326,
          1329,
          1332,
          1335,
          1338,
          1341,
          1344,
          1347,
          1350,
          1353,
          1356,
          1359,
          1362,
          1365,
          1368,
          1371,
          1374,
          1377,
          1380,
          1383,
          1386,
          1389,
          1392,
          1395,
          1398,
          1401,
          1404,
          1407,
          1410,
          1413,
          1416,
          1419,
          1422,
          1425,
          1428,
          1431,
          1434,
          1437,
          1440,
          1443,
          1446,
          1449,
          1452,
          1455,
          1458,
          1461,
          1464,
          1467,
          1470,
          1473,
          1476,
          1479,
          1482,
          1485,
          1488,
          1491,
          1494,
          1497,
          1500,
          1503,
          1506,
          1509,
          1512,
          1515,
          1518,
          1521,
          1524,
          1527,
          1530,
          1533,
          1536,
          1539,
          1542,
          1545,
          1548,
          1551,
          1554,
          1557,
          1560,
          1563,
          1566,
          1569,
          1572,
          1575,
          1578,
          1581,
          1584,
          1587,
          1590,
          1593,
          1596,
          1599,
          1602,
          1605,
          1608,
          1611,
          1614,
          1617,
          1620,
          1623,
          1626,
          1629,
          1632,
          1635,
          1638,
          1641,
          1644,
          1647,
          1650,
          1653,
          1656,
          1659,
          1662,
          1665,
          1668,
          1671,
          1674,
          1677,
          1680,
          1683,
          1686,
          1689,
          1692,
          1695,
          1698,
          1701,
          1704,
          1707,
          1710,
          1713,
          1716,
          1719,
          1722,
          1725,
          1728,
          1731,
          1734,
          1737,
          1740,
          1743,
          1746,
          1749,
          1752,
          1755,
          1758,
          1761,
          1764,
          1767,
          1770,
          1773,
          1776,
          1779,
          1782,
          1785,
          1788,
          1791,
          1794,
          1797,
          1800,
          1803,
          1806,
          1809,
          1812,
          1815,
          1818,
          1821,
          1824,
          1827,
          1830,
          1833,
          1836,
          1839,
          1842,
          1845,
          1848,
          1851,
          1854,
          1857,
          1860,
          1863,
          1866,
          1869,
          1872,
          1875,
          1878,
          1881,
          1884,
          1887,
          1890,
          1893,
          1896,
          1899,
          1902,
          1905,
          1908,
          1911,
          1914,
          1917,
          1920,
          1923,
          1926,
          1929,
          1932,
          1935,
          1938,
          1941,
          1944,
          1947,
          1950,
          1953,
          1956,
          1959,
          1962,
          1965,
          1968,
          1971,
          1974,
          1977,
          1980,
          1983,
          1986,
          1989,
          1992,
          1995,
          1998,
          2001,
          2004,
          2007,
          2010,
          2013,
          2016,
          2019,
          2022,
          2025,
          2028,
          2031,
          2034,
          2037,
          2040,
          2043,
          2046,
          2049,
          2052,
          2055,
          2058,
          2061,
          2064,
          2067,
          2070,
          2073,
          2076,
          2079,
          2082,
          2085,
          2088,
          2091,
          2094,
          2097,
          2100,
          2103,
          2106,
          2109,
          2112,
          2115,
          2118,
          2121,
          2124,
          2127,
          2130,
          2133,
          2136,
          2139,
          2142,
          2145,
          2148,
          2151,
          2154,
          2157,
          2160,
          2163,
          2166,
          2169,
          2172,
          2175,
          2178,
          2181,
          2184,
          2187,
          2190,
          2193,
          2196,
          2199,
          2202,
          2205,
          2208,
          2211,
          2214,
          2217,
          2220,
          2223,
          2226,
          2229,
          2232,
          2235,
          2238,
          2241,
          2244,
          2247,
          2250,
          2253,
          2256,
          2259,
          2262,
          2265,
          2268,
          2271,
          2274,
          2277,
          2280,
          2283,
          2286,
          2289,
          2292,
          2295,
          2298,
          2301,
          2304,
          2307,
          2310,
          2313,
          2316,
          2319,
          2322,
          2325,
          2328,
          2331,
          2334,
          2337,
          2340,
          2343,
          2346,
          2349,
          2352,
          2355,
          2358,
          2361,
          2364,
          2367,
          2370,
          2373,
          2376,
          2379,
          2382,
          2385,
          2388,
          2391,
          2394,
          2397,
          2400,
          2403,
          2406,
          2409,
          2412,
          2415,
          2418,
          2421,
          2424,
          2427,
          2430,
          2433,
          2436,
          2439,
          2442,
          2445,
          2448,
          2451,
          2454,
          2457,
          2460,
          2463,
          2466,
          2469,
          2472,
          2475,
          2478,
          2481,
          2484,
          2487,
          2490,
          2493,
          2496,
          2499,
          2502,
          2505,
          2508,
          2511,
          2514,
          2517,
          2520,
          2523,
          2526,
          2529,
          2532,
          2535,
          2538,
          2541,
          2544,
          2547,
          2550,
          2553,
          2556,
          2559,
          2562,
          2565,
          2568,
          2571,
          2574,
          2577,
          2580,
          2583,
          2586,
          2589,
          2592,
          2595,
          2598,
          2601,
          2604,
          2607,
          2610,
          2613,
          2616,
          2619,
          2622,
          2625,
          2628,
          2631,
          2634,
          2637,
          2640,
          2643,
          2646,
          2649,
          2652,
          2655,
          2658,
          2661,
          2664,
          2667,
          2670,
          2673,
          2676,
          2679,
          2682,
          2685,
          2688,
          2691,
          2694,
          2697,
          2700,
          2703,
          2706,
          2709,
          2712,
          2715,
          2718,
          2721,
          2724,
          2727,
          2730,
          2733,
          2736,
          2739,
          2742,
          2745,
          2748,
          2751,
          2754,
          2757,
          2760,
          2763,
          2766,
          2769,
          2772,
          2775,
          2778,
          2781,
          2784,
          2787,
          2790,
          2793,
          2796,
          2799,
          2802,
          2805,
          2808,
          2811,
          2814,
          2817,
          2820,
          2823,
          2826,
          2829,
          2832,
          2835,
          2838,
          2841,
          2844,
          2847,
          2850,
          2853,
          2856,
          2859,
          2862,
          2865,
          2868,
          2871,
          2874,
          2877,
          2880,
          2883,
          2886,
          2889,
          2892,
          2895,
          2898,
          2901,
          2904,
          2907,
          2910,
          2913,
          2916,
          2919,
          2922,
          2925,
          2928,
          2931,
          2934,
          2937,
          2940,
          2943,
          2946,
          2949,
          2952,
          2955,
          2958,
          2961,
          2964,
          2967,
          2970,
          2973,
          2976,
          2979,
          2982,
          2985,
          2988,
          2991,
          2994,
          2997
         ]
        },
        {
         "line": {
          "width": 6
         },
         "marker": {
          "size": 2
         },
         "mode": "lines",
         "name": "Path length - BM 6",
         "showlegend": true,
         "type": "scatter",
         "x": {
          "bdata": "AAABAAIAAwAEAAUABgAHAAgACQAKAAsADAANAA4ADwAQABEAEgATABQAFQAWABcAGAAZABoAGwAcAB0AHgAfACAAIQAiACMAJAAlACYAJwAoACkAKgArACwALQAuAC8AMAAxADIAMwA0ADUANgA3ADgAOQA6ADsAPAA9AD4APwBAAEEAQgBDAEQARQBGAEcASABJAEoASwBMAE0ATgBPAFAAUQBSAFMAVABVAFYAVwBYAFkAWgBbAFwAXQBeAF8AYABhAGIAYwBkAGUAZgBnAGgAaQBqAGsAbABtAG4AbwBwAHEAcgBzAHQAdQB2AHcAeAB5AHoAewB8AH0AfgB/AIAAgQCCAIMAhACFAIYAhwCIAIkAigCLAIwAjQCOAI8AkACRAJIAkwCUAJUAlgCXAJgAmQCaAJsAnACdAJ4AnwCgAKEAogCjAKQApQCmAKcAqACpAKoAqwCsAK0ArgCvALAAsQCyALMAtAC1ALYAtwC4ALkAugC7ALwAvQC+AL8AwADBAMIAwwDEAMUAxgDHAMgAyQDKAMsAzADNAM4AzwDQANEA0gDTANQA1QDWANcA2ADZANoA2wDcAN0A3gDfAOAA4QDiAOMA5ADlAOYA5wDoAOkA6gDrAOwA7QDuAO8A8ADxAPIA8wD0APUA9gD3APgA+QD6APsA/AD9AP4A/wAAAQEBAgEDAQQBBQEGAQcBCAEJAQoBCwEMAQ0BDgEPARABEQESARMBFAEVARYBFwEYARkBGgEbARwBHQEeAR8BIAEhASIBIwEkASUBJgEnASgBKQEqASsBLAEtAS4BLwEwATEBMgEzATQBNQE2ATcBOAE5AToBOwE8AT0BPgE/AUABQQFCAUMBRAFFAUYBRwFIAUkBSgFLAUwBTQFOAU8BUAFRAVIBUwFUAVUBVgFXAVgBWQFaAVsBXAFdAV4BXwFgAWEBYgFjAWQBZQFmAWcBaAFpAWoBawFsAW0BbgFvAXABcQFyAXMBdAF1AXYBdwF4AXkBegF7AXwBfQF+AX8BgAGBAYIBgwGEAYUBhgGHAYgBiQGKAYsBjAGNAY4BjwGQAZEBkgGTAZQBlQGWAZcBmAGZAZoBmwGcAZ0BngGfAaABoQGiAaMBpAGlAaYBpwGoAakBqgGrAawBrQGuAa8BsAGxAbIBswG0AbUBtgG3AbgBuQG6AbsBvAG9Ab4BvwHAAcEBwgHDAcQBxQHGAccByAHJAcoBywHMAc0BzgHPAdAB0QHSAdMB1AHVAdYB1wHYAdkB2gHbAdwB3QHeAd8B4AHhAeIB4wHkAeUB5gHnAegB6QHqAesB7AHtAe4B7wHwAfEB8gHzAfQB9QH2AfcB+AH5AfoB+wH8Af0B/gH/AQACAQICAgMCBAIFAgYCBwIIAgkCCgILAgwCDQIOAg8CEAIRAhICEwIUAhUCFgIXAhgCGQIaAhsCHAIdAh4CHwIgAiECIgIjAiQCJQImAicCKAIpAioCKwIsAi0CLgIvAjACMQIyAjMCNAI1AjYCNwI4AjkCOgI7AjwCPQI+Aj8CQAJBAkICQwJEAkUCRgJHAkgCSQJKAksCTAJNAk4CTwJQAlECUgJTAlQCVQJWAlcCWAJZAloCWwJcAl0CXgJfAmACYQJiAmMCZAJlAmYCZwJoAmkCagJrAmwCbQJuAm8CcAJxAnICcwJ0AnUCdgJ3AngCeQJ6AnsCfAJ9An4CfwKAAoECggKDAoQChQKGAocCiAKJAooCiwKMAo0CjgKPApACkQKSApMClAKVApYClwKYApkCmgKbApwCnQKeAp8CoAKhAqICowKkAqUCpgKnAqgCqQKqAqsCrAKtAq4CrwKwArECsgKzArQCtQK2ArcCuAK5AroCuwK8Ar0CvgK/AsACwQLCAsMCxALFAsYCxwLIAskCygLLAswCzQLOAs8C0ALRAtIC0wLUAtUC1gLXAtgC2QLaAtsC3ALdAt4C3wLgAuEC4gLjAuQC5QLmAucC6ALpAuoC6wLsAu0C7gLvAvAC8QLyAvMC9AL1AvYC9wL4AvkC+gL7AvwC/QL+Av8CAAMBAwIDAwMEAwUDBgMHAwgDCQMKAwsDDAMNAw4DDwMQAxEDEgMTAxQDFQMWAxcDGAMZAxoDGwMcAx0DHgMfAyADIQMiAyMDJAMlAyYDJwMoAykDKgMrAywDLQMuAy8DMAMxAzIDMwM0AzUDNgM3AzgDOQM6AzsDPAM9Az4DPwNAA0EDQgNDA0QDRQNGA0cDSANJA0oDSwNMA00DTgNPA1ADUQNSA1MDVANVA1YDVwNYA1kDWgNbA1wDXQNeA18DYANhA2IDYwNkA2UDZgNnA2gDaQNqA2sDbANtA24DbwNwA3EDcgNzA3QDdQN2A3cDeAN5A3oDewN8A30DfgN/A4ADgQOCA4MDhAOFA4YDhwOIA4kDigOLA4wDjQOOA48DkAORA5IDkwOUA5UDlgOXA5gDmQOaA5sDnAOdA54DnwOgA6EDogOjA6QDpQOmA6cDqAOpA6oDqwOsA60DrgOvA7ADsQOyA7MDtAO1A7YDtwO4A7kDugO7A7wDvQO+A78DwAPBA8IDwwPEA8UDxgPHA8gDyQPKA8sDzAPNA84DzwPQA9ED0gPTA9QD1QPWA9cD2APZA9oD2wPcA90D3gPfA+AD4QPiA+MD5APlA+YD5wM=",
          "dtype": "i2"
         },
         "y": [
          0,
          6.000000000000001,
          12,
          18,
          24,
          30,
          36,
          42,
          48,
          54,
          60,
          66,
          72,
          78,
          84,
          90,
          96,
          102,
          108,
          114,
          120,
          126,
          132,
          138,
          144,
          150,
          156,
          162,
          168,
          174,
          180,
          186,
          192,
          198,
          204,
          210,
          216,
          222,
          228,
          234,
          240,
          246,
          252,
          258,
          264,
          270,
          276,
          282,
          288,
          294,
          300,
          306,
          312,
          318,
          324,
          330,
          336,
          342,
          348,
          354,
          360,
          366,
          372,
          378,
          384,
          390,
          396,
          402,
          408,
          414,
          420,
          426,
          432,
          438,
          444,
          450,
          456,
          462,
          468,
          474,
          480,
          486,
          492,
          498,
          504,
          510,
          516,
          522,
          528,
          534,
          540,
          546,
          552,
          558,
          564,
          570,
          576,
          582,
          588,
          594,
          600,
          606,
          612,
          618,
          624,
          630,
          636,
          642,
          648,
          654,
          660,
          666,
          672,
          678,
          684,
          690,
          696,
          702,
          708,
          714,
          720,
          726,
          732,
          738,
          744,
          750,
          756,
          762,
          768,
          774,
          780,
          786,
          792,
          798,
          804,
          810,
          816,
          822,
          828,
          834,
          840,
          846,
          852,
          858,
          864,
          870,
          876,
          882,
          888,
          894,
          900,
          906,
          912,
          918,
          924,
          930,
          936,
          942,
          948,
          954,
          960,
          966,
          972,
          978,
          984,
          990,
          996,
          1002,
          1008,
          1014,
          1020,
          1026,
          1032,
          1038,
          1044,
          1050,
          1056,
          1062,
          1068,
          1074,
          1080,
          1086,
          1092,
          1098,
          1104,
          1110,
          1116,
          1122,
          1128,
          1134,
          1140,
          1146,
          1152,
          1158,
          1164,
          1170,
          1176,
          1182,
          1188,
          1194,
          1200,
          1206,
          1212,
          1218,
          1224,
          1230,
          1236,
          1242,
          1248,
          1254,
          1260,
          1266,
          1272,
          1278,
          1284,
          1290,
          1296,
          1302,
          1308,
          1314,
          1320,
          1326,
          1332,
          1338,
          1344,
          1350,
          1356,
          1362,
          1368,
          1374,
          1380,
          1386,
          1392,
          1398,
          1404,
          1410,
          1416,
          1422,
          1428,
          1434,
          1440,
          1446,
          1452,
          1458,
          1464,
          1470,
          1476,
          1482,
          1488,
          1494,
          1500,
          1506,
          1512,
          1518,
          1524,
          1530,
          1536,
          1542,
          1548,
          1554,
          1560,
          1566,
          1572,
          1578,
          1584,
          1590,
          1596,
          1602,
          1608,
          1614,
          1620,
          1626,
          1632,
          1638,
          1644,
          1650,
          1656,
          1662,
          1668,
          1674,
          1680,
          1686,
          1692,
          1698,
          1704,
          1710,
          1716,
          1722,
          1728,
          1734,
          1740,
          1746,
          1752,
          1758,
          1764,
          1770,
          1776,
          1782,
          1788,
          1794,
          1800,
          1806,
          1812,
          1818,
          1824,
          1830,
          1836,
          1842,
          1848,
          1854,
          1860,
          1866,
          1872,
          1878,
          1884,
          1890,
          1896,
          1902,
          1908,
          1914,
          1920,
          1926,
          1932,
          1938,
          1944,
          1950,
          1956,
          1962,
          1968,
          1974,
          1980,
          1986,
          1992,
          1998,
          2004,
          2010,
          2016,
          2022,
          2028,
          2034,
          2040,
          2046,
          2052,
          2058,
          2064,
          2070,
          2076,
          2082,
          2088,
          2094,
          2100,
          2106,
          2112,
          2118,
          2124,
          2130,
          2136,
          2142,
          2148,
          2154,
          2160,
          2166,
          2172,
          2178,
          2184,
          2190,
          2196,
          2202,
          2208,
          2214,
          2220,
          2226,
          2232,
          2238,
          2244,
          2250,
          2256,
          2262,
          2268,
          2274,
          2280,
          2286,
          2292,
          2298,
          2304,
          2310,
          2316,
          2322,
          2328,
          2334,
          2340,
          2346,
          2352,
          2358,
          2364,
          2370,
          2376,
          2382,
          2388,
          2394,
          2400,
          2406,
          2412,
          2418,
          2424,
          2430,
          2436,
          2442,
          2448,
          2454,
          2460,
          2466,
          2472,
          2478,
          2484,
          2490,
          2496,
          2502,
          2508,
          2514,
          2520,
          2526,
          2532,
          2538,
          2544,
          2550,
          2556,
          2562,
          2568,
          2574,
          2580,
          2586,
          2592,
          2598,
          2604,
          2610,
          2616,
          2622,
          2628,
          2634,
          2640,
          2646,
          2652,
          2658,
          2664,
          2670,
          2676,
          2682,
          2688,
          2694,
          2700,
          2706,
          2712,
          2718,
          2724,
          2730,
          2736,
          2742,
          2748,
          2754,
          2760,
          2766,
          2772,
          2778,
          2784,
          2790,
          2796,
          2802,
          2808,
          2814,
          2820,
          2826,
          2832,
          2838,
          2844,
          2850,
          2856,
          2862,
          2868,
          2874,
          2880,
          2886,
          2892,
          2898,
          2904,
          2910,
          2916,
          2922,
          2928,
          2934,
          2940,
          2946,
          2952,
          2958,
          2964,
          2970,
          2976,
          2982,
          2988,
          2994,
          3000,
          3006,
          3012,
          3018,
          3024,
          3030,
          3036,
          3042,
          3048,
          3054,
          3060,
          3066,
          3072,
          3078,
          3084,
          3090,
          3096,
          3102,
          3108,
          3114,
          3120,
          3126,
          3132,
          3138,
          3144,
          3150,
          3156,
          3162,
          3168,
          3174,
          3180,
          3186,
          3192,
          3198,
          3204,
          3210,
          3216,
          3222,
          3228,
          3234,
          3240,
          3246,
          3252,
          3258,
          3264,
          3270,
          3276,
          3282,
          3288,
          3294,
          3300,
          3306,
          3312,
          3318,
          3324,
          3330,
          3336,
          3342,
          3348,
          3354,
          3360,
          3366,
          3372,
          3378,
          3384,
          3390,
          3396,
          3402,
          3408,
          3414,
          3420,
          3426,
          3432,
          3438,
          3444,
          3450,
          3456,
          3462,
          3468,
          3474,
          3480,
          3486,
          3492,
          3498,
          3504,
          3510,
          3516,
          3522,
          3528,
          3534,
          3540,
          3546,
          3552,
          3558,
          3564,
          3570,
          3576,
          3582,
          3588,
          3594,
          3600,
          3606,
          3612,
          3618,
          3624,
          3630,
          3636,
          3642,
          3648,
          3654,
          3660,
          3666,
          3672,
          3678,
          3684,
          3690,
          3696,
          3702,
          3708,
          3714,
          3720,
          3726,
          3732,
          3738,
          3744,
          3750,
          3756,
          3762,
          3768,
          3774,
          3780,
          3786,
          3792,
          3798,
          3804,
          3810,
          3816,
          3822,
          3828,
          3834,
          3840,
          3846,
          3852,
          3858,
          3864,
          3870,
          3876,
          3882,
          3888,
          3894,
          3900,
          3906,
          3912,
          3918,
          3924,
          3930,
          3936,
          3942,
          3948,
          3954,
          3960,
          3966,
          3972,
          3978,
          3984,
          3990,
          3996,
          4002,
          4008,
          4014,
          4020,
          4026,
          4032,
          4038,
          4044,
          4050,
          4056,
          4062,
          4068,
          4074,
          4080,
          4086,
          4092,
          4098,
          4104,
          4110,
          4116,
          4122,
          4128,
          4134,
          4140,
          4146,
          4152,
          4158,
          4164,
          4170,
          4176,
          4182,
          4188,
          4194,
          4200,
          4206,
          4212,
          4218,
          4224,
          4230,
          4236,
          4242,
          4248,
          4254,
          4260,
          4266,
          4272,
          4278,
          4284,
          4290,
          4296,
          4302,
          4308,
          4314,
          4320,
          4326,
          4332,
          4338,
          4344,
          4350,
          4356,
          4362,
          4368,
          4374,
          4380,
          4386,
          4392,
          4398,
          4404,
          4410,
          4416,
          4422,
          4428,
          4434,
          4440,
          4446,
          4452,
          4458,
          4464,
          4470,
          4476,
          4482,
          4488,
          4494,
          4500,
          4506,
          4512,
          4518,
          4524,
          4530,
          4536,
          4542,
          4548,
          4554,
          4560,
          4566,
          4572,
          4578,
          4584,
          4590,
          4596,
          4602,
          4608,
          4614,
          4620,
          4626,
          4632,
          4638,
          4644,
          4650,
          4656,
          4662,
          4668,
          4674,
          4680,
          4686,
          4692,
          4698,
          4704,
          4710,
          4716,
          4722,
          4728,
          4734,
          4740,
          4746,
          4752,
          4758,
          4764,
          4770,
          4776,
          4782,
          4788,
          4794,
          4800,
          4806,
          4812,
          4818,
          4824,
          4830,
          4836,
          4842,
          4848,
          4854,
          4860,
          4866,
          4872,
          4878,
          4884,
          4890,
          4896,
          4902,
          4908,
          4914,
          4920,
          4926,
          4932,
          4938,
          4944,
          4950,
          4956,
          4962,
          4968,
          4974,
          4980,
          4986,
          4992,
          4998,
          5004,
          5010,
          5016,
          5022,
          5028,
          5034,
          5040,
          5046,
          5052,
          5058,
          5064,
          5070,
          5076,
          5082,
          5088,
          5094,
          5100,
          5106,
          5112,
          5118,
          5124,
          5130,
          5136,
          5142,
          5148,
          5154,
          5160,
          5166,
          5172,
          5178,
          5184,
          5190,
          5196,
          5202,
          5208,
          5214,
          5220,
          5226,
          5232,
          5238,
          5244,
          5250,
          5256,
          5262,
          5268,
          5274,
          5280,
          5286,
          5292,
          5298,
          5304,
          5310,
          5316,
          5322,
          5328,
          5334,
          5340,
          5346,
          5352,
          5358,
          5364,
          5370,
          5376,
          5382,
          5388,
          5394,
          5400,
          5406,
          5412,
          5418,
          5424,
          5430,
          5436,
          5442,
          5448,
          5454,
          5460,
          5466,
          5472,
          5478,
          5484,
          5490,
          5496,
          5502,
          5508,
          5514,
          5520,
          5526,
          5532,
          5538,
          5544,
          5550,
          5556,
          5562,
          5568,
          5574,
          5580,
          5586,
          5592,
          5598,
          5604,
          5610,
          5616,
          5622,
          5628,
          5634,
          5640,
          5646,
          5652,
          5658,
          5664,
          5670,
          5676,
          5682,
          5688,
          5694,
          5700,
          5706,
          5712,
          5718,
          5724,
          5730,
          5736,
          5742,
          5748,
          5754,
          5760,
          5766,
          5772,
          5778,
          5784,
          5790,
          5796,
          5802,
          5808,
          5814,
          5820,
          5826,
          5832,
          5838,
          5844,
          5850,
          5856,
          5862,
          5868,
          5874,
          5880,
          5886,
          5892,
          5898,
          5904,
          5910,
          5916,
          5922,
          5928,
          5934,
          5940,
          5946,
          5952,
          5958,
          5964,
          5970,
          5976,
          5982,
          5988,
          5994
         ]
        },
        {
         "mode": "lines",
         "name": "Path length - CRW 6",
         "showlegend": true,
         "type": "scatter",
         "x": {
          "bdata": "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",
          "dtype": "i2"
         },
         "y": [
          0,
          5.999999999999999,
          12,
          18,
          24,
          30,
          36,
          42,
          48,
          54,
          60,
          66,
          72,
          78,
          84,
          90,
          96,
          102,
          108,
          114,
          120,
          126,
          132,
          138,
          144,
          150,
          156,
          162,
          168,
          174,
          180,
          186,
          192,
          198,
          204,
          210,
          216,
          222,
          228,
          234,
          240,
          246,
          252,
          258,
          264,
          270,
          276,
          282,
          288,
          294,
          300,
          306,
          312,
          318,
          324,
          330,
          336,
          342,
          348,
          354,
          360,
          366,
          372,
          378,
          384,
          390,
          396,
          402,
          408,
          414,
          420,
          426,
          432,
          438,
          444,
          450,
          456,
          462,
          468,
          474,
          480,
          486,
          492,
          498,
          504,
          510,
          516,
          522,
          528,
          534,
          540,
          546,
          552,
          558,
          564,
          570,
          576,
          582,
          588,
          594,
          600,
          606,
          612,
          618,
          624,
          630,
          636,
          642,
          648,
          654,
          660,
          666,
          672,
          678,
          684,
          690,
          696,
          702,
          708,
          714,
          720,
          726,
          732,
          738,
          744,
          750,
          756,
          762,
          768,
          774,
          780,
          786,
          792,
          798,
          804,
          810,
          816,
          822,
          828,
          834,
          840,
          846,
          852,
          858,
          864,
          870,
          876,
          882,
          888,
          894,
          900,
          906,
          912,
          918,
          924,
          930,
          936,
          942,
          948,
          954,
          960,
          966,
          972,
          978,
          984,
          990,
          996,
          1002,
          1008,
          1014,
          1020,
          1026,
          1032,
          1038,
          1044,
          1050,
          1056,
          1062,
          1068,
          1074,
          1080,
          1086,
          1092,
          1098,
          1104,
          1110,
          1116,
          1122,
          1128,
          1134,
          1140,
          1146,
          1152,
          1158,
          1164,
          1170,
          1176,
          1182,
          1188,
          1194,
          1200,
          1206,
          1212,
          1218,
          1224,
          1230,
          1236,
          1242,
          1248,
          1254,
          1260,
          1266,
          1272,
          1278,
          1284,
          1290,
          1296,
          1302,
          1308,
          1314,
          1320,
          1326,
          1332,
          1338,
          1344,
          1350,
          1356,
          1362,
          1368,
          1374,
          1380,
          1386,
          1392,
          1398,
          1404,
          1410,
          1416,
          1422,
          1428,
          1434,
          1440,
          1446,
          1452,
          1458,
          1464,
          1470,
          1476,
          1482,
          1488,
          1494,
          1500,
          1506,
          1512,
          1518,
          1524,
          1530,
          1536,
          1542,
          1548,
          1554,
          1560,
          1566,
          1572,
          1578,
          1584,
          1590,
          1596,
          1602,
          1608,
          1614,
          1620,
          1626,
          1632,
          1638,
          1644,
          1650,
          1656,
          1662,
          1668,
          1674,
          1680,
          1686,
          1692,
          1698,
          1704,
          1710,
          1716,
          1722,
          1728,
          1734,
          1740,
          1746,
          1752,
          1758,
          1764,
          1770,
          1776,
          1782,
          1788,
          1794,
          1800,
          1806,
          1812,
          1818,
          1824,
          1830,
          1836,
          1842,
          1848,
          1854,
          1860,
          1866,
          1872,
          1878,
          1884,
          1890,
          1896,
          1902,
          1908,
          1914,
          1920,
          1926,
          1932,
          1938,
          1944,
          1950,
          1956,
          1962,
          1968,
          1974,
          1980,
          1986,
          1992,
          1998,
          2004,
          2010,
          2016,
          2022,
          2028,
          2034,
          2040,
          2046,
          2052,
          2058,
          2064,
          2070,
          2076,
          2082,
          2088,
          2094,
          2100,
          2106,
          2112,
          2118,
          2124,
          2130,
          2136,
          2142,
          2148,
          2154,
          2160,
          2166,
          2172,
          2178,
          2184,
          2190,
          2196,
          2202,
          2208,
          2214,
          2220,
          2226,
          2232,
          2238,
          2244,
          2250,
          2256,
          2262,
          2268,
          2274,
          2280,
          2286,
          2292,
          2298,
          2304,
          2310,
          2316,
          2322,
          2328,
          2334,
          2340,
          2346,
          2352,
          2358,
          2364,
          2370,
          2376,
          2382,
          2388,
          2394,
          2400,
          2406,
          2412,
          2418,
          2424,
          2430,
          2436,
          2442,
          2448,
          2454,
          2460,
          2466,
          2472,
          2478,
          2484,
          2490,
          2496,
          2502,
          2508,
          2514,
          2520,
          2526,
          2532,
          2538,
          2544,
          2550,
          2556,
          2562,
          2568,
          2574,
          2580,
          2586,
          2592,
          2598,
          2604,
          2610,
          2616,
          2622,
          2628,
          2634,
          2640,
          2646,
          2652,
          2658,
          2664,
          2670,
          2676,
          2682,
          2688,
          2694,
          2700,
          2706,
          2712,
          2718,
          2724,
          2730,
          2736,
          2742,
          2748,
          2754,
          2760,
          2766,
          2772,
          2778,
          2784,
          2790,
          2796,
          2802,
          2808,
          2814,
          2820,
          2826,
          2832,
          2838,
          2844,
          2850,
          2856,
          2862,
          2868,
          2874,
          2880,
          2886,
          2892,
          2898,
          2904,
          2910,
          2916,
          2922,
          2928,
          2934,
          2940,
          2946,
          2952,
          2958,
          2964,
          2970,
          2976,
          2982,
          2988,
          2994,
          3000,
          3006,
          3012,
          3018,
          3024,
          3030,
          3036,
          3042,
          3048,
          3054,
          3060,
          3066,
          3072,
          3078,
          3084,
          3090,
          3096,
          3102,
          3108,
          3114,
          3120,
          3126,
          3132,
          3138,
          3144,
          3150,
          3156,
          3162,
          3168,
          3174,
          3180,
          3186,
          3192,
          3198,
          3204,
          3210,
          3216,
          3222,
          3228,
          3234,
          3240,
          3246,
          3252,
          3258,
          3264,
          3270,
          3276,
          3282,
          3288,
          3294,
          3300,
          3306,
          3312,
          3318,
          3324,
          3330,
          3336,
          3342,
          3348,
          3354,
          3360,
          3366,
          3372,
          3378,
          3384,
          3390,
          3396,
          3402,
          3408,
          3414,
          3420,
          3426,
          3432,
          3438,
          3444,
          3450,
          3456,
          3462,
          3468,
          3474,
          3480,
          3486,
          3492,
          3498,
          3504,
          3510,
          3516,
          3522,
          3528,
          3534,
          3540,
          3546,
          3552,
          3558,
          3564,
          3570,
          3576,
          3582,
          3588,
          3594,
          3600,
          3606,
          3612,
          3618,
          3624,
          3630,
          3636,
          3642,
          3648,
          3654,
          3660,
          3666,
          3672,
          3678,
          3684,
          3690,
          3696,
          3702,
          3708,
          3714,
          3720,
          3726,
          3732,
          3738,
          3744,
          3750,
          3756,
          3762,
          3768,
          3774,
          3780,
          3786,
          3792,
          3798,
          3804,
          3810,
          3816,
          3822,
          3828,
          3834,
          3840,
          3846,
          3852,
          3858,
          3864,
          3870,
          3876,
          3882,
          3888,
          3894,
          3900,
          3906,
          3912,
          3918,
          3924,
          3930,
          3936,
          3942,
          3948,
          3954,
          3960,
          3966,
          3972,
          3978,
          3984,
          3990,
          3996,
          4002,
          4008,
          4014,
          4020,
          4026,
          4032,
          4038,
          4044,
          4050,
          4056,
          4062,
          4068,
          4074,
          4080,
          4086,
          4092,
          4098,
          4104,
          4110,
          4116,
          4122,
          4128,
          4134,
          4140,
          4146,
          4152,
          4158,
          4164,
          4170,
          4176,
          4182,
          4188,
          4194,
          4200,
          4206,
          4212,
          4218,
          4224,
          4230,
          4236,
          4242,
          4248,
          4254,
          4260,
          4266,
          4272,
          4278,
          4284,
          4290,
          4296,
          4302,
          4308,
          4314,
          4320,
          4326,
          4332,
          4338,
          4344,
          4350,
          4356,
          4362,
          4368,
          4374,
          4380,
          4386,
          4392,
          4398,
          4404,
          4410,
          4416,
          4422,
          4428,
          4434,
          4440,
          4446,
          4452,
          4458,
          4464,
          4470,
          4476,
          4482,
          4488,
          4494,
          4500,
          4506,
          4512,
          4518,
          4524,
          4530,
          4536,
          4542,
          4548,
          4554,
          4560,
          4566,
          4572,
          4578,
          4584,
          4590,
          4596,
          4602,
          4608,
          4614,
          4620,
          4626,
          4632,
          4638,
          4644,
          4650,
          4656,
          4662,
          4668,
          4674,
          4680,
          4686,
          4692,
          4698,
          4704,
          4710,
          4716,
          4722,
          4728,
          4734,
          4740,
          4746,
          4752,
          4758,
          4764,
          4770,
          4776,
          4782,
          4788,
          4794,
          4800,
          4806,
          4812,
          4818,
          4824,
          4830,
          4836,
          4842,
          4848,
          4854,
          4860,
          4866,
          4872,
          4878,
          4884,
          4890,
          4896,
          4902,
          4908,
          4914,
          4920,
          4926,
          4932,
          4938,
          4944,
          4950,
          4956,
          4962,
          4968,
          4974,
          4980,
          4986,
          4992,
          4998,
          5004,
          5010,
          5016,
          5022,
          5028,
          5034,
          5040,
          5046,
          5052,
          5058,
          5064,
          5070,
          5076,
          5082,
          5088,
          5094,
          5100,
          5106,
          5112,
          5118,
          5124,
          5130,
          5136,
          5142,
          5148,
          5154,
          5160,
          5166,
          5172,
          5178,
          5184,
          5190,
          5196,
          5202,
          5208,
          5214,
          5220,
          5226,
          5232,
          5238,
          5244,
          5250,
          5256,
          5262,
          5268,
          5274,
          5280,
          5286,
          5292,
          5298,
          5304,
          5310,
          5316,
          5322,
          5328,
          5334,
          5340,
          5346,
          5352,
          5358,
          5364,
          5370,
          5376,
          5382,
          5388,
          5394,
          5400,
          5406,
          5412,
          5418,
          5424,
          5430,
          5436,
          5442,
          5448,
          5454,
          5460,
          5466,
          5472,
          5478,
          5484,
          5490,
          5496,
          5502,
          5508,
          5514,
          5520,
          5526,
          5532,
          5538,
          5544,
          5550,
          5556,
          5562,
          5568,
          5574,
          5580,
          5586,
          5592,
          5598,
          5604,
          5610,
          5616,
          5622,
          5628,
          5634,
          5640,
          5646,
          5652,
          5658,
          5664,
          5670,
          5676,
          5682,
          5688,
          5694,
          5700,
          5706,
          5712,
          5718,
          5724,
          5730,
          5736,
          5742,
          5748,
          5754,
          5760,
          5766,
          5772,
          5778,
          5784,
          5790,
          5796,
          5802,
          5808,
          5814,
          5820,
          5826,
          5832,
          5838,
          5844,
          5850,
          5856,
          5862,
          5868,
          5874,
          5880,
          5886,
          5892,
          5898,
          5904,
          5910,
          5916,
          5922,
          5928,
          5934,
          5940,
          5946,
          5952,
          5958,
          5964,
          5970,
          5976,
          5982,
          5988,
          5994,
          6000
         ]
        }
       ],
       "layout": {
        "height": 800,
        "template": {
         "data": {
          "bar": [
           {
            "error_x": {
             "color": "#2a3f5f"
            },
            "error_y": {
             "color": "#2a3f5f"
            },
            "marker": {
             "line": {
              "color": "#E5ECF6",
              "width": 0.5
             },
             "pattern": {
              "fillmode": "overlay",
              "size": 10,
              "solidity": 0.2
             }
            },
            "type": "bar"
           }
          ],
          "barpolar": [
           {
            "marker": {
             "line": {
              "color": "#E5ECF6",
              "width": 0.5
             },
             "pattern": {
              "fillmode": "overlay",
              "size": 10,
              "solidity": 0.2
             }
            },
            "type": "barpolar"
           }
          ],
          "carpet": [
           {
            "aaxis": {
             "endlinecolor": "#2a3f5f",
             "gridcolor": "white",
             "linecolor": "white",
             "minorgridcolor": "white",
             "startlinecolor": "#2a3f5f"
            },
            "baxis": {
             "endlinecolor": "#2a3f5f",
             "gridcolor": "white",
             "linecolor": "white",
             "minorgridcolor": "white",
             "startlinecolor": "#2a3f5f"
            },
            "type": "carpet"
           }
          ],
          "choropleth": [
           {
            "colorbar": {
             "outlinewidth": 0,
             "ticks": ""
            },
            "type": "choropleth"
           }
          ],
          "contour": [
           {
            "colorbar": {
             "outlinewidth": 0,
             "ticks": ""
            },
            "colorscale": [
             [
              0,
              "#0d0887"
             ],
             [
              0.1111111111111111,
              "#46039f"
             ],
             [
              0.2222222222222222,
              "#7201a8"
             ],
             [
              0.3333333333333333,
              "#9c179e"
             ],
             [
              0.4444444444444444,
              "#bd3786"
             ],
             [
              0.5555555555555556,
              "#d8576b"
             ],
             [
              0.6666666666666666,
              "#ed7953"
             ],
             [
              0.7777777777777778,
              "#fb9f3a"
             ],
             [
              0.8888888888888888,
              "#fdca26"
             ],
             [
              1,
              "#f0f921"
             ]
            ],
            "type": "contour"
           }
          ],
          "contourcarpet": [
           {
            "colorbar": {
             "outlinewidth": 0,
             "ticks": ""
            },
            "type": "contourcarpet"
           }
          ],
          "heatmap": [
           {
            "colorbar": {
             "outlinewidth": 0,
             "ticks": ""
            },
            "colorscale": [
             [
              0,
              "#0d0887"
             ],
             [
              0.1111111111111111,
              "#46039f"
             ],
             [
              0.2222222222222222,
              "#7201a8"
             ],
             [
              0.3333333333333333,
              "#9c179e"
             ],
             [
              0.4444444444444444,
              "#bd3786"
             ],
             [
              0.5555555555555556,
              "#d8576b"
             ],
             [
              0.6666666666666666,
              "#ed7953"
             ],
             [
              0.7777777777777778,
              "#fb9f3a"
             ],
             [
              0.8888888888888888,
              "#fdca26"
             ],
             [
              1,
              "#f0f921"
             ]
            ],
            "type": "heatmap"
           }
          ],
          "histogram": [
           {
            "marker": {
             "pattern": {
              "fillmode": "overlay",
              "size": 10,
              "solidity": 0.2
             }
            },
            "type": "histogram"
           }
          ],
          "histogram2d": [
           {
            "colorbar": {
             "outlinewidth": 0,
             "ticks": ""
            },
            "colorscale": [
             [
              0,
              "#0d0887"
             ],
             [
              0.1111111111111111,
              "#46039f"
             ],
             [
              0.2222222222222222,
              "#7201a8"
             ],
             [
              0.3333333333333333,
              "#9c179e"
             ],
             [
              0.4444444444444444,
              "#bd3786"
             ],
             [
              0.5555555555555556,
              "#d8576b"
             ],
             [
              0.6666666666666666,
              "#ed7953"
             ],
             [
              0.7777777777777778,
              "#fb9f3a"
             ],
             [
              0.8888888888888888,
              "#fdca26"
             ],
             [
              1,
              "#f0f921"
             ]
            ],
            "type": "histogram2d"
           }
          ],
          "histogram2dcontour": [
           {
            "colorbar": {
             "outlinewidth": 0,
             "ticks": ""
            },
            "colorscale": [
             [
              0,
              "#0d0887"
             ],
             [
              0.1111111111111111,
              "#46039f"
             ],
             [
              0.2222222222222222,
              "#7201a8"
             ],
             [
              0.3333333333333333,
              "#9c179e"
             ],
             [
              0.4444444444444444,
              "#bd3786"
             ],
             [
              0.5555555555555556,
              "#d8576b"
             ],
             [
              0.6666666666666666,
              "#ed7953"
             ],
             [
              0.7777777777777778,
              "#fb9f3a"
             ],
             [
              0.8888888888888888,
              "#fdca26"
             ],
             [
              1,
              "#f0f921"
             ]
            ],
            "type": "histogram2dcontour"
           }
          ],
          "mesh3d": [
           {
            "colorbar": {
             "outlinewidth": 0,
             "ticks": ""
            },
            "type": "mesh3d"
           }
          ],
          "parcoords": [
           {
            "line": {
             "colorbar": {
              "outlinewidth": 0,
              "ticks": ""
             }
            },
            "type": "parcoords"
           }
          ],
          "pie": [
           {
            "automargin": true,
            "type": "pie"
           }
          ],
          "scatter": [
           {
            "fillpattern": {
             "fillmode": "overlay",
             "size": 10,
             "solidity": 0.2
            },
            "type": "scatter"
           }
          ],
          "scatter3d": [
           {
            "line": {
             "colorbar": {
              "outlinewidth": 0,
              "ticks": ""
             }
            },
            "marker": {
             "colorbar": {
              "outlinewidth": 0,
              "ticks": ""
             }
            },
            "type": "scatter3d"
           }
          ],
          "scattercarpet": [
           {
            "marker": {
             "colorbar": {
              "outlinewidth": 0,
              "ticks": ""
             }
            },
            "type": "scattercarpet"
           }
          ],
          "scattergeo": [
           {
            "marker": {
             "colorbar": {
              "outlinewidth": 0,
              "ticks": ""
             }
            },
            "type": "scattergeo"
           }
          ],
          "scattergl": [
           {
            "marker": {
             "colorbar": {
              "outlinewidth": 0,
              "ticks": ""
             }
            },
            "type": "scattergl"
           }
          ],
          "scattermap": [
           {
            "marker": {
             "colorbar": {
              "outlinewidth": 0,
              "ticks": ""
             }
            },
            "type": "scattermap"
           }
          ],
          "scattermapbox": [
           {
            "marker": {
             "colorbar": {
              "outlinewidth": 0,
              "ticks": ""
             }
            },
            "type": "scattermapbox"
           }
          ],
          "scatterpolar": [
           {
            "marker": {
             "colorbar": {
              "outlinewidth": 0,
              "ticks": ""
             }
            },
            "type": "scatterpolar"
           }
          ],
          "scatterpolargl": [
           {
            "marker": {
             "colorbar": {
              "outlinewidth": 0,
              "ticks": ""
             }
            },
            "type": "scatterpolargl"
           }
          ],
          "scatterternary": [
           {
            "marker": {
             "colorbar": {
              "outlinewidth": 0,
              "ticks": ""
             }
            },
            "type": "scatterternary"
           }
          ],
          "surface": [
           {
            "colorbar": {
             "outlinewidth": 0,
             "ticks": ""
            },
            "colorscale": [
             [
              0,
              "#0d0887"
             ],
             [
              0.1111111111111111,
              "#46039f"
             ],
             [
              0.2222222222222222,
              "#7201a8"
             ],
             [
              0.3333333333333333,
              "#9c179e"
             ],
             [
              0.4444444444444444,
              "#bd3786"
             ],
             [
              0.5555555555555556,
              "#d8576b"
             ],
             [
              0.6666666666666666,
              "#ed7953"
             ],
             [
              0.7777777777777778,
              "#fb9f3a"
             ],
             [
              0.8888888888888888,
              "#fdca26"
             ],
             [
              1,
              "#f0f921"
             ]
            ],
            "type": "surface"
           }
          ],
          "table": [
           {
            "cells": {
             "fill": {
              "color": "#EBF0F8"
             },
             "line": {
              "color": "white"
             }
            },
            "header": {
             "fill": {
              "color": "#C8D4E3"
             },
             "line": {
              "color": "white"
             }
            },
            "type": "table"
           }
          ]
         },
         "layout": {
          "annotationdefaults": {
           "arrowcolor": "#2a3f5f",
           "arrowhead": 0,
           "arrowwidth": 1
          },
          "autotypenumbers": "strict",
          "coloraxis": {
           "colorbar": {
            "outlinewidth": 0,
            "ticks": ""
           }
          },
          "colorscale": {
           "diverging": [
            [
             0,
             "#8e0152"
            ],
            [
             0.1,
             "#c51b7d"
            ],
            [
             0.2,
             "#de77ae"
            ],
            [
             0.3,
             "#f1b6da"
            ],
            [
             0.4,
             "#fde0ef"
            ],
            [
             0.5,
             "#f7f7f7"
            ],
            [
             0.6,
             "#e6f5d0"
            ],
            [
             0.7,
             "#b8e186"
            ],
            [
             0.8,
             "#7fbc41"
            ],
            [
             0.9,
             "#4d9221"
            ],
            [
             1,
             "#276419"
            ]
           ],
           "sequential": [
            [
             0,
             "#0d0887"
            ],
            [
             0.1111111111111111,
             "#46039f"
            ],
            [
             0.2222222222222222,
             "#7201a8"
            ],
            [
             0.3333333333333333,
             "#9c179e"
            ],
            [
             0.4444444444444444,
             "#bd3786"
            ],
            [
             0.5555555555555556,
             "#d8576b"
            ],
            [
             0.6666666666666666,
             "#ed7953"
            ],
            [
             0.7777777777777778,
             "#fb9f3a"
            ],
            [
             0.8888888888888888,
             "#fdca26"
            ],
            [
             1,
             "#f0f921"
            ]
           ],
           "sequentialminus": [
            [
             0,
             "#0d0887"
            ],
            [
             0.1111111111111111,
             "#46039f"
            ],
            [
             0.2222222222222222,
             "#7201a8"
            ],
            [
             0.3333333333333333,
             "#9c179e"
            ],
            [
             0.4444444444444444,
             "#bd3786"
            ],
            [
             0.5555555555555556,
             "#d8576b"
            ],
            [
             0.6666666666666666,
             "#ed7953"
            ],
            [
             0.7777777777777778,
             "#fb9f3a"
            ],
            [
             0.8888888888888888,
             "#fdca26"
            ],
            [
             1,
             "#f0f921"
            ]
           ]
          },
          "colorway": [
           "#636efa",
           "#EF553B",
           "#00cc96",
           "#ab63fa",
           "#FFA15A",
           "#19d3f3",
           "#FF6692",
           "#B6E880",
           "#FF97FF",
           "#FECB52"
          ],
          "font": {
           "color": "#2a3f5f"
          },
          "geo": {
           "bgcolor": "white",
           "lakecolor": "white",
           "landcolor": "#E5ECF6",
           "showlakes": true,
           "showland": true,
           "subunitcolor": "white"
          },
          "hoverlabel": {
           "align": "left"
          },
          "hovermode": "closest",
          "mapbox": {
           "style": "light"
          },
          "paper_bgcolor": "white",
          "plot_bgcolor": "#E5ECF6",
          "polar": {
           "angularaxis": {
            "gridcolor": "white",
            "linecolor": "white",
            "ticks": ""
           },
           "bgcolor": "#E5ECF6",
           "radialaxis": {
            "gridcolor": "white",
            "linecolor": "white",
            "ticks": ""
           }
          },
          "scene": {
           "xaxis": {
            "backgroundcolor": "#E5ECF6",
            "gridcolor": "white",
            "gridwidth": 2,
            "linecolor": "white",
            "showbackground": true,
            "ticks": "",
            "zerolinecolor": "white"
           },
           "yaxis": {
            "backgroundcolor": "#E5ECF6",
            "gridcolor": "white",
            "gridwidth": 2,
            "linecolor": "white",
            "showbackground": true,
            "ticks": "",
            "zerolinecolor": "white"
           },
           "zaxis": {
            "backgroundcolor": "#E5ECF6",
            "gridcolor": "white",
            "gridwidth": 2,
            "linecolor": "white",
            "showbackground": true,
            "ticks": "",
            "zerolinecolor": "white"
           }
          },
          "shapedefaults": {
           "line": {
            "color": "#2a3f5f"
           }
          },
          "ternary": {
           "aaxis": {
            "gridcolor": "white",
            "linecolor": "white",
            "ticks": ""
           },
           "baxis": {
            "gridcolor": "white",
            "linecolor": "white",
            "ticks": ""
           },
           "bgcolor": "#E5ECF6",
           "caxis": {
            "gridcolor": "white",
            "linecolor": "white",
            "ticks": ""
           }
          },
          "title": {
           "x": 0.05
          },
          "xaxis": {
           "automargin": true,
           "gridcolor": "white",
           "linecolor": "white",
           "ticks": "",
           "title": {
            "standoff": 15
           },
           "zerolinecolor": "white",
           "zerolinewidth": 2
          },
          "yaxis": {
           "automargin": true,
           "gridcolor": "white",
           "linecolor": "white",
           "ticks": "",
           "title": {
            "standoff": 15
           },
           "zerolinecolor": "white",
           "zerolinewidth": 2
          }
         }
        },
        "title": {
         "text": "Path Lengths"
        }
       }
      }
     },
     "metadata": {},
     "output_type": "display_data"
    }
   ],
   "source": [
    "fig = go.Figure()\n",
    "\n",
    "fig.add_trace(go.Scatter(\n",
    "    x= bm_pl_3.index,\n",
    "    y= bm_pl_3.y_pos,\n",
    "    name='Path length - BM 3',\n",
    "    mode='lines',\n",
    "    showlegend=True\n",
    "))\n",
    "\n",
    "fig.add_trace(go.Scatter(\n",
    "    x= bm_pl_6.index,\n",
    "    y= bm_pl_6.y_pos,\n",
    "    name='Path length - BM 6',\n",
    "    marker = dict(size=2),\n",
    "    line = dict(width=6),\n",
    "    mode='lines',\n",
    "    showlegend=True\n",
    "))\n",
    "\n",
    "fig.add_trace(go.Scatter(\n",
    "    x= crw_pl_6.index,\n",
    "    y= crw_pl_6.y_pos,\n",
    "    name='Path length - CRW 6',\n",
    "    mode='lines',\n",
    "    showlegend=True\n",
    "))\n",
    "\n",
    "fig.update_layout(\n",
    "    title='Path Lengths',\n",
    "    height=800,\n",
    ")\n",
    "\n",
    "fig.show()"
   ]
  },
  {
   "cell_type": "markdown",
   "metadata": {},
   "source": [
    "# Activity 2: Mean Squared Displacement - (BM vs CRW)"
   ]
  },
  {
   "cell_type": "markdown",
   "metadata": {},
   "source": [
    "- Write a function that returns the **mean squared displacement** for a given trajectory.\n",
    "- Compare the **mean squared displacement** curves of at least two trajectories of\n",
    "different kinds, as shown in the figure below.\n",
    "- Display the results using **plotly.**"
   ]
  },
  {
   "cell_type": "markdown",
   "metadata": {},
   "source": [
    "# FUNCTIONS"
   ]
  },
  {
   "cell_type": "code",
   "execution_count": 167,
   "metadata": {},
   "outputs": [],
   "source": [
    "#####################################################################################\n",
    "# Mean Squared Displacement (MSD)\n",
    "#####################################################################################\n",
    "def msd(trajectory_df):\n",
    "    \"\"\"    \n",
    "    Arguments:\n",
    "        trajectory_df: DataFrame with columns \n",
    "    Returns:\n",
    "        msd_df: DataFrame with columns ['tau', 'msd'] (time lag vs MSD).\n",
    "    \"\"\"\n",
    "    x_col = 'x' if 'x' in trajectory_df.columns else 'x_pos'\n",
    "    y_col = 'y' if 'y' in trajectory_df.columns else 'y_pos'\n",
    "    \n",
    "    # Extract coordinates\n",
    "    x = trajectory_df[x_col].values\n",
    "    y = trajectory_df[y_col].values\n",
    "    n = len(x)\n",
    "    \n",
    "    msd_values = np.zeros(n - 1)  # Store MSD values\n",
    "    taus = np.arange(1, n)  # All possible time lags\n",
    "    \n",
    "    for tau in taus:\n",
    "        displacements = (x[tau:] - x[:-tau])**2 + (y[tau:] - y[:-tau])**2\n",
    "        msd_values[tau - 1] = np.mean(displacements)  # Store MSD value for this tau\n",
    "    \n",
    "    return pd.DataFrame({'tau': taus, 'msd': msd_values})  "
   ]
  },
  {
   "cell_type": "code",
   "execution_count": 168,
   "metadata": {},
   "outputs": [
    {
     "data": {
      "application/vnd.plotly.v1+json": {
       "config": {
        "plotlyServerURL": "https://plot.ly"
       },
       "data": [
        {
         "mode": "lines",
         "name": "MSD BM6",
         "type": "scatter",
         "x": {
          "bdata": "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",
          "dtype": "i2"
         },
         "y": {
          "bdata": "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",
          "dtype": "f8"
         }
        },
        {
         "mode": "lines",
         "name": "MSD CRW6 c=0.9",
         "type": "scatter",
         "x": {
          "bdata": "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",
          "dtype": "i2"
         },
         "y": {
          "bdata": "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",
          "dtype": "f8"
         }
        }
       ],
       "layout": {
        "height": 600,
        "hovermode": "x unified",
        "template": {
         "data": {
          "bar": [
           {
            "error_x": {
             "color": "#2a3f5f"
            },
            "error_y": {
             "color": "#2a3f5f"
            },
            "marker": {
             "line": {
              "color": "#E5ECF6",
              "width": 0.5
             },
             "pattern": {
              "fillmode": "overlay",
              "size": 10,
              "solidity": 0.2
             }
            },
            "type": "bar"
           }
          ],
          "barpolar": [
           {
            "marker": {
             "line": {
              "color": "#E5ECF6",
              "width": 0.5
             },
             "pattern": {
              "fillmode": "overlay",
              "size": 10,
              "solidity": 0.2
             }
            },
            "type": "barpolar"
           }
          ],
          "carpet": [
           {
            "aaxis": {
             "endlinecolor": "#2a3f5f",
             "gridcolor": "white",
             "linecolor": "white",
             "minorgridcolor": "white",
             "startlinecolor": "#2a3f5f"
            },
            "baxis": {
             "endlinecolor": "#2a3f5f",
             "gridcolor": "white",
             "linecolor": "white",
             "minorgridcolor": "white",
             "startlinecolor": "#2a3f5f"
            },
            "type": "carpet"
           }
          ],
          "choropleth": [
           {
            "colorbar": {
             "outlinewidth": 0,
             "ticks": ""
            },
            "type": "choropleth"
           }
          ],
          "contour": [
           {
            "colorbar": {
             "outlinewidth": 0,
             "ticks": ""
            },
            "colorscale": [
             [
              0,
              "#0d0887"
             ],
             [
              0.1111111111111111,
              "#46039f"
             ],
             [
              0.2222222222222222,
              "#7201a8"
             ],
             [
              0.3333333333333333,
              "#9c179e"
             ],
             [
              0.4444444444444444,
              "#bd3786"
             ],
             [
              0.5555555555555556,
              "#d8576b"
             ],
             [
              0.6666666666666666,
              "#ed7953"
             ],
             [
              0.7777777777777778,
              "#fb9f3a"
             ],
             [
              0.8888888888888888,
              "#fdca26"
             ],
             [
              1,
              "#f0f921"
             ]
            ],
            "type": "contour"
           }
          ],
          "contourcarpet": [
           {
            "colorbar": {
             "outlinewidth": 0,
             "ticks": ""
            },
            "type": "contourcarpet"
           }
          ],
          "heatmap": [
           {
            "colorbar": {
             "outlinewidth": 0,
             "ticks": ""
            },
            "colorscale": [
             [
              0,
              "#0d0887"
             ],
             [
              0.1111111111111111,
              "#46039f"
             ],
             [
              0.2222222222222222,
              "#7201a8"
             ],
             [
              0.3333333333333333,
              "#9c179e"
             ],
             [
              0.4444444444444444,
              "#bd3786"
             ],
             [
              0.5555555555555556,
              "#d8576b"
             ],
             [
              0.6666666666666666,
              "#ed7953"
             ],
             [
              0.7777777777777778,
              "#fb9f3a"
             ],
             [
              0.8888888888888888,
              "#fdca26"
             ],
             [
              1,
              "#f0f921"
             ]
            ],
            "type": "heatmap"
           }
          ],
          "histogram": [
           {
            "marker": {
             "pattern": {
              "fillmode": "overlay",
              "size": 10,
              "solidity": 0.2
             }
            },
            "type": "histogram"
           }
          ],
          "histogram2d": [
           {
            "colorbar": {
             "outlinewidth": 0,
             "ticks": ""
            },
            "colorscale": [
             [
              0,
              "#0d0887"
             ],
             [
              0.1111111111111111,
              "#46039f"
             ],
             [
              0.2222222222222222,
              "#7201a8"
             ],
             [
              0.3333333333333333,
              "#9c179e"
             ],
             [
              0.4444444444444444,
              "#bd3786"
             ],
             [
              0.5555555555555556,
              "#d8576b"
             ],
             [
              0.6666666666666666,
              "#ed7953"
             ],
             [
              0.7777777777777778,
              "#fb9f3a"
             ],
             [
              0.8888888888888888,
              "#fdca26"
             ],
             [
              1,
              "#f0f921"
             ]
            ],
            "type": "histogram2d"
           }
          ],
          "histogram2dcontour": [
           {
            "colorbar": {
             "outlinewidth": 0,
             "ticks": ""
            },
            "colorscale": [
             [
              0,
              "#0d0887"
             ],
             [
              0.1111111111111111,
              "#46039f"
             ],
             [
              0.2222222222222222,
              "#7201a8"
             ],
             [
              0.3333333333333333,
              "#9c179e"
             ],
             [
              0.4444444444444444,
              "#bd3786"
             ],
             [
              0.5555555555555556,
              "#d8576b"
             ],
             [
              0.6666666666666666,
              "#ed7953"
             ],
             [
              0.7777777777777778,
              "#fb9f3a"
             ],
             [
              0.8888888888888888,
              "#fdca26"
             ],
             [
              1,
              "#f0f921"
             ]
            ],
            "type": "histogram2dcontour"
           }
          ],
          "mesh3d": [
           {
            "colorbar": {
             "outlinewidth": 0,
             "ticks": ""
            },
            "type": "mesh3d"
           }
          ],
          "parcoords": [
           {
            "line": {
             "colorbar": {
              "outlinewidth": 0,
              "ticks": ""
             }
            },
            "type": "parcoords"
           }
          ],
          "pie": [
           {
            "automargin": true,
            "type": "pie"
           }
          ],
          "scatter": [
           {
            "fillpattern": {
             "fillmode": "overlay",
             "size": 10,
             "solidity": 0.2
            },
            "type": "scatter"
           }
          ],
          "scatter3d": [
           {
            "line": {
             "colorbar": {
              "outlinewidth": 0,
              "ticks": ""
             }
            },
            "marker": {
             "colorbar": {
              "outlinewidth": 0,
              "ticks": ""
             }
            },
            "type": "scatter3d"
           }
          ],
          "scattercarpet": [
           {
            "marker": {
             "colorbar": {
              "outlinewidth": 0,
              "ticks": ""
             }
            },
            "type": "scattercarpet"
           }
          ],
          "scattergeo": [
           {
            "marker": {
             "colorbar": {
              "outlinewidth": 0,
              "ticks": ""
             }
            },
            "type": "scattergeo"
           }
          ],
          "scattergl": [
           {
            "marker": {
             "colorbar": {
              "outlinewidth": 0,
              "ticks": ""
             }
            },
            "type": "scattergl"
           }
          ],
          "scattermap": [
           {
            "marker": {
             "colorbar": {
              "outlinewidth": 0,
              "ticks": ""
             }
            },
            "type": "scattermap"
           }
          ],
          "scattermapbox": [
           {
            "marker": {
             "colorbar": {
              "outlinewidth": 0,
              "ticks": ""
             }
            },
            "type": "scattermapbox"
           }
          ],
          "scatterpolar": [
           {
            "marker": {
             "colorbar": {
              "outlinewidth": 0,
              "ticks": ""
             }
            },
            "type": "scatterpolar"
           }
          ],
          "scatterpolargl": [
           {
            "marker": {
             "colorbar": {
              "outlinewidth": 0,
              "ticks": ""
             }
            },
            "type": "scatterpolargl"
           }
          ],
          "scatterternary": [
           {
            "marker": {
             "colorbar": {
              "outlinewidth": 0,
              "ticks": ""
             }
            },
            "type": "scatterternary"
           }
          ],
          "surface": [
           {
            "colorbar": {
             "outlinewidth": 0,
             "ticks": ""
            },
            "colorscale": [
             [
              0,
              "#0d0887"
             ],
             [
              0.1111111111111111,
              "#46039f"
             ],
             [
              0.2222222222222222,
              "#7201a8"
             ],
             [
              0.3333333333333333,
              "#9c179e"
             ],
             [
              0.4444444444444444,
              "#bd3786"
             ],
             [
              0.5555555555555556,
              "#d8576b"
             ],
             [
              0.6666666666666666,
              "#ed7953"
             ],
             [
              0.7777777777777778,
              "#fb9f3a"
             ],
             [
              0.8888888888888888,
              "#fdca26"
             ],
             [
              1,
              "#f0f921"
             ]
            ],
            "type": "surface"
           }
          ],
          "table": [
           {
            "cells": {
             "fill": {
              "color": "#EBF0F8"
             },
             "line": {
              "color": "white"
             }
            },
            "header": {
             "fill": {
              "color": "#C8D4E3"
             },
             "line": {
              "color": "white"
             }
            },
            "type": "table"
           }
          ]
         },
         "layout": {
          "annotationdefaults": {
           "arrowcolor": "#2a3f5f",
           "arrowhead": 0,
           "arrowwidth": 1
          },
          "autotypenumbers": "strict",
          "coloraxis": {
           "colorbar": {
            "outlinewidth": 0,
            "ticks": ""
           }
          },
          "colorscale": {
           "diverging": [
            [
             0,
             "#8e0152"
            ],
            [
             0.1,
             "#c51b7d"
            ],
            [
             0.2,
             "#de77ae"
            ],
            [
             0.3,
             "#f1b6da"
            ],
            [
             0.4,
             "#fde0ef"
            ],
            [
             0.5,
             "#f7f7f7"
            ],
            [
             0.6,
             "#e6f5d0"
            ],
            [
             0.7,
             "#b8e186"
            ],
            [
             0.8,
             "#7fbc41"
            ],
            [
             0.9,
             "#4d9221"
            ],
            [
             1,
             "#276419"
            ]
           ],
           "sequential": [
            [
             0,
             "#0d0887"
            ],
            [
             0.1111111111111111,
             "#46039f"
            ],
            [
             0.2222222222222222,
             "#7201a8"
            ],
            [
             0.3333333333333333,
             "#9c179e"
            ],
            [
             0.4444444444444444,
             "#bd3786"
            ],
            [
             0.5555555555555556,
             "#d8576b"
            ],
            [
             0.6666666666666666,
             "#ed7953"
            ],
            [
             0.7777777777777778,
             "#fb9f3a"
            ],
            [
             0.8888888888888888,
             "#fdca26"
            ],
            [
             1,
             "#f0f921"
            ]
           ],
           "sequentialminus": [
            [
             0,
             "#0d0887"
            ],
            [
             0.1111111111111111,
             "#46039f"
            ],
            [
             0.2222222222222222,
             "#7201a8"
            ],
            [
             0.3333333333333333,
             "#9c179e"
            ],
            [
             0.4444444444444444,
             "#bd3786"
            ],
            [
             0.5555555555555556,
             "#d8576b"
            ],
            [
             0.6666666666666666,
             "#ed7953"
            ],
            [
             0.7777777777777778,
             "#fb9f3a"
            ],
            [
             0.8888888888888888,
             "#fdca26"
            ],
            [
             1,
             "#f0f921"
            ]
           ]
          },
          "colorway": [
           "#636efa",
           "#EF553B",
           "#00cc96",
           "#ab63fa",
           "#FFA15A",
           "#19d3f3",
           "#FF6692",
           "#B6E880",
           "#FF97FF",
           "#FECB52"
          ],
          "font": {
           "color": "#2a3f5f"
          },
          "geo": {
           "bgcolor": "white",
           "lakecolor": "white",
           "landcolor": "#E5ECF6",
           "showlakes": true,
           "showland": true,
           "subunitcolor": "white"
          },
          "hoverlabel": {
           "align": "left"
          },
          "hovermode": "closest",
          "mapbox": {
           "style": "light"
          },
          "paper_bgcolor": "white",
          "plot_bgcolor": "#E5ECF6",
          "polar": {
           "angularaxis": {
            "gridcolor": "white",
            "linecolor": "white",
            "ticks": ""
           },
           "bgcolor": "#E5ECF6",
           "radialaxis": {
            "gridcolor": "white",
            "linecolor": "white",
            "ticks": ""
           }
          },
          "scene": {
           "xaxis": {
            "backgroundcolor": "#E5ECF6",
            "gridcolor": "white",
            "gridwidth": 2,
            "linecolor": "white",
            "showbackground": true,
            "ticks": "",
            "zerolinecolor": "white"
           },
           "yaxis": {
            "backgroundcolor": "#E5ECF6",
            "gridcolor": "white",
            "gridwidth": 2,
            "linecolor": "white",
            "showbackground": true,
            "ticks": "",
            "zerolinecolor": "white"
           },
           "zaxis": {
            "backgroundcolor": "#E5ECF6",
            "gridcolor": "white",
            "gridwidth": 2,
            "linecolor": "white",
            "showbackground": true,
            "ticks": "",
            "zerolinecolor": "white"
           }
          },
          "shapedefaults": {
           "line": {
            "color": "#2a3f5f"
           }
          },
          "ternary": {
           "aaxis": {
            "gridcolor": "white",
            "linecolor": "white",
            "ticks": ""
           },
           "baxis": {
            "gridcolor": "white",
            "linecolor": "white",
            "ticks": ""
           },
           "bgcolor": "#E5ECF6",
           "caxis": {
            "gridcolor": "white",
            "linecolor": "white",
            "ticks": ""
           }
          },
          "title": {
           "x": 0.05
          },
          "xaxis": {
           "automargin": true,
           "gridcolor": "white",
           "linecolor": "white",
           "ticks": "",
           "title": {
            "standoff": 15
           },
           "zerolinecolor": "white",
           "zerolinewidth": 2
          },
          "yaxis": {
           "automargin": true,
           "gridcolor": "white",
           "linecolor": "white",
           "ticks": "",
           "title": {
            "standoff": 15
           },
           "zerolinecolor": "white",
           "zerolinewidth": 2
          }
         }
        },
        "title": {
         "text": "Mean Squared Displacement - (BM vs CRW)"
        },
        "xaxis": {
         "title": {
          "text": "Time"
         }
        },
        "yaxis": {
         "title": {
          "text": "MSD"
         }
        }
       }
      }
     },
     "metadata": {},
     "output_type": "display_data"
    }
   ],
   "source": [
    "# Calculate MSDs\n",
    "msd_bm = msd(bm_traj_6)\n",
    "msd_crw = msd(crw_traj_6)\n",
    "\n",
    "fig = go.Figure()\n",
    "fig.add_trace(go.Scatter(x=msd_bm['tau'], y=msd_bm['msd'], mode='lines', name='MSD BM6'))\n",
    "fig.add_trace(go.Scatter(x=msd_crw['tau'], y=msd_crw['msd'], mode='lines', name='MSD CRW6 c=0.9'))\n",
    "\n",
    "fig.update_layout(\n",
    "    title='Mean Squared Displacement - (BM vs CRW)',\n",
    "    xaxis_title='Time',\n",
    "    yaxis_title='MSD',\n",
    "    hovermode='x unified',\n",
    "    height=600\n",
    ")\n",
    "fig.show()"
   ]
  },
  {
   "cell_type": "markdown",
   "metadata": {},
   "source": [
    "# Activity 3: Turning-angle Distribution - (source dist. vs observed dist.)"
   ]
  },
  {
   "cell_type": "markdown",
   "metadata": {},
   "source": [
    "- Consider two **CRW** trajectories with different **Cauchy coefficients.**\n",
    "- Write a function that returns the **turning angles** for a given trajectory.\n",
    "- Compare the observed distribution **(histogram)** to the source distribution (**curve**) for\n",
    "both trajectories, as shown in the figure below.\n",
    "- Display the results using **plotly.**"
   ]
  },
  {
   "cell_type": "markdown",
   "metadata": {},
   "source": [
    "# FUNCTIONS"
   ]
  },
  {
   "cell_type": "code",
   "execution_count": 179,
   "metadata": {},
   "outputs": [],
   "source": [
    "#####################################################################################\n",
    "# Turning angles\n",
    "#####################################################################################\n",
    "def turning_angles(trajectory_df):\n",
    "    \"\"\"\n",
    "    Arguments:\n",
    "        trajectory_df: DataFrame with the x and y positions of the trajectory.\n",
    "    Returns:    \n",
    "        angles_df: DataFrame with the turning angles.\n",
    "    \"\"\"\n",
    "    \n",
    "    # Extract coordinates\n",
    "    x = trajectory_df['x'].values\n",
    "    y = trajectory_df['y'].values\n",
    "    \n",
    "    # Calculate displacement vectors\n",
    "    dx = np.diff(x)\n",
    "    dy = np.diff(y)\n",
    "    \n",
    "    # Calculate turning angles (angle between consecutive displacement vectors)\n",
    "    turning_angles = np.arctan2(dy[1:], dx[1:]) - np.arctan2(dy[:-1], dx[:-1])\n",
    "    \n",
    "    turning_angles = np.arctan2(np.sin(turning_angles), np.cos(turning_angles))\n",
    "    \n",
    "    return turning_angles"
   ]
  },
  {
   "cell_type": "code",
   "execution_count": 180,
   "metadata": {},
   "outputs": [],
   "source": [
    "#####################################################################################\n",
    "# Plotting turning angle distribution\n",
    "#####################################################################################\n",
    "def plot_turning_angle_distribution(trajectory_df, cauchy_coeff, title):\n",
    "    \"\"\"    \n",
    "    Args:\n",
    "        trajectory_df: DataFrame with trajectory data.\n",
    "        cauchy_coeff: Cauchy coefficient for the source distribution.\n",
    "        title: Title for the plot.\n",
    "    \"\"\"\n",
    "    # Calculate turning angles\n",
    "    t_angle = turning_angles(trajectory_df)\n",
    "    \n",
    "    # Generate source wrapped Cauchy distribution\n",
    "    angles = np.linspace(-np.pi, np.pi, 1000)\n",
    "    source_dist = wrapcauchy.pdf(angles, c=cauchy_coeff)\n",
    "    \n",
    "    # Create histogram of observed turning angles\n",
    "    hist, bin_edges = np.histogram(t_angle, bins=50, density=True)\n",
    "    bin_centers = (bin_edges[:-1] + bin_edges[1:]) / 2\n",
    "    \n",
    "    fig = go.Figure()\n",
    "    \n",
    "    # Observed distribution (histogram)\n",
    "    fig.add_trace(go.Bar(\n",
    "        x=bin_centers,\n",
    "        y=hist,\n",
    "        name='Observed Distribution',\n",
    "        opacity=0.6\n",
    "    ))\n",
    "    \n",
    "    # Source distribution (curve)\n",
    "    fig.add_trace(go.Scatter(\n",
    "        x=angles,\n",
    "        y=source_dist,\n",
    "        name='Source Distribution',\n",
    "        mode='lines',\n",
    "        line=dict(color='red', width=2)\n",
    "    ))\n",
    "    \n",
    "    fig.update_layout(\n",
    "        title=title,\n",
    "        xaxis_title='Turning Angle (radians)',\n",
    "        yaxis_title='Density',\n",
    "        template='plotly_dark',\n",
    "        barmode='overlay'\n",
    "    )\n",
    "    \n",
    "    fig.show()"
   ]
  }
 ],
 "metadata": {
  "kernelspec": {
   "display_name": ".venv",
   "language": "python",
   "name": "python3"
  },
  "language_info": {
   "codemirror_mode": {
    "name": "ipython",
    "version": 3
   },
   "file_extension": ".py",
   "mimetype": "text/x-python",
   "name": "python",
   "nbconvert_exporter": "python",
   "pygments_lexer": "ipython3",
   "version": "3.10.6"
  }
 },
 "nbformat": 4,
 "nbformat_minor": 2
}
