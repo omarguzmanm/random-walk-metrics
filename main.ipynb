{
 "cells": [
  {
   "cell_type": "markdown",
   "metadata": {},
   "source": [
    "# Homework 3\n",
    "\n",
    "**Name:** Omar Alejandro Guzmán Munguía\n",
    "\n",
    "**e-mail:** omar.guzman5063@alumnos.udg.mx"
   ]
  },
  {
   "cell_type": "markdown",
   "metadata": {},
   "source": [
    "# MODULES"
   ]
  },
  {
   "cell_type": "code",
   "execution_count": 59,
   "metadata": {},
   "outputs": [],
   "source": [
    "# Load modules\n",
    "import numpy as np\n",
    "import math\n",
    "\n",
    "import plotly.graph_objects as go\n",
    "\n",
    "from scipy.stats import exponweib\n",
    "from scipy.stats import levy_stable\n",
    "from scipy.spatial import distance\n",
    "\n",
    "import pandas as pd"
   ]
  },
  {
   "cell_type": "markdown",
   "metadata": {},
   "source": [
    "# CLASSES"
   ]
  },
  {
   "cell_type": "code",
   "execution_count": 60,
   "metadata": {},
   "outputs": [],
   "source": [
    "################# http://www.pygame.org/wiki/2DVectorClass ##################\n",
    "class Vec2d(object):\n",
    "    \"\"\"2d vector class, supports vector and scalar operators,\n",
    "       and also provides a bunch of high level functions\n",
    "       \"\"\"\n",
    "    __slots__ = ['x', 'y']\n",
    "\n",
    "    def __init__(self, x_or_pair, y = None):\n",
    "        if y == None:            \n",
    "            self.x = x_or_pair[0]\n",
    "            self.y = x_or_pair[1]\n",
    "        else:\n",
    "            self.x = x_or_pair\n",
    "            self.y = y\n",
    "            \n",
    "    # Addition\n",
    "    def __add__(self, other):\n",
    "        if isinstance(other, Vec2d):\n",
    "            return Vec2d(self.x + other.x, self.y + other.y)\n",
    "        elif hasattr(other, \"__getitem__\"):\n",
    "            return Vec2d(self.x + other[0], self.y + other[1])\n",
    "        else:\n",
    "            return Vec2d(self.x + other, self.y + other)\n",
    "\n",
    "    # Subtraction\n",
    "    def __sub__(self, other):\n",
    "        if isinstance(other, Vec2d):\n",
    "            return Vec2d(self.x - other.x, self.y - other.y)\n",
    "        elif (hasattr(other, \"__getitem__\")):\n",
    "            return Vec2d(self.x - other[0], self.y - other[1])\n",
    "        else:\n",
    "            return Vec2d(self.x - other, self.y - other)\n",
    "    \n",
    "    # Vector length\n",
    "    def get_length(self):\n",
    "        return math.sqrt(self.x**2 + self.y**2)\n",
    "    \n",
    "    # rotate vector\n",
    "    def rotated(self, angle):        \n",
    "        cos = math.cos(angle)\n",
    "        sin = math.sin(angle)\n",
    "        x = self.x*cos - self.y*sin\n",
    "        y = self.x*sin + self.y*cos\n",
    "        return Vec2d(x, y)"
   ]
  },
  {
   "cell_type": "markdown",
   "metadata": {},
   "source": [
    "# Activity 1: Path length - (BM1 vs BM2 vs CRW)"
   ]
  },
  {
   "cell_type": "markdown",
   "metadata": {},
   "source": [
    "- Write a function that returns a **Brownian Motion (BM)** trajectory in **pandas** df.\n",
    "- Write a function that returns a **Correlated Random Walk (CRW)** trajectory in **pandas** df.\n",
    "- Write a function that returns the **path length** for a given trajectory.\n",
    "- **Compare** at least the **path lengt** of **three** trajectories as shown in the figure below.\n",
    "- Display the results using **plotly.**"
   ]
  },
  {
   "cell_type": "markdown",
   "metadata": {},
   "source": [
    "# FUNCTIONS"
   ]
  },
  {
   "cell_type": "code",
   "execution_count": 61,
   "metadata": {},
   "outputs": [],
   "source": [
    "#####################################################################################\n",
    "# Brownian motion trajectoy\n",
    "#####################################################################################\n",
    "def bm_2d(n_steps=1000, speed=5, s_pos=[0,0]):\n",
    "    \"\"\"\n",
    "    Arguments\n",
    "    -----------\n",
    "        n_steps: Number of steps in the trajectory.\n",
    "        speed: Speed of the trajectory.\n",
    "        s_pos: Starting position of the trajectory.\n",
    "\n",
    "    Returns\n",
    "    -----------\n",
    "        BM_2d_df:  DataFrame with the x and y positions of the trajectory.\n",
    "    \"\"\"\n",
    "    \n",
    "    # Init velocity vector\n",
    "    velocity =Vec2d(speed,0)\n",
    "    \n",
    "    # Init DF\n",
    "    BM_2d_df = pd.DataFrame(columns=['x_pos','y_pos'])    \n",
    "    # Add initial position\n",
    "    temp_df = pd.DataFrame([{'x_pos':s_pos[0], 'y_pos':s_pos[1]}])    \n",
    "    BM_2d_df = pd.concat([BM_2d_df, temp_df], ignore_index=True)\n",
    "    \n",
    "    # Generate the trajectory\n",
    "    for i in range(n_steps-1):        \n",
    "        turn_angle = np.random.uniform(low=-np.pi, high=np.pi)\n",
    "        velocity = velocity.rotated(turn_angle)\n",
    "    \n",
    "        temp_df = pd.DataFrame([{'x_pos':BM_2d_df.x_pos[i]+velocity.x, 'y_pos':BM_2d_df.y_pos[i]+velocity.y}])    \n",
    "        BM_2d_df = pd.concat([BM_2d_df, temp_df], ignore_index=True)\n",
    "        \n",
    "    return BM_2d_df"
   ]
  },
  {
   "cell_type": "code",
   "execution_count": 62,
   "metadata": {},
   "outputs": [],
   "source": [
    "#####################################################################################\n",
    "# Correlated Random Walk (CRW)\n",
    "#####################################################################################\n",
    "def crw_trajectory(n_steps=1000, speed=5, correlation_coeff=0.9, s_pos=0.0):\n",
    "    \"\"\"\n",
    "    Arguments\n",
    "    -----------\n",
    "        n_steps: Number of steps in the trajectory.\n",
    "        speed: Length of each step.\n",
    "        correlation_coeff: Correlation coefficient (between -1 and 1) that controls the correlation between consecutive steps.\n",
    "        s_pos: Initial direction of movement in radians (default is 0.0).\n",
    "\n",
    "    Returns\n",
    "    -----------\n",
    "        crw_df: A pandas DataFrame with columns ['x', 'y'] representing the trajectory.\n",
    "    \"\"\"\n",
    "    # Initialize the trajectory with the starting point at the origin\n",
    "    trajectory = [Vec2d(0.0, 0.0)]\n",
    "    \n",
    "    # Initialize the current direction\n",
    "    current_direction = s_pos\n",
    "    \n",
    "    for _ in range(n_steps):\n",
    "        # Generate a random angle change based on the correlation coefficient\n",
    "        angle_change = np.random.normal(0, np.sqrt(1 - correlation_coeff**2))\n",
    "        \n",
    "        # Update the current direction\n",
    "        current_direction += angle_change\n",
    "        \n",
    "        # Calculate the next step vector\n",
    "        next_step = Vec2d(speed, 0).rotated(current_direction)\n",
    "        \n",
    "        # Update the trajectory\n",
    "        next_position = trajectory[-1] + next_step\n",
    "        trajectory.append(next_position)\n",
    "    \n",
    "    # Convert the trajectory to a pandas DataFrame\n",
    "    crw_df = pd.DataFrame([(pos.x, pos.y) for pos in trajectory], columns=['x', 'y'])\n",
    "    \n",
    "    \n",
    "    return crw_df"
   ]
  },
  {
   "cell_type": "code",
   "execution_count": 63,
   "metadata": {},
   "outputs": [],
   "source": [
    "#####################################################################################\n",
    "# Path length\n",
    "#####################################################################################\n",
    "def path_length(trajectory_df, s_pos=[0]):\n",
    "    \"\"\"\n",
    "    Arguments\n",
    "    -----------\n",
    "        trajectory_df: DataFrame with the x and y positions of the trajectory.\n",
    "        s_pos: Starting position of the trajectory.\n",
    "\n",
    "    Returns\n",
    "    -----------\n",
    "        path_length: Length of the trajectory.\n",
    "    \"\"\"\n",
    "    # Initialize the path length\n",
    "    path_length = pd.DataFrame(columns=['y_pos'])\n",
    "    df = pd.DataFrame([{'y_pos':s_pos[0]}])\n",
    "\n",
    "    path_length = pd.concat([path_length, df], ignore_index=True)\n",
    "\n",
    "    for i in range(len(trajectory_df)-1):\n",
    "        df = pd.DataFrame([{'y_pos':path_length.y_pos[i] + distance.euclidean(trajectory_df.iloc[i], trajectory_df.iloc[i+1])}])\n",
    "        path_length = pd.concat([path_length, df], ignore_index=True)\n",
    "        \n",
    "    return path_length"
   ]
  },
  {
   "cell_type": "markdown",
   "metadata": {},
   "source": [
    "# GENERATE TRAJECTORIES AND CALCULATE PATH LENGTH"
   ]
  },
  {
   "cell_type": "code",
   "execution_count": 64,
   "metadata": {},
   "outputs": [],
   "source": [
    "# Generate trajectories\n",
    "bm_traj_3 = bm_2d(speed=3)\n",
    "bm_traj_6 = bm_2d(speed=6)\n",
    "crw_traj_6 = crw_trajectory(speed=6)\n",
    "\n",
    "# Calculate path lengths\n",
    "bm_pl_3 = path_length(bm_traj_3)\n",
    "bm_pl_6 = path_length(bm_traj_6)\n",
    "crw_pl_6 = path_length(crw_traj_6)"
   ]
  },
  {
   "cell_type": "markdown",
   "metadata": {},
   "source": [
    "# PLOTING"
   ]
  },
  {
   "cell_type": "code",
   "execution_count": 65,
   "metadata": {},
   "outputs": [
    {
     "data": {
      "application/vnd.plotly.v1+json": {
       "config": {
        "plotlyServerURL": "https://plot.ly"
       },
       "data": [
        {
         "mode": "lines",
         "name": "Path length - BM 3",
         "showlegend": true,
         "type": "scatter",
         "x": {
          "bdata": "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",
          "dtype": "i2"
         },
         "y": [
          0,
          3,
          6,
          9,
          12,
          15,
          18,
          21,
          24,
          27,
          30,
          33,
          36,
          39,
          42,
          45,
          48,
          51,
          54,
          57,
          60,
          63,
          66,
          69,
          72,
          75,
          78,
          81,
          84,
          87,
          90,
          93,
          96,
          99,
          102,
          105,
          108,
          111,
          114,
          117,
          120,
          123,
          126,
          129,
          132,
          135,
          138,
          141,
          144,
          147,
          150,
          153,
          156,
          159,
          162,
          165,
          168,
          171,
          174,
          177,
          180,
          183,
          186,
          189,
          192,
          195,
          198,
          201,
          204,
          207,
          210,
          213,
          216,
          219,
          222,
          225,
          228,
          231,
          234,
          237,
          240,
          243,
          246,
          249,
          252,
          255,
          258,
          261,
          264,
          267,
          270,
          273,
          276,
          279,
          282,
          285,
          288,
          291,
          294,
          297,
          300,
          303,
          306,
          309,
          312,
          315,
          318,
          321,
          324,
          327,
          330,
          333,
          336,
          339,
          342,
          345,
          348,
          351,
          354,
          357,
          360,
          363,
          366,
          369,
          372,
          375,
          378,
          381,
          384,
          387,
          390,
          393,
          396,
          399,
          402,
          405,
          408,
          411,
          414,
          417,
          420,
          423,
          426,
          429,
          432,
          435,
          438,
          441,
          444,
          447,
          450,
          453,
          456,
          459,
          462,
          465,
          468,
          471,
          474,
          477,
          480,
          483,
          486,
          489,
          492,
          495,
          498,
          501,
          504,
          507,
          510,
          513,
          516,
          519,
          522,
          525,
          528,
          531,
          534,
          537,
          540,
          543,
          546,
          549,
          552,
          555,
          558,
          561,
          564,
          567,
          570,
          573,
          576,
          579,
          582,
          585,
          588,
          591,
          594,
          597,
          600,
          603,
          606,
          609,
          612,
          615,
          618,
          621,
          624,
          627,
          630,
          633,
          636,
          639,
          642,
          645,
          648,
          651,
          654,
          657,
          660,
          663,
          666,
          669,
          672,
          675,
          678,
          681,
          684,
          687,
          690,
          693,
          696,
          699,
          702,
          705,
          708,
          711,
          714,
          717,
          720,
          723,
          726,
          729,
          732,
          735,
          738,
          741,
          744,
          747,
          750,
          753,
          756,
          759,
          762,
          765,
          768,
          771,
          774,
          777,
          780,
          783,
          786,
          789,
          792,
          795,
          798,
          801,
          804,
          807,
          810,
          813,
          816,
          819,
          822,
          825,
          828,
          831,
          834,
          837,
          840,
          843,
          846,
          849,
          852,
          855,
          858,
          861,
          864,
          867,
          870,
          873,
          876,
          879,
          882,
          885,
          888,
          891,
          894,
          897,
          900,
          903,
          906,
          909,
          912,
          915,
          918,
          921,
          924,
          927,
          930,
          933,
          936,
          939,
          942,
          945,
          948,
          951,
          954,
          957,
          960,
          963,
          966,
          969,
          972,
          975,
          978,
          981,
          984,
          987,
          990,
          993,
          996,
          999,
          1002,
          1005,
          1008,
          1011,
          1014,
          1017,
          1020,
          1023,
          1026,
          1029,
          1032,
          1035,
          1038,
          1041,
          1044,
          1047,
          1050,
          1053,
          1056,
          1059,
          1062,
          1065,
          1068,
          1071,
          1074,
          1077,
          1080,
          1083,
          1086,
          1089,
          1092,
          1095,
          1098,
          1101,
          1104,
          1107,
          1110,
          1113,
          1116,
          1119,
          1122,
          1125,
          1128,
          1131,
          1134,
          1137,
          1140,
          1143,
          1146,
          1149,
          1152,
          1155,
          1158,
          1161,
          1164,
          1167,
          1170,
          1173,
          1176,
          1179,
          1182,
          1185,
          1188,
          1191,
          1194,
          1197,
          1200,
          1203,
          1206,
          1209,
          1212,
          1215,
          1218,
          1221,
          1224,
          1227,
          1230,
          1233,
          1236,
          1239,
          1242,
          1245,
          1248,
          1251,
          1254,
          1257,
          1260,
          1263,
          1266,
          1269,
          1272,
          1275,
          1278,
          1281,
          1284,
          1287,
          1290,
          1293,
          1296,
          1299,
          1302,
          1305,
          1308,
          1311,
          1314,
          1317,
          1320,
          1323,
          1326,
          1329,
          1332,
          1335,
          1338,
          1341,
          1344,
          1347,
          1350,
          1353,
          1356,
          1359,
          1362,
          1365,
          1368,
          1371,
          1374,
          1377,
          1380,
          1383,
          1386,
          1389,
          1392,
          1395,
          1398,
          1401,
          1404,
          1407,
          1410,
          1413,
          1416,
          1419,
          1422,
          1425,
          1428,
          1431,
          1434,
          1437,
          1440,
          1443,
          1446,
          1449,
          1452,
          1455,
          1458,
          1461,
          1464,
          1467,
          1470,
          1473,
          1476,
          1479,
          1482,
          1485,
          1488,
          1491,
          1494,
          1497,
          1500,
          1503,
          1506,
          1509,
          1512,
          1515,
          1518,
          1521,
          1524,
          1527,
          1530,
          1533,
          1536,
          1539,
          1542,
          1545,
          1548,
          1551,
          1554,
          1557,
          1560,
          1563,
          1566,
          1569,
          1572,
          1575,
          1578,
          1581,
          1584,
          1587,
          1590,
          1593,
          1596,
          1599,
          1602,
          1605,
          1608,
          1611,
          1614,
          1617,
          1620,
          1623,
          1626,
          1629,
          1632,
          1635,
          1638,
          1641,
          1644,
          1647,
          1650,
          1653,
          1656,
          1659,
          1662,
          1665,
          1668,
          1671,
          1674,
          1677,
          1680,
          1683,
          1686,
          1689,
          1692,
          1695,
          1698,
          1701,
          1704,
          1707,
          1710,
          1713,
          1716,
          1719,
          1722,
          1725,
          1728,
          1731,
          1734,
          1737,
          1740,
          1743,
          1746,
          1749,
          1752,
          1755,
          1758,
          1761,
          1764,
          1767,
          1770,
          1773,
          1776,
          1779,
          1782,
          1785,
          1788,
          1791,
          1794,
          1797,
          1800,
          1803,
          1806,
          1809,
          1812,
          1815,
          1818,
          1821,
          1824,
          1827,
          1830,
          1833,
          1836,
          1839,
          1842,
          1845,
          1848,
          1851,
          1854,
          1857,
          1860,
          1863,
          1866,
          1869,
          1872,
          1875,
          1878,
          1881,
          1884,
          1887,
          1890,
          1893,
          1896,
          1899,
          1902,
          1905,
          1908,
          1911,
          1914,
          1917,
          1920,
          1923,
          1926,
          1929,
          1932,
          1935,
          1938,
          1941,
          1944,
          1947,
          1950,
          1953,
          1956,
          1959,
          1962,
          1965,
          1968,
          1971,
          1974,
          1977,
          1980,
          1983,
          1986,
          1989,
          1992,
          1995,
          1998,
          2001,
          2004,
          2007,
          2010,
          2013,
          2016,
          2019,
          2022,
          2025,
          2028,
          2031,
          2034,
          2037,
          2040,
          2043,
          2046,
          2049,
          2052,
          2055,
          2058,
          2061,
          2064,
          2067,
          2070,
          2073,
          2076,
          2079,
          2082,
          2085,
          2088,
          2091,
          2094,
          2097,
          2100,
          2103,
          2106,
          2109,
          2112,
          2115,
          2118,
          2121,
          2124,
          2127,
          2130,
          2133,
          2136,
          2139,
          2142,
          2145,
          2148,
          2151,
          2154,
          2157,
          2160,
          2163,
          2166,
          2169,
          2172,
          2175,
          2178,
          2181,
          2184,
          2187,
          2190,
          2193,
          2196,
          2199,
          2202,
          2205,
          2208,
          2211,
          2214,
          2217,
          2220,
          2223,
          2226,
          2229,
          2232,
          2235,
          2238,
          2241,
          2244,
          2247,
          2250,
          2253,
          2256,
          2259,
          2262,
          2265,
          2268,
          2271,
          2274,
          2277,
          2280,
          2283,
          2286,
          2289,
          2292,
          2295,
          2298,
          2301,
          2304,
          2307,
          2310,
          2313,
          2316,
          2319,
          2322,
          2325,
          2328,
          2331,
          2334,
          2337,
          2340,
          2343,
          2346,
          2349,
          2352,
          2355,
          2358,
          2361,
          2364,
          2367,
          2370,
          2373,
          2376,
          2379,
          2382,
          2385,
          2388,
          2391,
          2394,
          2397,
          2400,
          2403,
          2406,
          2409,
          2412,
          2415,
          2418,
          2421,
          2424,
          2427,
          2430,
          2433,
          2436,
          2439,
          2442,
          2445,
          2448,
          2451,
          2454,
          2457,
          2460,
          2463,
          2466,
          2469,
          2472,
          2475,
          2478,
          2481,
          2484,
          2487,
          2490,
          2493,
          2496,
          2499,
          2502,
          2505,
          2508,
          2511,
          2514,
          2517,
          2520,
          2523,
          2526,
          2529,
          2532,
          2535,
          2538,
          2541,
          2544,
          2547,
          2550,
          2553,
          2556,
          2559,
          2562,
          2565,
          2568,
          2571,
          2574,
          2577,
          2580,
          2583,
          2586,
          2589,
          2592,
          2595,
          2598,
          2601,
          2604,
          2607,
          2610,
          2613,
          2616,
          2619,
          2622,
          2625,
          2628,
          2631,
          2634,
          2637,
          2640,
          2643,
          2646,
          2649,
          2652,
          2655,
          2658,
          2661,
          2664,
          2667,
          2670,
          2673,
          2676,
          2679,
          2682,
          2685,
          2688,
          2691,
          2694,
          2697,
          2700,
          2703,
          2706,
          2709,
          2712,
          2715,
          2718,
          2721,
          2724,
          2727,
          2730,
          2733,
          2736,
          2739,
          2742,
          2745,
          2748,
          2751,
          2754,
          2757,
          2760,
          2763,
          2766,
          2769,
          2772,
          2775,
          2778,
          2781,
          2784,
          2787,
          2790,
          2793,
          2796,
          2799,
          2802,
          2805,
          2808,
          2811,
          2814,
          2817,
          2820,
          2823,
          2826,
          2829,
          2832,
          2835,
          2838,
          2841,
          2844,
          2847,
          2850,
          2853,
          2856,
          2859,
          2862,
          2865,
          2868,
          2871,
          2874,
          2877,
          2880,
          2883,
          2886,
          2889,
          2892,
          2895,
          2898,
          2901,
          2904,
          2907,
          2910,
          2913,
          2916,
          2919,
          2922,
          2925,
          2928,
          2931,
          2934,
          2937,
          2940,
          2943,
          2946,
          2949,
          2952,
          2955,
          2958,
          2961,
          2964,
          2967,
          2970,
          2973,
          2976,
          2979,
          2982,
          2985,
          2988,
          2991,
          2994,
          2997
         ]
        },
        {
         "line": {
          "width": 6
         },
         "marker": {
          "size": 2
         },
         "mode": "lines",
         "name": "Path length - BM 6",
         "showlegend": true,
         "type": "scatter",
         "x": {
          "bdata": "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",
          "dtype": "i2"
         },
         "y": [
          0,
          6,
          12,
          18,
          24,
          30,
          36,
          42,
          48,
          54,
          60,
          66,
          72,
          78,
          84,
          90,
          96,
          102,
          108,
          114,
          120,
          126,
          132,
          138,
          144,
          150,
          156,
          162,
          168,
          174,
          180,
          186,
          192,
          198,
          204,
          210,
          216,
          222,
          228,
          234,
          240,
          246,
          252,
          258,
          264,
          270,
          276,
          282,
          288,
          294,
          300,
          306,
          312,
          318,
          324,
          330,
          336,
          342,
          348,
          354,
          360,
          366,
          372,
          378,
          384,
          390,
          396,
          402,
          408,
          414,
          420,
          426,
          432,
          438,
          444,
          450,
          456,
          462,
          468,
          474,
          480,
          486,
          492,
          498,
          504,
          510,
          516,
          522,
          528,
          534,
          540,
          546,
          552,
          558,
          564,
          570,
          576,
          582,
          588,
          594,
          600,
          606,
          612,
          618,
          624,
          630,
          636,
          642,
          648,
          654,
          660,
          666,
          672,
          678,
          684,
          690,
          696,
          702,
          708,
          714,
          720,
          726,
          732,
          738,
          744,
          750,
          756,
          762,
          768,
          774,
          780,
          786,
          792,
          798,
          804,
          810,
          816,
          822,
          828,
          834,
          840,
          846,
          852,
          858,
          864,
          870,
          876,
          882,
          888,
          894,
          900,
          906,
          912,
          918,
          924,
          930,
          936,
          942,
          948,
          954,
          960,
          966,
          972,
          978,
          984,
          990,
          996,
          1002,
          1008,
          1014,
          1020,
          1026,
          1032,
          1038,
          1044,
          1050,
          1056,
          1062,
          1068,
          1074,
          1080,
          1086,
          1092,
          1098,
          1104,
          1110,
          1116,
          1122,
          1128,
          1134,
          1140,
          1146,
          1152,
          1158,
          1164,
          1170,
          1176,
          1182,
          1188,
          1194,
          1200,
          1206,
          1212,
          1218,
          1224,
          1230,
          1236,
          1242,
          1248,
          1254,
          1260,
          1266,
          1272,
          1278,
          1284,
          1290,
          1296,
          1302,
          1308,
          1314,
          1320,
          1326,
          1332,
          1338,
          1344,
          1350,
          1356,
          1362,
          1368,
          1374,
          1380,
          1386,
          1392,
          1398,
          1404,
          1410,
          1416,
          1422,
          1428,
          1434,
          1440,
          1446,
          1452,
          1458,
          1464,
          1470,
          1476,
          1482,
          1488,
          1494,
          1500,
          1506,
          1512,
          1518,
          1524,
          1530,
          1536,
          1542,
          1548,
          1554,
          1560,
          1566,
          1572,
          1578,
          1584,
          1590,
          1596,
          1602,
          1608,
          1614,
          1620,
          1626,
          1632,
          1638,
          1644,
          1650,
          1656,
          1662,
          1668,
          1674,
          1680,
          1686,
          1692,
          1698,
          1704,
          1710,
          1716,
          1722,
          1728,
          1734,
          1740,
          1746,
          1752,
          1758,
          1764,
          1770,
          1776,
          1782,
          1788,
          1794,
          1800,
          1806,
          1812,
          1818,
          1824,
          1830,
          1836,
          1842,
          1848,
          1854,
          1860,
          1866,
          1872,
          1878,
          1884,
          1890,
          1896,
          1902,
          1908,
          1914,
          1920,
          1926,
          1932,
          1938,
          1944,
          1950,
          1956,
          1962,
          1968,
          1974,
          1980,
          1986,
          1992,
          1998,
          2004,
          2010,
          2016,
          2022,
          2028,
          2034,
          2040,
          2046,
          2052,
          2058,
          2064,
          2070,
          2076,
          2082,
          2088,
          2094,
          2100,
          2106,
          2112,
          2118,
          2124,
          2130,
          2136,
          2142,
          2148,
          2154,
          2160,
          2166,
          2172,
          2178,
          2184,
          2190,
          2196,
          2202,
          2208,
          2214,
          2220,
          2226,
          2232,
          2238,
          2244,
          2250,
          2256,
          2262,
          2268,
          2274,
          2280,
          2286,
          2292,
          2298,
          2304,
          2310,
          2316,
          2322,
          2328,
          2334,
          2340,
          2346,
          2352,
          2358,
          2364,
          2370,
          2376,
          2382,
          2388,
          2394,
          2400,
          2406,
          2412,
          2418,
          2424,
          2430,
          2436,
          2442,
          2448,
          2454,
          2460,
          2466,
          2472,
          2478,
          2484,
          2490,
          2496,
          2502,
          2508,
          2514,
          2520,
          2526,
          2532,
          2538,
          2544,
          2550,
          2556,
          2562,
          2568,
          2574,
          2580,
          2586,
          2592,
          2598,
          2604,
          2610,
          2616,
          2622,
          2628,
          2634,
          2640,
          2646,
          2652,
          2658,
          2664,
          2670,
          2676,
          2682,
          2688,
          2694,
          2700,
          2706,
          2712,
          2718,
          2724,
          2730,
          2736,
          2742,
          2748,
          2754,
          2760,
          2766,
          2772,
          2778,
          2784,
          2790,
          2796,
          2802,
          2808,
          2814,
          2820,
          2826,
          2832,
          2838,
          2844,
          2850,
          2856,
          2862,
          2868,
          2874,
          2880,
          2886,
          2892,
          2898,
          2904,
          2910,
          2916,
          2922,
          2928,
          2934,
          2940,
          2946,
          2952,
          2958,
          2964,
          2970,
          2976,
          2982,
          2988,
          2994,
          3000,
          3006,
          3012,
          3018,
          3024,
          3030,
          3036,
          3042,
          3048,
          3054,
          3060,
          3066,
          3072,
          3078,
          3084,
          3090,
          3096,
          3102,
          3108,
          3114,
          3120,
          3126,
          3132,
          3138,
          3144,
          3150,
          3156,
          3162,
          3168,
          3174,
          3180,
          3186,
          3192,
          3198,
          3204,
          3210,
          3216,
          3222,
          3228,
          3234,
          3240,
          3246,
          3252,
          3258,
          3264,
          3270,
          3276,
          3282,
          3288,
          3294,
          3300,
          3306,
          3312,
          3318,
          3324,
          3330,
          3336,
          3342,
          3348,
          3354,
          3360,
          3366,
          3372,
          3378,
          3384,
          3390,
          3396,
          3402,
          3408,
          3414,
          3420,
          3426,
          3432,
          3438,
          3444,
          3450,
          3456,
          3462,
          3468,
          3474,
          3480,
          3486,
          3492,
          3498,
          3504,
          3510,
          3516,
          3522,
          3528,
          3534,
          3540,
          3546,
          3552,
          3558,
          3564,
          3570,
          3576,
          3582,
          3588,
          3594,
          3600,
          3606,
          3612,
          3618,
          3624,
          3630,
          3636,
          3642,
          3648,
          3654,
          3660,
          3666,
          3672,
          3678,
          3684,
          3690,
          3696,
          3702,
          3708,
          3714,
          3720,
          3726,
          3732,
          3738,
          3744,
          3750,
          3756,
          3762,
          3768,
          3774,
          3780,
          3786,
          3792,
          3798,
          3804,
          3810,
          3816,
          3822,
          3828,
          3834,
          3840,
          3846,
          3852,
          3858,
          3864,
          3870,
          3876,
          3882,
          3888,
          3894,
          3900,
          3906,
          3912,
          3918,
          3924,
          3930,
          3936,
          3942,
          3948,
          3954,
          3960,
          3966,
          3972,
          3978,
          3984,
          3990,
          3996,
          4002,
          4008,
          4014,
          4020,
          4026,
          4032,
          4038,
          4044,
          4050,
          4056,
          4062,
          4068,
          4074,
          4080,
          4086,
          4092,
          4098,
          4104,
          4110,
          4116,
          4122,
          4128,
          4134,
          4140,
          4146,
          4152,
          4158,
          4164,
          4170,
          4176,
          4182,
          4188,
          4194,
          4200,
          4206,
          4212,
          4218,
          4224,
          4230,
          4236,
          4242,
          4248,
          4254,
          4260,
          4266,
          4272,
          4278,
          4284,
          4290,
          4296,
          4302,
          4308,
          4314,
          4320,
          4326,
          4332,
          4338,
          4344,
          4350,
          4356,
          4362,
          4368,
          4374,
          4380,
          4386,
          4392,
          4398,
          4404,
          4410,
          4416,
          4422,
          4428,
          4434,
          4440,
          4446,
          4452,
          4458,
          4464,
          4470,
          4476,
          4482,
          4488,
          4494,
          4500,
          4506,
          4512,
          4518,
          4524,
          4530,
          4536,
          4542,
          4548,
          4554,
          4560,
          4566,
          4572,
          4578,
          4584,
          4590,
          4596,
          4602,
          4608,
          4614,
          4620,
          4626,
          4632,
          4638,
          4644,
          4650,
          4656,
          4662,
          4668,
          4674,
          4680,
          4686,
          4692,
          4698,
          4704,
          4710,
          4716,
          4722,
          4728,
          4734,
          4740,
          4746,
          4752,
          4758,
          4764,
          4770,
          4776,
          4782,
          4788,
          4794,
          4800,
          4806,
          4812,
          4818,
          4824,
          4830,
          4836,
          4842,
          4848,
          4854,
          4860,
          4866,
          4872,
          4878,
          4884,
          4890,
          4896,
          4902,
          4908,
          4914,
          4920,
          4926,
          4932,
          4938,
          4944,
          4950,
          4956,
          4962,
          4968,
          4974,
          4980,
          4986,
          4992,
          4998,
          5004,
          5010,
          5016,
          5022,
          5028,
          5034,
          5040,
          5046,
          5052,
          5058,
          5064,
          5070,
          5076,
          5082,
          5088,
          5094,
          5100,
          5106,
          5112,
          5118,
          5124,
          5130,
          5136,
          5142,
          5148,
          5154,
          5160,
          5166,
          5172,
          5178,
          5184,
          5190,
          5196,
          5202,
          5208,
          5214,
          5220,
          5226,
          5232,
          5238,
          5244,
          5250,
          5256,
          5262,
          5268,
          5274,
          5280,
          5286,
          5292,
          5298,
          5304,
          5310,
          5316,
          5322,
          5328,
          5334,
          5340,
          5346,
          5352,
          5358,
          5364,
          5370,
          5376,
          5382,
          5388,
          5394,
          5400,
          5406,
          5412,
          5418,
          5424,
          5430,
          5436,
          5442,
          5448,
          5454,
          5460,
          5466,
          5472,
          5478,
          5484,
          5490,
          5496,
          5502,
          5508,
          5514,
          5520,
          5526,
          5532,
          5538,
          5544,
          5550,
          5556,
          5562,
          5568,
          5574,
          5580,
          5586,
          5592,
          5598,
          5604,
          5610,
          5616,
          5622,
          5628,
          5634,
          5640,
          5646,
          5652,
          5658,
          5664,
          5670,
          5676,
          5682,
          5688,
          5694,
          5700,
          5706,
          5712,
          5718,
          5724,
          5730,
          5736,
          5742,
          5748,
          5754,
          5760,
          5766,
          5772,
          5778,
          5784,
          5790,
          5796,
          5802,
          5808,
          5814,
          5820,
          5826,
          5832,
          5838,
          5844,
          5850,
          5856,
          5862,
          5868,
          5874,
          5880,
          5886,
          5892,
          5898,
          5904,
          5910,
          5916,
          5922,
          5928,
          5934,
          5940,
          5946,
          5952,
          5958,
          5964,
          5970,
          5976,
          5982,
          5988,
          5994
         ]
        },
        {
         "mode": "lines",
         "name": "Path length - CRW 6",
         "showlegend": true,
         "type": "scatter",
         "x": {
          "bdata": "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",
          "dtype": "i2"
         },
         "y": [
          0,
          6,
          12,
          18,
          24,
          30,
          36,
          42,
          48,
          54,
          60,
          66,
          72,
          78,
          84,
          90,
          96,
          102,
          108,
          114,
          120,
          126,
          132,
          138,
          144,
          150,
          156,
          162,
          168,
          174,
          180,
          186,
          192,
          198,
          204,
          210,
          216,
          222,
          228,
          234,
          240,
          246,
          252,
          258,
          264,
          270,
          276,
          282,
          288,
          294,
          300,
          306,
          312,
          318,
          324,
          330,
          336,
          342,
          348,
          354,
          360,
          366,
          372,
          378,
          384,
          390,
          396,
          402,
          408,
          414,
          420,
          426,
          432,
          438,
          444,
          450,
          456,
          462,
          468,
          474,
          480,
          486,
          492,
          498,
          504,
          510,
          516,
          522,
          528,
          534,
          540,
          546,
          552,
          558,
          564,
          570,
          576,
          582,
          588,
          594,
          600,
          606,
          612,
          618,
          624,
          630,
          636,
          642,
          648,
          654,
          660,
          666,
          672,
          678,
          684,
          690,
          696,
          702,
          708,
          714,
          720,
          726,
          732,
          738,
          744,
          750,
          756,
          762,
          768,
          774,
          780,
          786,
          792,
          798,
          804,
          810,
          816,
          822,
          828,
          834,
          840,
          846,
          852,
          858,
          864,
          870,
          876,
          882,
          888,
          894,
          900,
          906,
          912,
          918,
          924,
          930,
          936,
          942,
          948,
          954,
          960,
          966,
          972,
          978,
          984,
          990,
          996,
          1002,
          1008,
          1014,
          1020,
          1026,
          1032,
          1038,
          1044,
          1050,
          1056,
          1062,
          1068,
          1074,
          1080,
          1086,
          1092,
          1098,
          1104,
          1110,
          1116,
          1122,
          1128,
          1134,
          1140,
          1146,
          1152,
          1158,
          1164,
          1170,
          1176,
          1182,
          1188,
          1194,
          1200,
          1206,
          1212,
          1218,
          1224,
          1230,
          1236,
          1242,
          1248,
          1254,
          1260,
          1266,
          1272,
          1278,
          1284,
          1290,
          1296,
          1302,
          1308,
          1314,
          1320,
          1326,
          1332,
          1338,
          1344,
          1350,
          1356,
          1362,
          1368,
          1374,
          1380,
          1386,
          1392,
          1398,
          1404,
          1410,
          1416,
          1422,
          1428,
          1434,
          1440,
          1446,
          1452,
          1458,
          1464,
          1470,
          1476,
          1482,
          1488,
          1494,
          1500,
          1506,
          1512,
          1518,
          1524,
          1530,
          1536,
          1542,
          1548,
          1554,
          1560,
          1566,
          1572,
          1578,
          1584,
          1590,
          1596,
          1602,
          1608,
          1614,
          1620,
          1626,
          1632,
          1638,
          1644,
          1650,
          1656,
          1662,
          1668,
          1674,
          1680,
          1686,
          1692,
          1698,
          1704,
          1710,
          1716,
          1722,
          1728,
          1734,
          1740,
          1746,
          1752,
          1758,
          1764,
          1770,
          1776,
          1782,
          1788,
          1794,
          1800,
          1806,
          1812,
          1818,
          1824,
          1830,
          1836,
          1842,
          1848,
          1854,
          1860,
          1866,
          1872,
          1878,
          1884,
          1890,
          1896,
          1902,
          1908,
          1914,
          1920,
          1926,
          1932,
          1938,
          1944,
          1950,
          1956,
          1962,
          1968,
          1974,
          1980,
          1986,
          1992,
          1998,
          2004,
          2010,
          2016,
          2022,
          2028,
          2034,
          2040,
          2046,
          2052,
          2058,
          2064,
          2070,
          2076,
          2082,
          2088,
          2094,
          2100,
          2106,
          2112,
          2118,
          2124,
          2130,
          2136,
          2142,
          2148,
          2154,
          2160,
          2166,
          2172,
          2178,
          2184,
          2190,
          2196,
          2202,
          2208,
          2214,
          2220,
          2226,
          2232,
          2238,
          2244,
          2250,
          2256,
          2262,
          2268,
          2274,
          2280,
          2286,
          2292,
          2298,
          2304,
          2310,
          2316,
          2322,
          2328,
          2334,
          2340,
          2346,
          2352,
          2358,
          2364,
          2370,
          2376,
          2382,
          2388,
          2394,
          2400,
          2406,
          2412,
          2418,
          2424,
          2430,
          2436,
          2442,
          2448,
          2454,
          2460,
          2466,
          2472,
          2478,
          2484,
          2490,
          2496,
          2502,
          2508,
          2514,
          2520,
          2526,
          2532,
          2538,
          2544,
          2550,
          2556,
          2562,
          2568,
          2574,
          2580,
          2586,
          2592,
          2598,
          2604,
          2610,
          2616,
          2622,
          2628,
          2634,
          2640,
          2646,
          2652,
          2658,
          2664,
          2670,
          2676,
          2682,
          2688,
          2694,
          2700,
          2706,
          2712,
          2718,
          2724,
          2730,
          2736,
          2742,
          2748,
          2754,
          2760,
          2766,
          2772,
          2778,
          2784,
          2790,
          2796,
          2802,
          2808,
          2814,
          2820,
          2826,
          2832,
          2838,
          2844,
          2850,
          2856,
          2862,
          2868,
          2874,
          2880,
          2886,
          2892,
          2898,
          2904,
          2910,
          2916,
          2922,
          2928,
          2934,
          2940,
          2946,
          2952,
          2958,
          2964,
          2970,
          2976,
          2982,
          2988,
          2994,
          3000,
          3006,
          3012,
          3018,
          3024,
          3030,
          3036,
          3042,
          3048,
          3054,
          3060,
          3066,
          3072,
          3078,
          3084,
          3090,
          3096,
          3102,
          3108,
          3114,
          3120,
          3126,
          3132,
          3138,
          3144,
          3150,
          3156,
          3162,
          3168,
          3174,
          3180,
          3186,
          3192,
          3198,
          3204,
          3210,
          3216,
          3222,
          3228,
          3234,
          3240,
          3246,
          3252,
          3258,
          3264,
          3270,
          3276,
          3282,
          3288,
          3294,
          3300,
          3306,
          3312,
          3318,
          3324,
          3330,
          3336,
          3342,
          3348,
          3354,
          3360,
          3366,
          3372,
          3378,
          3384,
          3390,
          3396,
          3402,
          3408,
          3414,
          3420,
          3426,
          3432,
          3438,
          3444,
          3450,
          3456,
          3462,
          3468,
          3474,
          3480,
          3486,
          3492,
          3498,
          3504,
          3510,
          3516,
          3522,
          3528,
          3534,
          3540,
          3546,
          3552,
          3558,
          3564,
          3570,
          3576,
          3582,
          3588,
          3594,
          3600,
          3606,
          3612,
          3618,
          3624,
          3630,
          3636,
          3642,
          3648,
          3654,
          3660,
          3666,
          3672,
          3678,
          3684,
          3690,
          3696,
          3702,
          3708,
          3714,
          3720,
          3726,
          3732,
          3738,
          3744,
          3750,
          3756,
          3762,
          3768,
          3774,
          3780,
          3786,
          3792,
          3798,
          3804,
          3810,
          3816,
          3822,
          3828,
          3834,
          3840,
          3846,
          3852,
          3858,
          3864,
          3870,
          3876,
          3882,
          3888,
          3894,
          3900,
          3906,
          3912,
          3918,
          3924,
          3930,
          3936,
          3942,
          3948,
          3954,
          3960,
          3966,
          3972,
          3978,
          3984,
          3990,
          3996,
          4002,
          4008,
          4014,
          4020,
          4026,
          4032,
          4038,
          4044,
          4050,
          4056,
          4062,
          4068,
          4074,
          4080,
          4086,
          4092,
          4098,
          4104,
          4110,
          4116,
          4122,
          4128,
          4134,
          4140,
          4146,
          4152,
          4158,
          4164,
          4170,
          4176,
          4182,
          4188,
          4194,
          4200,
          4206,
          4212,
          4218,
          4224,
          4230,
          4236,
          4242,
          4248,
          4254,
          4260,
          4266,
          4272,
          4278,
          4284,
          4290,
          4296,
          4302,
          4308,
          4314,
          4320,
          4326,
          4332,
          4338,
          4344,
          4350,
          4356,
          4362,
          4368,
          4374,
          4380,
          4386,
          4392,
          4398,
          4404,
          4410,
          4416,
          4422,
          4428,
          4434,
          4440,
          4446,
          4452,
          4458,
          4464,
          4470,
          4476,
          4482,
          4488,
          4494,
          4500,
          4506,
          4512,
          4518,
          4524,
          4530,
          4536,
          4542,
          4548,
          4554,
          4560,
          4566,
          4572,
          4578,
          4584,
          4590,
          4596,
          4602,
          4608,
          4614,
          4620,
          4626,
          4632,
          4638,
          4644,
          4650,
          4656,
          4662,
          4668,
          4674,
          4680,
          4686,
          4692,
          4698,
          4704,
          4710,
          4716,
          4722,
          4728,
          4734,
          4740,
          4746,
          4752,
          4758,
          4764,
          4770,
          4776,
          4782,
          4788,
          4794,
          4800,
          4806,
          4812,
          4818,
          4824,
          4830,
          4836,
          4842,
          4848,
          4854,
          4860,
          4866,
          4872,
          4878,
          4884,
          4890,
          4896,
          4902,
          4908,
          4914,
          4920,
          4926,
          4932,
          4938,
          4944,
          4950,
          4956,
          4962,
          4968,
          4974,
          4980,
          4986,
          4992,
          4998,
          5004,
          5010,
          5016,
          5022,
          5028,
          5034,
          5040,
          5046,
          5052,
          5058,
          5064,
          5070,
          5076,
          5082,
          5088,
          5094,
          5100,
          5106,
          5112,
          5118,
          5124,
          5130,
          5136,
          5142,
          5148,
          5154,
          5160,
          5166,
          5172,
          5178,
          5184,
          5190,
          5196,
          5202,
          5208,
          5214,
          5220,
          5226,
          5232,
          5238,
          5244,
          5250,
          5256,
          5262,
          5268,
          5274,
          5280,
          5286,
          5292,
          5298,
          5304,
          5310,
          5316,
          5322,
          5328,
          5334,
          5340,
          5346,
          5352,
          5358,
          5364,
          5370,
          5376,
          5382,
          5388,
          5394,
          5400,
          5406,
          5412,
          5418,
          5424,
          5430,
          5436,
          5442,
          5448,
          5454,
          5460,
          5466,
          5472,
          5478,
          5484,
          5490,
          5496,
          5502,
          5508,
          5514,
          5520,
          5526,
          5532,
          5538,
          5544,
          5550,
          5556,
          5562,
          5568,
          5574,
          5580,
          5586,
          5592,
          5598,
          5604,
          5610,
          5616,
          5622,
          5628,
          5634,
          5640,
          5646,
          5652,
          5658,
          5664,
          5670,
          5676,
          5682,
          5688,
          5694,
          5700,
          5706,
          5712,
          5718,
          5724,
          5730,
          5736,
          5742,
          5748,
          5754,
          5760,
          5766,
          5772,
          5778,
          5784,
          5790,
          5796,
          5802,
          5808,
          5814,
          5820,
          5826,
          5832,
          5838,
          5844,
          5850,
          5856,
          5862,
          5868,
          5874,
          5880,
          5886,
          5892,
          5898,
          5904,
          5910,
          5916,
          5922,
          5928,
          5934,
          5940,
          5946,
          5952,
          5958,
          5964,
          5970,
          5976,
          5982,
          5988,
          5994,
          6000
         ]
        }
       ],
       "layout": {
        "height": 800,
        "template": {
         "data": {
          "bar": [
           {
            "error_x": {
             "color": "#2a3f5f"
            },
            "error_y": {
             "color": "#2a3f5f"
            },
            "marker": {
             "line": {
              "color": "#E5ECF6",
              "width": 0.5
             },
             "pattern": {
              "fillmode": "overlay",
              "size": 10,
              "solidity": 0.2
             }
            },
            "type": "bar"
           }
          ],
          "barpolar": [
           {
            "marker": {
             "line": {
              "color": "#E5ECF6",
              "width": 0.5
             },
             "pattern": {
              "fillmode": "overlay",
              "size": 10,
              "solidity": 0.2
             }
            },
            "type": "barpolar"
           }
          ],
          "carpet": [
           {
            "aaxis": {
             "endlinecolor": "#2a3f5f",
             "gridcolor": "white",
             "linecolor": "white",
             "minorgridcolor": "white",
             "startlinecolor": "#2a3f5f"
            },
            "baxis": {
             "endlinecolor": "#2a3f5f",
             "gridcolor": "white",
             "linecolor": "white",
             "minorgridcolor": "white",
             "startlinecolor": "#2a3f5f"
            },
            "type": "carpet"
           }
          ],
          "choropleth": [
           {
            "colorbar": {
             "outlinewidth": 0,
             "ticks": ""
            },
            "type": "choropleth"
           }
          ],
          "contour": [
           {
            "colorbar": {
             "outlinewidth": 0,
             "ticks": ""
            },
            "colorscale": [
             [
              0,
              "#0d0887"
             ],
             [
              0.1111111111111111,
              "#46039f"
             ],
             [
              0.2222222222222222,
              "#7201a8"
             ],
             [
              0.3333333333333333,
              "#9c179e"
             ],
             [
              0.4444444444444444,
              "#bd3786"
             ],
             [
              0.5555555555555556,
              "#d8576b"
             ],
             [
              0.6666666666666666,
              "#ed7953"
             ],
             [
              0.7777777777777778,
              "#fb9f3a"
             ],
             [
              0.8888888888888888,
              "#fdca26"
             ],
             [
              1,
              "#f0f921"
             ]
            ],
            "type": "contour"
           }
          ],
          "contourcarpet": [
           {
            "colorbar": {
             "outlinewidth": 0,
             "ticks": ""
            },
            "type": "contourcarpet"
           }
          ],
          "heatmap": [
           {
            "colorbar": {
             "outlinewidth": 0,
             "ticks": ""
            },
            "colorscale": [
             [
              0,
              "#0d0887"
             ],
             [
              0.1111111111111111,
              "#46039f"
             ],
             [
              0.2222222222222222,
              "#7201a8"
             ],
             [
              0.3333333333333333,
              "#9c179e"
             ],
             [
              0.4444444444444444,
              "#bd3786"
             ],
             [
              0.5555555555555556,
              "#d8576b"
             ],
             [
              0.6666666666666666,
              "#ed7953"
             ],
             [
              0.7777777777777778,
              "#fb9f3a"
             ],
             [
              0.8888888888888888,
              "#fdca26"
             ],
             [
              1,
              "#f0f921"
             ]
            ],
            "type": "heatmap"
           }
          ],
          "histogram": [
           {
            "marker": {
             "pattern": {
              "fillmode": "overlay",
              "size": 10,
              "solidity": 0.2
             }
            },
            "type": "histogram"
           }
          ],
          "histogram2d": [
           {
            "colorbar": {
             "outlinewidth": 0,
             "ticks": ""
            },
            "colorscale": [
             [
              0,
              "#0d0887"
             ],
             [
              0.1111111111111111,
              "#46039f"
             ],
             [
              0.2222222222222222,
              "#7201a8"
             ],
             [
              0.3333333333333333,
              "#9c179e"
             ],
             [
              0.4444444444444444,
              "#bd3786"
             ],
             [
              0.5555555555555556,
              "#d8576b"
             ],
             [
              0.6666666666666666,
              "#ed7953"
             ],
             [
              0.7777777777777778,
              "#fb9f3a"
             ],
             [
              0.8888888888888888,
              "#fdca26"
             ],
             [
              1,
              "#f0f921"
             ]
            ],
            "type": "histogram2d"
           }
          ],
          "histogram2dcontour": [
           {
            "colorbar": {
             "outlinewidth": 0,
             "ticks": ""
            },
            "colorscale": [
             [
              0,
              "#0d0887"
             ],
             [
              0.1111111111111111,
              "#46039f"
             ],
             [
              0.2222222222222222,
              "#7201a8"
             ],
             [
              0.3333333333333333,
              "#9c179e"
             ],
             [
              0.4444444444444444,
              "#bd3786"
             ],
             [
              0.5555555555555556,
              "#d8576b"
             ],
             [
              0.6666666666666666,
              "#ed7953"
             ],
             [
              0.7777777777777778,
              "#fb9f3a"
             ],
             [
              0.8888888888888888,
              "#fdca26"
             ],
             [
              1,
              "#f0f921"
             ]
            ],
            "type": "histogram2dcontour"
           }
          ],
          "mesh3d": [
           {
            "colorbar": {
             "outlinewidth": 0,
             "ticks": ""
            },
            "type": "mesh3d"
           }
          ],
          "parcoords": [
           {
            "line": {
             "colorbar": {
              "outlinewidth": 0,
              "ticks": ""
             }
            },
            "type": "parcoords"
           }
          ],
          "pie": [
           {
            "automargin": true,
            "type": "pie"
           }
          ],
          "scatter": [
           {
            "fillpattern": {
             "fillmode": "overlay",
             "size": 10,
             "solidity": 0.2
            },
            "type": "scatter"
           }
          ],
          "scatter3d": [
           {
            "line": {
             "colorbar": {
              "outlinewidth": 0,
              "ticks": ""
             }
            },
            "marker": {
             "colorbar": {
              "outlinewidth": 0,
              "ticks": ""
             }
            },
            "type": "scatter3d"
           }
          ],
          "scattercarpet": [
           {
            "marker": {
             "colorbar": {
              "outlinewidth": 0,
              "ticks": ""
             }
            },
            "type": "scattercarpet"
           }
          ],
          "scattergeo": [
           {
            "marker": {
             "colorbar": {
              "outlinewidth": 0,
              "ticks": ""
             }
            },
            "type": "scattergeo"
           }
          ],
          "scattergl": [
           {
            "marker": {
             "colorbar": {
              "outlinewidth": 0,
              "ticks": ""
             }
            },
            "type": "scattergl"
           }
          ],
          "scattermap": [
           {
            "marker": {
             "colorbar": {
              "outlinewidth": 0,
              "ticks": ""
             }
            },
            "type": "scattermap"
           }
          ],
          "scattermapbox": [
           {
            "marker": {
             "colorbar": {
              "outlinewidth": 0,
              "ticks": ""
             }
            },
            "type": "scattermapbox"
           }
          ],
          "scatterpolar": [
           {
            "marker": {
             "colorbar": {
              "outlinewidth": 0,
              "ticks": ""
             }
            },
            "type": "scatterpolar"
           }
          ],
          "scatterpolargl": [
           {
            "marker": {
             "colorbar": {
              "outlinewidth": 0,
              "ticks": ""
             }
            },
            "type": "scatterpolargl"
           }
          ],
          "scatterternary": [
           {
            "marker": {
             "colorbar": {
              "outlinewidth": 0,
              "ticks": ""
             }
            },
            "type": "scatterternary"
           }
          ],
          "surface": [
           {
            "colorbar": {
             "outlinewidth": 0,
             "ticks": ""
            },
            "colorscale": [
             [
              0,
              "#0d0887"
             ],
             [
              0.1111111111111111,
              "#46039f"
             ],
             [
              0.2222222222222222,
              "#7201a8"
             ],
             [
              0.3333333333333333,
              "#9c179e"
             ],
             [
              0.4444444444444444,
              "#bd3786"
             ],
             [
              0.5555555555555556,
              "#d8576b"
             ],
             [
              0.6666666666666666,
              "#ed7953"
             ],
             [
              0.7777777777777778,
              "#fb9f3a"
             ],
             [
              0.8888888888888888,
              "#fdca26"
             ],
             [
              1,
              "#f0f921"
             ]
            ],
            "type": "surface"
           }
          ],
          "table": [
           {
            "cells": {
             "fill": {
              "color": "#EBF0F8"
             },
             "line": {
              "color": "white"
             }
            },
            "header": {
             "fill": {
              "color": "#C8D4E3"
             },
             "line": {
              "color": "white"
             }
            },
            "type": "table"
           }
          ]
         },
         "layout": {
          "annotationdefaults": {
           "arrowcolor": "#2a3f5f",
           "arrowhead": 0,
           "arrowwidth": 1
          },
          "autotypenumbers": "strict",
          "coloraxis": {
           "colorbar": {
            "outlinewidth": 0,
            "ticks": ""
           }
          },
          "colorscale": {
           "diverging": [
            [
             0,
             "#8e0152"
            ],
            [
             0.1,
             "#c51b7d"
            ],
            [
             0.2,
             "#de77ae"
            ],
            [
             0.3,
             "#f1b6da"
            ],
            [
             0.4,
             "#fde0ef"
            ],
            [
             0.5,
             "#f7f7f7"
            ],
            [
             0.6,
             "#e6f5d0"
            ],
            [
             0.7,
             "#b8e186"
            ],
            [
             0.8,
             "#7fbc41"
            ],
            [
             0.9,
             "#4d9221"
            ],
            [
             1,
             "#276419"
            ]
           ],
           "sequential": [
            [
             0,
             "#0d0887"
            ],
            [
             0.1111111111111111,
             "#46039f"
            ],
            [
             0.2222222222222222,
             "#7201a8"
            ],
            [
             0.3333333333333333,
             "#9c179e"
            ],
            [
             0.4444444444444444,
             "#bd3786"
            ],
            [
             0.5555555555555556,
             "#d8576b"
            ],
            [
             0.6666666666666666,
             "#ed7953"
            ],
            [
             0.7777777777777778,
             "#fb9f3a"
            ],
            [
             0.8888888888888888,
             "#fdca26"
            ],
            [
             1,
             "#f0f921"
            ]
           ],
           "sequentialminus": [
            [
             0,
             "#0d0887"
            ],
            [
             0.1111111111111111,
             "#46039f"
            ],
            [
             0.2222222222222222,
             "#7201a8"
            ],
            [
             0.3333333333333333,
             "#9c179e"
            ],
            [
             0.4444444444444444,
             "#bd3786"
            ],
            [
             0.5555555555555556,
             "#d8576b"
            ],
            [
             0.6666666666666666,
             "#ed7953"
            ],
            [
             0.7777777777777778,
             "#fb9f3a"
            ],
            [
             0.8888888888888888,
             "#fdca26"
            ],
            [
             1,
             "#f0f921"
            ]
           ]
          },
          "colorway": [
           "#636efa",
           "#EF553B",
           "#00cc96",
           "#ab63fa",
           "#FFA15A",
           "#19d3f3",
           "#FF6692",
           "#B6E880",
           "#FF97FF",
           "#FECB52"
          ],
          "font": {
           "color": "#2a3f5f"
          },
          "geo": {
           "bgcolor": "white",
           "lakecolor": "white",
           "landcolor": "#E5ECF6",
           "showlakes": true,
           "showland": true,
           "subunitcolor": "white"
          },
          "hoverlabel": {
           "align": "left"
          },
          "hovermode": "closest",
          "mapbox": {
           "style": "light"
          },
          "paper_bgcolor": "white",
          "plot_bgcolor": "#E5ECF6",
          "polar": {
           "angularaxis": {
            "gridcolor": "white",
            "linecolor": "white",
            "ticks": ""
           },
           "bgcolor": "#E5ECF6",
           "radialaxis": {
            "gridcolor": "white",
            "linecolor": "white",
            "ticks": ""
           }
          },
          "scene": {
           "xaxis": {
            "backgroundcolor": "#E5ECF6",
            "gridcolor": "white",
            "gridwidth": 2,
            "linecolor": "white",
            "showbackground": true,
            "ticks": "",
            "zerolinecolor": "white"
           },
           "yaxis": {
            "backgroundcolor": "#E5ECF6",
            "gridcolor": "white",
            "gridwidth": 2,
            "linecolor": "white",
            "showbackground": true,
            "ticks": "",
            "zerolinecolor": "white"
           },
           "zaxis": {
            "backgroundcolor": "#E5ECF6",
            "gridcolor": "white",
            "gridwidth": 2,
            "linecolor": "white",
            "showbackground": true,
            "ticks": "",
            "zerolinecolor": "white"
           }
          },
          "shapedefaults": {
           "line": {
            "color": "#2a3f5f"
           }
          },
          "ternary": {
           "aaxis": {
            "gridcolor": "white",
            "linecolor": "white",
            "ticks": ""
           },
           "baxis": {
            "gridcolor": "white",
            "linecolor": "white",
            "ticks": ""
           },
           "bgcolor": "#E5ECF6",
           "caxis": {
            "gridcolor": "white",
            "linecolor": "white",
            "ticks": ""
           }
          },
          "title": {
           "x": 0.05
          },
          "xaxis": {
           "automargin": true,
           "gridcolor": "white",
           "linecolor": "white",
           "ticks": "",
           "title": {
            "standoff": 15
           },
           "zerolinecolor": "white",
           "zerolinewidth": 2
          },
          "yaxis": {
           "automargin": true,
           "gridcolor": "white",
           "linecolor": "white",
           "ticks": "",
           "title": {
            "standoff": 15
           },
           "zerolinecolor": "white",
           "zerolinewidth": 2
          }
         }
        },
        "title": {
         "text": "Path Lengths"
        }
       }
      }
     },
     "metadata": {},
     "output_type": "display_data"
    }
   ],
   "source": [
    "fig = go.Figure()\n",
    "\n",
    "fig.add_trace(go.Scatter(\n",
    "    x= bm_pl_3.index,\n",
    "    y= bm_pl_3.y_pos,\n",
    "    name='Path length - BM 3',\n",
    "    mode='lines',\n",
    "    showlegend=True\n",
    "))\n",
    "\n",
    "fig.add_trace(go.Scatter(\n",
    "    x= bm_pl_6.index,\n",
    "    y= bm_pl_6.y_pos,\n",
    "    name='Path length - BM 6',\n",
    "    marker = dict(size=2),\n",
    "    line = dict(width=6),\n",
    "    mode='lines',\n",
    "    showlegend=True\n",
    "))\n",
    "\n",
    "fig.add_trace(go.Scatter(\n",
    "    x= crw_pl_6.index,\n",
    "    y= crw_pl_6.y_pos,\n",
    "    name='Path length - CRW 6',\n",
    "    mode='lines',\n",
    "    showlegend=True\n",
    "))\n",
    "\n",
    "fig.update_layout(\n",
    "    title='Path Lengths',\n",
    "    height=800,\n",
    ")\n",
    "\n",
    "fig.show()"
   ]
  },
  {
   "cell_type": "markdown",
   "metadata": {},
   "source": [
    "# Activity 2: Mean Squared Displacement - (BM vs CRW)"
   ]
  },
  {
   "cell_type": "markdown",
   "metadata": {},
   "source": [
    "- Write a function that returns the **mean squared displacement** for a given trajectory.\n",
    "- Compare the **mean squared displacement** curves of at least two trajectories of\n",
    "different kinds, as shown in the figure below.\n",
    "- Display the results using **plotly.**"
   ]
  },
  {
   "cell_type": "markdown",
   "metadata": {},
   "source": [
    "# FUNCTIONS"
   ]
  },
  {
   "cell_type": "code",
   "execution_count": 66,
   "metadata": {},
   "outputs": [],
   "source": [
    "#####################################################################################\n",
    "# Mean Squared Displacement (MSD)\n",
    "#####################################################################################\n",
    "def msd(trajectory_df):\n",
    "    \"\"\"    \n",
    "    Arguments\n",
    "    -----------\n",
    "        trajectory_df: DataFrame with columns \n",
    "    \n",
    "    Returns\n",
    "    -----------\n",
    "        msd_df: DataFrame with columns ['tau', 'msd'] (time lag vs MSD).\n",
    "    \"\"\"\n",
    "    x_col = 'x' if 'x' in trajectory_df.columns else 'x_pos'\n",
    "    y_col = 'y' if 'y' in trajectory_df.columns else 'y_pos'\n",
    "    \n",
    "    # Extract coordinates\n",
    "    x = trajectory_df[x_col].values\n",
    "    y = trajectory_df[y_col].values\n",
    "    n = len(x)\n",
    "    \n",
    "    msd_values = np.zeros(n - 1)  # Store MSD values\n",
    "    taus = np.arange(1, n)  # All possible time lags\n",
    "    \n",
    "    for tau in taus:\n",
    "        displacements = (x[tau:] - x[:-tau])**2 + (y[tau:] - y[:-tau])**2\n",
    "        msd_values[tau - 1] = np.mean(displacements)  # Store MSD value for this tau\n",
    "    \n",
    "    return pd.DataFrame({'tau': taus, 'msd': msd_values})  "
   ]
  },
  {
   "cell_type": "markdown",
   "metadata": {},
   "source": [
    "# CALCULATE MSD AND PLOTING"
   ]
  },
  {
   "cell_type": "code",
   "execution_count": 67,
   "metadata": {},
   "outputs": [
    {
     "data": {
      "application/vnd.plotly.v1+json": {
       "config": {
        "plotlyServerURL": "https://plot.ly"
       },
       "data": [
        {
         "mode": "lines",
         "name": "MSD BM6",
         "type": "scatter",
         "x": {
          "bdata": "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",
          "dtype": "i2"
         },
         "y": {
          "bdata": "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",
          "dtype": "f8"
         }
        },
        {
         "mode": "lines",
         "name": "MSD CRW6 c=0.9",
         "type": "scatter",
         "x": {
          "bdata": "AQACAAMABAAFAAYABwAIAAkACgALAAwADQAOAA8AEAARABIAEwAUABUAFgAXABgAGQAaABsAHAAdAB4AHwAgACEAIgAjACQAJQAmACcAKAApACoAKwAsAC0ALgAvADAAMQAyADMANAA1ADYANwA4ADkAOgA7ADwAPQA+AD8AQABBAEIAQwBEAEUARgBHAEgASQBKAEsATABNAE4ATwBQAFEAUgBTAFQAVQBWAFcAWABZAFoAWwBcAF0AXgBfAGAAYQBiAGMAZABlAGYAZwBoAGkAagBrAGwAbQBuAG8AcABxAHIAcwB0AHUAdgB3AHgAeQB6AHsAfAB9AH4AfwCAAIEAggCDAIQAhQCGAIcAiACJAIoAiwCMAI0AjgCPAJAAkQCSAJMAlACVAJYAlwCYAJkAmgCbAJwAnQCeAJ8AoAChAKIAowCkAKUApgCnAKgAqQCqAKsArACtAK4ArwCwALEAsgCzALQAtQC2ALcAuAC5ALoAuwC8AL0AvgC/AMAAwQDCAMMAxADFAMYAxwDIAMkAygDLAMwAzQDOAM8A0ADRANIA0wDUANUA1gDXANgA2QDaANsA3ADdAN4A3wDgAOEA4gDjAOQA5QDmAOcA6ADpAOoA6wDsAO0A7gDvAPAA8QDyAPMA9AD1APYA9wD4APkA+gD7APwA/QD+AP8AAAEBAQIBAwEEAQUBBgEHAQgBCQEKAQsBDAENAQ4BDwEQAREBEgETARQBFQEWARcBGAEZARoBGwEcAR0BHgEfASABIQEiASMBJAElASYBJwEoASkBKgErASwBLQEuAS8BMAExATIBMwE0ATUBNgE3ATgBOQE6ATsBPAE9AT4BPwFAAUEBQgFDAUQBRQFGAUcBSAFJAUoBSwFMAU0BTgFPAVABUQFSAVMBVAFVAVYBVwFYAVkBWgFbAVwBXQFeAV8BYAFhAWIBYwFkAWUBZgFnAWgBaQFqAWsBbAFtAW4BbwFwAXEBcgFzAXQBdQF2AXcBeAF5AXoBewF8AX0BfgF/AYABgQGCAYMBhAGFAYYBhwGIAYkBigGLAYwBjQGOAY8BkAGRAZIBkwGUAZUBlgGXAZgBmQGaAZsBnAGdAZ4BnwGgAaEBogGjAaQBpQGmAacBqAGpAaoBqwGsAa0BrgGvAbABsQGyAbMBtAG1AbYBtwG4AbkBugG7AbwBvQG+Ab8BwAHBAcIBwwHEAcUBxgHHAcgByQHKAcsBzAHNAc4BzwHQAdEB0gHTAdQB1QHWAdcB2AHZAdoB2wHcAd0B3gHfAeAB4QHiAeMB5AHlAeYB5wHoAekB6gHrAewB7QHuAe8B8AHxAfIB8wH0AfUB9gH3AfgB+QH6AfsB/AH9Af4B/wEAAgECAgIDAgQCBQIGAgcCCAIJAgoCCwIMAg0CDgIPAhACEQISAhMCFAIVAhYCFwIYAhkCGgIbAhwCHQIeAh8CIAIhAiICIwIkAiUCJgInAigCKQIqAisCLAItAi4CLwIwAjECMgIzAjQCNQI2AjcCOAI5AjoCOwI8Aj0CPgI/AkACQQJCAkMCRAJFAkYCRwJIAkkCSgJLAkwCTQJOAk8CUAJRAlICUwJUAlUCVgJXAlgCWQJaAlsCXAJdAl4CXwJgAmECYgJjAmQCZQJmAmcCaAJpAmoCawJsAm0CbgJvAnACcQJyAnMCdAJ1AnYCdwJ4AnkCegJ7AnwCfQJ+An8CgAKBAoICgwKEAoUChgKHAogCiQKKAosCjAKNAo4CjwKQApECkgKTApQClQKWApcCmAKZApoCmwKcAp0CngKfAqACoQKiAqMCpAKlAqYCpwKoAqkCqgKrAqwCrQKuAq8CsAKxArICswK0ArUCtgK3ArgCuQK6ArsCvAK9Ar4CvwLAAsECwgLDAsQCxQLGAscCyALJAsoCywLMAs0CzgLPAtAC0QLSAtMC1ALVAtYC1wLYAtkC2gLbAtwC3QLeAt8C4ALhAuIC4wLkAuUC5gLnAugC6QLqAusC7ALtAu4C7wLwAvEC8gLzAvQC9QL2AvcC+AL5AvoC+wL8Av0C/gL/AgADAQMCAwMDBAMFAwYDBwMIAwkDCgMLAwwDDQMOAw8DEAMRAxIDEwMUAxUDFgMXAxgDGQMaAxsDHAMdAx4DHwMgAyEDIgMjAyQDJQMmAycDKAMpAyoDKwMsAy0DLgMvAzADMQMyAzMDNAM1AzYDNwM4AzkDOgM7AzwDPQM+Az8DQANBA0IDQwNEA0UDRgNHA0gDSQNKA0sDTANNA04DTwNQA1EDUgNTA1QDVQNWA1cDWANZA1oDWwNcA10DXgNfA2ADYQNiA2MDZANlA2YDZwNoA2kDagNrA2wDbQNuA28DcANxA3IDcwN0A3UDdgN3A3gDeQN6A3sDfAN9A34DfwOAA4EDggODA4QDhQOGA4cDiAOJA4oDiwOMA40DjgOPA5ADkQOSA5MDlAOVA5YDlwOYA5kDmgObA5wDnQOeA58DoAOhA6IDowOkA6UDpgOnA6gDqQOqA6sDrAOtA64DrwOwA7EDsgOzA7QDtQO2A7cDuAO5A7oDuwO8A70DvgO/A8ADwQPCA8MDxAPFA8YDxwPIA8kDygPLA8wDzQPOA88D0APRA9ID0wPUA9UD1gPXA9gD2QPaA9sD3APdA94D3wPgA+ED4gPjA+QD5QPmA+cD6AM=",
          "dtype": "i2"
         },
         "y": {
          "bdata": "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",
          "dtype": "f8"
         }
        }
       ],
       "layout": {
        "height": 600,
        "hovermode": "x unified",
        "template": {
         "data": {
          "bar": [
           {
            "error_x": {
             "color": "#2a3f5f"
            },
            "error_y": {
             "color": "#2a3f5f"
            },
            "marker": {
             "line": {
              "color": "#E5ECF6",
              "width": 0.5
             },
             "pattern": {
              "fillmode": "overlay",
              "size": 10,
              "solidity": 0.2
             }
            },
            "type": "bar"
           }
          ],
          "barpolar": [
           {
            "marker": {
             "line": {
              "color": "#E5ECF6",
              "width": 0.5
             },
             "pattern": {
              "fillmode": "overlay",
              "size": 10,
              "solidity": 0.2
             }
            },
            "type": "barpolar"
           }
          ],
          "carpet": [
           {
            "aaxis": {
             "endlinecolor": "#2a3f5f",
             "gridcolor": "white",
             "linecolor": "white",
             "minorgridcolor": "white",
             "startlinecolor": "#2a3f5f"
            },
            "baxis": {
             "endlinecolor": "#2a3f5f",
             "gridcolor": "white",
             "linecolor": "white",
             "minorgridcolor": "white",
             "startlinecolor": "#2a3f5f"
            },
            "type": "carpet"
           }
          ],
          "choropleth": [
           {
            "colorbar": {
             "outlinewidth": 0,
             "ticks": ""
            },
            "type": "choropleth"
           }
          ],
          "contour": [
           {
            "colorbar": {
             "outlinewidth": 0,
             "ticks": ""
            },
            "colorscale": [
             [
              0,
              "#0d0887"
             ],
             [
              0.1111111111111111,
              "#46039f"
             ],
             [
              0.2222222222222222,
              "#7201a8"
             ],
             [
              0.3333333333333333,
              "#9c179e"
             ],
             [
              0.4444444444444444,
              "#bd3786"
             ],
             [
              0.5555555555555556,
              "#d8576b"
             ],
             [
              0.6666666666666666,
              "#ed7953"
             ],
             [
              0.7777777777777778,
              "#fb9f3a"
             ],
             [
              0.8888888888888888,
              "#fdca26"
             ],
             [
              1,
              "#f0f921"
             ]
            ],
            "type": "contour"
           }
          ],
          "contourcarpet": [
           {
            "colorbar": {
             "outlinewidth": 0,
             "ticks": ""
            },
            "type": "contourcarpet"
           }
          ],
          "heatmap": [
           {
            "colorbar": {
             "outlinewidth": 0,
             "ticks": ""
            },
            "colorscale": [
             [
              0,
              "#0d0887"
             ],
             [
              0.1111111111111111,
              "#46039f"
             ],
             [
              0.2222222222222222,
              "#7201a8"
             ],
             [
              0.3333333333333333,
              "#9c179e"
             ],
             [
              0.4444444444444444,
              "#bd3786"
             ],
             [
              0.5555555555555556,
              "#d8576b"
             ],
             [
              0.6666666666666666,
              "#ed7953"
             ],
             [
              0.7777777777777778,
              "#fb9f3a"
             ],
             [
              0.8888888888888888,
              "#fdca26"
             ],
             [
              1,
              "#f0f921"
             ]
            ],
            "type": "heatmap"
           }
          ],
          "histogram": [
           {
            "marker": {
             "pattern": {
              "fillmode": "overlay",
              "size": 10,
              "solidity": 0.2
             }
            },
            "type": "histogram"
           }
          ],
          "histogram2d": [
           {
            "colorbar": {
             "outlinewidth": 0,
             "ticks": ""
            },
            "colorscale": [
             [
              0,
              "#0d0887"
             ],
             [
              0.1111111111111111,
              "#46039f"
             ],
             [
              0.2222222222222222,
              "#7201a8"
             ],
             [
              0.3333333333333333,
              "#9c179e"
             ],
             [
              0.4444444444444444,
              "#bd3786"
             ],
             [
              0.5555555555555556,
              "#d8576b"
             ],
             [
              0.6666666666666666,
              "#ed7953"
             ],
             [
              0.7777777777777778,
              "#fb9f3a"
             ],
             [
              0.8888888888888888,
              "#fdca26"
             ],
             [
              1,
              "#f0f921"
             ]
            ],
            "type": "histogram2d"
           }
          ],
          "histogram2dcontour": [
           {
            "colorbar": {
             "outlinewidth": 0,
             "ticks": ""
            },
            "colorscale": [
             [
              0,
              "#0d0887"
             ],
             [
              0.1111111111111111,
              "#46039f"
             ],
             [
              0.2222222222222222,
              "#7201a8"
             ],
             [
              0.3333333333333333,
              "#9c179e"
             ],
             [
              0.4444444444444444,
              "#bd3786"
             ],
             [
              0.5555555555555556,
              "#d8576b"
             ],
             [
              0.6666666666666666,
              "#ed7953"
             ],
             [
              0.7777777777777778,
              "#fb9f3a"
             ],
             [
              0.8888888888888888,
              "#fdca26"
             ],
             [
              1,
              "#f0f921"
             ]
            ],
            "type": "histogram2dcontour"
           }
          ],
          "mesh3d": [
           {
            "colorbar": {
             "outlinewidth": 0,
             "ticks": ""
            },
            "type": "mesh3d"
           }
          ],
          "parcoords": [
           {
            "line": {
             "colorbar": {
              "outlinewidth": 0,
              "ticks": ""
             }
            },
            "type": "parcoords"
           }
          ],
          "pie": [
           {
            "automargin": true,
            "type": "pie"
           }
          ],
          "scatter": [
           {
            "fillpattern": {
             "fillmode": "overlay",
             "size": 10,
             "solidity": 0.2
            },
            "type": "scatter"
           }
          ],
          "scatter3d": [
           {
            "line": {
             "colorbar": {
              "outlinewidth": 0,
              "ticks": ""
             }
            },
            "marker": {
             "colorbar": {
              "outlinewidth": 0,
              "ticks": ""
             }
            },
            "type": "scatter3d"
           }
          ],
          "scattercarpet": [
           {
            "marker": {
             "colorbar": {
              "outlinewidth": 0,
              "ticks": ""
             }
            },
            "type": "scattercarpet"
           }
          ],
          "scattergeo": [
           {
            "marker": {
             "colorbar": {
              "outlinewidth": 0,
              "ticks": ""
             }
            },
            "type": "scattergeo"
           }
          ],
          "scattergl": [
           {
            "marker": {
             "colorbar": {
              "outlinewidth": 0,
              "ticks": ""
             }
            },
            "type": "scattergl"
           }
          ],
          "scattermap": [
           {
            "marker": {
             "colorbar": {
              "outlinewidth": 0,
              "ticks": ""
             }
            },
            "type": "scattermap"
           }
          ],
          "scattermapbox": [
           {
            "marker": {
             "colorbar": {
              "outlinewidth": 0,
              "ticks": ""
             }
            },
            "type": "scattermapbox"
           }
          ],
          "scatterpolar": [
           {
            "marker": {
             "colorbar": {
              "outlinewidth": 0,
              "ticks": ""
             }
            },
            "type": "scatterpolar"
           }
          ],
          "scatterpolargl": [
           {
            "marker": {
             "colorbar": {
              "outlinewidth": 0,
              "ticks": ""
             }
            },
            "type": "scatterpolargl"
           }
          ],
          "scatterternary": [
           {
            "marker": {
             "colorbar": {
              "outlinewidth": 0,
              "ticks": ""
             }
            },
            "type": "scatterternary"
           }
          ],
          "surface": [
           {
            "colorbar": {
             "outlinewidth": 0,
             "ticks": ""
            },
            "colorscale": [
             [
              0,
              "#0d0887"
             ],
             [
              0.1111111111111111,
              "#46039f"
             ],
             [
              0.2222222222222222,
              "#7201a8"
             ],
             [
              0.3333333333333333,
              "#9c179e"
             ],
             [
              0.4444444444444444,
              "#bd3786"
             ],
             [
              0.5555555555555556,
              "#d8576b"
             ],
             [
              0.6666666666666666,
              "#ed7953"
             ],
             [
              0.7777777777777778,
              "#fb9f3a"
             ],
             [
              0.8888888888888888,
              "#fdca26"
             ],
             [
              1,
              "#f0f921"
             ]
            ],
            "type": "surface"
           }
          ],
          "table": [
           {
            "cells": {
             "fill": {
              "color": "#EBF0F8"
             },
             "line": {
              "color": "white"
             }
            },
            "header": {
             "fill": {
              "color": "#C8D4E3"
             },
             "line": {
              "color": "white"
             }
            },
            "type": "table"
           }
          ]
         },
         "layout": {
          "annotationdefaults": {
           "arrowcolor": "#2a3f5f",
           "arrowhead": 0,
           "arrowwidth": 1
          },
          "autotypenumbers": "strict",
          "coloraxis": {
           "colorbar": {
            "outlinewidth": 0,
            "ticks": ""
           }
          },
          "colorscale": {
           "diverging": [
            [
             0,
             "#8e0152"
            ],
            [
             0.1,
             "#c51b7d"
            ],
            [
             0.2,
             "#de77ae"
            ],
            [
             0.3,
             "#f1b6da"
            ],
            [
             0.4,
             "#fde0ef"
            ],
            [
             0.5,
             "#f7f7f7"
            ],
            [
             0.6,
             "#e6f5d0"
            ],
            [
             0.7,
             "#b8e186"
            ],
            [
             0.8,
             "#7fbc41"
            ],
            [
             0.9,
             "#4d9221"
            ],
            [
             1,
             "#276419"
            ]
           ],
           "sequential": [
            [
             0,
             "#0d0887"
            ],
            [
             0.1111111111111111,
             "#46039f"
            ],
            [
             0.2222222222222222,
             "#7201a8"
            ],
            [
             0.3333333333333333,
             "#9c179e"
            ],
            [
             0.4444444444444444,
             "#bd3786"
            ],
            [
             0.5555555555555556,
             "#d8576b"
            ],
            [
             0.6666666666666666,
             "#ed7953"
            ],
            [
             0.7777777777777778,
             "#fb9f3a"
            ],
            [
             0.8888888888888888,
             "#fdca26"
            ],
            [
             1,
             "#f0f921"
            ]
           ],
           "sequentialminus": [
            [
             0,
             "#0d0887"
            ],
            [
             0.1111111111111111,
             "#46039f"
            ],
            [
             0.2222222222222222,
             "#7201a8"
            ],
            [
             0.3333333333333333,
             "#9c179e"
            ],
            [
             0.4444444444444444,
             "#bd3786"
            ],
            [
             0.5555555555555556,
             "#d8576b"
            ],
            [
             0.6666666666666666,
             "#ed7953"
            ],
            [
             0.7777777777777778,
             "#fb9f3a"
            ],
            [
             0.8888888888888888,
             "#fdca26"
            ],
            [
             1,
             "#f0f921"
            ]
           ]
          },
          "colorway": [
           "#636efa",
           "#EF553B",
           "#00cc96",
           "#ab63fa",
           "#FFA15A",
           "#19d3f3",
           "#FF6692",
           "#B6E880",
           "#FF97FF",
           "#FECB52"
          ],
          "font": {
           "color": "#2a3f5f"
          },
          "geo": {
           "bgcolor": "white",
           "lakecolor": "white",
           "landcolor": "#E5ECF6",
           "showlakes": true,
           "showland": true,
           "subunitcolor": "white"
          },
          "hoverlabel": {
           "align": "left"
          },
          "hovermode": "closest",
          "mapbox": {
           "style": "light"
          },
          "paper_bgcolor": "white",
          "plot_bgcolor": "#E5ECF6",
          "polar": {
           "angularaxis": {
            "gridcolor": "white",
            "linecolor": "white",
            "ticks": ""
           },
           "bgcolor": "#E5ECF6",
           "radialaxis": {
            "gridcolor": "white",
            "linecolor": "white",
            "ticks": ""
           }
          },
          "scene": {
           "xaxis": {
            "backgroundcolor": "#E5ECF6",
            "gridcolor": "white",
            "gridwidth": 2,
            "linecolor": "white",
            "showbackground": true,
            "ticks": "",
            "zerolinecolor": "white"
           },
           "yaxis": {
            "backgroundcolor": "#E5ECF6",
            "gridcolor": "white",
            "gridwidth": 2,
            "linecolor": "white",
            "showbackground": true,
            "ticks": "",
            "zerolinecolor": "white"
           },
           "zaxis": {
            "backgroundcolor": "#E5ECF6",
            "gridcolor": "white",
            "gridwidth": 2,
            "linecolor": "white",
            "showbackground": true,
            "ticks": "",
            "zerolinecolor": "white"
           }
          },
          "shapedefaults": {
           "line": {
            "color": "#2a3f5f"
           }
          },
          "ternary": {
           "aaxis": {
            "gridcolor": "white",
            "linecolor": "white",
            "ticks": ""
           },
           "baxis": {
            "gridcolor": "white",
            "linecolor": "white",
            "ticks": ""
           },
           "bgcolor": "#E5ECF6",
           "caxis": {
            "gridcolor": "white",
            "linecolor": "white",
            "ticks": ""
           }
          },
          "title": {
           "x": 0.05
          },
          "xaxis": {
           "automargin": true,
           "gridcolor": "white",
           "linecolor": "white",
           "ticks": "",
           "title": {
            "standoff": 15
           },
           "zerolinecolor": "white",
           "zerolinewidth": 2
          },
          "yaxis": {
           "automargin": true,
           "gridcolor": "white",
           "linecolor": "white",
           "ticks": "",
           "title": {
            "standoff": 15
           },
           "zerolinecolor": "white",
           "zerolinewidth": 2
          }
         }
        },
        "title": {
         "text": "Mean Squared Displacement - (BM vs CRW)"
        },
        "xaxis": {
         "title": {
          "text": "Time"
         }
        },
        "yaxis": {
         "title": {
          "text": "MSD"
         }
        }
       }
      }
     },
     "metadata": {},
     "output_type": "display_data"
    }
   ],
   "source": [
    "# Calculate MSDs\n",
    "msd_bm = msd(bm_traj_6)\n",
    "msd_crw = msd(crw_traj_6)\n",
    "\n",
    "fig = go.Figure()\n",
    "fig.add_trace(go.Scatter(x=msd_bm['tau'], y=msd_bm['msd'], mode='lines', name='MSD BM6'))\n",
    "fig.add_trace(go.Scatter(x=msd_crw['tau'], y=msd_crw['msd'], mode='lines', name='MSD CRW6 c=0.9'))\n",
    "\n",
    "fig.update_layout(\n",
    "    title='Mean Squared Displacement - (BM vs CRW)',\n",
    "    xaxis_title='Time',\n",
    "    yaxis_title='MSD',\n",
    "    hovermode='x unified',\n",
    "    height=600\n",
    ")\n",
    "fig.show()"
   ]
  },
  {
   "cell_type": "markdown",
   "metadata": {},
   "source": [
    "# Activity 3: Turning-angle Distribution - (source dist. vs observed dist.)"
   ]
  },
  {
   "cell_type": "markdown",
   "metadata": {},
   "source": [
    "- Consider two **CRW** trajectories with different **Cauchy coefficients.**\n",
    "- Write a function that returns the **turning angles** for a given trajectory.\n",
    "- Compare the observed distribution **(histogram)** to the source distribution (**curve**) for\n",
    "both trajectories, as shown in the figure below.\n",
    "- Display the results using **plotly.**"
   ]
  },
  {
   "cell_type": "markdown",
   "metadata": {},
   "source": [
    "# FUNCTIONS"
   ]
  },
  {
   "cell_type": "code",
   "execution_count": 68,
   "metadata": {},
   "outputs": [],
   "source": [
    "#####################################################################################\n",
    "# Turning angles\n",
    "#####################################################################################\n",
    "def turning_angles(trajectory_df):\n",
    "    \"\"\"    \n",
    "    Arguments\n",
    "    -----------\n",
    "        trajectory_df: DataFrame with 'x' and 'y' columns\n",
    "    \n",
    "    Returns\n",
    "    -----------\n",
    "        numpy: Array of turning angles\n",
    "    \"\"\"\n",
    "    x = trajectory_df['x'].values\n",
    "    y = trajectory_df['y'].values\n",
    "    \n",
    "    # Calculate directions (angles) between consecutive points\n",
    "    dx = np.diff(x)\n",
    "    dy = np.diff(y)\n",
    "    directions = np.arctan2(dy, dx)\n",
    "    \n",
    "    # Calculate turning angles (differences between consecutive directions)\n",
    "    turning_angles = np.diff(directions)\n",
    "    \n",
    "    # Normalize angles to be between -π and π\n",
    "    turning_angles = np.mod(turning_angles + np.pi, 2 * np.pi) - np.pi\n",
    "    \n",
    "    return turning_angles"
   ]
  },
  {
   "cell_type": "code",
   "execution_count": 69,
   "metadata": {},
   "outputs": [],
   "source": [
    "#####################################################################################\n",
    "# Cauchy distribution\n",
    "#####################################################################################\n",
    "def cauchy_pdf(x, gamma):\n",
    "    \"\"\"\n",
    "    Arguments\n",
    "    -----------\n",
    "        x: Points at which to evaluate the PDF\n",
    "        gamma: Scale parameter\n",
    "    \n",
    "    Returns\n",
    "    -----------\n",
    "        PDF values\n",
    "    \"\"\"\n",
    "    return 1 / (np.pi * gamma * (1 + (x / gamma)**2))"
   ]
  },
  {
   "cell_type": "code",
   "execution_count": 228,
   "metadata": {},
   "outputs": [],
   "source": [
    "#####################################################################################\n",
    "# Plotting turning angle distributions\n",
    "#####################################################################################\n",
    "def plot_turning_angle_distributions(trajectories, coefficients, bins=50):\n",
    "    \"\"\"    \n",
    "    Arguments\n",
    "    -----------\n",
    "        trajectories: List of trajectory DataFrames\n",
    "        coefficients: List of correlation coefficients used to generate the trajectories\n",
    "        bins: Number of bins for the histograms\n",
    "    \n",
    "    Returns\n",
    "    -----------\n",
    "        plotly.graph_objects.Figure: Figure with the distributions\n",
    "    \"\"\"\n",
    "    colors = ['blue', 'red']\n",
    "    \n",
    "    # Create a figure\n",
    "    fig = go.Figure()\n",
    "    \n",
    "    # Range for the x-axis\n",
    "    x_range = np.linspace(-3, 3, 1000)\n",
    "    \n",
    "    for i, (trajectory, coef) in enumerate(zip(trajectories, coefficients)):\n",
    "        # Extract turning angles\n",
    "        t_angles = turning_angles(trajectory)\n",
    "        \n",
    "        # Compute histogram values for the observed distribution\n",
    "        hist_values, bin_edges = np.histogram(t_angles, bins=bins*3, density=True, range=(-3, 3)) \n",
    "        bin_centers = (bin_edges[:-1] + bin_edges[1:]) / 2\n",
    "        \n",
    "        # Plot observed distribution (histogram)\n",
    "        fig.add_trace(\n",
    "            go.Bar(\n",
    "                x=bin_centers,\n",
    "                y=hist_values,\n",
    "                name=f'observed_{coef}',\n",
    "                marker_color=colors[i],\n",
    "                opacity=0.5,\n",
    "            )\n",
    "        )\n",
    "        \n",
    "        gamma = np.sqrt(1 - coef**2)  # Standard deviation for the normal distribution\n",
    "        \n",
    "        # Convert normal distribution to match scale\n",
    "        theory_values = 1/(gamma * np.sqrt(2 * np.pi)) * np.exp(-(x_range**2)/(2 * gamma**2))\n",
    "        \n",
    "        fig.add_trace(\n",
    "            go.Scatter(\n",
    "                x=x_range,\n",
    "                y=theory_values,\n",
    "                mode='lines',\n",
    "                name=f'cauchy_{coef}', \n",
    "                line=dict(color=colors[i], width=2)\n",
    "            )\n",
    "        )\n",
    "    \n",
    "    # Update layout\n",
    "    fig.update_layout(\n",
    "        title='Turning-angle Distribution - Source vs Observed',\n",
    "        xaxis_title='Turning Angle (radians)',\n",
    "        yaxis_title='Density',\n",
    "        legend_title='Distributions',\n",
    "        height=600,\n",
    "        plot_bgcolor='rgba(240, 248, 255, 0.5)'\n",
    "    )\n",
    "    \n",
    "    return fig"
   ]
  },
  {
   "cell_type": "markdown",
   "metadata": {},
   "source": [
    "# GENERATE TRAJECTORIES AND PLOTING"
   ]
  },
  {
   "cell_type": "code",
   "execution_count": 227,
   "metadata": {},
   "outputs": [
    {
     "data": {
      "application/vnd.plotly.v1+json": {
       "config": {
        "plotlyServerURL": "https://plot.ly"
       },
       "data": [
        {
         "marker": {
          "color": "blue"
         },
         "name": "observed_0.6",
         "opacity": 0.5,
         "type": "bar",
         "x": {
          "bdata": "16NwPQrXB8CF61G4HoUHwDMzMzMzMwfA4XoUrkfhBsCPwvUoXI8GwD0K16NwPQbA61G4HoXrBcCamZmZmZkFwEjhehSuRwXA9ihcj8L1BMCkcD0K16MEwFK4HoXrUQTAAAAAAAAABMCuR+F6FK4DwFyPwvUoXAPACtejcD0KA8C4HoXrUbgCwGZmZmZmZgLAFa5H4XoUAsDD9Shcj8IBwHE9CtejcAHAH4XrUbgeAcDNzMzMzMwAwHsUrkfhegDAKVyPwvUoAMCuR+F6FK7/vwrXo3A9Cv+/ZmZmZmZm/r/C9Shcj8L9vx+F61G4Hv2/exSuR+F6/L/Xo3A9Ctf7vzMzMzMzM/u/j8L1KFyP+r/rUbgehev5v0jhehSuR/m/pHA9Ctej+L8AAAAAAAD4v1yPwvUoXPe/uB6F61G49r8UrkfhehT2v3A9CtejcPW/zczMzMzM9L8pXI/C9Sj0v4XrUbgehfO/4XoUrkfh8r89CtejcD3yv5qZmZmZmfG/9ihcj8L18L9SuB6F61Hwv1yPwvUoXO+/FK5H4XoU7r/MzMzMzMzsv4TrUbgeheu/PArXo3A96r/0KFyPwvXov6xH4XoUrue/ZmZmZmZm5r8ghetRuB7lv9ijcD0K1+O/kML1KFyP4r9I4XoUrkfhvwAAAAAAAOC/cD0K16Nw3b/gehSuR+Hav1C4HoXrUdi/wPUoXI/C1b8wMzMzMzPTv6BwPQrXo9C/IFyPwvUozL8I16NwPQrHv/BRuB6F68G/oJmZmZmZub/AHoXrUbiuv4AUrkfhepS/gBSuR+F6lD/AHoXrUbiuP6CZmZmZmbk/8FG4HoXrwT8Q16NwPQrHPzBcj8L1KMw/qHA9Ctej0D84MzMzMzPTP8T1KFyPwtU/ULgehetR2D/gehSuR+HaP3A9CtejcN0/AAAAAAAA4D9I4XoUrkfhP5DC9Shcj+I/2KNwPQrX4z8ghetRuB7lP2hmZmZmZuY/sEfhehSu5z/4KFyPwvXoPz4K16NwPeo/hOtRuB6F6z/MzMzMzMzsPxSuR+F6FO4/XI/C9Shc7z9SuB6F61HwP/YoXI/C9fA/mpmZmZmZ8T8+CtejcD3yP+J6FK5H4fI/hutRuB6F8z8qXI/C9Sj0P87MzMzMzPQ/cj0K16Nw9T8WrkfhehT2P7oehetRuPY/Xo/C9Shc9z8CAAAAAAD4P6ZwPQrXo/g/SuF6FK5H+T/sUbgehev5P47C9Shcj/o/MjMzMzMz+z/Wo3A9Ctf7P3oUrkfhevw/HoXrUbge/T/C9Shcj8L9P2ZmZmZmZv4/CtejcD0K/z+uR+F6FK7/Pylcj8L1KABAexSuR+F6AEDNzMzMzMwAQB+F61G4HgFAcT0K16NwAUDD9Shcj8IBQBWuR+F6FAJAZ2ZmZmZmAkC5HoXrUbgCQAvXo3A9CgNAXY/C9ShcA0CvR+F6FK4DQAEAAAAAAARAU7gehetRBEClcD0K16MEQPYoXI/C9QRAR+F6FK5HBUCZmZmZmZkFQOtRuB6F6wVAPQrXo3A9BkCPwvUoXI8GQOF6FK5H4QZAMzMzMzMzB0CF61G4HoUHQNejcD0K1wdA",
          "dtype": "f8"
         },
         "y": {
          "bdata": "AAAAAAAAAAAAAAAAAAAAAAAAAAAAAAAAAAAAAAAAAAAAAAAAAAAAAAAAAAAAAAAAAAAAAAAAAAAAAAAAAAAAAAAAAAAAAAAAAAAAAAAAAAAAAAAAAAAAAPyZQQApoKk/AAAAAAAAAAD8mUEAKaCZPwAAAAAAAAAAAAAAAAAAAAAAAAAAAAAAAAAAAAAAAAAA/JlBACmgmT8AAAAAAAAAAPyZQQApoJk/AAAAAAAAAAB9MzHAHjizPwAAAAAAAAAA/JlBACmgqT99MzHAHjizP/yZQQApoKk/AAAAAAAAAAAAAAAAAAAAAPyZQQApoKk//JlBACmgqT8AAAAAAAAAAD4AKaAZBMA//JlBACmgqT99MzHAHjizP5wzMcAeOLM//JlBACmguT/8mUEAKaC5P30zMcAeOLM/fTMxwB44sz+9ZjngI2zGP5wzMcAeONM/PgApoBkEwD8+ACmgGQTAPzzNSSAu1Mw/PgApoBkE0D+9ZjngI2zGPySaQQApoLk/PgApoBkE0D/8mUEAKaDJPz4AKaAZBNA/vWY54CNsxj88zUkgLtTMPx1NNVAh0tQ/fTMxwB440z8dTTVQIdLUPx1NNVAh0tQ/Xk01UCHS1D+9ZjngI2zWP94ZLTAcntE/XIA9cCYG2D+cs0WQKzrbP1yAPXAmBtg/PgApoBkE4D/c5k2wMG7ePzzNSSAu1Nw/PgApoBkE0D9cgD1wJgbYP9zmTbAwbt4/3hktMBye4T/nJi94HWviPz4AKaAZBOA/3hktMBye4T/eGS0wHJ7hP1yAPXAmBtg/TUAzCCAF5D8+ACmgGQTgP71mOeAjbOY/riYveB1r4j8dTTVQIdLUP9zmTbAwbt4/Dg0r6BrR4D/8mUEAKaDZP0yaQQApoNk/3hktMBye0T+9ZjngI2zGPw4NK+ga0eA/vWY54CNs1j/c5k2wMG7ePz4AKaAZBOA/PM1JIC7U3D/eGS0wHJ7RP/yZQQApoMk/HU01UCHS1D/8mUEAKaDJPwNnOeAjbNY/HU01UCHS1D+9ZjngI2zWP/yZQQApoMk/fTMxwB44wz+9ZjngI2zGP/yZQQApoLk/vWY54CNsxj8+ACmgGQTQP71mOeAjbMY//JlBACmguT88zUkgLtTMPz4AKaAZBMA/PM1JIC7UzD8+ACmgGQTAPz4AKaAZBMA/fTMxwB44sz99MzHAHjizP30zMcAeOLM/AAAAAAAAAACcmkEAKaCpP/yZQQApoLk//JlBACmgqT8AAAAAAAAAAD4AKaAZBMA//JlBACmgqT8AAAAAAAAAAAAAAAAAAAAAAAAAAAAAAAAAAAAAAAAAAPyZQQApoKk//JlBACmgqT8AAAAAAAAAAPyZQQApoJk/AAAAAAAAAAD8mUEAKaCZPwAAAAAAAAAAAAAAAAAAAAAAAAAAAAAAAAAAAAAAAAAAAAAAAAAAAAAAAAAAAAAAAAAAAAAAAAAA/JlBACmgmT8AAAAAAAAAAAAAAAAAAAAAAAAAAAAAAAAAAAAAAAAAAAAAAAAAAAAAAAAAAAAAAAAAAAAAAAAAAAAAAAAAAAAAAAAAAAAAAAAAAAAAAAAAAAAAAAAAAAAA",
          "dtype": "f8"
         }
        },
        {
         "line": {
          "color": "blue",
          "width": 2
         },
         "mode": "lines",
         "name": "cauchy_0.6",
         "type": "scatter",
         "x": {
          "bdata": "AAAAAAAACMA7/4Qfs/MHwHb+CT9m5wfAsv2OXhnbB8Dt/BN+zM4HwCj8mJ1/wgfAY/sdvTK2B8Ce+qLc5akHwNr5J/yYnQfAFfmsG0yRB8BQ+DE7/4QHwIv3tlqyeAfAxvY7emVsB8AC9sCZGGAHwD31RbnLUwfAePTK2H5HB8Cz80/4MTsHwO7y1BflLgfAKvJZN5giB8Bl8d5WSxYHwKDwY3b+CQfA2+/olbH9BsAW7221ZPEGwFLu8tQX5QbAje139MrYBsDI7PwTfswGwAPsgTMxwAbAPusGU+SzBsB66otyl6cGwLXpEJJKmwbA8OiVsf2OBsAr6BrRsIIGwGbnn/BjdgbAoeYkEBdqBsDd5akvyl0GwBjlLk99UQbAU+SzbjBFBsCO4ziO4zgGwMniva2WLAbABeJCzUkgBsBA4cfs/BMGwHvgTAywBwbAtt/RK2P7BcDx3lZLFu8FwC3e22rJ4gXAaN1ginzWBcCj3OWpL8oFwN7basnivQXAGdvv6JWxBcBV2nQISaUFwJDZ+Sf8mAXAy9h+R6+MBcAG2ANnYoAFwEHXiIYVdAXAfNYNpshnBcC41ZLFe1sFwPPUF+UuTwXALtScBOJCBcBp0yEklTYFwKTSpkNIKgXA4NErY/sdBcAb0bCCrhEFwFbQNaJhBQXAkc+6wRT5BMDMzj/hx+wEwAjOxAB74ATAQ81JIC7UBMB+zM4/4ccEwLnLU1+UuwTA9MrYfkevBMAwyl2e+qIEwGvJ4r2tlgTApshn3WCKBMDhx+z8E34EwBzHcRzHcQTAWMb2O3plBMCTxXtbLVkEwM7EAHvgTATACcSFmpNABMBEwwq6RjQEwIDCj9n5JwTAu8EU+awbBMD2wJkYYA8EwDHAHjgTAwTAbL+jV8b2A8Covih3eeoDwOO9rZYs3gPAHr0ytt/RA8BZvLfVksUDwJS7PPVFuQPA0LrBFPmsA8ALukY0rKADwEa5y1NflAPAgbhQcxKIA8C8t9WSxXsDwPi2WrJ4bwPAM7bf0StjA8ButWTx3lYDwKm06RCSSgPA5LNuMEU+A8Ags/NP+DEDwFuyeG+rJQPAlrH9jl4ZA8DRsIKuEQ0DwAywB87EAAPASK+M7Xf0AsCDrhENK+gCwL6tlize2wLA+awbTJHPAsA0rKBrRMMCwHCrJYv3tgLAq6qqqqqqAsDmqS/KXZ4CwCGptOkQkgLAXKg5CcSFAsCYp74od3kCwNOmQ0gqbQLADqbIZ91gAsBJpU2HkFQCwISk0qZDSALAwKNXxvY7AsD7otzlqS8CwDaiYQVdIwLAcaHmJBAXAsCsoGtEwwoCwOif8GN2/gHAIp91gynyAcBenvqi3OUBwJmdf8KP2QHA1JwE4kLNAcAQnIkB9sABwEqbDiGptAHAhpqTQFyoAcDBmRhgD5wBwPyYnX/CjwHAN5gin3WDAcByl6e+KHcBwK6WLN7bagHA6ZWx/Y5eAcAklTYdQlIBwF+Uuzz1RQHAmpNAXKg5AcDWksV7Wy0BwBGSSpsOIQHATJHPusEUAcCHkFTadAgBwMKP2fkn/ADA/o5eGdvvAMA5juM4juMAwHSNaFhB1wDAr4ztd/TKAMDqi3KXp74AwCaL97ZasgDAYYp81g2mAMCciQH2wJkAwNeIhhV0jQDAEogLNSeBAMBOh5BU2nQAwImGFXSNaADAxIWak0BcAMD/hB+z808AwDqEpNKmQwDAdoMp8lk3AMCxgq4RDSsAwOyBMzHAHgDAJ4G4UHMSAMBigD1wJgYAwDv/hB+z8/+/sv2OXhnb/78o/Jidf8L/v576otzlqf+/FfmsG0yR/7+L97Zasnj/vwL2wJkYYP+/ePTK2H5H/7/u8tQX5S7/v2Xx3lZLFv+/2+/olbH9/r9S7vLUF+X+v8js/BN+zP6/PusGU+Sz/r+16RCSSpv+vyvoGtGwgv6/oeYkEBdq/r8Y5S5PfVH+v47jOI7jOP6/BeJCzUkg/r974EwMsAf+v/HeVksW7/2/aN1ginzW/b/e22rJ4r39v1XadAhJpf2/y9h+R6+M/b9B14iGFXT9v7jVksV7W/2/LtScBOJC/b+l0qZDSCr9vxvRsIKuEf2/kc+6wRT5/L8IzsQAe+D8v37Mzj/hx/y/9crYfkev/L9ryeK9rZb8v+HH7PwTfvy/WMb2O3pl/L/OxAB74Ez8v0TDCrpGNPy/u8EU+awb/L8xwB44EwP8v6i+KHd56vu/Hr0ytt/R+7+Uuzz1Rbn7vwu6RjSsoPu/gbhQcxKI+7/4tlqyeG/7v261ZPHeVvu/5LNuMEU++79bsnhvqyX7v9Gwgq4RDfu/SK+M7Xf0+r++rZYs3tv6vzSsoGtEw/q/q6qqqqqq+r8hqbTpEJL6v5invih3efq/DqbIZ91g+r+EpNKmQ0j6v/ui3OWpL/q/caHmJBAX+r/nn/Bjdv75v16e+qLc5fm/1JwE4kLN+b9Lmw4hqbT5v8GZGGAPnPm/N5gin3WD+b+ulize22r5vySVNh1CUvm/m5NAXKg5+b8RkkqbDiH5v4eQVNp0CPm//o5eGdvv+L90jWhYQdf4v+uLcpenvvi/YYp81g2m+L/XiIYVdI34v06HkFTadPi/xIWak0Bc+L86hKTSpkP4v7GCrhENK/i/J4G4UHMS+L+ef8KP2fn3vxR+zM4/4fe/inzWDabI978Be+BMDLD3v3d56otyl/e/7nf0yth+979kdv4JP2b3v9p0CEmlTfe/UXMSiAs197/HcRzHcRz3vz5wJgbYA/e/tG4wRT7r9r8qbTqEpNL2v6FrRMMKuva/F2pOAnGh9r+OaFhB14j2vwRnYoA9cPa/emVsv6NX9r/xY3b+CT/2v2digD1wJva/3WCKfNYN9r9UX5S7PPX1v8pdnvqi3PW/QVyoOQnE9b+3WrJ4b6v1vy1ZvLfVkvW/pFfG9jt69b8aVtA1omH1v5FU2nQISfW/B1Pks24w9b99Ue7y1Bf1v/RP+DE7//S/ak4CcaHm9L/hTAywB870v1dLFu9ttfS/zUkgLtSc9L9ESCptOoT0v7pGNKyga/S/MEU+6wZT9L+nQ0gqbTr0vx1CUmnTIfS/lEBcqDkJ9L8KP2bnn/Dzv4A9cCYG2PO/9zt6ZWy/879tOoSk0qbzv+Q4juM4jvO/WjeYIp9187/QNaJhBV3zv0c0rKBrRPO/vTK239Er8780McAeOBPzv6ovyl2e+vK/IC7UnATi8r+XLN7basnyvw0r6BrRsPK/hCnyWTeY8r/6J/yYnX/yv3AmBtgDZ/K/5yQQF2pO8r9dIxpW0DXyv9MhJJU2HfK/SiAu1JwE8r/AHjgTA+zxvzcdQlJp0/G/rRtMkc+68b8jGlbQNaLxv5oYYA+cifG/EBdqTgJx8b+HFXSNaFjxv/0TfszOP/G/cxKICzUn8b/qEJJKmw7xv2APnIkB9vC/1w2myGfd8L9NDLAHzsTwv8MKukY0rPC/OgnEhZqT8L+wB87EAHvwvycG2ANnYvC/nQTiQs1J8L8TA+yBMzHwv4oB9sCZGPC/AAAAAAAA8L/s/BN+zM7vv9j5J/yYne+/yPY7emVs77+080/4MTvvv6DwY3b+Ce+/jO139MrY7r946otyl6fuv2jnn/Bjdu6/VOSzbjBF7r9A4cfs/BPuvyze22rJ4u2/GNvv6JWx7b8I2ANnYoDtv/TUF+UuT+2/4NErY/sd7b/Mzj/hx+zsv7jLU1+Uu+y/qMhn3WCK7L+UxXtbLVnsv4DCj9n5J+y/bL+jV8b2679YvLfVksXrv0i5y1NflOu/NLbf0Stj678gs/NP+DHrvwywB87EAOu/+KwbTJHP6r/oqS/KXZ7qv9SmQ0gqbeq/wKNXxvY76r+soGtEwwrqv5idf8KP2em/hJqTQFyo6b90l6e+KHfpv2CUuzz1Rem/TJHPusEU6b84juM4juPovySL97Zasui/FIgLNSeB6L8AhR+z80/ov+yBMzHAHui/2H5Hr4zt57/Ee1stWbznv7R4b6sli+e/oHWDKfJZ57+Mcpenvijnv3hvqyWL9+a/ZGy/o1fG5r9UadMhJJXmv0Bm55/wY+a/LGP7Hb0y5r8YYA+ciQHmvwRdIxpW0OW/9Fk3mCKf5b/gVksW723lv8xTX5S7POW/uFBzEogL5b+kTYeQVNrkv5RKmw4hqeS/gEevjO135L9sRMMKukbkv1hB14iGFeS/RD7rBlPk4780O/+EH7PjvyA4EwPsgeO/DDUngbhQ47/4MTv/hB/jv+QuT31R7uK/1Ctj+x294r/AKHd56oviv6wli/e2WuK/mCKfdYMp4r+EH7PzT/jhv3Acx3Ecx+G/YBnb7+iV4b9MFu9ttWThvzgTA+yBM+G/JBAXak4C4b8QDSvoGtHgvwAKP2bnn+C/7AZT5LNu4L/YA2digD3gv8QAe+BMDOC/YPsdvTK2379A9UW5y1PfvxjvbbVk8d6/8OiVsf2O3r/I4r2tlizev6Dc5akvyt2/gNYNpshn3b9Y0DWiYQXdvzDKXZ76oty/CMSFmpNA3L/gva2WLN7bv8C31ZLFe9u/mLH9jl4Z279wqyWL97bav0ilTYeQVNq/IJ91gyny2b8AmZ1/wo/Zv9iSxXtbLdm/sIztd/TK2L+IhhV0jWjYv2CAPXAmBti/QHplbL+j178YdI1oWEHXv/BttWTx3ta/yGfdYIp81r+gYQVdIxrWv4BbLVm8t9W/WFVVVVVV1b8wT31R7vLUvwhJpU2HkNS/4ELNSSAu1L/APPVFucvTv5g2HUJSadO/cDBFPusG079IKm06hKTSvyAklTYdQtK/+B29Mrbf0b/YF+UuT33Rv7ARDSvoGtG/iAs1J4G40L9gBV0jGlbQv3D+CT9m58+/MPJZN5giz7/g5akvyl3Ov5DZ+Sf8mM2/QM1JIC7UzL/wwJkYYA/Mv7C06RCSSsu/YKg5CcSFyr8QnIkB9sDJv8CP2fkn/Mi/cIMp8lk3yL8wd3nqi3LHv+BqyeK9rca/kF4Z2+/oxb9AUmnTISTFv/BFuctTX8S/sDkJxIWaw79gLVm8t9XCvxAhqbTpEMK/wBT5rBtMwb9wCEmlTYfAv2D4MTv/hL+/wN/RK2P7vb8gx3Ecx3G8v4CuEQ0r6Lq/4JWx/Y5eub9gfVHu8tS3v8Bk8d5WS7a/IEyRz7rBtL+AMzHAHjizv+Aa0bCCrrG/YAJxoeYksL+A0yEklTatv0CiYQVdI6q/AHGh5iQQp7/AP+HH7Pyjv4AOIam06aC/ALvBFPmsm7+AWEHXiIaVvwDsgTMxwI6/ACeBuFBzgr8AiAH2wJlovwCIAfbAmWg/ACeBuFBzgj8A7IEzMcCOP4BYQdeIhpU/ALvBFPmsmz+ADiGptOmgP8A/4cfs/KM/AHGh5iQQpz9AomEFXSOqP4DTISSVNq0/QAJxoeYksD/gGtGwgq6xP4AzMcAeOLM/IEyRz7rBtD/AZPHeVku2P0B9Ue7y1Lc/4JWx/Y5euT+ArhENK+i6PyDHcRzHcbw/wN/RK2P7vT9A+DE7/4S/P3AISaVNh8A/wBT5rBtMwT8QIam06RDCP2AtWby31cI/oDkJxIWawz/wRbnLU1/EP0BSadMhJMU/kF4Z2+/oxT/gasniva3GPyB3eeqLcsc/cIMp8lk3yD/Aj9n5J/zIPxCciQH2wMk/YKg5CcSFyj+wtOkQkkrLP/DAmRhgD8w/QM1JIC7UzD+Q2fkn/JjNP+DlqS/KXc4/MPJZN5gizz9w/gk/ZufPP2AFXSMaVtA/iAs1J4G40D+wEQ0r6BrRP9gX5S5PfdE/+B29Mrbf0T8gJJU2HULSP0gqbTqEpNI/cDBFPusG0z+YNh1CUmnTP7g89UW5y9M/4ELNSSAu1D8ISaVNh5DUPzBPfVHu8tQ/WFVVVVVV1T94Wy1ZvLfVP6BhBV0jGtY/yGfdYIp81j/wbbVk8d7WPxh0jWhYQdc/OHplbL+j1z9ggD1wJgbYP4iGFXSNaNg/sIztd/TK2D/YksV7Wy3ZP/iYnX/Cj9k/IJ91gyny2T9IpU2HkFTaP3CrJYv3tto/mLH9jl4Z2z+4t9WSxXvbP+C9rZYs3ts/CMSFmpNA3D8wyl2e+qLcP1jQNaJhBd0/gNYNpshn3T+g3OWpL8rdP8jiva2WLN4/8OiVsf2O3j8Y7221ZPHeP0D1RbnLU98/YPsdvTK23z/EAHvgTAzgP9gDZ2KAPeA/7AZT5LNu4D8ACj9m55/gPxANK+ga0eA/JBAXak4C4T84EwPsgTPhP0wW7221ZOE/YBnb7+iV4T9wHMdxHMfhP4Qfs/NP+OE/mCKfdYMp4j+sJYv3tlriP8Aod3nqi+I/0Ctj+x294j/kLk99Ue7iP/gxO/+EH+M/DDUngbhQ4z8gOBMD7IHjPzA7/4Qfs+M/RD7rBlPk4z9YQdeIhhXkP2xEwwq6RuQ/gEevjO135D+QSpsOIankP6RNh5BU2uQ/uFBzEogL5T/MU1+UuzzlP+BWSxbvbeU/8Fk3mCKf5T8EXSMaVtDlPxhgD5yJAeY/LGP7Hb0y5j9AZuef8GPmP1Bp0yEkleY/ZGy/o1fG5j94b6sli/fmP4xyl6e+KOc/oHWDKfJZ5z+0eG+rJYvnP8R7Wy1ZvOc/2H5Hr4zt5z/sgTMxwB7oPwCFH7PzT+g/FIgLNSeB6D8ki/e2WrLoPziO4ziO4+g/TJHPusEU6T9glLs89UXpP3SXp74od+k/hJqTQFyo6T+YnX/Cj9npP6yga0TDCuo/wKNXxvY76j/UpkNIKm3qP+SpL8pdnuo/+KwbTJHP6j8MsAfOxADrPyCz80/4Mes/NLbf0Stj6z9EuctTX5TrP1i8t9WSxes/bL+jV8b26z+Awo/Z+SfsP5TFe1stWew/pMhn3WCK7D+4y1NflLvsP8zOP+HH7Ow/4NErY/sd7T/01BflLk/tPwTYA2digO0/GNvv6JWx7T8s3ttqyeLtP0Dhx+z8E+4/VOSzbjBF7j9k55/wY3buP3jqi3KXp+4/jO139MrY7j+g8GN2/gnvP7TzT/gxO+8/yPY7emVs7z/Y+Sf8mJ3vP+z8E37Mzu8/AAAAAAAA8D+IAfbAmRjwPxQD7IEzMfA/nATiQs1J8D8oBtgDZ2LwP7AHzsQAe/A/OAnEhZqT8D/ECrpGNKzwP0wMsAfOxPA/2A2myGfd8D9gD5yJAfbwP+gQkkqbDvE/dBKICzUn8T/8E37Mzj/xP4gVdI1oWPE/EBdqTgJx8T+YGGAPnInxPyQaVtA1ovE/rBtMkc+68T84HUJSadPxP8AeOBMD7PE/SCAu1JwE8j/UISSVNh3yP1wjGlbQNfI/6CQQF2pO8j9wJgbYA2fyP/gn/Jidf/I/hCnyWTeY8j8MK+ga0bDyP5gs3ttqyfI/IC7UnATi8j+oL8pdnvryPzQxwB44E/M/vDK239Er8z9INKyga0TzP9A1omEFXfM/WDeYIp918z/kOI7jOI7zP2w6hKTSpvM/+Dt6ZWy/8z+APXAmBtjzPwg/Zuef8PM/lEBcqDkJ9D8cQlJp0yH0P6hDSCptOvQ/MEU+6wZT9D+4RjSsoGv0P0RIKm06hPQ/zEkgLtSc9D9YSxbvbbX0P+BMDLAHzvQ/aE4CcaHm9D/0T/gxO//0P3xR7vLUF/U/CFPks24w9T+QVNp0CEn1PxhW0DWiYfU/pFfG9jt69T8sWby31ZL1P7hasnhvq/U/QFyoOQnE9T/MXZ76otz1P1RflLs89fU/3GCKfNYN9j9oYoA9cCb2P/Bjdv4JP/Y/fGVsv6NX9j8EZ2KAPXD2P4xoWEHXiPY/GGpOAnGh9j+ga0TDCrr2PyxtOoSk0vY/tG4wRT7r9j88cCYG2AP3P8hxHMdxHPc/UHMSiAs19z/cdAhJpU33P2R2/gk/Zvc/7Hf0yth+9z94eeqLcpf3PwB74EwMsPc/jHzWDabI9z8UfszOP+H3P5x/wo/Z+fc/KIG4UHMS+D+wgq4RDSv4PzyEpNKmQ/g/xIWak0Bc+D9Mh5BU2nT4P9iIhhV0jfg/YIp81g2m+D/si3KXp774P3SNaFhB1/g//I5eGdvv+D+IkFTadAj5PxCSSpsOIfk/nJNAXKg5+T8klTYdQlL5P6yWLN7bavk/OJgin3WD+T/AmRhgD5z5P0ybDiGptPk/1JwE4kLN+T9cnvqi3OX5P+if8GN2/vk/cKHmJBAX+j/8otzlqS/6P4Sk0qZDSPo/DKbIZ91g+j+Yp74od3n6PyCptOkQkvo/rKqqqqqq+j80rKBrRMP6P7ytlize2/o/SK+M7Xf0+j/QsIKuEQ37P1yyeG+rJfs/5LNuMEU++z9stWTx3lb7P/i2WrJ4b/s/gLhQcxKI+z8MukY0rKD7P5S7PPVFufs/HL0ytt/R+z+ovih3eer7PzDAHjgTA/w/vMEU+awb/D9Ewwq6RjT8P8zEAHvgTPw/WMb2O3pl/D/gx+z8E378P2zJ4r2tlvw/9MrYfkev/D98zM4/4cf8PwjOxAB74Pw/kM+6wRT5/D8c0bCCrhH9P6TSpkNIKv0/LNScBOJC/T+41ZLFe1v9P0DXiIYVdP0/zNh+R6+M/T9U2nQISaX9P9zbasnivf0/aN1ginzW/T/w3lZLFu/9P3zgTAywB/4/BOJCzUkg/j+Q4ziO4zj+PxjlLk99Uf4/oOYkEBdq/j8s6BrRsIL+P7TpEJJKm/4/QOsGU+Sz/j/I7PwTfsz+P1Du8tQX5f4/3O/olbH9/j9k8d5WSxb/P/Dy1BflLv8/ePTK2H5H/z8A9sCZGGD/P4z3tlqyeP8/FPmsG0yR/z+g+qLc5an/Pyj8mJ1/wv8/sP2OXhnb/z88/4Qfs/P/P2KAPXAmBgBAKIG4UHMSAEDsgTMxwB4AQLCCrhENKwBAdoMp8lk3AEA6hKTSpkMAQACFH7PzTwBAxIWak0BcAECIhhV0jWgAQE6HkFTadABAEogLNSeBAEDYiIYVdI0AQJyJAfbAmQBAYIp81g2mAEAmi/e2WrIAQOqLcpenvgBAsIztd/TKAEB0jWhYQdcAQDiO4ziO4wBA/o5eGdvvAEDCj9n5J/wAQIiQVNp0CAFATJHPusEUAUAQkkqbDiEBQNaSxXtbLQFAmpNAXKg5AUBglLs89UUBQCSVNh1CUgFA6JWx/Y5eAUCulize22oBQHKXp74odwFAOJgin3WDAUD8mJ1/wo8BQMCZGGAPnAFAhpqTQFyoAUBKmw4hqbQBQBCciQH2wAFA1JwE4kLNAUCYnX/Cj9kBQF6e+qLc5QFAIp91gynyAUDon/Bjdv4BQKyga0TDCgJAcKHmJBAXAkA2omEFXSMCQPqi3OWpLwJAwKNXxvY7AkCEpNKmQ0gCQEilTYeQVAJADqbIZ91gAkDSpkNIKm0CQJinvih3eQJAXKg5CcSFAkAgqbTpEJICQOapL8pdngJAqqqqqqqqAkBwqyWL97YCQDSsoGtEwwJA+KwbTJHPAkC+rZYs3tsCQIKuEQ0r6AJASK+M7Xf0AkAMsAfOxAADQNCwgq4RDQNAlrH9jl4ZA0BasnhvqyUDQCCz80/4MQNA5LNuMEU+A0CqtOkQkkoDQG61ZPHeVgNAMrbf0StjA0D4tlqyeG8DQLy31ZLFewNAgrhQcxKIA0BGuctTX5QDQAq6RjSsoANA0LrBFPmsA0CUuzz1RbkDQFq8t9WSxQNAHr0ytt/RA0Diva2WLN4DQKi+KHd56gNAbL+jV8b2A0AywB44EwMEQPbAmRhgDwRAusEU+awbBECAwo/Z+ScEQETDCrpGNARACsSFmpNABEDOxAB74EwEQJLFe1stWQRAWMb2O3plBEAcx3Ecx3EEQOLH7PwTfgRApshn3WCKBEBqyeK9rZYEQDDKXZ76ogRA9MrYfkevBEC6y1NflLsEQH7Mzj/hxwRAQs1JIC7UBEAIzsQAe+AEQMzOP+HH7ARAks+6wRT5BEBW0DWiYQUFQBrRsIKuEQVA4NErY/sdBUCk0qZDSCoFQGrTISSVNgVALtScBOJCBUDy1BflLk8FQLjVksV7WwVAfNYNpshnBUBC14iGFXQFQAbYA2digAVAyth+R6+MBUCQ2fkn/JgFQFTadAhJpQVAGtvv6JWxBUDe22rJ4r0FQKLc5akvygVAaN1ginzWBUAs3ttqyeIFQPLeVksW7wVAtt/RK2P7BUB64EwMsAcGQEDhx+z8EwZABOJCzUkgBkDK4r2tliwGQI7jOI7jOAZAUuSzbjBFBkAY5S5PfVEGQNzlqS/KXQZAouYkEBdqBkBm55/wY3YGQCroGtGwggZA8OiVsf2OBkC06RCSSpsGQHrqi3KXpwZAPusGU+SzBkAC7IEzMcAGQMjs/BN+zAZAjO139MrYBkBS7vLUF+UGQBbvbbVk8QZA2u/olbH9BkCg8GN2/gkHQGTx3lZLFgdAKvJZN5giB0Du8tQX5S4HQLTzT/gxOwdAePTK2H5HB0A89UW5y1MHQAL2wJkYYAdAxvY7emVsB0CM97ZasngHQFD4MTv/hAdAFPmsG0yRB0Da+Sf8mJ0HQJ76otzlqQdAZPsdvTK2B0Ao/Jidf8IHQOz8E37MzgdAsv2OXhnbB0B2/gk/ZucHQDz/hB+z8wdAAAAAAAAACEA=",
          "dtype": "f8"
         },
         "y": {
          "bdata": "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",
          "dtype": "f8"
         }
        },
        {
         "marker": {
          "color": "red"
         },
         "name": "observed_0.9",
         "opacity": 0.5,
         "type": "bar",
         "x": {
          "bdata": "16NwPQrXB8CF61G4HoUHwDMzMzMzMwfA4XoUrkfhBsCPwvUoXI8GwD0K16NwPQbA61G4HoXrBcCamZmZmZkFwEjhehSuRwXA9ihcj8L1BMCkcD0K16MEwFK4HoXrUQTAAAAAAAAABMCuR+F6FK4DwFyPwvUoXAPACtejcD0KA8C4HoXrUbgCwGZmZmZmZgLAFa5H4XoUAsDD9Shcj8IBwHE9CtejcAHAH4XrUbgeAcDNzMzMzMwAwHsUrkfhegDAKVyPwvUoAMCuR+F6FK7/vwrXo3A9Cv+/ZmZmZmZm/r/C9Shcj8L9vx+F61G4Hv2/exSuR+F6/L/Xo3A9Ctf7vzMzMzMzM/u/j8L1KFyP+r/rUbgehev5v0jhehSuR/m/pHA9Ctej+L8AAAAAAAD4v1yPwvUoXPe/uB6F61G49r8UrkfhehT2v3A9CtejcPW/zczMzMzM9L8pXI/C9Sj0v4XrUbgehfO/4XoUrkfh8r89CtejcD3yv5qZmZmZmfG/9ihcj8L18L9SuB6F61Hwv1yPwvUoXO+/FK5H4XoU7r/MzMzMzMzsv4TrUbgeheu/PArXo3A96r/0KFyPwvXov6xH4XoUrue/ZmZmZmZm5r8ghetRuB7lv9ijcD0K1+O/kML1KFyP4r9I4XoUrkfhvwAAAAAAAOC/cD0K16Nw3b/gehSuR+Hav1C4HoXrUdi/wPUoXI/C1b8wMzMzMzPTv6BwPQrXo9C/IFyPwvUozL8I16NwPQrHv/BRuB6F68G/oJmZmZmZub/AHoXrUbiuv4AUrkfhepS/gBSuR+F6lD/AHoXrUbiuP6CZmZmZmbk/8FG4HoXrwT8Q16NwPQrHPzBcj8L1KMw/qHA9Ctej0D84MzMzMzPTP8T1KFyPwtU/ULgehetR2D/gehSuR+HaP3A9CtejcN0/AAAAAAAA4D9I4XoUrkfhP5DC9Shcj+I/2KNwPQrX4z8ghetRuB7lP2hmZmZmZuY/sEfhehSu5z/4KFyPwvXoPz4K16NwPeo/hOtRuB6F6z/MzMzMzMzsPxSuR+F6FO4/XI/C9Shc7z9SuB6F61HwP/YoXI/C9fA/mpmZmZmZ8T8+CtejcD3yP+J6FK5H4fI/hutRuB6F8z8qXI/C9Sj0P87MzMzMzPQ/cj0K16Nw9T8WrkfhehT2P7oehetRuPY/Xo/C9Shc9z8CAAAAAAD4P6ZwPQrXo/g/SuF6FK5H+T/sUbgehev5P47C9Shcj/o/MjMzMzMz+z/Wo3A9Ctf7P3oUrkfhevw/HoXrUbge/T/C9Shcj8L9P2ZmZmZmZv4/CtejcD0K/z+uR+F6FK7/Pylcj8L1KABAexSuR+F6AEDNzMzMzMwAQB+F61G4HgFAcT0K16NwAUDD9Shcj8IBQBWuR+F6FAJAZ2ZmZmZmAkC5HoXrUbgCQAvXo3A9CgNAXY/C9ShcA0CvR+F6FK4DQAEAAAAAAARAU7gehetRBEClcD0K16MEQPYoXI/C9QRAR+F6FK5HBUCZmZmZmZkFQOtRuB6F6wVAPQrXo3A9BkCPwvUoXI8GQOF6FK5H4QZAMzMzMzMzB0CF61G4HoUHQNejcD0K1wdA",
          "dtype": "f8"
         },
         "y": {
          "bdata": "AAAAAAAAAAAAAAAAAAAAAAAAAAAAAAAAAAAAAAAAAAAAAAAAAAAAAAAAAAAAAAAAAAAAAAAAAAAAAAAAAAAAAAAAAAAAAAAAAAAAAAAAAAAAAAAAAAAAAAAAAAAAAAAAAAAAAAAAAAAAAAAAAAAAAAAAAAAAAAAAAAAAAAAAAAAAAAAAAAAAAAAAAAAAAAAAAAAAAAAAAAAAAAAAAAAAAAAAAAAAAAAAAAAAAAAAAAAAAAAAAAAAAAAAAAAAAAAAAAAAAAAAAAAAAAAAAAAAAAAAAAAAAAAAAAAAAAAAAAAAAAAAAAAAAAAAAAAAAAAAAAAAAAAAAAAAAAAAAAAAAAAAAAAAAAAAAAAAAAAAAAAAAAAAAAAAAAAAAAAAAAAAAAAAAAAAAAAAAAAAAAAAAAAAAAAAAAAA/JlBACmgmT8AAAAAAAAAAAAAAAAAAAAAAAAAAAAAAAD8mUEAKaCZPwAAAAAAAAAAAAAAAAAAAAAAAAAAAAAAACSaQQApoKk/PgApoBkEwD99MzHAHjizP/yZQQApoKk//JlBACmguT88zUkgLtTMP71mOeAjbMY/fTMxwB44sz8+ACmgGQTQP94ZLTAcntE/8bNFkCs62z+9ZjngI2zGP94ZLTAcntE/vWY54CNs1j8ODSvoGtHgP/yZQQApoNk/vWY54CNs5j9cgD1wJgboP2zAR9gsB+w/HU01UCHS5D8dTTVQIdLkP5yzRZArOus/7Vk3mCKf5T/EwEfYLAfsPyyNP7gn0+g/3OZNsDBu7j/8mUEAKaDpP94ZLTAcnvE/nLNFkCs66z/MpkNIKm3qP9zmTbAwbu4/DNpLaC+h7T8dTTVQIdLkP2zAR9gsB+w//JlBACmg6T9cgD1wJgboP6eAPXAmBug/HU01UCHS1D/c5k2wMG7ePz4AKaAZBOA/riYveB1r4j88zUkgLtTcP94ZLTAcntE/HU01UCHS1D+9ZjngI2zWP/yZQQApoKk/PM1JIC7UzD99MzHAHjizP3AAKaAZBMA/vWY54CNsxj/8mUEAKaCZP30zMcAeOLM//JlBACmgmT8AAAAAAAAAAH0zMcAeOLM//JlBACmgmT/8mUEAKaCpP/yZQQApoKk//JlBACmgmT8AAAAAAAAAAAAAAAAAAAAA/JlBACmgqT8AAAAAAAAAAAAAAAAAAAAA/JlBACmgmT8AAAAAAAAAAAAAAAAAAAAAAAAAAAAAAAAAAAAAAAAAAAAAAAAAAAAAAAAAAAAAAAAAAAAAAAAAAAAAAAAAAAAAAAAAAAAAAAAAAAAAAAAAAAAAAAAAAAAAAAAAAAAAAAAAAAAAAAAAAAAAAAAAAAAAAAAAAAAAAAAAAAAAAAAAAAAAAAAAAAAAAAAAAAAAAAAAAAAAAAAAAAAAAAAAAAAAAAAAAAAAAAAAAAAAAAAAAAAAAAAAAAAAAAAAAAAAAAAAAAAAAAAAAAAAAAAAAAAAAAAAAAAAAAAAAAAAAAAAAAAAAAAAAAAAAAAAAAAAAAAAAAAAAAAAAAAAAAAAAAAAAAAAAAAAAAAAAAAAAAAAAAAAAAAAAAAAAAAAAAAAAAAAAAAAAAAAAAAAAAAAAAAA",
          "dtype": "f8"
         }
        },
        {
         "line": {
          "color": "red",
          "width": 2
         },
         "mode": "lines",
         "name": "cauchy_0.9",
         "type": "scatter",
         "x": {
          "bdata": "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",
          "dtype": "f8"
         },
         "y": {
          "bdata": "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",
          "dtype": "f8"
         }
        }
       ],
       "layout": {
        "height": 600,
        "legend": {
         "title": {
          "text": "Distributions"
         }
        },
        "plot_bgcolor": "rgba(240, 248, 255, 0.5)",
        "template": {
         "data": {
          "bar": [
           {
            "error_x": {
             "color": "#2a3f5f"
            },
            "error_y": {
             "color": "#2a3f5f"
            },
            "marker": {
             "line": {
              "color": "#E5ECF6",
              "width": 0.5
             },
             "pattern": {
              "fillmode": "overlay",
              "size": 10,
              "solidity": 0.2
             }
            },
            "type": "bar"
           }
          ],
          "barpolar": [
           {
            "marker": {
             "line": {
              "color": "#E5ECF6",
              "width": 0.5
             },
             "pattern": {
              "fillmode": "overlay",
              "size": 10,
              "solidity": 0.2
             }
            },
            "type": "barpolar"
           }
          ],
          "carpet": [
           {
            "aaxis": {
             "endlinecolor": "#2a3f5f",
             "gridcolor": "white",
             "linecolor": "white",
             "minorgridcolor": "white",
             "startlinecolor": "#2a3f5f"
            },
            "baxis": {
             "endlinecolor": "#2a3f5f",
             "gridcolor": "white",
             "linecolor": "white",
             "minorgridcolor": "white",
             "startlinecolor": "#2a3f5f"
            },
            "type": "carpet"
           }
          ],
          "choropleth": [
           {
            "colorbar": {
             "outlinewidth": 0,
             "ticks": ""
            },
            "type": "choropleth"
           }
          ],
          "contour": [
           {
            "colorbar": {
             "outlinewidth": 0,
             "ticks": ""
            },
            "colorscale": [
             [
              0,
              "#0d0887"
             ],
             [
              0.1111111111111111,
              "#46039f"
             ],
             [
              0.2222222222222222,
              "#7201a8"
             ],
             [
              0.3333333333333333,
              "#9c179e"
             ],
             [
              0.4444444444444444,
              "#bd3786"
             ],
             [
              0.5555555555555556,
              "#d8576b"
             ],
             [
              0.6666666666666666,
              "#ed7953"
             ],
             [
              0.7777777777777778,
              "#fb9f3a"
             ],
             [
              0.8888888888888888,
              "#fdca26"
             ],
             [
              1,
              "#f0f921"
             ]
            ],
            "type": "contour"
           }
          ],
          "contourcarpet": [
           {
            "colorbar": {
             "outlinewidth": 0,
             "ticks": ""
            },
            "type": "contourcarpet"
           }
          ],
          "heatmap": [
           {
            "colorbar": {
             "outlinewidth": 0,
             "ticks": ""
            },
            "colorscale": [
             [
              0,
              "#0d0887"
             ],
             [
              0.1111111111111111,
              "#46039f"
             ],
             [
              0.2222222222222222,
              "#7201a8"
             ],
             [
              0.3333333333333333,
              "#9c179e"
             ],
             [
              0.4444444444444444,
              "#bd3786"
             ],
             [
              0.5555555555555556,
              "#d8576b"
             ],
             [
              0.6666666666666666,
              "#ed7953"
             ],
             [
              0.7777777777777778,
              "#fb9f3a"
             ],
             [
              0.8888888888888888,
              "#fdca26"
             ],
             [
              1,
              "#f0f921"
             ]
            ],
            "type": "heatmap"
           }
          ],
          "histogram": [
           {
            "marker": {
             "pattern": {
              "fillmode": "overlay",
              "size": 10,
              "solidity": 0.2
             }
            },
            "type": "histogram"
           }
          ],
          "histogram2d": [
           {
            "colorbar": {
             "outlinewidth": 0,
             "ticks": ""
            },
            "colorscale": [
             [
              0,
              "#0d0887"
             ],
             [
              0.1111111111111111,
              "#46039f"
             ],
             [
              0.2222222222222222,
              "#7201a8"
             ],
             [
              0.3333333333333333,
              "#9c179e"
             ],
             [
              0.4444444444444444,
              "#bd3786"
             ],
             [
              0.5555555555555556,
              "#d8576b"
             ],
             [
              0.6666666666666666,
              "#ed7953"
             ],
             [
              0.7777777777777778,
              "#fb9f3a"
             ],
             [
              0.8888888888888888,
              "#fdca26"
             ],
             [
              1,
              "#f0f921"
             ]
            ],
            "type": "histogram2d"
           }
          ],
          "histogram2dcontour": [
           {
            "colorbar": {
             "outlinewidth": 0,
             "ticks": ""
            },
            "colorscale": [
             [
              0,
              "#0d0887"
             ],
             [
              0.1111111111111111,
              "#46039f"
             ],
             [
              0.2222222222222222,
              "#7201a8"
             ],
             [
              0.3333333333333333,
              "#9c179e"
             ],
             [
              0.4444444444444444,
              "#bd3786"
             ],
             [
              0.5555555555555556,
              "#d8576b"
             ],
             [
              0.6666666666666666,
              "#ed7953"
             ],
             [
              0.7777777777777778,
              "#fb9f3a"
             ],
             [
              0.8888888888888888,
              "#fdca26"
             ],
             [
              1,
              "#f0f921"
             ]
            ],
            "type": "histogram2dcontour"
           }
          ],
          "mesh3d": [
           {
            "colorbar": {
             "outlinewidth": 0,
             "ticks": ""
            },
            "type": "mesh3d"
           }
          ],
          "parcoords": [
           {
            "line": {
             "colorbar": {
              "outlinewidth": 0,
              "ticks": ""
             }
            },
            "type": "parcoords"
           }
          ],
          "pie": [
           {
            "automargin": true,
            "type": "pie"
           }
          ],
          "scatter": [
           {
            "fillpattern": {
             "fillmode": "overlay",
             "size": 10,
             "solidity": 0.2
            },
            "type": "scatter"
           }
          ],
          "scatter3d": [
           {
            "line": {
             "colorbar": {
              "outlinewidth": 0,
              "ticks": ""
             }
            },
            "marker": {
             "colorbar": {
              "outlinewidth": 0,
              "ticks": ""
             }
            },
            "type": "scatter3d"
           }
          ],
          "scattercarpet": [
           {
            "marker": {
             "colorbar": {
              "outlinewidth": 0,
              "ticks": ""
             }
            },
            "type": "scattercarpet"
           }
          ],
          "scattergeo": [
           {
            "marker": {
             "colorbar": {
              "outlinewidth": 0,
              "ticks": ""
             }
            },
            "type": "scattergeo"
           }
          ],
          "scattergl": [
           {
            "marker": {
             "colorbar": {
              "outlinewidth": 0,
              "ticks": ""
             }
            },
            "type": "scattergl"
           }
          ],
          "scattermap": [
           {
            "marker": {
             "colorbar": {
              "outlinewidth": 0,
              "ticks": ""
             }
            },
            "type": "scattermap"
           }
          ],
          "scattermapbox": [
           {
            "marker": {
             "colorbar": {
              "outlinewidth": 0,
              "ticks": ""
             }
            },
            "type": "scattermapbox"
           }
          ],
          "scatterpolar": [
           {
            "marker": {
             "colorbar": {
              "outlinewidth": 0,
              "ticks": ""
             }
            },
            "type": "scatterpolar"
           }
          ],
          "scatterpolargl": [
           {
            "marker": {
             "colorbar": {
              "outlinewidth": 0,
              "ticks": ""
             }
            },
            "type": "scatterpolargl"
           }
          ],
          "scatterternary": [
           {
            "marker": {
             "colorbar": {
              "outlinewidth": 0,
              "ticks": ""
             }
            },
            "type": "scatterternary"
           }
          ],
          "surface": [
           {
            "colorbar": {
             "outlinewidth": 0,
             "ticks": ""
            },
            "colorscale": [
             [
              0,
              "#0d0887"
             ],
             [
              0.1111111111111111,
              "#46039f"
             ],
             [
              0.2222222222222222,
              "#7201a8"
             ],
             [
              0.3333333333333333,
              "#9c179e"
             ],
             [
              0.4444444444444444,
              "#bd3786"
             ],
             [
              0.5555555555555556,
              "#d8576b"
             ],
             [
              0.6666666666666666,
              "#ed7953"
             ],
             [
              0.7777777777777778,
              "#fb9f3a"
             ],
             [
              0.8888888888888888,
              "#fdca26"
             ],
             [
              1,
              "#f0f921"
             ]
            ],
            "type": "surface"
           }
          ],
          "table": [
           {
            "cells": {
             "fill": {
              "color": "#EBF0F8"
             },
             "line": {
              "color": "white"
             }
            },
            "header": {
             "fill": {
              "color": "#C8D4E3"
             },
             "line": {
              "color": "white"
             }
            },
            "type": "table"
           }
          ]
         },
         "layout": {
          "annotationdefaults": {
           "arrowcolor": "#2a3f5f",
           "arrowhead": 0,
           "arrowwidth": 1
          },
          "autotypenumbers": "strict",
          "coloraxis": {
           "colorbar": {
            "outlinewidth": 0,
            "ticks": ""
           }
          },
          "colorscale": {
           "diverging": [
            [
             0,
             "#8e0152"
            ],
            [
             0.1,
             "#c51b7d"
            ],
            [
             0.2,
             "#de77ae"
            ],
            [
             0.3,
             "#f1b6da"
            ],
            [
             0.4,
             "#fde0ef"
            ],
            [
             0.5,
             "#f7f7f7"
            ],
            [
             0.6,
             "#e6f5d0"
            ],
            [
             0.7,
             "#b8e186"
            ],
            [
             0.8,
             "#7fbc41"
            ],
            [
             0.9,
             "#4d9221"
            ],
            [
             1,
             "#276419"
            ]
           ],
           "sequential": [
            [
             0,
             "#0d0887"
            ],
            [
             0.1111111111111111,
             "#46039f"
            ],
            [
             0.2222222222222222,
             "#7201a8"
            ],
            [
             0.3333333333333333,
             "#9c179e"
            ],
            [
             0.4444444444444444,
             "#bd3786"
            ],
            [
             0.5555555555555556,
             "#d8576b"
            ],
            [
             0.6666666666666666,
             "#ed7953"
            ],
            [
             0.7777777777777778,
             "#fb9f3a"
            ],
            [
             0.8888888888888888,
             "#fdca26"
            ],
            [
             1,
             "#f0f921"
            ]
           ],
           "sequentialminus": [
            [
             0,
             "#0d0887"
            ],
            [
             0.1111111111111111,
             "#46039f"
            ],
            [
             0.2222222222222222,
             "#7201a8"
            ],
            [
             0.3333333333333333,
             "#9c179e"
            ],
            [
             0.4444444444444444,
             "#bd3786"
            ],
            [
             0.5555555555555556,
             "#d8576b"
            ],
            [
             0.6666666666666666,
             "#ed7953"
            ],
            [
             0.7777777777777778,
             "#fb9f3a"
            ],
            [
             0.8888888888888888,
             "#fdca26"
            ],
            [
             1,
             "#f0f921"
            ]
           ]
          },
          "colorway": [
           "#636efa",
           "#EF553B",
           "#00cc96",
           "#ab63fa",
           "#FFA15A",
           "#19d3f3",
           "#FF6692",
           "#B6E880",
           "#FF97FF",
           "#FECB52"
          ],
          "font": {
           "color": "#2a3f5f"
          },
          "geo": {
           "bgcolor": "white",
           "lakecolor": "white",
           "landcolor": "#E5ECF6",
           "showlakes": true,
           "showland": true,
           "subunitcolor": "white"
          },
          "hoverlabel": {
           "align": "left"
          },
          "hovermode": "closest",
          "mapbox": {
           "style": "light"
          },
          "paper_bgcolor": "white",
          "plot_bgcolor": "#E5ECF6",
          "polar": {
           "angularaxis": {
            "gridcolor": "white",
            "linecolor": "white",
            "ticks": ""
           },
           "bgcolor": "#E5ECF6",
           "radialaxis": {
            "gridcolor": "white",
            "linecolor": "white",
            "ticks": ""
           }
          },
          "scene": {
           "xaxis": {
            "backgroundcolor": "#E5ECF6",
            "gridcolor": "white",
            "gridwidth": 2,
            "linecolor": "white",
            "showbackground": true,
            "ticks": "",
            "zerolinecolor": "white"
           },
           "yaxis": {
            "backgroundcolor": "#E5ECF6",
            "gridcolor": "white",
            "gridwidth": 2,
            "linecolor": "white",
            "showbackground": true,
            "ticks": "",
            "zerolinecolor": "white"
           },
           "zaxis": {
            "backgroundcolor": "#E5ECF6",
            "gridcolor": "white",
            "gridwidth": 2,
            "linecolor": "white",
            "showbackground": true,
            "ticks": "",
            "zerolinecolor": "white"
           }
          },
          "shapedefaults": {
           "line": {
            "color": "#2a3f5f"
           }
          },
          "ternary": {
           "aaxis": {
            "gridcolor": "white",
            "linecolor": "white",
            "ticks": ""
           },
           "baxis": {
            "gridcolor": "white",
            "linecolor": "white",
            "ticks": ""
           },
           "bgcolor": "#E5ECF6",
           "caxis": {
            "gridcolor": "white",
            "linecolor": "white",
            "ticks": ""
           }
          },
          "title": {
           "x": 0.05
          },
          "xaxis": {
           "automargin": true,
           "gridcolor": "white",
           "linecolor": "white",
           "ticks": "",
           "title": {
            "standoff": 15
           },
           "zerolinecolor": "white",
           "zerolinewidth": 2
          },
          "yaxis": {
           "automargin": true,
           "gridcolor": "white",
           "linecolor": "white",
           "ticks": "",
           "title": {
            "standoff": 15
           },
           "zerolinecolor": "white",
           "zerolinewidth": 2
          }
         }
        },
        "title": {
         "text": "Turning-angle Distribution - Source vs Observed"
        },
        "xaxis": {
         "title": {
          "text": "Turning Angle (radians)"
         }
        },
        "yaxis": {
         "title": {
          "text": "Density"
         }
        }
       }
      }
     },
     "metadata": {},
     "output_type": "display_data"
    }
   ],
   "source": [
    "cauchy_coefficients = [0.6, 0.9]\n",
    "\n",
    "# Generate trajectories\n",
    "trajectories = []\n",
    "for coef in cauchy_coefficients:\n",
    "    trajectory = crw_trajectory(n_steps=1000, correlation_coeff=coef)\n",
    "    trajectories.append(trajectory)\n",
    "\n",
    "# Plot the distributions\n",
    "fig = plot_turning_angle_distributions(trajectories, cauchy_coefficients)\n",
    "fig.show()"
   ]
  },
  {
   "cell_type": "markdown",
   "metadata": {},
   "source": [
    "# Activity 4: Step-length Distribution - (source dist. vs observed dist.)"
   ]
  },
  {
   "cell_type": "markdown",
   "metadata": {},
   "source": [
    "- Write a function that returns a **Lévy Walk (LW)** trajectory in **pandas** df.\n",
    "- Consider two **LW** trajectories with different **alpha coefficients.**\n",
    "- Write a function that restaurants the **step lengths** for a given trajectory.\n",
    "- Compare the observed distribution (**histogram**) to the source distribution (**curve**) for\n",
    "both trajectories, as shown in the figure below.\n",
    "- Display the results using **plotly.**"
   ]
  },
  {
   "cell_type": "markdown",
   "metadata": {},
   "source": [
    "# FUNCTIONS"
   ]
  },
  {
   "cell_type": "code",
   "execution_count": 202,
   "metadata": {},
   "outputs": [],
   "source": [
    "#####################################################################################\n",
    "# Levy Walk\n",
    "#####################################################################################\n",
    "def levy_walk(steps=1000, alpha=1.0, beta=1.0, scale=1.0, x0=0, y0=0):\n",
    "    \"\"\"\n",
    "    Arguments\n",
    "    -----------\n",
    "        steps: Number of steps in the random walk trajectory\n",
    "        alpha: Stability parameter that determines the shape/heaviness of the tails  and 2)\n",
    "        beta: Skewness parameter of the distribution (float between -1 and 1)\n",
    "        scale: Scale parameter that controls the width of the distribution (float > 0)\n",
    "        x0: Initial x-coordinate position (float)\n",
    "        y0: Initial y-coordinate position (float)\n",
    "    \n",
    "    Returns\n",
    "    -----------\n",
    "        result_df: Pandas DataFrame containing the trajectory coordinates (x,y), step lengths and angles\n",
    "                  Columns: 'x', 'y', 'step_length', 'angle'\n",
    "    \"\"\"\n",
    "\n",
    "    # Step lengths from a Lévy stable distribution\n",
    "    step_lengths = levy_stable.rvs(alpha=alpha, beta=beta, loc=0, scale=scale, size=steps)\n",
    "    step_lengths = np.abs(step_lengths)  # Take absolute values for physical distances\n",
    "    \n",
    "    # Random angles uniformly between 0 and 2π\n",
    "    angles = np.random.uniform(0, 2*np.pi, steps)\n",
    "    \n",
    "    # Initialize arrays for coordinates\n",
    "    x_coords = np.zeros(steps + 1)\n",
    "    y_coords = np.zeros(steps + 1)\n",
    "    \n",
    "    # Set initial position\n",
    "    x_coords[0] = x0\n",
    "    y_coords[0] = y0\n",
    "    \n",
    "    # Calculate trajectory\n",
    "    for i in range(steps):\n",
    "        x_coords[i+1] = x_coords[i] + step_lengths[i] * np.cos(angles[i])\n",
    "        y_coords[i+1] = y_coords[i] + step_lengths[i] * np.sin(angles[i])\n",
    "    \n",
    "    # Create the result DataFrame\n",
    "    result_df = pd.DataFrame({\n",
    "        'x': x_coords,\n",
    "        'y': y_coords,\n",
    "        'step_length': np.append(step_lengths, np.nan),\n",
    "        'angle': np.append(angles, np.nan)\n",
    "    })\n",
    "    \n",
    "    return result_df"
   ]
  },
  {
   "cell_type": "code",
   "execution_count": 233,
   "metadata": {},
   "outputs": [],
   "source": [
    "#####################################################################################\n",
    "# Levy PDF\n",
    "#####################################################################################\n",
    "def levy_pdf(x, alpha, beta=1.0, scale=1.0):\n",
    "    \"\"\"    \n",
    "    Arguments\n",
    "    -----------\n",
    "        x: Point at which to evaluate the PDF (float > 0)\n",
    "        alpha: Stability parameter that determines the shape/heaviness of the tails (float between 0 and 2)\n",
    "        beta: Skewness parameter of the distribution (float between -1 and 1)\n",
    "        scale: Scale parameter that controls the width of the distribution (float > 0)\n",
    "    \n",
    "    Returns\n",
    "    -----------\n",
    "        float: The PDF value at point x\n",
    "    \"\"\"\n",
    "\n",
    "    # Estimate using direct calculation from the levy_stable PDF\n",
    "    return levy_stable.pdf(x, alpha=alpha, beta=beta, scale=scale) + \\\n",
    "           levy_stable.pdf(-x, alpha=alpha, beta=beta, scale=scale)"
   ]
  },
  {
   "cell_type": "code",
   "execution_count": 234,
   "metadata": {},
   "outputs": [],
   "source": [
    "#####################################################################################\n",
    "# Plot Step Length Distributions\n",
    "#####################################################################################\n",
    "def plot_step_length_distributions(alpha1=1.0, alpha2=0.7, beta=1.0, scale=1.0, steps=10000, max_x=50, bins=50):\n",
    "    \"\"\"\n",
    "    Arguments\n",
    "    ----------\n",
    "        alpha1: Stability parameter for first Lévy walk (between 0 and 2)\n",
    "        alpha2: Stability parameter for second Lévy walk (between 0 and 2)\n",
    "        beta: Skewness parameter (between -1 and 1)\n",
    "        scale: Scale parameter controlling width of distribution\n",
    "        steps: Number of steps in each walk\n",
    "        max_x: Maximum x-value for plotting\n",
    "        bins: Number of histogram bins\n",
    "        \n",
    "    Returns\n",
    "    -------\n",
    "        plotly.graph_objects.Figure: figure comparing the step length distributions\n",
    "    \"\"\"\n",
    "\n",
    "    # Generate trajectories\n",
    "    levy_traj_1 = levy_walk(steps=steps, alpha=alpha1, beta=beta, scale=scale)\n",
    "    levy_traj_07 = levy_walk(steps=steps, alpha=alpha2, beta=beta, scale=scale)\n",
    "    \n",
    "    # Extract step lengths\n",
    "    step_lengths1 = levy_traj_1['step_length'].dropna().values\n",
    "    step_lengths2 = levy_traj_07['step_length'].dropna().values\n",
    "    \n",
    "    # Create histogram bins\n",
    "    bin_edges = np.linspace(0, max_x, bins+1)\n",
    "    bin_centers = 0.5 * (bin_edges[1:] + bin_edges[:-1])\n",
    "    \n",
    "    # Calculate histograms\n",
    "    hist1, _ = np.histogram(step_lengths1, bins=bin_edges, density=True)\n",
    "    hist2, _ = np.histogram(step_lengths2, bins=bin_edges, density=True)\n",
    "    \n",
    "    # Generate x values for the theoretical PDF curves\n",
    "    x_vals = np.linspace(0.1, max_x, 1000)\n",
    "    \n",
    "    # Calculate theoretical PDFs for folded Lévy stable distributions\n",
    "    pdf1 = np.array([levy_pdf(x, alpha=alpha1, beta=beta, scale=scale) for x in x_vals])\n",
    "    pdf2 = np.array([levy_pdf(x, alpha=alpha2, beta=beta, scale=scale) for x in x_vals])\n",
    "    \n",
    "    # Create figure\n",
    "    fig = go.Figure()\n",
    "    \n",
    "    # Add observed distributions (histograms)\n",
    "    fig.add_trace(go.Bar(\n",
    "        x=bin_centers,\n",
    "        y=hist1,\n",
    "        width=(max_x/bins)*0.8,\n",
    "        name=f'Observed_alpha={alpha1}_beta={beta}',\n",
    "        marker_color='rgba(128, 0, 255, 0.7)',\n",
    "        offset=-0.15  \n",
    "    ))\n",
    "    \n",
    "    fig.add_trace(go.Bar(\n",
    "        x=bin_centers,\n",
    "        y=hist2,\n",
    "        width=(max_x/bins)*0.8,\n",
    "        name=f'Observed_alpha={alpha2}_beta={beta}',\n",
    "        marker_color='rgba(255, 0, 0, 0.7)',\n",
    "        offset=0.15\n",
    "    ))\n",
    "    \n",
    "    # Add theoretical distributions (curves)\n",
    "    fig.add_trace(go.Scatter(\n",
    "        x=x_vals,\n",
    "        y=pdf1,\n",
    "        mode='lines',\n",
    "        name=f'Levy_alpha={alpha1}',\n",
    "        line=dict(color='blue', width=2)\n",
    "    ))\n",
    "    \n",
    "    fig.add_trace(go.Scatter(\n",
    "        x=x_vals,\n",
    "        y=pdf2,\n",
    "        mode='lines',\n",
    "        name=f'Levy_alpha={alpha2}',\n",
    "        line=dict(color='red', width=2)\n",
    "    ))\n",
    "    \n",
    "    fig.update_layout(\n",
    "        title='Lévy Walk Step-Length Distributions',\n",
    "        xaxis_title='Step Length',\n",
    "        yaxis_title='Probability Density',\n",
    "        template='plotly_white',\n",
    "        legend=dict(x=0.7, y=0.95),\n",
    "        xaxis=dict(range=[0, max_x]),\n",
    "        yaxis=dict(range=[0, 0.35]),\n",
    "        height=600,\n",
    "        margin=dict(l=80, r=80, t=100, b=80),\n",
    "    )\n",
    "    \n",
    "    return fig"
   ]
  },
  {
   "cell_type": "markdown",
   "metadata": {},
   "source": [
    "# PLOTING"
   ]
  },
  {
   "cell_type": "code",
   "execution_count": 235,
   "metadata": {},
   "outputs": [
    {
     "data": {
      "application/vnd.plotly.v1+json": {
       "config": {
        "plotlyServerURL": "https://plot.ly"
       },
       "data": [
        {
         "marker": {
          "color": "rgba(128, 0, 255, 0.7)"
         },
         "name": "Observed_alpha=1.0_beta=1.0",
         "offset": -0.15,
         "type": "bar",
         "width": 0.8,
         "x": {
          "bdata": "AAAAAAAA4D8AAAAAAAD4PwAAAAAAAARAAAAAAAAADEAAAAAAAAASQAAAAAAAABZAAAAAAAAAGkAAAAAAAAAeQAAAAAAAACFAAAAAAAAAI0AAAAAAAAAlQAAAAAAAACdAAAAAAAAAKUAAAAAAAAArQAAAAAAAAC1AAAAAAAAAL0AAAAAAAIAwQAAAAAAAgDFAAAAAAACAMkAAAAAAAIAzQAAAAAAAgDRAAAAAAACANUAAAAAAAIA2QAAAAAAAgDdAAAAAAACAOEAAAAAAAIA5QAAAAAAAgDpAAAAAAACAO0AAAAAAAIA8QAAAAAAAgD1AAAAAAACAPkAAAAAAAIA/QAAAAAAAQEBAAAAAAADAQEAAAAAAAEBBQAAAAAAAwEFAAAAAAABAQkAAAAAAAMBCQAAAAAAAQENAAAAAAADAQ0AAAAAAAEBEQAAAAAAAwERAAAAAAABARUAAAAAAAMBFQAAAAAAAQEZAAAAAAADARkAAAAAAAEBHQAAAAAAAwEdAAAAAAABASEAAAAAAAMBIQA==",
          "dtype": "f8"
         },
         "y": {
          "bdata": "weRY2cDr3j8wiz2eOKjNPxE1mw+CXbM/kmxMFOucqT+UbxAiajafP0uliJNHTZk/teItUqoSkD+f+fGOcm+HP0mixIXIs4M/p1WI1yJAgj93esQnNi2AP572LYHz1XE/6+4ANG4ndT8bysTjWjpnP6H8tZzxCG0/Loh5kLkOaD/0TVuKnZFlP+GPpt0+vWQ/BwwQN/xlZj+B2R5+ZZdgP/RNW4qdkVU/G8rE41o6Vz8bysTjWjpHP6dViNciQFI/2zbUog2GXz8bysTjWjpXP7S6aklQ3U0/G8rE41o6Vz+B2R5+ZZdQP2jCl5bVi0o/gdkefmWXUD+0umpJUN1NP87R8TDg6DM/p1WI1yJAUj+0umpJUN1NP87R8TDg6DM/G8rE41o6Rz+B2R5+ZZdAP87R8TDg6EM/ztHxMODoMz+B2R5+ZZdQP4HZHn5ll0A/aMKXltWLGj/O0fEw4OgzP87R8TDg6DM/aMKXltWLGj9owpeW1YsaP2jCl5bViyo/gdkefmWXQD9owpeW1YsaPw==",
          "dtype": "f8"
         }
        },
        {
         "marker": {
          "color": "rgba(255, 0, 0, 0.7)"
         },
         "name": "Observed_alpha=0.7_beta=1.0",
         "offset": 0.15,
         "type": "bar",
         "width": 0.8,
         "x": {
          "bdata": "AAAAAAAA4D8AAAAAAAD4PwAAAAAAAARAAAAAAAAADEAAAAAAAAASQAAAAAAAABZAAAAAAAAAGkAAAAAAAAAeQAAAAAAAACFAAAAAAAAAI0AAAAAAAAAlQAAAAAAAACdAAAAAAAAAKUAAAAAAAAArQAAAAAAAAC1AAAAAAAAAL0AAAAAAAIAwQAAAAAAAgDFAAAAAAACAMkAAAAAAAIAzQAAAAAAAgDRAAAAAAACANUAAAAAAAIA2QAAAAAAAgDdAAAAAAACAOEAAAAAAAIA5QAAAAAAAgDpAAAAAAACAO0AAAAAAAIA8QAAAAAAAgD1AAAAAAACAPkAAAAAAAIA/QAAAAAAAQEBAAAAAAADAQEAAAAAAAEBBQAAAAAAAwEFAAAAAAABAQkAAAAAAAMBCQAAAAAAAQENAAAAAAADAQ0AAAAAAAEBEQAAAAAAAwERAAAAAAABARUAAAAAAAMBFQAAAAAAAQEZAAAAAAADARkAAAAAAAEBHQAAAAAAAwEdAAAAAAABASEAAAAAAAMBIQA==",
          "dtype": "f8"
         },
         "y": {
          "bdata": "QXnXtnkyqT/vKQWV2BnUP6Jz53tNZsg/IwBXhiO2uz+IOXC9dQGyP391/uxq0aY/1v5GFmiuoT/UNe3CDraaP6Pa3VoLjJQ/Q40jYQN/jj8PX5TQYbaOPwJpZNb+RoY/t3YNpqo4gD/zswBeh4V5P/OzAF6HhXk//YGYA9dbdz8syVvBUDl4P9cIbeusVHQ/zTrVRV1+dj+mAnavHiVvPxrsX/TF3nA/pgJ2rx4lbz9vrE7KacNkP1sQH3/KFmk/Guxf9MXecD/h1gSR/CpiP8061UVdfmY/QGWLDPDlYz+yj0HTgk1hP57zEYjjoGU/6eVouDevWz+yj0HTgk1hPxAeyE52CFM/so9B04JNUT/NOtVFXX5WP0Bliwzw5WM/4dYEkfwqYj9vrE7KacNUP4tX4jxE9Fk/b6xOymnDVD+yj0HTgk1RP8061UVdflY/pgJ2rx4lTz/p5Wi4N69LP6YCdq8eJU8/LMlbwVA5SD/p5Wi4N687PyzJW8FQOVg/LMlbwVA5SD8syVvBUDlIPw==",
          "dtype": "f8"
         }
        },
        {
         "line": {
          "color": "blue",
          "width": 2
         },
         "mode": "lines",
         "name": "Levy_alpha=1.0",
         "type": "scatter",
         "x": {
          "bdata": "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",
          "dtype": "f8"
         },
         "y": {
          "bdata": "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",
          "dtype": "f8"
         }
        },
        {
         "line": {
          "color": "red",
          "width": 2
         },
         "mode": "lines",
         "name": "Levy_alpha=0.7",
         "type": "scatter",
         "x": {
          "bdata": "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",
          "dtype": "f8"
         },
         "y": {
          "bdata": "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",
          "dtype": "f8"
         }
        }
       ],
       "layout": {
        "height": 600,
        "legend": {
         "x": 0.7,
         "y": 0.95
        },
        "margin": {
         "b": 80,
         "l": 80,
         "r": 80,
         "t": 100
        },
        "template": {
         "data": {
          "bar": [
           {
            "error_x": {
             "color": "#2a3f5f"
            },
            "error_y": {
             "color": "#2a3f5f"
            },
            "marker": {
             "line": {
              "color": "white",
              "width": 0.5
             },
             "pattern": {
              "fillmode": "overlay",
              "size": 10,
              "solidity": 0.2
             }
            },
            "type": "bar"
           }
          ],
          "barpolar": [
           {
            "marker": {
             "line": {
              "color": "white",
              "width": 0.5
             },
             "pattern": {
              "fillmode": "overlay",
              "size": 10,
              "solidity": 0.2
             }
            },
            "type": "barpolar"
           }
          ],
          "carpet": [
           {
            "aaxis": {
             "endlinecolor": "#2a3f5f",
             "gridcolor": "#C8D4E3",
             "linecolor": "#C8D4E3",
             "minorgridcolor": "#C8D4E3",
             "startlinecolor": "#2a3f5f"
            },
            "baxis": {
             "endlinecolor": "#2a3f5f",
             "gridcolor": "#C8D4E3",
             "linecolor": "#C8D4E3",
             "minorgridcolor": "#C8D4E3",
             "startlinecolor": "#2a3f5f"
            },
            "type": "carpet"
           }
          ],
          "choropleth": [
           {
            "colorbar": {
             "outlinewidth": 0,
             "ticks": ""
            },
            "type": "choropleth"
           }
          ],
          "contour": [
           {
            "colorbar": {
             "outlinewidth": 0,
             "ticks": ""
            },
            "colorscale": [
             [
              0,
              "#0d0887"
             ],
             [
              0.1111111111111111,
              "#46039f"
             ],
             [
              0.2222222222222222,
              "#7201a8"
             ],
             [
              0.3333333333333333,
              "#9c179e"
             ],
             [
              0.4444444444444444,
              "#bd3786"
             ],
             [
              0.5555555555555556,
              "#d8576b"
             ],
             [
              0.6666666666666666,
              "#ed7953"
             ],
             [
              0.7777777777777778,
              "#fb9f3a"
             ],
             [
              0.8888888888888888,
              "#fdca26"
             ],
             [
              1,
              "#f0f921"
             ]
            ],
            "type": "contour"
           }
          ],
          "contourcarpet": [
           {
            "colorbar": {
             "outlinewidth": 0,
             "ticks": ""
            },
            "type": "contourcarpet"
           }
          ],
          "heatmap": [
           {
            "colorbar": {
             "outlinewidth": 0,
             "ticks": ""
            },
            "colorscale": [
             [
              0,
              "#0d0887"
             ],
             [
              0.1111111111111111,
              "#46039f"
             ],
             [
              0.2222222222222222,
              "#7201a8"
             ],
             [
              0.3333333333333333,
              "#9c179e"
             ],
             [
              0.4444444444444444,
              "#bd3786"
             ],
             [
              0.5555555555555556,
              "#d8576b"
             ],
             [
              0.6666666666666666,
              "#ed7953"
             ],
             [
              0.7777777777777778,
              "#fb9f3a"
             ],
             [
              0.8888888888888888,
              "#fdca26"
             ],
             [
              1,
              "#f0f921"
             ]
            ],
            "type": "heatmap"
           }
          ],
          "histogram": [
           {
            "marker": {
             "pattern": {
              "fillmode": "overlay",
              "size": 10,
              "solidity": 0.2
             }
            },
            "type": "histogram"
           }
          ],
          "histogram2d": [
           {
            "colorbar": {
             "outlinewidth": 0,
             "ticks": ""
            },
            "colorscale": [
             [
              0,
              "#0d0887"
             ],
             [
              0.1111111111111111,
              "#46039f"
             ],
             [
              0.2222222222222222,
              "#7201a8"
             ],
             [
              0.3333333333333333,
              "#9c179e"
             ],
             [
              0.4444444444444444,
              "#bd3786"
             ],
             [
              0.5555555555555556,
              "#d8576b"
             ],
             [
              0.6666666666666666,
              "#ed7953"
             ],
             [
              0.7777777777777778,
              "#fb9f3a"
             ],
             [
              0.8888888888888888,
              "#fdca26"
             ],
             [
              1,
              "#f0f921"
             ]
            ],
            "type": "histogram2d"
           }
          ],
          "histogram2dcontour": [
           {
            "colorbar": {
             "outlinewidth": 0,
             "ticks": ""
            },
            "colorscale": [
             [
              0,
              "#0d0887"
             ],
             [
              0.1111111111111111,
              "#46039f"
             ],
             [
              0.2222222222222222,
              "#7201a8"
             ],
             [
              0.3333333333333333,
              "#9c179e"
             ],
             [
              0.4444444444444444,
              "#bd3786"
             ],
             [
              0.5555555555555556,
              "#d8576b"
             ],
             [
              0.6666666666666666,
              "#ed7953"
             ],
             [
              0.7777777777777778,
              "#fb9f3a"
             ],
             [
              0.8888888888888888,
              "#fdca26"
             ],
             [
              1,
              "#f0f921"
             ]
            ],
            "type": "histogram2dcontour"
           }
          ],
          "mesh3d": [
           {
            "colorbar": {
             "outlinewidth": 0,
             "ticks": ""
            },
            "type": "mesh3d"
           }
          ],
          "parcoords": [
           {
            "line": {
             "colorbar": {
              "outlinewidth": 0,
              "ticks": ""
             }
            },
            "type": "parcoords"
           }
          ],
          "pie": [
           {
            "automargin": true,
            "type": "pie"
           }
          ],
          "scatter": [
           {
            "fillpattern": {
             "fillmode": "overlay",
             "size": 10,
             "solidity": 0.2
            },
            "type": "scatter"
           }
          ],
          "scatter3d": [
           {
            "line": {
             "colorbar": {
              "outlinewidth": 0,
              "ticks": ""
             }
            },
            "marker": {
             "colorbar": {
              "outlinewidth": 0,
              "ticks": ""
             }
            },
            "type": "scatter3d"
           }
          ],
          "scattercarpet": [
           {
            "marker": {
             "colorbar": {
              "outlinewidth": 0,
              "ticks": ""
             }
            },
            "type": "scattercarpet"
           }
          ],
          "scattergeo": [
           {
            "marker": {
             "colorbar": {
              "outlinewidth": 0,
              "ticks": ""
             }
            },
            "type": "scattergeo"
           }
          ],
          "scattergl": [
           {
            "marker": {
             "colorbar": {
              "outlinewidth": 0,
              "ticks": ""
             }
            },
            "type": "scattergl"
           }
          ],
          "scattermap": [
           {
            "marker": {
             "colorbar": {
              "outlinewidth": 0,
              "ticks": ""
             }
            },
            "type": "scattermap"
           }
          ],
          "scattermapbox": [
           {
            "marker": {
             "colorbar": {
              "outlinewidth": 0,
              "ticks": ""
             }
            },
            "type": "scattermapbox"
           }
          ],
          "scatterpolar": [
           {
            "marker": {
             "colorbar": {
              "outlinewidth": 0,
              "ticks": ""
             }
            },
            "type": "scatterpolar"
           }
          ],
          "scatterpolargl": [
           {
            "marker": {
             "colorbar": {
              "outlinewidth": 0,
              "ticks": ""
             }
            },
            "type": "scatterpolargl"
           }
          ],
          "scatterternary": [
           {
            "marker": {
             "colorbar": {
              "outlinewidth": 0,
              "ticks": ""
             }
            },
            "type": "scatterternary"
           }
          ],
          "surface": [
           {
            "colorbar": {
             "outlinewidth": 0,
             "ticks": ""
            },
            "colorscale": [
             [
              0,
              "#0d0887"
             ],
             [
              0.1111111111111111,
              "#46039f"
             ],
             [
              0.2222222222222222,
              "#7201a8"
             ],
             [
              0.3333333333333333,
              "#9c179e"
             ],
             [
              0.4444444444444444,
              "#bd3786"
             ],
             [
              0.5555555555555556,
              "#d8576b"
             ],
             [
              0.6666666666666666,
              "#ed7953"
             ],
             [
              0.7777777777777778,
              "#fb9f3a"
             ],
             [
              0.8888888888888888,
              "#fdca26"
             ],
             [
              1,
              "#f0f921"
             ]
            ],
            "type": "surface"
           }
          ],
          "table": [
           {
            "cells": {
             "fill": {
              "color": "#EBF0F8"
             },
             "line": {
              "color": "white"
             }
            },
            "header": {
             "fill": {
              "color": "#C8D4E3"
             },
             "line": {
              "color": "white"
             }
            },
            "type": "table"
           }
          ]
         },
         "layout": {
          "annotationdefaults": {
           "arrowcolor": "#2a3f5f",
           "arrowhead": 0,
           "arrowwidth": 1
          },
          "autotypenumbers": "strict",
          "coloraxis": {
           "colorbar": {
            "outlinewidth": 0,
            "ticks": ""
           }
          },
          "colorscale": {
           "diverging": [
            [
             0,
             "#8e0152"
            ],
            [
             0.1,
             "#c51b7d"
            ],
            [
             0.2,
             "#de77ae"
            ],
            [
             0.3,
             "#f1b6da"
            ],
            [
             0.4,
             "#fde0ef"
            ],
            [
             0.5,
             "#f7f7f7"
            ],
            [
             0.6,
             "#e6f5d0"
            ],
            [
             0.7,
             "#b8e186"
            ],
            [
             0.8,
             "#7fbc41"
            ],
            [
             0.9,
             "#4d9221"
            ],
            [
             1,
             "#276419"
            ]
           ],
           "sequential": [
            [
             0,
             "#0d0887"
            ],
            [
             0.1111111111111111,
             "#46039f"
            ],
            [
             0.2222222222222222,
             "#7201a8"
            ],
            [
             0.3333333333333333,
             "#9c179e"
            ],
            [
             0.4444444444444444,
             "#bd3786"
            ],
            [
             0.5555555555555556,
             "#d8576b"
            ],
            [
             0.6666666666666666,
             "#ed7953"
            ],
            [
             0.7777777777777778,
             "#fb9f3a"
            ],
            [
             0.8888888888888888,
             "#fdca26"
            ],
            [
             1,
             "#f0f921"
            ]
           ],
           "sequentialminus": [
            [
             0,
             "#0d0887"
            ],
            [
             0.1111111111111111,
             "#46039f"
            ],
            [
             0.2222222222222222,
             "#7201a8"
            ],
            [
             0.3333333333333333,
             "#9c179e"
            ],
            [
             0.4444444444444444,
             "#bd3786"
            ],
            [
             0.5555555555555556,
             "#d8576b"
            ],
            [
             0.6666666666666666,
             "#ed7953"
            ],
            [
             0.7777777777777778,
             "#fb9f3a"
            ],
            [
             0.8888888888888888,
             "#fdca26"
            ],
            [
             1,
             "#f0f921"
            ]
           ]
          },
          "colorway": [
           "#636efa",
           "#EF553B",
           "#00cc96",
           "#ab63fa",
           "#FFA15A",
           "#19d3f3",
           "#FF6692",
           "#B6E880",
           "#FF97FF",
           "#FECB52"
          ],
          "font": {
           "color": "#2a3f5f"
          },
          "geo": {
           "bgcolor": "white",
           "lakecolor": "white",
           "landcolor": "white",
           "showlakes": true,
           "showland": true,
           "subunitcolor": "#C8D4E3"
          },
          "hoverlabel": {
           "align": "left"
          },
          "hovermode": "closest",
          "mapbox": {
           "style": "light"
          },
          "paper_bgcolor": "white",
          "plot_bgcolor": "white",
          "polar": {
           "angularaxis": {
            "gridcolor": "#EBF0F8",
            "linecolor": "#EBF0F8",
            "ticks": ""
           },
           "bgcolor": "white",
           "radialaxis": {
            "gridcolor": "#EBF0F8",
            "linecolor": "#EBF0F8",
            "ticks": ""
           }
          },
          "scene": {
           "xaxis": {
            "backgroundcolor": "white",
            "gridcolor": "#DFE8F3",
            "gridwidth": 2,
            "linecolor": "#EBF0F8",
            "showbackground": true,
            "ticks": "",
            "zerolinecolor": "#EBF0F8"
           },
           "yaxis": {
            "backgroundcolor": "white",
            "gridcolor": "#DFE8F3",
            "gridwidth": 2,
            "linecolor": "#EBF0F8",
            "showbackground": true,
            "ticks": "",
            "zerolinecolor": "#EBF0F8"
           },
           "zaxis": {
            "backgroundcolor": "white",
            "gridcolor": "#DFE8F3",
            "gridwidth": 2,
            "linecolor": "#EBF0F8",
            "showbackground": true,
            "ticks": "",
            "zerolinecolor": "#EBF0F8"
           }
          },
          "shapedefaults": {
           "line": {
            "color": "#2a3f5f"
           }
          },
          "ternary": {
           "aaxis": {
            "gridcolor": "#DFE8F3",
            "linecolor": "#A2B1C6",
            "ticks": ""
           },
           "baxis": {
            "gridcolor": "#DFE8F3",
            "linecolor": "#A2B1C6",
            "ticks": ""
           },
           "bgcolor": "white",
           "caxis": {
            "gridcolor": "#DFE8F3",
            "linecolor": "#A2B1C6",
            "ticks": ""
           }
          },
          "title": {
           "x": 0.05
          },
          "xaxis": {
           "automargin": true,
           "gridcolor": "#EBF0F8",
           "linecolor": "#EBF0F8",
           "ticks": "",
           "title": {
            "standoff": 15
           },
           "zerolinecolor": "#EBF0F8",
           "zerolinewidth": 2
          },
          "yaxis": {
           "automargin": true,
           "gridcolor": "#EBF0F8",
           "linecolor": "#EBF0F8",
           "ticks": "",
           "title": {
            "standoff": 15
           },
           "zerolinecolor": "#EBF0F8",
           "zerolinewidth": 2
          }
         }
        },
        "title": {
         "text": "Lévy Walk Step-Length Distributions"
        },
        "xaxis": {
         "range": [
          0,
          50
         ],
         "title": {
          "text": "Step Length"
         }
        },
        "yaxis": {
         "range": [
          0,
          0.35
         ],
         "title": {
          "text": "Probability Density"
         }
        }
       }
      }
     },
     "metadata": {},
     "output_type": "display_data"
    }
   ],
   "source": [
    "fig = plot_step_length_distributions()\n",
    "fig.show()"
   ]
  }
 ],
 "metadata": {
  "kernelspec": {
   "display_name": ".venv",
   "language": "python",
   "name": "python3"
  },
  "language_info": {
   "codemirror_mode": {
    "name": "ipython",
    "version": 3
   },
   "file_extension": ".py",
   "mimetype": "text/x-python",
   "name": "python",
   "nbconvert_exporter": "python",
   "pygments_lexer": "ipython3",
   "version": "3.9.0"
  }
 },
 "nbformat": 4,
 "nbformat_minor": 2
}
