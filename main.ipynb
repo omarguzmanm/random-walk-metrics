{
 "cells": [
  {
   "cell_type": "markdown",
   "metadata": {},
   "source": [
    "# Homework 3\n",
    "\n",
    "**Name:** Omar Alejandro Guzmán Munguía\n",
    "\n",
    "**e-mail:** omar.guzman5063@alumnos.udg.mx"
   ]
  },
  {
   "cell_type": "markdown",
   "metadata": {},
   "source": [
    "# MODULES"
   ]
  },
  {
   "cell_type": "code",
   "execution_count": 59,
   "metadata": {},
   "outputs": [],
   "source": [
    "# Load modules\n",
    "import numpy as np\n",
    "import math\n",
    "\n",
    "import plotly.graph_objects as go\n",
    "\n",
    "from scipy.stats import exponweib\n",
    "from scipy.stats import levy_stable\n",
    "from scipy.spatial import distance\n",
    "\n",
    "import pandas as pd"
   ]
  },
  {
   "cell_type": "markdown",
   "metadata": {},
   "source": [
    "# CLASSES"
   ]
  },
  {
   "cell_type": "code",
   "execution_count": 60,
   "metadata": {},
   "outputs": [],
   "source": [
    "################# http://www.pygame.org/wiki/2DVectorClass ##################\n",
    "class Vec2d(object):\n",
    "    \"\"\"2d vector class, supports vector and scalar operators,\n",
    "       and also provides a bunch of high level functions\n",
    "       \"\"\"\n",
    "    __slots__ = ['x', 'y']\n",
    "\n",
    "    def __init__(self, x_or_pair, y = None):\n",
    "        if y == None:            \n",
    "            self.x = x_or_pair[0]\n",
    "            self.y = x_or_pair[1]\n",
    "        else:\n",
    "            self.x = x_or_pair\n",
    "            self.y = y\n",
    "            \n",
    "    # Addition\n",
    "    def __add__(self, other):\n",
    "        if isinstance(other, Vec2d):\n",
    "            return Vec2d(self.x + other.x, self.y + other.y)\n",
    "        elif hasattr(other, \"__getitem__\"):\n",
    "            return Vec2d(self.x + other[0], self.y + other[1])\n",
    "        else:\n",
    "            return Vec2d(self.x + other, self.y + other)\n",
    "\n",
    "    # Subtraction\n",
    "    def __sub__(self, other):\n",
    "        if isinstance(other, Vec2d):\n",
    "            return Vec2d(self.x - other.x, self.y - other.y)\n",
    "        elif (hasattr(other, \"__getitem__\")):\n",
    "            return Vec2d(self.x - other[0], self.y - other[1])\n",
    "        else:\n",
    "            return Vec2d(self.x - other, self.y - other)\n",
    "    \n",
    "    # Vector length\n",
    "    def get_length(self):\n",
    "        return math.sqrt(self.x**2 + self.y**2)\n",
    "    \n",
    "    # rotate vector\n",
    "    def rotated(self, angle):        \n",
    "        cos = math.cos(angle)\n",
    "        sin = math.sin(angle)\n",
    "        x = self.x*cos - self.y*sin\n",
    "        y = self.x*sin + self.y*cos\n",
    "        return Vec2d(x, y)"
   ]
  },
  {
   "cell_type": "markdown",
   "metadata": {},
   "source": [
    "# Activity 1: Path length - (BM1 vs BM2 vs CRW)"
   ]
  },
  {
   "cell_type": "markdown",
   "metadata": {},
   "source": [
    "- Write a function that returns a **Brownian Motion (BM)** trajectory in **pandas** df.\n",
    "- Write a function that returns a **Correlated Random Walk (CRW)** trajectory in **pandas** df.\n",
    "- Write a function that returns the **path length** for a given trajectory.\n",
    "- **Compare** at least the **path lengt** of **three** trajectories as shown in the figure below.\n",
    "- Display the results using **plotly.**"
   ]
  },
  {
   "cell_type": "markdown",
   "metadata": {},
   "source": [
    "# FUNCTIONS"
   ]
  },
  {
   "cell_type": "code",
   "execution_count": 61,
   "metadata": {},
   "outputs": [],
   "source": [
    "#####################################################################################\n",
    "# Brownian motion trajectoy\n",
    "#####################################################################################\n",
    "def bm_2d(n_steps=1000, speed=5, s_pos=[0,0]):\n",
    "    \"\"\"\n",
    "    Arguments\n",
    "    -----------\n",
    "        n_steps: Number of steps in the trajectory.\n",
    "        speed: Speed of the trajectory.\n",
    "        s_pos: Starting position of the trajectory.\n",
    "\n",
    "    Returns\n",
    "    -----------\n",
    "        BM_2d_df:  DataFrame with the x and y positions of the trajectory.\n",
    "    \"\"\"\n",
    "    \n",
    "    # Init velocity vector\n",
    "    velocity =Vec2d(speed,0)\n",
    "    \n",
    "    # Init DF\n",
    "    BM_2d_df = pd.DataFrame(columns=['x_pos','y_pos'])    \n",
    "    # Add initial position\n",
    "    temp_df = pd.DataFrame([{'x_pos':s_pos[0], 'y_pos':s_pos[1]}])    \n",
    "    BM_2d_df = pd.concat([BM_2d_df, temp_df], ignore_index=True)\n",
    "    \n",
    "    # Generate the trajectory\n",
    "    for i in range(n_steps-1):        \n",
    "        turn_angle = np.random.uniform(low=-np.pi, high=np.pi)\n",
    "        velocity = velocity.rotated(turn_angle)\n",
    "    \n",
    "        temp_df = pd.DataFrame([{'x_pos':BM_2d_df.x_pos[i]+velocity.x, 'y_pos':BM_2d_df.y_pos[i]+velocity.y}])    \n",
    "        BM_2d_df = pd.concat([BM_2d_df, temp_df], ignore_index=True)\n",
    "        \n",
    "    return BM_2d_df"
   ]
  },
  {
   "cell_type": "code",
   "execution_count": 62,
   "metadata": {},
   "outputs": [],
   "source": [
    "#####################################################################################\n",
    "# Correlated Random Walk (CRW)\n",
    "#####################################################################################\n",
    "def crw_trajectory(n_steps=1000, speed=5, correlation_coeff=0.9, s_pos=0.0):\n",
    "    \"\"\"\n",
    "    Arguments\n",
    "    -----------\n",
    "        n_steps: Number of steps in the trajectory.\n",
    "        speed: Length of each step.\n",
    "        correlation_coeff: Correlation coefficient (between -1 and 1) that controls the correlation between consecutive steps.\n",
    "        s_pos: Initial direction of movement in radians (default is 0.0).\n",
    "\n",
    "    Returns\n",
    "    -----------\n",
    "        crw_df: A pandas DataFrame with columns ['x', 'y'] representing the trajectory.\n",
    "    \"\"\"\n",
    "    # Initialize the trajectory with the starting point at the origin\n",
    "    trajectory = [Vec2d(0.0, 0.0)]\n",
    "    \n",
    "    # Initialize the current direction\n",
    "    current_direction = s_pos\n",
    "    \n",
    "    for _ in range(n_steps):\n",
    "        # Generate a random angle change based on the correlation coefficient\n",
    "        angle_change = np.random.normal(0, np.sqrt(1 - correlation_coeff**2))\n",
    "        \n",
    "        # Update the current direction\n",
    "        current_direction += angle_change\n",
    "        \n",
    "        # Calculate the next step vector\n",
    "        next_step = Vec2d(speed, 0).rotated(current_direction)\n",
    "        \n",
    "        # Update the trajectory\n",
    "        next_position = trajectory[-1] + next_step\n",
    "        trajectory.append(next_position)\n",
    "    \n",
    "    # Convert the trajectory to a pandas DataFrame\n",
    "    crw_df = pd.DataFrame([(pos.x, pos.y) for pos in trajectory], columns=['x', 'y'])\n",
    "    \n",
    "    \n",
    "    return crw_df"
   ]
  },
  {
   "cell_type": "code",
   "execution_count": 63,
   "metadata": {},
   "outputs": [],
   "source": [
    "#####################################################################################\n",
    "# Path length\n",
    "#####################################################################################\n",
    "def path_length(trajectory_df, s_pos=[0]):\n",
    "    \"\"\"\n",
    "    Arguments\n",
    "    -----------\n",
    "        trajectory_df: DataFrame with the x and y positions of the trajectory.\n",
    "        s_pos: Starting position of the trajectory.\n",
    "\n",
    "    Returns\n",
    "    -----------\n",
    "        path_length: Length of the trajectory.\n",
    "    \"\"\"\n",
    "    # Initialize the path length\n",
    "    path_length = pd.DataFrame(columns=['y_pos'])\n",
    "    df = pd.DataFrame([{'y_pos':s_pos[0]}])\n",
    "\n",
    "    path_length = pd.concat([path_length, df], ignore_index=True)\n",
    "\n",
    "    for i in range(len(trajectory_df)-1):\n",
    "        df = pd.DataFrame([{'y_pos':path_length.y_pos[i] + distance.euclidean(trajectory_df.iloc[i], trajectory_df.iloc[i+1])}])\n",
    "        path_length = pd.concat([path_length, df], ignore_index=True)\n",
    "        \n",
    "    return path_length"
   ]
  },
  {
   "cell_type": "markdown",
   "metadata": {},
   "source": [
    "# GENERATE TRAJECTORIES AND CALCULATE PATH LENGTH"
   ]
  },
  {
   "cell_type": "code",
   "execution_count": 64,
   "metadata": {},
   "outputs": [],
   "source": [
    "# Generate trajectories\n",
    "bm_traj_3 = bm_2d(speed=3)\n",
    "bm_traj_6 = bm_2d(speed=6)\n",
    "crw_traj_6 = crw_trajectory(speed=6)\n",
    "\n",
    "# Calculate path lengths\n",
    "bm_pl_3 = path_length(bm_traj_3)\n",
    "bm_pl_6 = path_length(bm_traj_6)\n",
    "crw_pl_6 = path_length(crw_traj_6)"
   ]
  },
  {
   "cell_type": "markdown",
   "metadata": {},
   "source": [
    "# PLOTING"
   ]
  },
  {
   "cell_type": "code",
   "execution_count": 65,
   "metadata": {},
   "outputs": [
    {
     "data": {
      "application/vnd.plotly.v1+json": {
       "config": {
        "plotlyServerURL": "https://plot.ly"
       },
       "data": [
        {
         "mode": "lines",
         "name": "Path length - BM 3",
         "showlegend": true,
         "type": "scatter",
         "x": {
          "bdata": "AAABAAIAAwAEAAUABgAHAAgACQAKAAsADAANAA4ADwAQABEAEgATABQAFQAWABcAGAAZABoAGwAcAB0AHgAfACAAIQAiACMAJAAlACYAJwAoACkAKgArACwALQAuAC8AMAAxADIAMwA0ADUANgA3ADgAOQA6ADsAPAA9AD4APwBAAEEAQgBDAEQARQBGAEcASABJAEoASwBMAE0ATgBPAFAAUQBSAFMAVABVAFYAVwBYAFkAWgBbAFwAXQBeAF8AYABhAGIAYwBkAGUAZgBnAGgAaQBqAGsAbABtAG4AbwBwAHEAcgBzAHQAdQB2AHcAeAB5AHoAewB8AH0AfgB/AIAAgQCCAIMAhACFAIYAhwCIAIkAigCLAIwAjQCOAI8AkACRAJIAkwCUAJUAlgCXAJgAmQCaAJsAnACdAJ4AnwCgAKEAogCjAKQApQCmAKcAqACpAKoAqwCsAK0ArgCvALAAsQCyALMAtAC1ALYAtwC4ALkAugC7ALwAvQC+AL8AwADBAMIAwwDEAMUAxgDHAMgAyQDKAMsAzADNAM4AzwDQANEA0gDTANQA1QDWANcA2ADZANoA2wDcAN0A3gDfAOAA4QDiAOMA5ADlAOYA5wDoAOkA6gDrAOwA7QDuAO8A8ADxAPIA8wD0APUA9gD3APgA+QD6APsA/AD9AP4A/wAAAQEBAgEDAQQBBQEGAQcBCAEJAQoBCwEMAQ0BDgEPARABEQESARMBFAEVARYBFwEYARkBGgEbARwBHQEeAR8BIAEhASIBIwEkASUBJgEnASgBKQEqASsBLAEtAS4BLwEwATEBMgEzATQBNQE2ATcBOAE5AToBOwE8AT0BPgE/AUABQQFCAUMBRAFFAUYBRwFIAUkBSgFLAUwBTQFOAU8BUAFRAVIBUwFUAVUBVgFXAVgBWQFaAVsBXAFdAV4BXwFgAWEBYgFjAWQBZQFmAWcBaAFpAWoBawFsAW0BbgFvAXABcQFyAXMBdAF1AXYBdwF4AXkBegF7AXwBfQF+AX8BgAGBAYIBgwGEAYUBhgGHAYgBiQGKAYsBjAGNAY4BjwGQAZEBkgGTAZQBlQGWAZcBmAGZAZoBmwGcAZ0BngGfAaABoQGiAaMBpAGlAaYBpwGoAakBqgGrAawBrQGuAa8BsAGxAbIBswG0AbUBtgG3AbgBuQG6AbsBvAG9Ab4BvwHAAcEBwgHDAcQBxQHGAccByAHJAcoBywHMAc0BzgHPAdAB0QHSAdMB1AHVAdYB1wHYAdkB2gHbAdwB3QHeAd8B4AHhAeIB4wHkAeUB5gHnAegB6QHqAesB7AHtAe4B7wHwAfEB8gHzAfQB9QH2AfcB+AH5AfoB+wH8Af0B/gH/AQACAQICAgMCBAIFAgYCBwIIAgkCCgILAgwCDQIOAg8CEAIRAhICEwIUAhUCFgIXAhgCGQIaAhsCHAIdAh4CHwIgAiECIgIjAiQCJQImAicCKAIpAioCKwIsAi0CLgIvAjACMQIyAjMCNAI1AjYCNwI4AjkCOgI7AjwCPQI+Aj8CQAJBAkICQwJEAkUCRgJHAkgCSQJKAksCTAJNAk4CTwJQAlECUgJTAlQCVQJWAlcCWAJZAloCWwJcAl0CXgJfAmACYQJiAmMCZAJlAmYCZwJoAmkCagJrAmwCbQJuAm8CcAJxAnICcwJ0AnUCdgJ3AngCeQJ6AnsCfAJ9An4CfwKAAoECggKDAoQChQKGAocCiAKJAooCiwKMAo0CjgKPApACkQKSApMClAKVApYClwKYApkCmgKbApwCnQKeAp8CoAKhAqICowKkAqUCpgKnAqgCqQKqAqsCrAKtAq4CrwKwArECsgKzArQCtQK2ArcCuAK5AroCuwK8Ar0CvgK/AsACwQLCAsMCxALFAsYCxwLIAskCygLLAswCzQLOAs8C0ALRAtIC0wLUAtUC1gLXAtgC2QLaAtsC3ALdAt4C3wLgAuEC4gLjAuQC5QLmAucC6ALpAuoC6wLsAu0C7gLvAvAC8QLyAvMC9AL1AvYC9wL4AvkC+gL7AvwC/QL+Av8CAAMBAwIDAwMEAwUDBgMHAwgDCQMKAwsDDAMNAw4DDwMQAxEDEgMTAxQDFQMWAxcDGAMZAxoDGwMcAx0DHgMfAyADIQMiAyMDJAMlAyYDJwMoAykDKgMrAywDLQMuAy8DMAMxAzIDMwM0AzUDNgM3AzgDOQM6AzsDPAM9Az4DPwNAA0EDQgNDA0QDRQNGA0cDSANJA0oDSwNMA00DTgNPA1ADUQNSA1MDVANVA1YDVwNYA1kDWgNbA1wDXQNeA18DYANhA2IDYwNkA2UDZgNnA2gDaQNqA2sDbANtA24DbwNwA3EDcgNzA3QDdQN2A3cDeAN5A3oDewN8A30DfgN/A4ADgQOCA4MDhAOFA4YDhwOIA4kDigOLA4wDjQOOA48DkAORA5IDkwOUA5UDlgOXA5gDmQOaA5sDnAOdA54DnwOgA6EDogOjA6QDpQOmA6cDqAOpA6oDqwOsA60DrgOvA7ADsQOyA7MDtAO1A7YDtwO4A7kDugO7A7wDvQO+A78DwAPBA8IDwwPEA8UDxgPHA8gDyQPKA8sDzAPNA84DzwPQA9ED0gPTA9QD1QPWA9cD2APZA9oD2wPcA90D3gPfA+AD4QPiA+MD5APlA+YD5wM=",
          "dtype": "i2"
         },
         "y": [
          0,
          3,
          6,
          9,
          12,
          15,
          18,
          21,
          24,
          27,
          30,
          33,
          36,
          39,
          42,
          45,
          48,
          51,
          54,
          57,
          60,
          63,
          66,
          69,
          72,
          75,
          78,
          81,
          84,
          87,
          90,
          93,
          96,
          99,
          102,
          105,
          108,
          111,
          114,
          117,
          120,
          123,
          126,
          129,
          132,
          135,
          138,
          141,
          144,
          147,
          150,
          153,
          156,
          159,
          162,
          165,
          168,
          171,
          174,
          177,
          180,
          183,
          186,
          189,
          192,
          195,
          198,
          201,
          204,
          207,
          210,
          213,
          216,
          219,
          222,
          225,
          228,
          231,
          234,
          237,
          240,
          243,
          246,
          249,
          252,
          255,
          258,
          261,
          264,
          267,
          270,
          273,
          276,
          279,
          282,
          285,
          288,
          291,
          294,
          297,
          300,
          303,
          306,
          309,
          312,
          315,
          318,
          321,
          324,
          327,
          330,
          333,
          336,
          339,
          342,
          345,
          348,
          351,
          354,
          357,
          360,
          363,
          366,
          369,
          372,
          375,
          378,
          381,
          384,
          387,
          390,
          393,
          396,
          399,
          402,
          405,
          408,
          411,
          414,
          417,
          420,
          423,
          426,
          429,
          432,
          435,
          438,
          441,
          444,
          447,
          450,
          453,
          456,
          459,
          462,
          465,
          468,
          471,
          474,
          477,
          480,
          483,
          486,
          489,
          492,
          495,
          498,
          501,
          504,
          507,
          510,
          513,
          516,
          519,
          522,
          525,
          528,
          531,
          534,
          537,
          540,
          543,
          546,
          549,
          552,
          555,
          558,
          561,
          564,
          567,
          570,
          573,
          576,
          579,
          582,
          585,
          588,
          591,
          594,
          597,
          600,
          603,
          606,
          609,
          612,
          615,
          618,
          621,
          624,
          627,
          630,
          633,
          636,
          639,
          642,
          645,
          648,
          651,
          654,
          657,
          660,
          663,
          666,
          669,
          672,
          675,
          678,
          681,
          684,
          687,
          690,
          693,
          696,
          699,
          702,
          705,
          708,
          711,
          714,
          717,
          720,
          723,
          726,
          729,
          732,
          735,
          738,
          741,
          744,
          747,
          750,
          753,
          756,
          759,
          762,
          765,
          768,
          771,
          774,
          777,
          780,
          783,
          786,
          789,
          792,
          795,
          798,
          801,
          804,
          807,
          810,
          813,
          816,
          819,
          822,
          825,
          828,
          831,
          834,
          837,
          840,
          843,
          846,
          849,
          852,
          855,
          858,
          861,
          864,
          867,
          870,
          873,
          876,
          879,
          882,
          885,
          888,
          891,
          894,
          897,
          900,
          903,
          906,
          909,
          912,
          915,
          918,
          921,
          924,
          927,
          930,
          933,
          936,
          939,
          942,
          945,
          948,
          951,
          954,
          957,
          960,
          963,
          966,
          969,
          972,
          975,
          978,
          981,
          984,
          987,
          990,
          993,
          996,
          999,
          1002,
          1005,
          1008,
          1011,
          1014,
          1017,
          1020,
          1023,
          1026,
          1029,
          1032,
          1035,
          1038,
          1041,
          1044,
          1047,
          1050,
          1053,
          1056,
          1059,
          1062,
          1065,
          1068,
          1071,
          1074,
          1077,
          1080,
          1083,
          1086,
          1089,
          1092,
          1095,
          1098,
          1101,
          1104,
          1107,
          1110,
          1113,
          1116,
          1119,
          1122,
          1125,
          1128,
          1131,
          1134,
          1137,
          1140,
          1143,
          1146,
          1149,
          1152,
          1155,
          1158,
          1161,
          1164,
          1167,
          1170,
          1173,
          1176,
          1179,
          1182,
          1185,
          1188,
          1191,
          1194,
          1197,
          1200,
          1203,
          1206,
          1209,
          1212,
          1215,
          1218,
          1221,
          1224,
          1227,
          1230,
          1233,
          1236,
          1239,
          1242,
          1245,
          1248,
          1251,
          1254,
          1257,
          1260,
          1263,
          1266,
          1269,
          1272,
          1275,
          1278,
          1281,
          1284,
          1287,
          1290,
          1293,
          1296,
          1299,
          1302,
          1305,
          1308,
          1311,
          1314,
          1317,
          1320,
          1323,
          1326,
          1329,
          1332,
          1335,
          1338,
          1341,
          1344,
          1347,
          1350,
          1353,
          1356,
          1359,
          1362,
          1365,
          1368,
          1371,
          1374,
          1377,
          1380,
          1383,
          1386,
          1389,
          1392,
          1395,
          1398,
          1401,
          1404,
          1407,
          1410,
          1413,
          1416,
          1419,
          1422,
          1425,
          1428,
          1431,
          1434,
          1437,
          1440,
          1443,
          1446,
          1449,
          1452,
          1455,
          1458,
          1461,
          1464,
          1467,
          1470,
          1473,
          1476,
          1479,
          1482,
          1485,
          1488,
          1491,
          1494,
          1497,
          1500,
          1503,
          1506,
          1509,
          1512,
          1515,
          1518,
          1521,
          1524,
          1527,
          1530,
          1533,
          1536,
          1539,
          1542,
          1545,
          1548,
          1551,
          1554,
          1557,
          1560,
          1563,
          1566,
          1569,
          1572,
          1575,
          1578,
          1581,
          1584,
          1587,
          1590,
          1593,
          1596,
          1599,
          1602,
          1605,
          1608,
          1611,
          1614,
          1617,
          1620,
          1623,
          1626,
          1629,
          1632,
          1635,
          1638,
          1641,
          1644,
          1647,
          1650,
          1653,
          1656,
          1659,
          1662,
          1665,
          1668,
          1671,
          1674,
          1677,
          1680,
          1683,
          1686,
          1689,
          1692,
          1695,
          1698,
          1701,
          1704,
          1707,
          1710,
          1713,
          1716,
          1719,
          1722,
          1725,
          1728,
          1731,
          1734,
          1737,
          1740,
          1743,
          1746,
          1749,
          1752,
          1755,
          1758,
          1761,
          1764,
          1767,
          1770,
          1773,
          1776,
          1779,
          1782,
          1785,
          1788,
          1791,
          1794,
          1797,
          1800,
          1803,
          1806,
          1809,
          1812,
          1815,
          1818,
          1821,
          1824,
          1827,
          1830,
          1833,
          1836,
          1839,
          1842,
          1845,
          1848,
          1851,
          1854,
          1857,
          1860,
          1863,
          1866,
          1869,
          1872,
          1875,
          1878,
          1881,
          1884,
          1887,
          1890,
          1893,
          1896,
          1899,
          1902,
          1905,
          1908,
          1911,
          1914,
          1917,
          1920,
          1923,
          1926,
          1929,
          1932,
          1935,
          1938,
          1941,
          1944,
          1947,
          1950,
          1953,
          1956,
          1959,
          1962,
          1965,
          1968,
          1971,
          1974,
          1977,
          1980,
          1983,
          1986,
          1989,
          1992,
          1995,
          1998,
          2001,
          2004,
          2007,
          2010,
          2013,
          2016,
          2019,
          2022,
          2025,
          2028,
          2031,
          2034,
          2037,
          2040,
          2043,
          2046,
          2049,
          2052,
          2055,
          2058,
          2061,
          2064,
          2067,
          2070,
          2073,
          2076,
          2079,
          2082,
          2085,
          2088,
          2091,
          2094,
          2097,
          2100,
          2103,
          2106,
          2109,
          2112,
          2115,
          2118,
          2121,
          2124,
          2127,
          2130,
          2133,
          2136,
          2139,
          2142,
          2145,
          2148,
          2151,
          2154,
          2157,
          2160,
          2163,
          2166,
          2169,
          2172,
          2175,
          2178,
          2181,
          2184,
          2187,
          2190,
          2193,
          2196,
          2199,
          2202,
          2205,
          2208,
          2211,
          2214,
          2217,
          2220,
          2223,
          2226,
          2229,
          2232,
          2235,
          2238,
          2241,
          2244,
          2247,
          2250,
          2253,
          2256,
          2259,
          2262,
          2265,
          2268,
          2271,
          2274,
          2277,
          2280,
          2283,
          2286,
          2289,
          2292,
          2295,
          2298,
          2301,
          2304,
          2307,
          2310,
          2313,
          2316,
          2319,
          2322,
          2325,
          2328,
          2331,
          2334,
          2337,
          2340,
          2343,
          2346,
          2349,
          2352,
          2355,
          2358,
          2361,
          2364,
          2367,
          2370,
          2373,
          2376,
          2379,
          2382,
          2385,
          2388,
          2391,
          2394,
          2397,
          2400,
          2403,
          2406,
          2409,
          2412,
          2415,
          2418,
          2421,
          2424,
          2427,
          2430,
          2433,
          2436,
          2439,
          2442,
          2445,
          2448,
          2451,
          2454,
          2457,
          2460,
          2463,
          2466,
          2469,
          2472,
          2475,
          2478,
          2481,
          2484,
          2487,
          2490,
          2493,
          2496,
          2499,
          2502,
          2505,
          2508,
          2511,
          2514,
          2517,
          2520,
          2523,
          2526,
          2529,
          2532,
          2535,
          2538,
          2541,
          2544,
          2547,
          2550,
          2553,
          2556,
          2559,
          2562,
          2565,
          2568,
          2571,
          2574,
          2577,
          2580,
          2583,
          2586,
          2589,
          2592,
          2595,
          2598,
          2601,
          2604,
          2607,
          2610,
          2613,
          2616,
          2619,
          2622,
          2625,
          2628,
          2631,
          2634,
          2637,
          2640,
          2643,
          2646,
          2649,
          2652,
          2655,
          2658,
          2661,
          2664,
          2667,
          2670,
          2673,
          2676,
          2679,
          2682,
          2685,
          2688,
          2691,
          2694,
          2697,
          2700,
          2703,
          2706,
          2709,
          2712,
          2715,
          2718,
          2721,
          2724,
          2727,
          2730,
          2733,
          2736,
          2739,
          2742,
          2745,
          2748,
          2751,
          2754,
          2757,
          2760,
          2763,
          2766,
          2769,
          2772,
          2775,
          2778,
          2781,
          2784,
          2787,
          2790,
          2793,
          2796,
          2799,
          2802,
          2805,
          2808,
          2811,
          2814,
          2817,
          2820,
          2823,
          2826,
          2829,
          2832,
          2835,
          2838,
          2841,
          2844,
          2847,
          2850,
          2853,
          2856,
          2859,
          2862,
          2865,
          2868,
          2871,
          2874,
          2877,
          2880,
          2883,
          2886,
          2889,
          2892,
          2895,
          2898,
          2901,
          2904,
          2907,
          2910,
          2913,
          2916,
          2919,
          2922,
          2925,
          2928,
          2931,
          2934,
          2937,
          2940,
          2943,
          2946,
          2949,
          2952,
          2955,
          2958,
          2961,
          2964,
          2967,
          2970,
          2973,
          2976,
          2979,
          2982,
          2985,
          2988,
          2991,
          2994,
          2997
         ]
        },
        {
         "line": {
          "width": 6
         },
         "marker": {
          "size": 2
         },
         "mode": "lines",
         "name": "Path length - BM 6",
         "showlegend": true,
         "type": "scatter",
         "x": {
          "bdata": "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",
          "dtype": "i2"
         },
         "y": [
          0,
          6,
          12,
          18,
          24,
          30,
          36,
          42,
          48,
          54,
          60,
          66,
          72,
          78,
          84,
          90,
          96,
          102,
          108,
          114,
          120,
          126,
          132,
          138,
          144,
          150,
          156,
          162,
          168,
          174,
          180,
          186,
          192,
          198,
          204,
          210,
          216,
          222,
          228,
          234,
          240,
          246,
          252,
          258,
          264,
          270,
          276,
          282,
          288,
          294,
          300,
          306,
          312,
          318,
          324,
          330,
          336,
          342,
          348,
          354,
          360,
          366,
          372,
          378,
          384,
          390,
          396,
          402,
          408,
          414,
          420,
          426,
          432,
          438,
          444,
          450,
          456,
          462,
          468,
          474,
          480,
          486,
          492,
          498,
          504,
          510,
          516,
          522,
          528,
          534,
          540,
          546,
          552,
          558,
          564,
          570,
          576,
          582,
          588,
          594,
          600,
          606,
          612,
          618,
          624,
          630,
          636,
          642,
          648,
          654,
          660,
          666,
          672,
          678,
          684,
          690,
          696,
          702,
          708,
          714,
          720,
          726,
          732,
          738,
          744,
          750,
          756,
          762,
          768,
          774,
          780,
          786,
          792,
          798,
          804,
          810,
          816,
          822,
          828,
          834,
          840,
          846,
          852,
          858,
          864,
          870,
          876,
          882,
          888,
          894,
          900,
          906,
          912,
          918,
          924,
          930,
          936,
          942,
          948,
          954,
          960,
          966,
          972,
          978,
          984,
          990,
          996,
          1002,
          1008,
          1014,
          1020,
          1026,
          1032,
          1038,
          1044,
          1050,
          1056,
          1062,
          1068,
          1074,
          1080,
          1086,
          1092,
          1098,
          1104,
          1110,
          1116,
          1122,
          1128,
          1134,
          1140,
          1146,
          1152,
          1158,
          1164,
          1170,
          1176,
          1182,
          1188,
          1194,
          1200,
          1206,
          1212,
          1218,
          1224,
          1230,
          1236,
          1242,
          1248,
          1254,
          1260,
          1266,
          1272,
          1278,
          1284,
          1290,
          1296,
          1302,
          1308,
          1314,
          1320,
          1326,
          1332,
          1338,
          1344,
          1350,
          1356,
          1362,
          1368,
          1374,
          1380,
          1386,
          1392,
          1398,
          1404,
          1410,
          1416,
          1422,
          1428,
          1434,
          1440,
          1446,
          1452,
          1458,
          1464,
          1470,
          1476,
          1482,
          1488,
          1494,
          1500,
          1506,
          1512,
          1518,
          1524,
          1530,
          1536,
          1542,
          1548,
          1554,
          1560,
          1566,
          1572,
          1578,
          1584,
          1590,
          1596,
          1602,
          1608,
          1614,
          1620,
          1626,
          1632,
          1638,
          1644,
          1650,
          1656,
          1662,
          1668,
          1674,
          1680,
          1686,
          1692,
          1698,
          1704,
          1710,
          1716,
          1722,
          1728,
          1734,
          1740,
          1746,
          1752,
          1758,
          1764,
          1770,
          1776,
          1782,
          1788,
          1794,
          1800,
          1806,
          1812,
          1818,
          1824,
          1830,
          1836,
          1842,
          1848,
          1854,
          1860,
          1866,
          1872,
          1878,
          1884,
          1890,
          1896,
          1902,
          1908,
          1914,
          1920,
          1926,
          1932,
          1938,
          1944,
          1950,
          1956,
          1962,
          1968,
          1974,
          1980,
          1986,
          1992,
          1998,
          2004,
          2010,
          2016,
          2022,
          2028,
          2034,
          2040,
          2046,
          2052,
          2058,
          2064,
          2070,
          2076,
          2082,
          2088,
          2094,
          2100,
          2106,
          2112,
          2118,
          2124,
          2130,
          2136,
          2142,
          2148,
          2154,
          2160,
          2166,
          2172,
          2178,
          2184,
          2190,
          2196,
          2202,
          2208,
          2214,
          2220,
          2226,
          2232,
          2238,
          2244,
          2250,
          2256,
          2262,
          2268,
          2274,
          2280,
          2286,
          2292,
          2298,
          2304,
          2310,
          2316,
          2322,
          2328,
          2334,
          2340,
          2346,
          2352,
          2358,
          2364,
          2370,
          2376,
          2382,
          2388,
          2394,
          2400,
          2406,
          2412,
          2418,
          2424,
          2430,
          2436,
          2442,
          2448,
          2454,
          2460,
          2466,
          2472,
          2478,
          2484,
          2490,
          2496,
          2502,
          2508,
          2514,
          2520,
          2526,
          2532,
          2538,
          2544,
          2550,
          2556,
          2562,
          2568,
          2574,
          2580,
          2586,
          2592,
          2598,
          2604,
          2610,
          2616,
          2622,
          2628,
          2634,
          2640,
          2646,
          2652,
          2658,
          2664,
          2670,
          2676,
          2682,
          2688,
          2694,
          2700,
          2706,
          2712,
          2718,
          2724,
          2730,
          2736,
          2742,
          2748,
          2754,
          2760,
          2766,
          2772,
          2778,
          2784,
          2790,
          2796,
          2802,
          2808,
          2814,
          2820,
          2826,
          2832,
          2838,
          2844,
          2850,
          2856,
          2862,
          2868,
          2874,
          2880,
          2886,
          2892,
          2898,
          2904,
          2910,
          2916,
          2922,
          2928,
          2934,
          2940,
          2946,
          2952,
          2958,
          2964,
          2970,
          2976,
          2982,
          2988,
          2994,
          3000,
          3006,
          3012,
          3018,
          3024,
          3030,
          3036,
          3042,
          3048,
          3054,
          3060,
          3066,
          3072,
          3078,
          3084,
          3090,
          3096,
          3102,
          3108,
          3114,
          3120,
          3126,
          3132,
          3138,
          3144,
          3150,
          3156,
          3162,
          3168,
          3174,
          3180,
          3186,
          3192,
          3198,
          3204,
          3210,
          3216,
          3222,
          3228,
          3234,
          3240,
          3246,
          3252,
          3258,
          3264,
          3270,
          3276,
          3282,
          3288,
          3294,
          3300,
          3306,
          3312,
          3318,
          3324,
          3330,
          3336,
          3342,
          3348,
          3354,
          3360,
          3366,
          3372,
          3378,
          3384,
          3390,
          3396,
          3402,
          3408,
          3414,
          3420,
          3426,
          3432,
          3438,
          3444,
          3450,
          3456,
          3462,
          3468,
          3474,
          3480,
          3486,
          3492,
          3498,
          3504,
          3510,
          3516,
          3522,
          3528,
          3534,
          3540,
          3546,
          3552,
          3558,
          3564,
          3570,
          3576,
          3582,
          3588,
          3594,
          3600,
          3606,
          3612,
          3618,
          3624,
          3630,
          3636,
          3642,
          3648,
          3654,
          3660,
          3666,
          3672,
          3678,
          3684,
          3690,
          3696,
          3702,
          3708,
          3714,
          3720,
          3726,
          3732,
          3738,
          3744,
          3750,
          3756,
          3762,
          3768,
          3774,
          3780,
          3786,
          3792,
          3798,
          3804,
          3810,
          3816,
          3822,
          3828,
          3834,
          3840,
          3846,
          3852,
          3858,
          3864,
          3870,
          3876,
          3882,
          3888,
          3894,
          3900,
          3906,
          3912,
          3918,
          3924,
          3930,
          3936,
          3942,
          3948,
          3954,
          3960,
          3966,
          3972,
          3978,
          3984,
          3990,
          3996,
          4002,
          4008,
          4014,
          4020,
          4026,
          4032,
          4038,
          4044,
          4050,
          4056,
          4062,
          4068,
          4074,
          4080,
          4086,
          4092,
          4098,
          4104,
          4110,
          4116,
          4122,
          4128,
          4134,
          4140,
          4146,
          4152,
          4158,
          4164,
          4170,
          4176,
          4182,
          4188,
          4194,
          4200,
          4206,
          4212,
          4218,
          4224,
          4230,
          4236,
          4242,
          4248,
          4254,
          4260,
          4266,
          4272,
          4278,
          4284,
          4290,
          4296,
          4302,
          4308,
          4314,
          4320,
          4326,
          4332,
          4338,
          4344,
          4350,
          4356,
          4362,
          4368,
          4374,
          4380,
          4386,
          4392,
          4398,
          4404,
          4410,
          4416,
          4422,
          4428,
          4434,
          4440,
          4446,
          4452,
          4458,
          4464,
          4470,
          4476,
          4482,
          4488,
          4494,
          4500,
          4506,
          4512,
          4518,
          4524,
          4530,
          4536,
          4542,
          4548,
          4554,
          4560,
          4566,
          4572,
          4578,
          4584,
          4590,
          4596,
          4602,
          4608,
          4614,
          4620,
          4626,
          4632,
          4638,
          4644,
          4650,
          4656,
          4662,
          4668,
          4674,
          4680,
          4686,
          4692,
          4698,
          4704,
          4710,
          4716,
          4722,
          4728,
          4734,
          4740,
          4746,
          4752,
          4758,
          4764,
          4770,
          4776,
          4782,
          4788,
          4794,
          4800,
          4806,
          4812,
          4818,
          4824,
          4830,
          4836,
          4842,
          4848,
          4854,
          4860,
          4866,
          4872,
          4878,
          4884,
          4890,
          4896,
          4902,
          4908,
          4914,
          4920,
          4926,
          4932,
          4938,
          4944,
          4950,
          4956,
          4962,
          4968,
          4974,
          4980,
          4986,
          4992,
          4998,
          5004,
          5010,
          5016,
          5022,
          5028,
          5034,
          5040,
          5046,
          5052,
          5058,
          5064,
          5070,
          5076,
          5082,
          5088,
          5094,
          5100,
          5106,
          5112,
          5118,
          5124,
          5130,
          5136,
          5142,
          5148,
          5154,
          5160,
          5166,
          5172,
          5178,
          5184,
          5190,
          5196,
          5202,
          5208,
          5214,
          5220,
          5226,
          5232,
          5238,
          5244,
          5250,
          5256,
          5262,
          5268,
          5274,
          5280,
          5286,
          5292,
          5298,
          5304,
          5310,
          5316,
          5322,
          5328,
          5334,
          5340,
          5346,
          5352,
          5358,
          5364,
          5370,
          5376,
          5382,
          5388,
          5394,
          5400,
          5406,
          5412,
          5418,
          5424,
          5430,
          5436,
          5442,
          5448,
          5454,
          5460,
          5466,
          5472,
          5478,
          5484,
          5490,
          5496,
          5502,
          5508,
          5514,
          5520,
          5526,
          5532,
          5538,
          5544,
          5550,
          5556,
          5562,
          5568,
          5574,
          5580,
          5586,
          5592,
          5598,
          5604,
          5610,
          5616,
          5622,
          5628,
          5634,
          5640,
          5646,
          5652,
          5658,
          5664,
          5670,
          5676,
          5682,
          5688,
          5694,
          5700,
          5706,
          5712,
          5718,
          5724,
          5730,
          5736,
          5742,
          5748,
          5754,
          5760,
          5766,
          5772,
          5778,
          5784,
          5790,
          5796,
          5802,
          5808,
          5814,
          5820,
          5826,
          5832,
          5838,
          5844,
          5850,
          5856,
          5862,
          5868,
          5874,
          5880,
          5886,
          5892,
          5898,
          5904,
          5910,
          5916,
          5922,
          5928,
          5934,
          5940,
          5946,
          5952,
          5958,
          5964,
          5970,
          5976,
          5982,
          5988,
          5994
         ]
        },
        {
         "mode": "lines",
         "name": "Path length - CRW 6",
         "showlegend": true,
         "type": "scatter",
         "x": {
          "bdata": "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",
          "dtype": "i2"
         },
         "y": [
          0,
          6,
          12,
          18,
          24,
          30,
          36,
          42,
          48,
          54,
          60,
          66,
          72,
          78,
          84,
          90,
          96,
          102,
          108,
          114,
          120,
          126,
          132,
          138,
          144,
          150,
          156,
          162,
          168,
          174,
          180,
          186,
          192,
          198,
          204,
          210,
          216,
          222,
          228,
          234,
          240,
          246,
          252,
          258,
          264,
          270,
          276,
          282,
          288,
          294,
          300,
          306,
          312,
          318,
          324,
          330,
          336,
          342,
          348,
          354,
          360,
          366,
          372,
          378,
          384,
          390,
          396,
          402,
          408,
          414,
          420,
          426,
          432,
          438,
          444,
          450,
          456,
          462,
          468,
          474,
          480,
          486,
          492,
          498,
          504,
          510,
          516,
          522,
          528,
          534,
          540,
          546,
          552,
          558,
          564,
          570,
          576,
          582,
          588,
          594,
          600,
          606,
          612,
          618,
          624,
          630,
          636,
          642,
          648,
          654,
          660,
          666,
          672,
          678,
          684,
          690,
          696,
          702,
          708,
          714,
          720,
          726,
          732,
          738,
          744,
          750,
          756,
          762,
          768,
          774,
          780,
          786,
          792,
          798,
          804,
          810,
          816,
          822,
          828,
          834,
          840,
          846,
          852,
          858,
          864,
          870,
          876,
          882,
          888,
          894,
          900,
          906,
          912,
          918,
          924,
          930,
          936,
          942,
          948,
          954,
          960,
          966,
          972,
          978,
          984,
          990,
          996,
          1002,
          1008,
          1014,
          1020,
          1026,
          1032,
          1038,
          1044,
          1050,
          1056,
          1062,
          1068,
          1074,
          1080,
          1086,
          1092,
          1098,
          1104,
          1110,
          1116,
          1122,
          1128,
          1134,
          1140,
          1146,
          1152,
          1158,
          1164,
          1170,
          1176,
          1182,
          1188,
          1194,
          1200,
          1206,
          1212,
          1218,
          1224,
          1230,
          1236,
          1242,
          1248,
          1254,
          1260,
          1266,
          1272,
          1278,
          1284,
          1290,
          1296,
          1302,
          1308,
          1314,
          1320,
          1326,
          1332,
          1338,
          1344,
          1350,
          1356,
          1362,
          1368,
          1374,
          1380,
          1386,
          1392,
          1398,
          1404,
          1410,
          1416,
          1422,
          1428,
          1434,
          1440,
          1446,
          1452,
          1458,
          1464,
          1470,
          1476,
          1482,
          1488,
          1494,
          1500,
          1506,
          1512,
          1518,
          1524,
          1530,
          1536,
          1542,
          1548,
          1554,
          1560,
          1566,
          1572,
          1578,
          1584,
          1590,
          1596,
          1602,
          1608,
          1614,
          1620,
          1626,
          1632,
          1638,
          1644,
          1650,
          1656,
          1662,
          1668,
          1674,
          1680,
          1686,
          1692,
          1698,
          1704,
          1710,
          1716,
          1722,
          1728,
          1734,
          1740,
          1746,
          1752,
          1758,
          1764,
          1770,
          1776,
          1782,
          1788,
          1794,
          1800,
          1806,
          1812,
          1818,
          1824,
          1830,
          1836,
          1842,
          1848,
          1854,
          1860,
          1866,
          1872,
          1878,
          1884,
          1890,
          1896,
          1902,
          1908,
          1914,
          1920,
          1926,
          1932,
          1938,
          1944,
          1950,
          1956,
          1962,
          1968,
          1974,
          1980,
          1986,
          1992,
          1998,
          2004,
          2010,
          2016,
          2022,
          2028,
          2034,
          2040,
          2046,
          2052,
          2058,
          2064,
          2070,
          2076,
          2082,
          2088,
          2094,
          2100,
          2106,
          2112,
          2118,
          2124,
          2130,
          2136,
          2142,
          2148,
          2154,
          2160,
          2166,
          2172,
          2178,
          2184,
          2190,
          2196,
          2202,
          2208,
          2214,
          2220,
          2226,
          2232,
          2238,
          2244,
          2250,
          2256,
          2262,
          2268,
          2274,
          2280,
          2286,
          2292,
          2298,
          2304,
          2310,
          2316,
          2322,
          2328,
          2334,
          2340,
          2346,
          2352,
          2358,
          2364,
          2370,
          2376,
          2382,
          2388,
          2394,
          2400,
          2406,
          2412,
          2418,
          2424,
          2430,
          2436,
          2442,
          2448,
          2454,
          2460,
          2466,
          2472,
          2478,
          2484,
          2490,
          2496,
          2502,
          2508,
          2514,
          2520,
          2526,
          2532,
          2538,
          2544,
          2550,
          2556,
          2562,
          2568,
          2574,
          2580,
          2586,
          2592,
          2598,
          2604,
          2610,
          2616,
          2622,
          2628,
          2634,
          2640,
          2646,
          2652,
          2658,
          2664,
          2670,
          2676,
          2682,
          2688,
          2694,
          2700,
          2706,
          2712,
          2718,
          2724,
          2730,
          2736,
          2742,
          2748,
          2754,
          2760,
          2766,
          2772,
          2778,
          2784,
          2790,
          2796,
          2802,
          2808,
          2814,
          2820,
          2826,
          2832,
          2838,
          2844,
          2850,
          2856,
          2862,
          2868,
          2874,
          2880,
          2886,
          2892,
          2898,
          2904,
          2910,
          2916,
          2922,
          2928,
          2934,
          2940,
          2946,
          2952,
          2958,
          2964,
          2970,
          2976,
          2982,
          2988,
          2994,
          3000,
          3006,
          3012,
          3018,
          3024,
          3030,
          3036,
          3042,
          3048,
          3054,
          3060,
          3066,
          3072,
          3078,
          3084,
          3090,
          3096,
          3102,
          3108,
          3114,
          3120,
          3126,
          3132,
          3138,
          3144,
          3150,
          3156,
          3162,
          3168,
          3174,
          3180,
          3186,
          3192,
          3198,
          3204,
          3210,
          3216,
          3222,
          3228,
          3234,
          3240,
          3246,
          3252,
          3258,
          3264,
          3270,
          3276,
          3282,
          3288,
          3294,
          3300,
          3306,
          3312,
          3318,
          3324,
          3330,
          3336,
          3342,
          3348,
          3354,
          3360,
          3366,
          3372,
          3378,
          3384,
          3390,
          3396,
          3402,
          3408,
          3414,
          3420,
          3426,
          3432,
          3438,
          3444,
          3450,
          3456,
          3462,
          3468,
          3474,
          3480,
          3486,
          3492,
          3498,
          3504,
          3510,
          3516,
          3522,
          3528,
          3534,
          3540,
          3546,
          3552,
          3558,
          3564,
          3570,
          3576,
          3582,
          3588,
          3594,
          3600,
          3606,
          3612,
          3618,
          3624,
          3630,
          3636,
          3642,
          3648,
          3654,
          3660,
          3666,
          3672,
          3678,
          3684,
          3690,
          3696,
          3702,
          3708,
          3714,
          3720,
          3726,
          3732,
          3738,
          3744,
          3750,
          3756,
          3762,
          3768,
          3774,
          3780,
          3786,
          3792,
          3798,
          3804,
          3810,
          3816,
          3822,
          3828,
          3834,
          3840,
          3846,
          3852,
          3858,
          3864,
          3870,
          3876,
          3882,
          3888,
          3894,
          3900,
          3906,
          3912,
          3918,
          3924,
          3930,
          3936,
          3942,
          3948,
          3954,
          3960,
          3966,
          3972,
          3978,
          3984,
          3990,
          3996,
          4002,
          4008,
          4014,
          4020,
          4026,
          4032,
          4038,
          4044,
          4050,
          4056,
          4062,
          4068,
          4074,
          4080,
          4086,
          4092,
          4098,
          4104,
          4110,
          4116,
          4122,
          4128,
          4134,
          4140,
          4146,
          4152,
          4158,
          4164,
          4170,
          4176,
          4182,
          4188,
          4194,
          4200,
          4206,
          4212,
          4218,
          4224,
          4230,
          4236,
          4242,
          4248,
          4254,
          4260,
          4266,
          4272,
          4278,
          4284,
          4290,
          4296,
          4302,
          4308,
          4314,
          4320,
          4326,
          4332,
          4338,
          4344,
          4350,
          4356,
          4362,
          4368,
          4374,
          4380,
          4386,
          4392,
          4398,
          4404,
          4410,
          4416,
          4422,
          4428,
          4434,
          4440,
          4446,
          4452,
          4458,
          4464,
          4470,
          4476,
          4482,
          4488,
          4494,
          4500,
          4506,
          4512,
          4518,
          4524,
          4530,
          4536,
          4542,
          4548,
          4554,
          4560,
          4566,
          4572,
          4578,
          4584,
          4590,
          4596,
          4602,
          4608,
          4614,
          4620,
          4626,
          4632,
          4638,
          4644,
          4650,
          4656,
          4662,
          4668,
          4674,
          4680,
          4686,
          4692,
          4698,
          4704,
          4710,
          4716,
          4722,
          4728,
          4734,
          4740,
          4746,
          4752,
          4758,
          4764,
          4770,
          4776,
          4782,
          4788,
          4794,
          4800,
          4806,
          4812,
          4818,
          4824,
          4830,
          4836,
          4842,
          4848,
          4854,
          4860,
          4866,
          4872,
          4878,
          4884,
          4890,
          4896,
          4902,
          4908,
          4914,
          4920,
          4926,
          4932,
          4938,
          4944,
          4950,
          4956,
          4962,
          4968,
          4974,
          4980,
          4986,
          4992,
          4998,
          5004,
          5010,
          5016,
          5022,
          5028,
          5034,
          5040,
          5046,
          5052,
          5058,
          5064,
          5070,
          5076,
          5082,
          5088,
          5094,
          5100,
          5106,
          5112,
          5118,
          5124,
          5130,
          5136,
          5142,
          5148,
          5154,
          5160,
          5166,
          5172,
          5178,
          5184,
          5190,
          5196,
          5202,
          5208,
          5214,
          5220,
          5226,
          5232,
          5238,
          5244,
          5250,
          5256,
          5262,
          5268,
          5274,
          5280,
          5286,
          5292,
          5298,
          5304,
          5310,
          5316,
          5322,
          5328,
          5334,
          5340,
          5346,
          5352,
          5358,
          5364,
          5370,
          5376,
          5382,
          5388,
          5394,
          5400,
          5406,
          5412,
          5418,
          5424,
          5430,
          5436,
          5442,
          5448,
          5454,
          5460,
          5466,
          5472,
          5478,
          5484,
          5490,
          5496,
          5502,
          5508,
          5514,
          5520,
          5526,
          5532,
          5538,
          5544,
          5550,
          5556,
          5562,
          5568,
          5574,
          5580,
          5586,
          5592,
          5598,
          5604,
          5610,
          5616,
          5622,
          5628,
          5634,
          5640,
          5646,
          5652,
          5658,
          5664,
          5670,
          5676,
          5682,
          5688,
          5694,
          5700,
          5706,
          5712,
          5718,
          5724,
          5730,
          5736,
          5742,
          5748,
          5754,
          5760,
          5766,
          5772,
          5778,
          5784,
          5790,
          5796,
          5802,
          5808,
          5814,
          5820,
          5826,
          5832,
          5838,
          5844,
          5850,
          5856,
          5862,
          5868,
          5874,
          5880,
          5886,
          5892,
          5898,
          5904,
          5910,
          5916,
          5922,
          5928,
          5934,
          5940,
          5946,
          5952,
          5958,
          5964,
          5970,
          5976,
          5982,
          5988,
          5994,
          6000
         ]
        }
       ],
       "layout": {
        "height": 800,
        "template": {
         "data": {
          "bar": [
           {
            "error_x": {
             "color": "#2a3f5f"
            },
            "error_y": {
             "color": "#2a3f5f"
            },
            "marker": {
             "line": {
              "color": "#E5ECF6",
              "width": 0.5
             },
             "pattern": {
              "fillmode": "overlay",
              "size": 10,
              "solidity": 0.2
             }
            },
            "type": "bar"
           }
          ],
          "barpolar": [
           {
            "marker": {
             "line": {
              "color": "#E5ECF6",
              "width": 0.5
             },
             "pattern": {
              "fillmode": "overlay",
              "size": 10,
              "solidity": 0.2
             }
            },
            "type": "barpolar"
           }
          ],
          "carpet": [
           {
            "aaxis": {
             "endlinecolor": "#2a3f5f",
             "gridcolor": "white",
             "linecolor": "white",
             "minorgridcolor": "white",
             "startlinecolor": "#2a3f5f"
            },
            "baxis": {
             "endlinecolor": "#2a3f5f",
             "gridcolor": "white",
             "linecolor": "white",
             "minorgridcolor": "white",
             "startlinecolor": "#2a3f5f"
            },
            "type": "carpet"
           }
          ],
          "choropleth": [
           {
            "colorbar": {
             "outlinewidth": 0,
             "ticks": ""
            },
            "type": "choropleth"
           }
          ],
          "contour": [
           {
            "colorbar": {
             "outlinewidth": 0,
             "ticks": ""
            },
            "colorscale": [
             [
              0,
              "#0d0887"
             ],
             [
              0.1111111111111111,
              "#46039f"
             ],
             [
              0.2222222222222222,
              "#7201a8"
             ],
             [
              0.3333333333333333,
              "#9c179e"
             ],
             [
              0.4444444444444444,
              "#bd3786"
             ],
             [
              0.5555555555555556,
              "#d8576b"
             ],
             [
              0.6666666666666666,
              "#ed7953"
             ],
             [
              0.7777777777777778,
              "#fb9f3a"
             ],
             [
              0.8888888888888888,
              "#fdca26"
             ],
             [
              1,
              "#f0f921"
             ]
            ],
            "type": "contour"
           }
          ],
          "contourcarpet": [
           {
            "colorbar": {
             "outlinewidth": 0,
             "ticks": ""
            },
            "type": "contourcarpet"
           }
          ],
          "heatmap": [
           {
            "colorbar": {
             "outlinewidth": 0,
             "ticks": ""
            },
            "colorscale": [
             [
              0,
              "#0d0887"
             ],
             [
              0.1111111111111111,
              "#46039f"
             ],
             [
              0.2222222222222222,
              "#7201a8"
             ],
             [
              0.3333333333333333,
              "#9c179e"
             ],
             [
              0.4444444444444444,
              "#bd3786"
             ],
             [
              0.5555555555555556,
              "#d8576b"
             ],
             [
              0.6666666666666666,
              "#ed7953"
             ],
             [
              0.7777777777777778,
              "#fb9f3a"
             ],
             [
              0.8888888888888888,
              "#fdca26"
             ],
             [
              1,
              "#f0f921"
             ]
            ],
            "type": "heatmap"
           }
          ],
          "histogram": [
           {
            "marker": {
             "pattern": {
              "fillmode": "overlay",
              "size": 10,
              "solidity": 0.2
             }
            },
            "type": "histogram"
           }
          ],
          "histogram2d": [
           {
            "colorbar": {
             "outlinewidth": 0,
             "ticks": ""
            },
            "colorscale": [
             [
              0,
              "#0d0887"
             ],
             [
              0.1111111111111111,
              "#46039f"
             ],
             [
              0.2222222222222222,
              "#7201a8"
             ],
             [
              0.3333333333333333,
              "#9c179e"
             ],
             [
              0.4444444444444444,
              "#bd3786"
             ],
             [
              0.5555555555555556,
              "#d8576b"
             ],
             [
              0.6666666666666666,
              "#ed7953"
             ],
             [
              0.7777777777777778,
              "#fb9f3a"
             ],
             [
              0.8888888888888888,
              "#fdca26"
             ],
             [
              1,
              "#f0f921"
             ]
            ],
            "type": "histogram2d"
           }
          ],
          "histogram2dcontour": [
           {
            "colorbar": {
             "outlinewidth": 0,
             "ticks": ""
            },
            "colorscale": [
             [
              0,
              "#0d0887"
             ],
             [
              0.1111111111111111,
              "#46039f"
             ],
             [
              0.2222222222222222,
              "#7201a8"
             ],
             [
              0.3333333333333333,
              "#9c179e"
             ],
             [
              0.4444444444444444,
              "#bd3786"
             ],
             [
              0.5555555555555556,
              "#d8576b"
             ],
             [
              0.6666666666666666,
              "#ed7953"
             ],
             [
              0.7777777777777778,
              "#fb9f3a"
             ],
             [
              0.8888888888888888,
              "#fdca26"
             ],
             [
              1,
              "#f0f921"
             ]
            ],
            "type": "histogram2dcontour"
           }
          ],
          "mesh3d": [
           {
            "colorbar": {
             "outlinewidth": 0,
             "ticks": ""
            },
            "type": "mesh3d"
           }
          ],
          "parcoords": [
           {
            "line": {
             "colorbar": {
              "outlinewidth": 0,
              "ticks": ""
             }
            },
            "type": "parcoords"
           }
          ],
          "pie": [
           {
            "automargin": true,
            "type": "pie"
           }
          ],
          "scatter": [
           {
            "fillpattern": {
             "fillmode": "overlay",
             "size": 10,
             "solidity": 0.2
            },
            "type": "scatter"
           }
          ],
          "scatter3d": [
           {
            "line": {
             "colorbar": {
              "outlinewidth": 0,
              "ticks": ""
             }
            },
            "marker": {
             "colorbar": {
              "outlinewidth": 0,
              "ticks": ""
             }
            },
            "type": "scatter3d"
           }
          ],
          "scattercarpet": [
           {
            "marker": {
             "colorbar": {
              "outlinewidth": 0,
              "ticks": ""
             }
            },
            "type": "scattercarpet"
           }
          ],
          "scattergeo": [
           {
            "marker": {
             "colorbar": {
              "outlinewidth": 0,
              "ticks": ""
             }
            },
            "type": "scattergeo"
           }
          ],
          "scattergl": [
           {
            "marker": {
             "colorbar": {
              "outlinewidth": 0,
              "ticks": ""
             }
            },
            "type": "scattergl"
           }
          ],
          "scattermap": [
           {
            "marker": {
             "colorbar": {
              "outlinewidth": 0,
              "ticks": ""
             }
            },
            "type": "scattermap"
           }
          ],
          "scattermapbox": [
           {
            "marker": {
             "colorbar": {
              "outlinewidth": 0,
              "ticks": ""
             }
            },
            "type": "scattermapbox"
           }
          ],
          "scatterpolar": [
           {
            "marker": {
             "colorbar": {
              "outlinewidth": 0,
              "ticks": ""
             }
            },
            "type": "scatterpolar"
           }
          ],
          "scatterpolargl": [
           {
            "marker": {
             "colorbar": {
              "outlinewidth": 0,
              "ticks": ""
             }
            },
            "type": "scatterpolargl"
           }
          ],
          "scatterternary": [
           {
            "marker": {
             "colorbar": {
              "outlinewidth": 0,
              "ticks": ""
             }
            },
            "type": "scatterternary"
           }
          ],
          "surface": [
           {
            "colorbar": {
             "outlinewidth": 0,
             "ticks": ""
            },
            "colorscale": [
             [
              0,
              "#0d0887"
             ],
             [
              0.1111111111111111,
              "#46039f"
             ],
             [
              0.2222222222222222,
              "#7201a8"
             ],
             [
              0.3333333333333333,
              "#9c179e"
             ],
             [
              0.4444444444444444,
              "#bd3786"
             ],
             [
              0.5555555555555556,
              "#d8576b"
             ],
             [
              0.6666666666666666,
              "#ed7953"
             ],
             [
              0.7777777777777778,
              "#fb9f3a"
             ],
             [
              0.8888888888888888,
              "#fdca26"
             ],
             [
              1,
              "#f0f921"
             ]
            ],
            "type": "surface"
           }
          ],
          "table": [
           {
            "cells": {
             "fill": {
              "color": "#EBF0F8"
             },
             "line": {
              "color": "white"
             }
            },
            "header": {
             "fill": {
              "color": "#C8D4E3"
             },
             "line": {
              "color": "white"
             }
            },
            "type": "table"
           }
          ]
         },
         "layout": {
          "annotationdefaults": {
           "arrowcolor": "#2a3f5f",
           "arrowhead": 0,
           "arrowwidth": 1
          },
          "autotypenumbers": "strict",
          "coloraxis": {
           "colorbar": {
            "outlinewidth": 0,
            "ticks": ""
           }
          },
          "colorscale": {
           "diverging": [
            [
             0,
             "#8e0152"
            ],
            [
             0.1,
             "#c51b7d"
            ],
            [
             0.2,
             "#de77ae"
            ],
            [
             0.3,
             "#f1b6da"
            ],
            [
             0.4,
             "#fde0ef"
            ],
            [
             0.5,
             "#f7f7f7"
            ],
            [
             0.6,
             "#e6f5d0"
            ],
            [
             0.7,
             "#b8e186"
            ],
            [
             0.8,
             "#7fbc41"
            ],
            [
             0.9,
             "#4d9221"
            ],
            [
             1,
             "#276419"
            ]
           ],
           "sequential": [
            [
             0,
             "#0d0887"
            ],
            [
             0.1111111111111111,
             "#46039f"
            ],
            [
             0.2222222222222222,
             "#7201a8"
            ],
            [
             0.3333333333333333,
             "#9c179e"
            ],
            [
             0.4444444444444444,
             "#bd3786"
            ],
            [
             0.5555555555555556,
             "#d8576b"
            ],
            [
             0.6666666666666666,
             "#ed7953"
            ],
            [
             0.7777777777777778,
             "#fb9f3a"
            ],
            [
             0.8888888888888888,
             "#fdca26"
            ],
            [
             1,
             "#f0f921"
            ]
           ],
           "sequentialminus": [
            [
             0,
             "#0d0887"
            ],
            [
             0.1111111111111111,
             "#46039f"
            ],
            [
             0.2222222222222222,
             "#7201a8"
            ],
            [
             0.3333333333333333,
             "#9c179e"
            ],
            [
             0.4444444444444444,
             "#bd3786"
            ],
            [
             0.5555555555555556,
             "#d8576b"
            ],
            [
             0.6666666666666666,
             "#ed7953"
            ],
            [
             0.7777777777777778,
             "#fb9f3a"
            ],
            [
             0.8888888888888888,
             "#fdca26"
            ],
            [
             1,
             "#f0f921"
            ]
           ]
          },
          "colorway": [
           "#636efa",
           "#EF553B",
           "#00cc96",
           "#ab63fa",
           "#FFA15A",
           "#19d3f3",
           "#FF6692",
           "#B6E880",
           "#FF97FF",
           "#FECB52"
          ],
          "font": {
           "color": "#2a3f5f"
          },
          "geo": {
           "bgcolor": "white",
           "lakecolor": "white",
           "landcolor": "#E5ECF6",
           "showlakes": true,
           "showland": true,
           "subunitcolor": "white"
          },
          "hoverlabel": {
           "align": "left"
          },
          "hovermode": "closest",
          "mapbox": {
           "style": "light"
          },
          "paper_bgcolor": "white",
          "plot_bgcolor": "#E5ECF6",
          "polar": {
           "angularaxis": {
            "gridcolor": "white",
            "linecolor": "white",
            "ticks": ""
           },
           "bgcolor": "#E5ECF6",
           "radialaxis": {
            "gridcolor": "white",
            "linecolor": "white",
            "ticks": ""
           }
          },
          "scene": {
           "xaxis": {
            "backgroundcolor": "#E5ECF6",
            "gridcolor": "white",
            "gridwidth": 2,
            "linecolor": "white",
            "showbackground": true,
            "ticks": "",
            "zerolinecolor": "white"
           },
           "yaxis": {
            "backgroundcolor": "#E5ECF6",
            "gridcolor": "white",
            "gridwidth": 2,
            "linecolor": "white",
            "showbackground": true,
            "ticks": "",
            "zerolinecolor": "white"
           },
           "zaxis": {
            "backgroundcolor": "#E5ECF6",
            "gridcolor": "white",
            "gridwidth": 2,
            "linecolor": "white",
            "showbackground": true,
            "ticks": "",
            "zerolinecolor": "white"
           }
          },
          "shapedefaults": {
           "line": {
            "color": "#2a3f5f"
           }
          },
          "ternary": {
           "aaxis": {
            "gridcolor": "white",
            "linecolor": "white",
            "ticks": ""
           },
           "baxis": {
            "gridcolor": "white",
            "linecolor": "white",
            "ticks": ""
           },
           "bgcolor": "#E5ECF6",
           "caxis": {
            "gridcolor": "white",
            "linecolor": "white",
            "ticks": ""
           }
          },
          "title": {
           "x": 0.05
          },
          "xaxis": {
           "automargin": true,
           "gridcolor": "white",
           "linecolor": "white",
           "ticks": "",
           "title": {
            "standoff": 15
           },
           "zerolinecolor": "white",
           "zerolinewidth": 2
          },
          "yaxis": {
           "automargin": true,
           "gridcolor": "white",
           "linecolor": "white",
           "ticks": "",
           "title": {
            "standoff": 15
           },
           "zerolinecolor": "white",
           "zerolinewidth": 2
          }
         }
        },
        "title": {
         "text": "Path Lengths"
        }
       }
      }
     },
     "metadata": {},
     "output_type": "display_data"
    }
   ],
   "source": [
    "fig = go.Figure()\n",
    "\n",
    "fig.add_trace(go.Scatter(\n",
    "    x= bm_pl_3.index,\n",
    "    y= bm_pl_3.y_pos,\n",
    "    name='Path length - BM 3',\n",
    "    mode='lines',\n",
    "    showlegend=True\n",
    "))\n",
    "\n",
    "fig.add_trace(go.Scatter(\n",
    "    x= bm_pl_6.index,\n",
    "    y= bm_pl_6.y_pos,\n",
    "    name='Path length - BM 6',\n",
    "    marker = dict(size=2),\n",
    "    line = dict(width=6),\n",
    "    mode='lines',\n",
    "    showlegend=True\n",
    "))\n",
    "\n",
    "fig.add_trace(go.Scatter(\n",
    "    x= crw_pl_6.index,\n",
    "    y= crw_pl_6.y_pos,\n",
    "    name='Path length - CRW 6',\n",
    "    mode='lines',\n",
    "    showlegend=True\n",
    "))\n",
    "\n",
    "fig.update_layout(\n",
    "    title='Path Lengths',\n",
    "    height=800,\n",
    ")\n",
    "\n",
    "fig.show()"
   ]
  },
  {
   "cell_type": "markdown",
   "metadata": {},
   "source": [
    "# Activity 2: Mean Squared Displacement - (BM vs CRW)"
   ]
  },
  {
   "cell_type": "markdown",
   "metadata": {},
   "source": [
    "- Write a function that returns the **mean squared displacement** for a given trajectory.\n",
    "- Compare the **mean squared displacement** curves of at least two trajectories of\n",
    "different kinds, as shown in the figure below.\n",
    "- Display the results using **plotly.**"
   ]
  },
  {
   "cell_type": "markdown",
   "metadata": {},
   "source": [
    "# FUNCTIONS"
   ]
  },
  {
   "cell_type": "code",
   "execution_count": 66,
   "metadata": {},
   "outputs": [],
   "source": [
    "#####################################################################################\n",
    "# Mean Squared Displacement (MSD)\n",
    "#####################################################################################\n",
    "def msd(trajectory_df):\n",
    "    \"\"\"    \n",
    "    Arguments\n",
    "    -----------\n",
    "        trajectory_df: DataFrame with columns \n",
    "    \n",
    "    Returns\n",
    "    -----------\n",
    "        msd_df: DataFrame with columns ['tau', 'msd'] (time lag vs MSD).\n",
    "    \"\"\"\n",
    "    x_col = 'x' if 'x' in trajectory_df.columns else 'x_pos'\n",
    "    y_col = 'y' if 'y' in trajectory_df.columns else 'y_pos'\n",
    "    \n",
    "    # Extract coordinates\n",
    "    x = trajectory_df[x_col].values\n",
    "    y = trajectory_df[y_col].values\n",
    "    n = len(x)\n",
    "    \n",
    "    msd_values = np.zeros(n - 1)  # Store MSD values\n",
    "    taus = np.arange(1, n)  # All possible time lags\n",
    "    \n",
    "    for tau in taus:\n",
    "        displacements = (x[tau:] - x[:-tau])**2 + (y[tau:] - y[:-tau])**2\n",
    "        msd_values[tau - 1] = np.mean(displacements)  # Store MSD value for this tau\n",
    "    \n",
    "    return pd.DataFrame({'tau': taus, 'msd': msd_values})  "
   ]
  },
  {
   "cell_type": "markdown",
   "metadata": {},
   "source": [
    "# CALCULATE MSD AND PLOTING"
   ]
  },
  {
   "cell_type": "code",
   "execution_count": 67,
   "metadata": {},
   "outputs": [
    {
     "data": {
      "application/vnd.plotly.v1+json": {
       "config": {
        "plotlyServerURL": "https://plot.ly"
       },
       "data": [
        {
         "mode": "lines",
         "name": "MSD BM6",
         "type": "scatter",
         "x": {
          "bdata": "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",
          "dtype": "i2"
         },
         "y": {
          "bdata": "AAAAAAAAQkBW6WUFyXxSQAWSZlGgBVxAkLpOmeD5YkBZ27iIifxnQGt9RsPIT21AnI2Uo25rcUAZOa2/vwd0QFn/DdYxn3ZAhkM9nYxjeUCMnYmJ7hZ8QES0JEI4+H5AYfXBIUDggED3lrlB9UuCQHr32k1swoNATgt9Zi4whUAzPvAYDaSGQEdDBtgkGIhAVkM1LdKRiUBP3hSOIgCLQDaWiyxjeIxAxZh40/DdjUD9XbMeXUCPQENYZvnkUpBA3ul1HWYCkUA8GXKM1LGRQCnZ/M66WJJA739tiVQGk0BkssslmrWTQBGkDiA5X5RARhwcDsb7lECvYvuFWpKVQA9ziWQ1J5ZAeohyU2DClkBkfqlFf1iXQCztejAG75dA0KZ1uXeKmEAqJgWSZx6ZQMis1z+5p5lAf321C1UmmkBETDYnNaSaQA4Mb8KyJptAiMbOE7m4m0AJ+lShP0mcQHqayqMw1JxAvzyjMvdxnUDMWm6hYQeeQETrEwA1m55A8No8d+U2n0CT6rxjB82fQCs2q1P5L6BAUvwFLNJ7oECvtGcHSsKgQOOLvncxCqFApM1GWbBVoUAVYSI6E5qhQPOv9N8z4KFAtH7RWs4mokCf5nCz8mqiQK5N2p9Sr6JACbZD03zxokCpo/RDnzWjQNkbiN0wgaNAwdxt+AnIo0CSm9HFGAykQFplEQniV6RAs0TXdTWlpEAWMiquHe6kQIN9aX3nOaVA6yIk93+LpUCQf92fnd+lQFZLj+U8NKZAC2FCvOOFpkApXh+iNNimQOK86m4JKadAdeV3kLd9p0BOT0bQ+dGnQH+cMtbzI6hAOpwyBSZzqEBp1k2suMKoQEvZP1FDF6lAwxkXsMFrqUCu0Or3FcapQERtB17KI6pAKAZorJSDqkCcys9Fx+WqQAAnHs6ESKtA5MTmVoepq0Av8ERqKQusQA3LqjxDa6xAi/tJZnXJrECBvpCNMimtQO2Tu28Xi61AEELTIarvrUAoOTwReVCuQEHFdtx8sa5A5+PgjH8Pr0BXVbTCp2uvQL7eGmyqza9AGKFaFMQYsEBPGVYqOEmwQOlLhcmZerBAiC8N2pupsECsl/w7/9awQJHvXe4OBbFAlceukC8zsUCPztaC7WGxQL8j9p5fkrFAW6IKjEDEsUAiwiQKtfixQOKWSA40MLJAbxCPCRVoskDE2JxB0Z2yQMVbpP/X0bJAG9hoXt0Fs0BP4+Zu4TezQOK+R+r8abNA82VzNJqbs0A72jtCZcuzQONGhvW6/bNA1aewJtIvtECkJZ6Z7WO0QNKKLBhDlLRAbvA5/UbEtEDgO4IM7fO0QOUZPvnHJrVAb9RUqt9ZtUAfBNI15Iq1QNXlzAfZurVAivKl6MXstUA/uSbsOR+2QIZzIkTyULZA6aJip3aBtkBjDWH0SrC2QDmPL5xd4LZAlOtet6cRt0Bq9m857kO3QAxMwZJ2dbdAdy+YIvOnt0DH1bsgldm3QGG0vfTjCrhADQOIH+g9uECbrEO2U264QKSBU+hHnLhAGoAcj2bLuEDyDSetHvy4QHSv/K+DLblAVzHSZcRauUAM3WdcS4e5QLAWyffTt7lAFS+ZlqHmuUDyke6K9RW6QCa1hzBfSbpAjGr2QT99ukAUuntlqbG6QINXtwlY5rpA8DIv15AZu0BskogQ4k27QFyykV7tgLtAYJSwkwezu0DZ/65m3Oa7QCUttnC8G7xApV2POcxOvEAah31yhoO8QI/fqIi0t7xAi3aAwOzpvEBCWka4bhy9QPd1bTW5TL1AL2jJnkx/vUB2Fb/Y97G9QGbro6j35r1AEYVvnT8YvkBo7X4lh0u+QCVlRQIIgL5A4WyOC/ayvkCGuhb1peW+QBSXVr7zGL9Ab0lb+zNLv0ChXV1yyn2/QIyDi01wr79AoNOzw0Lcv0DslYrf9QPAQBQLr/M+GsBAUCQIKCIzwEBeGoy5/0zAQJVWWVNLZ8BAombvThmAwEB4ZzsAkZjAQDbC6qoHsMBAgBRCP7bHwED8wpA4GuHAQGnVFqb++MBAoXSY9K8QwUBg60dpISfBQMpjNa0kPcFAF32bONVTwUB4ck7jc2nBQLChPaxof8FAfibu/OSUwUDS/iGGJqnBQNTZsAqdwcFAIM2vQbLawUBHUmsml/HBQG4xukQ9C8JAIpWLUEklwkAO5MA7ij7CQNCGb/n6V8JANfrozwZwwkCA87yvYYjCQG/YqtZZosJA+KUWej69wkBpyX3kQdrCQKZz8pHP9cJAnU8TdFMQw0C1aIUkFi3DQKPkLfu/S8NArw6Idahpw0C409SSgonDQJENfr3sqsNAk24w7kTLw0DZ5CjFNezDQHkh4GIGDcRA9hpD/totxEBaxgmVvk/EQL3czj/DcMRAlRGIi8mQxECnd//bT7DEQINK3eEpzsRATxlekTPtxEBURJd31QzFQPHPnWuHK8VAJ4f2budJxUCnxTQ3NmfFQKSsRNm2hMVAp4zuU9ujxUCtmUogj8XFQHEpUuE/58VAOr3gHv4JxkAcerHMNinGQPAp1kPqR8ZAg7kX7khlxkCJ7yO/AoPGQB5QIxirocZATwBT0ljBxkDya9UszuDGQJEUkeSJAMdAnMEtXbchx0B4HMmxGUDHQC+2+ix8XsdAQ/47EGp7x0D5n1zB1ZbHQGfcyUlzs8dAy2cLFJjQx0Dg10QhuO3HQNPBZv1bCshAmnDMf2UlyEAkxRRf70HIQB5g/TSyX8hAMXFcZCZ+yEBfd2ZD157IQDf+it3yvshAnMt7fiHdyECbQ9zzyvvIQMEk5hsgG8lA6YEKEj44yUCSXgXL7FfJQOBu4JbLd8lAiR/Ya7eXyUCuSrwCqrnJQMtR73zd3clA8gKJkD8CykD/caL+IyfKQKKBVQtXSspAsDosTdBuykBDLjZivZPKQNe4LbEOuMpAxr6hSsLeykB2z92tdAXLQDH7CLkRLctADUQz+oZWy0D+vB0IxX7LQJreJMv3pctAEZuoKrvNy0CxQIYw5PTLQMy6Eed9HMxA5ERIb8pDzECyC9PLrmrMQJplCYmIkcxAi1eINqi5zECGsAMCJODMQEpEcCb+Bs1AZ8ZHfZAtzUCX0YlxoVTNQC1uqAGIfM1Ays1gU2GizUC87hoa2cfNQFo0/f/87s1ABOwr7MgWzkAXlJx7IT/OQJ+pXCU9Z85A+T3TVpmNzkDVsY4ExLTOQFnfD7pl3M5A3thMYpwBz0DBRereUCnPQF0QboxaT89AbztxvmF1z0CSGTBQUJvPQH/2tNyCwc9A1lFkm5Lmz0D/nzhHwgbQQPwTPcQ0GdBA2zG2F+Yq0EBRH+PpdDzQQIG6Kzq2TdBA8WKigL1e0ECl7V9K/G7QQPzRaTeqftBATAFbJaqN0ED4f7R5+J3QQCl7paOYrtBAUatSZJK/0EA+F6aPPtDQQDZbWPLy4NBAhzzUxjXz0ED3uSV7eQXRQG5neH84GNFA5xpQ3Owq0UBOe4kY2z3RQGZeW/uCUNFA2H3JvlVj0UAztRfVZnXRQEmTny7qhtFA3QtKBS+Y0UBST4H4aanRQELCbYlRu9FA4CcKIbLN0UDV86XCueDRQOsizBjM89FAWScSTaQG0kCaveI76hnSQOpgKyl3LdJAeMHKP7xA0kArW8IU91LSQGai3CYGZ9JAgMH7xbF60kBM1ZzdtI7SQKfssK2hodJAN+mCAXS10kA8gEe9KsnSQP5luKup29JALHHGjzPu0kA4mpc/XAHTQCeVkZouFNNAjQ+GDAcn00CIExKpRzrTQJW3YLLlTNNAVVJ6hO5e00AR8SJTvnLTQE6T3QVUhdNA484mWv2X00DKcHb8mqrTQLi1syTKvNNAvgiRy4LP00CCXQLWCuLTQEsv9F2N89NAAvJp4UEF1EAkJBWc4RjUQJJd56jKLNRAPttADg5B1EAjj9A2OFTUQM1BEMGCZtRAvxLZrrl51EC/xF1yv4zUQE3iWykAoNRAMscRw9Sz1EB8GhEgU8jUQL07kJU+3NRAA+Nz2zbw1EBXzxuc2wTVQJ82gxffGNVAB+WMn90s1UAsSVj4dj/VQC4jnYqvUtVAPeOMC8pk1UDQk2u3xXfVQPfEQwuHi9VARQSEA/yf1UC4Zt1XRbPVQDFdpitVxtVAarSywmva1UDll87KPu7VQGaFG0McAdZAB2lsqYkT1kAn36YEAybWQOmfpFeuONZAbadBi+1L1kAU8K9K9F7WQIpZkzj7cdZAlgPVEEGF1kD0vnnwcJfWQBt9r2SjqdZA0v5fO0W71kATWNxYeM3WQFssKpsJ4NZAgOzRHeTy1kC/G8UMigXXQCLWrRmBGNdAFhtXIZQr10CLfOdvVT/XQIB9Du/CUddA74uyBMFk10BSPtRee3fXQCf9Ogs/itdA8Q2X1S6e10AfjZjdX7HXQNyZYm5aw9dAMRwDqKHW10ACVxVagOrXQJMiSMpW/tdAKmXsx4YT2EAC7gHiYinYQIPquIZ5P9hAbLxdkhVW2EAFz+od9W3YQGT6xExrhthAoD/3+tee2EAXYiNpY7fYQEGKTTb1z9hAH1dmfg/p2EBAnjJUawLZQNMF1gs6HdlAAtPjvjQ52UAbPF4nglXZQMDqWqEUc9lAJB3pYGqR2UDM3tTqo7DZQAtQcsuD0NlAjKE81h/w2UBBB0EGnQ/aQELp3y6mL9pAjY1SIgBO2kASFycQPmvaQC6U3QK9h9pAR6su70yj2kCSxhqkPsDaQCb549hV3tpAjn1rfs782kDZ4I+1FhrbQPpaU03kONtAdZYBlhVY20AZ5MWTcHfbQIE4Lt0Il9tAYzKjZ82220Au5sC3xtXbQDl1LfIY9NtAQwytUugS3EABkghfaDDcQD0PZ8O8TNxA5ao/kcJo3EB59rqQ34TcQPAvkrhnodxAQLYDiEi+3EDABaWcZ9rcQBnarbMs9txAmrBOFmsS3UDsSjaKbi3dQK95CVAqR91AoOwqmVlg3UCRbesMknndQBDM01jokt1AnuZ9IW2s3UBJD3jxUcXdQOIpHOBB3t1AsMay4dT23UBHD7CDcA3eQNkFCi1eJt5ANg0bKjtA3kBx0Vh3/lneQJtE5wDodN5AgsYYVmyP3kB2jcL//6reQAu7vd8Ux95AQItVPfzk3kAFDBNDZADfQHB15zPFG99ABiHhF3U230CqVv+tR1LfQCJ4th09b99ARkB8enOM30AFaCq6yKnfQOy+ZbXqxt9AneFdXNXk30CwzRn2+gHgQD9cIaNJEuBAT+839Y4h4EALbaHTIzHgQF8JFfyFQOBAEUsltJlQ4EAwcMD13WDgQGSA3SIaceBABUDNgduB4EBzHkQjVZLgQJxm374nouBAwG0TJPCx4EAmm25dY8HgQE0sOjKH0OBAbWVHZd3f4ECuVaJpRu/gQFUyMqXS/uBAlWzZTqIO4UAyHShGZR7hQDGdaretLuFAB5BqIQo/4UBBGup6U0/hQIEEMLHNX+FAUHz6oF5w4UBOjnsYbIHhQPMHmPfqkuFAebYP052k4UB6N/IOB7bhQJhvnTWhx+FAoo2z0F/Y4UCsqld5++jhQPv5q7+h+eFAXW5NW40J4kC/rctmnhniQMrjJBsRKuJAa4Xr9vQ54kBqTYqlGkniQGG7rZPVV+JAZoJvv4tm4kCpW1F12nXiQMA46GnQhOJAK5OznqeT4kCJ0hhLG6LiQGK2XjpgsOJAjbkhFr2+4kCan6HtUs3iQD8OSJrj2+JA2/FcIPvq4kB0weM2sfniQHzUoGmlCONAbhIjZ8sW40CDMhkezCXjQAvxVcd5NeNAsGmuZz9F40CAo9V6cFTjQAsrp87DY+NAF9ijn+Vy40CXQIwgVoLjQA6BBxMQk+NAZw+LFL2i40B1/pNEYbLjQCjcmgQwwuNAM3prvRjS40B9R7APheLjQPQgaOUt8uNA5I11R9QB5ECIJD3tORLkQFy2XckUI+RA8d3I5Kg05EBGiTt62EbkQGofd5kIWeRAi5rXH5Vq5EAidIz+Mn3kQP4U3zwzkORAjtWQLfSi5ECBpfUR7rXkQHFmO8J6yeRA/O9n+g/d5EALNgVcVvDkQNRXLS2xA+VAcUpVkxkX5UABEc0pyinlQLbFpIAZPOVAAXK1IPRO5UD59z38vGLlQGBaFEAxd+VAR69PAA+M5UAXeEIHo6HlQOmlkW2BuOVA5deyXMXO5UDlUF31CeblQBH6RA+C/OVAkYtWNRUT5kDGtjc/UirmQBMD97HrQeZAVrQALftY5kA09DqVVnDmQB9YBeHMh+ZATvXdoHif5kBwGKsIObfmQFvDfDqmz+ZA2Nwzlhjo5kBGvdmPWgHnQPaQGzxoGudAa6P27nsz50DoJiepp0znQLH8a4HgZedAWpZQaCJ+50BIh1M7ppbnQKqugzVlr+dA0YTLRp7H50DkLJO60uDnQDdqo/Y3+edAsleW68QR6ECV3+rdWinoQCPOsAkXQehAGkkmw7NY6ECQP7EiDXDoQJL+5EgvhuhAOKg+eZ+b6ECKtFtjmbHoQHZqqwHYx+hA/dk6CYre6EBSddboIvToQHP/pv8iCulA1q3FmJYf6UDJzBGViTPpQISLHXVxR+lAb8CnkqVb6UDj9znd32/pQEwtPizDg+lA9PRdCcSX6UAQqp+cfqvpQGEsmXI8v+lALzec3mLS6UDn8ffdxeXpQE+oIB0h+OlABt9ndCoK6kBz9nN2HRzqQJltpIx5LepA7PPZMEo/6kAIk2PvBlHqQDdELaxVYupAfruWFvhz6kBpm2SSkYbqQGXq89Cyl+pAr4SShBKo6kCc+9j2prjqQBuCDBb/x+pAEsE1NlTX6kC8UfmTE+jqQKyeOBfm9+pAFrN17PEH60AOp+IIORjrQBbyD1gyJ+tARCuU6y4160BlAN2BIETrQLeLhXjBUutAj5aYG9dg60Dzy2Nm1G7rQPn/pIv1e+tAMbTC1ZaJ60BYCkgJEpfrQCbJmlSrpetA3IYm3day60CVNiQvvr/rQM6wJgEXzetAlsLEA6Tb60BQ6jPLN+rrQCFZKd359+tAwnPKhWkF7EDxiOzgMRPsQJt8i3aOIOxAX/EjVu4t7EDB+YcydjzsQG8KC8arSuxARPdQkmhY7EBdTkf9dGfsQKmKXWvJduxAMQYL1VWG7EDabd/ZlJXsQF4Du+KepOxAvvKg4U+z7EDJGwmBdcLsQOcKsdlK0uxAXzMkSbXi7EBr4nmJlvLsQP66F96yAe1A7jp0RqkP7UAsvFveOx3tQFfgIhsaKu1AxvhP0U817UC/Ll2qF0LtQLHVOe4qT+1ALEtI1Chd7UDRfhIB0mntQN9jYtyIdu1APS7h4wCC7UDE0HORhY3tQDopEK7+lu1AAFRxB1Ge7UC0TAo7OabtQLmBsmxJre1AXFOdvDu17UB6QyuZ6L7tQIRJm4H3xu1AQ5J/mIrP7UDNQhC5VtftQEPoJ4A03u1AJsASpWjm7UDKVx1Hoe7tQACOxM0f9u1ARtjL+iEA7kB3XCBzuAvuQBJI/s72Fe5APtOqGqkh7kBHVGsbPC7uQJYzltspOu5AUg1ajGBH7kABU8FuwFbuQFRqT8rDZ+5Au7KDUG527kAyDJCnBIXuQMDWkm1+lO5AiG98Hayj7kDZkDmvFbHuQDOYr2/2ve5AMltD7xXM7kAJWzg5BdruQHDfO3oT6u5Axd9WhCP47kAB9XeKOwbvQGmQ1TyzE+9AlrBvVGkh70DmD9+ZmTDvQKgSN9hXPe9AtKGo6qVK70Bxe3hkOVfvQF4GeywEZO9ASNE/DJRv70ACt2X3/njvQBxlkomege9AhkU9h8mK70B/8rKXHJLvQAjsHKF2l+9AZyOqocOa70DBJou7mJ3vQE+qzaoEoO9An+qg7X+k70CRKSIzzqbvQO8wQUYjp+9Aa4JXIXWo70DXILqThKnvQLulQreSq+9A7Ogl4U+u70BPfgU1Ka/vQEFSQeifr+9AT0StOOqv70ACetURRbHvQOgCGspbse9AWMC+EXiy70CCvshYhrPvQCwPX4w7s+9A9A3OFYix70C/F9wecK3vQIrC2Vrlp+9A7rH/aiGh70CoBZg1FZrvQLGOtVbRke9A7rcL3S6K70CrDWSVj4DvQBlixR3Vdu9AA8yGne9t70AWrn/FGmfvQEb8LrNgXe9AoBKPmXFT70A4PilQ/EjvQFZVanaGPu9AbhZiPLI070DOe6hhoirvQENEudpEH+9Anr1rPVwT70AD7kFncwnvQF6Y9Bbs/+5AQ4o84Sb67kDrcsrTnPXuQImbOynp8O5APq2y4WLs7kBwaRLDPujuQE6AoOU45e5AN3AfWh3l7kAdMDFWJOXuQMgMOlYq5e5A1YeWUz3n7kC+hFEzn+buQDT32X2c5+5AdrDQT9/r7kDRj3m6wO7uQBvN03/l8e5APuMqWOjx7kBsw18pCvPuQMIRsnlt9+5AO8UUiXX87kCuBgs3ZADvQACTfcVoBe9AbD1v2ygN70CGmyqnehHvQL6N+rRvFe9AloEulvAW70BgFxXKeBjvQCo69/csF+9A+CejC4gV70B/9vsPGhTvQGOzVW5XEu9AqdSVCgcT70C9oCbj5hDvQH0spMjLD+9ALSmyYi0R70CWlinqng/vQIkM4eDHDu9A4mUvjG4Q70AA2KbieBPvQMbkGuWSFe9AB/pbwJIZ70CK6Y3npB3vQESuvVMjIe9AXzzvgSoi70Avg4uBUiXvQJ5GGBW4J+9AS2Ra/IQn70AwUxUIwybvQDIXDHtmJe9AvuXPC64g70CbK6zN/hfvQLneURuKDu9AQ0rG7IgC70BW4K0Z8vbuQGKjfNV+5+5AmkX0qtbX7kBDKvZeysruQB0+E3L4uu5AIcw2p8Cp7kDbKfrBhJvuQKLZBizwkO5A83J6ucSI7kD4m0o/HIHuQHP4cTqjee5A7YL45xF17kAFEiz0pnLuQAeVfKUlbe5AAOlCsCVs7kDScCtPsGruQJ4VsQZJae5APKdf3OBp7kAFS3T8b2nuQFq0ZYO1a+5AgCITiDZu7kB9N+67zHHuQAqZ8NKVdO5AL7p6DP937kA1KbgNFHruQCqox3Wpfu5AkuMj36l+7kBWe86rUYLuQCbROxXviu5AVRAos2CP7kD3EEdxIpjuQARoX39Upu5AecqCf5ay7kBOUhHQ/LruQOsp2ktfxO5AEQjPrzfN7kA59QbAZNbuQLErZo8E3+5AzZzpWC3n7kCVwYyylu7uQGQC2PIG8e5AUO0OWw3y7kCKKMMA8u3uQCJ72F1O5O5AxDnGspbd7kCcEbnjttfuQA5DWorO1O5AFNRq/FHO7kAenfwtisruQLg3WtyNw+5AGkUQMcm77kA0+nCCpLjuQDcm/gqete5Ayhx2pT2x7kBeyTisz6zuQC/USbi0p+5AjG8UWTGh7kDuf3sshJvuQEnh4wZHlu5AiAR3cCGR7kB0MoS5uZDuQAcx2fQmke5AZZFXRj2P7kCNMVlSc43uQDw5Vn33je5A+aNfyd6M7kAkXlN9D5HuQM23Mbw2m+5AQ6Hl1fCn7kCDR0UcerDuQBd3dTAVuO5AvqH5bgPF7kB2cKtNWtHuQJH6A8SA4u5A8ObAC6jz7kBYEn2vCf7uQPF8oSUnD+9Akh9hHawn70CmeaScqT/vQEl3V7bVVO9AOZWvCs1o70DL3WyfjnnvQPankE1xhe9AK4+P4AST70Czj9CWcpzvQDD5r2/FqO9AjqiaU16z70B+LZoVFb/vQLL0m5Q20O9A13COCQXf70C1JzWRounvQH4g/Je/6+9ACCvNw2jq70Bv4BtMMO3vQPGBGM469+9AmwoOuLT670C+SbJw1vfvQJPO7d8X8+9AHLVQSPHs70CNapcrROzvQOpkJkxc7u9A0sd9f7Tu70C1jmwbYu3vQGv/MsBC8e9AG8zIJlbv70B4GDkiI/DvQDgUlm3c+O9ArpV5flH/70BgMdQgUQTwQJ0m9dnpDfBA5edS7H8T8EAA72IVUBPwQJwAc4NrFPBAH/4KrcMR8EDjXbrfGA/wQPbCUiu7DfBAAki6dUMM8EB8MMQLxgrwQCqG3nMfB/BAUHBSgxYD8EDKnO3fcfjvQFuCy8t88u9APG9Mb7bo70Dni1Ucw9nvQDrPF0htyO9ANzGZR97A70Dhd7JlOsHvQJCSVT2qv+9AZg6QmJ3J70BRwxeaDdnvQDU3ekVL1+9AbEtspsjT70BipTQNKdrvQAyN3ifJ6O9AaWLW9dX770ACr2WXsAjwQO1TYCjPCvBAIdaanX0L8EA7U08t7gDwQMCC5TFv6+9AKiPlEM+970DRs9/d6JbvQFdcKdDsaO9A4JdGQ71G70BPPNweiC7vQFhRpancFe9An8FoxcDu7kDxd3wb5KzuQKP0iaJ3eu5A9E9hVoVP7kAwdPV3yRTuQI1I5qIh++1AZ/fskAvz7UAZ+GmcDObtQO5+4RiC3O1AiwiwOtnl7UD/RWpN5dPtQO/t7YZgw+1AMczDdR937UDdr9RpzELtQHAoQQ2pI+1AJ3I/UZr67ECVRuqo8JTsQAGSNaj7HexAyau7K7PQ60CwxK1E1vDrQMGtB4DHr+tAjexx/2xe60BAdqG8iKjrQMHYeOnM8+tA",
          "dtype": "f8"
         }
        },
        {
         "mode": "lines",
         "name": "MSD CRW6 c=0.9",
         "type": "scatter",
         "x": {
          "bdata": "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",
          "dtype": "i2"
         },
         "y": {
          "bdata": "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",
          "dtype": "f8"
         }
        }
       ],
       "layout": {
        "height": 600,
        "hovermode": "x unified",
        "template": {
         "data": {
          "bar": [
           {
            "error_x": {
             "color": "#2a3f5f"
            },
            "error_y": {
             "color": "#2a3f5f"
            },
            "marker": {
             "line": {
              "color": "#E5ECF6",
              "width": 0.5
             },
             "pattern": {
              "fillmode": "overlay",
              "size": 10,
              "solidity": 0.2
             }
            },
            "type": "bar"
           }
          ],
          "barpolar": [
           {
            "marker": {
             "line": {
              "color": "#E5ECF6",
              "width": 0.5
             },
             "pattern": {
              "fillmode": "overlay",
              "size": 10,
              "solidity": 0.2
             }
            },
            "type": "barpolar"
           }
          ],
          "carpet": [
           {
            "aaxis": {
             "endlinecolor": "#2a3f5f",
             "gridcolor": "white",
             "linecolor": "white",
             "minorgridcolor": "white",
             "startlinecolor": "#2a3f5f"
            },
            "baxis": {
             "endlinecolor": "#2a3f5f",
             "gridcolor": "white",
             "linecolor": "white",
             "minorgridcolor": "white",
             "startlinecolor": "#2a3f5f"
            },
            "type": "carpet"
           }
          ],
          "choropleth": [
           {
            "colorbar": {
             "outlinewidth": 0,
             "ticks": ""
            },
            "type": "choropleth"
           }
          ],
          "contour": [
           {
            "colorbar": {
             "outlinewidth": 0,
             "ticks": ""
            },
            "colorscale": [
             [
              0,
              "#0d0887"
             ],
             [
              0.1111111111111111,
              "#46039f"
             ],
             [
              0.2222222222222222,
              "#7201a8"
             ],
             [
              0.3333333333333333,
              "#9c179e"
             ],
             [
              0.4444444444444444,
              "#bd3786"
             ],
             [
              0.5555555555555556,
              "#d8576b"
             ],
             [
              0.6666666666666666,
              "#ed7953"
             ],
             [
              0.7777777777777778,
              "#fb9f3a"
             ],
             [
              0.8888888888888888,
              "#fdca26"
             ],
             [
              1,
              "#f0f921"
             ]
            ],
            "type": "contour"
           }
          ],
          "contourcarpet": [
           {
            "colorbar": {
             "outlinewidth": 0,
             "ticks": ""
            },
            "type": "contourcarpet"
           }
          ],
          "heatmap": [
           {
            "colorbar": {
             "outlinewidth": 0,
             "ticks": ""
            },
            "colorscale": [
             [
              0,
              "#0d0887"
             ],
             [
              0.1111111111111111,
              "#46039f"
             ],
             [
              0.2222222222222222,
              "#7201a8"
             ],
             [
              0.3333333333333333,
              "#9c179e"
             ],
             [
              0.4444444444444444,
              "#bd3786"
             ],
             [
              0.5555555555555556,
              "#d8576b"
             ],
             [
              0.6666666666666666,
              "#ed7953"
             ],
             [
              0.7777777777777778,
              "#fb9f3a"
             ],
             [
              0.8888888888888888,
              "#fdca26"
             ],
             [
              1,
              "#f0f921"
             ]
            ],
            "type": "heatmap"
           }
          ],
          "histogram": [
           {
            "marker": {
             "pattern": {
              "fillmode": "overlay",
              "size": 10,
              "solidity": 0.2
             }
            },
            "type": "histogram"
           }
          ],
          "histogram2d": [
           {
            "colorbar": {
             "outlinewidth": 0,
             "ticks": ""
            },
            "colorscale": [
             [
              0,
              "#0d0887"
             ],
             [
              0.1111111111111111,
              "#46039f"
             ],
             [
              0.2222222222222222,
              "#7201a8"
             ],
             [
              0.3333333333333333,
              "#9c179e"
             ],
             [
              0.4444444444444444,
              "#bd3786"
             ],
             [
              0.5555555555555556,
              "#d8576b"
             ],
             [
              0.6666666666666666,
              "#ed7953"
             ],
             [
              0.7777777777777778,
              "#fb9f3a"
             ],
             [
              0.8888888888888888,
              "#fdca26"
             ],
             [
              1,
              "#f0f921"
             ]
            ],
            "type": "histogram2d"
           }
          ],
          "histogram2dcontour": [
           {
            "colorbar": {
             "outlinewidth": 0,
             "ticks": ""
            },
            "colorscale": [
             [
              0,
              "#0d0887"
             ],
             [
              0.1111111111111111,
              "#46039f"
             ],
             [
              0.2222222222222222,
              "#7201a8"
             ],
             [
              0.3333333333333333,
              "#9c179e"
             ],
             [
              0.4444444444444444,
              "#bd3786"
             ],
             [
              0.5555555555555556,
              "#d8576b"
             ],
             [
              0.6666666666666666,
              "#ed7953"
             ],
             [
              0.7777777777777778,
              "#fb9f3a"
             ],
             [
              0.8888888888888888,
              "#fdca26"
             ],
             [
              1,
              "#f0f921"
             ]
            ],
            "type": "histogram2dcontour"
           }
          ],
          "mesh3d": [
           {
            "colorbar": {
             "outlinewidth": 0,
             "ticks": ""
            },
            "type": "mesh3d"
           }
          ],
          "parcoords": [
           {
            "line": {
             "colorbar": {
              "outlinewidth": 0,
              "ticks": ""
             }
            },
            "type": "parcoords"
           }
          ],
          "pie": [
           {
            "automargin": true,
            "type": "pie"
           }
          ],
          "scatter": [
           {
            "fillpattern": {
             "fillmode": "overlay",
             "size": 10,
             "solidity": 0.2
            },
            "type": "scatter"
           }
          ],
          "scatter3d": [
           {
            "line": {
             "colorbar": {
              "outlinewidth": 0,
              "ticks": ""
             }
            },
            "marker": {
             "colorbar": {
              "outlinewidth": 0,
              "ticks": ""
             }
            },
            "type": "scatter3d"
           }
          ],
          "scattercarpet": [
           {
            "marker": {
             "colorbar": {
              "outlinewidth": 0,
              "ticks": ""
             }
            },
            "type": "scattercarpet"
           }
          ],
          "scattergeo": [
           {
            "marker": {
             "colorbar": {
              "outlinewidth": 0,
              "ticks": ""
             }
            },
            "type": "scattergeo"
           }
          ],
          "scattergl": [
           {
            "marker": {
             "colorbar": {
              "outlinewidth": 0,
              "ticks": ""
             }
            },
            "type": "scattergl"
           }
          ],
          "scattermap": [
           {
            "marker": {
             "colorbar": {
              "outlinewidth": 0,
              "ticks": ""
             }
            },
            "type": "scattermap"
           }
          ],
          "scattermapbox": [
           {
            "marker": {
             "colorbar": {
              "outlinewidth": 0,
              "ticks": ""
             }
            },
            "type": "scattermapbox"
           }
          ],
          "scatterpolar": [
           {
            "marker": {
             "colorbar": {
              "outlinewidth": 0,
              "ticks": ""
             }
            },
            "type": "scatterpolar"
           }
          ],
          "scatterpolargl": [
           {
            "marker": {
             "colorbar": {
              "outlinewidth": 0,
              "ticks": ""
             }
            },
            "type": "scatterpolargl"
           }
          ],
          "scatterternary": [
           {
            "marker": {
             "colorbar": {
              "outlinewidth": 0,
              "ticks": ""
             }
            },
            "type": "scatterternary"
           }
          ],
          "surface": [
           {
            "colorbar": {
             "outlinewidth": 0,
             "ticks": ""
            },
            "colorscale": [
             [
              0,
              "#0d0887"
             ],
             [
              0.1111111111111111,
              "#46039f"
             ],
             [
              0.2222222222222222,
              "#7201a8"
             ],
             [
              0.3333333333333333,
              "#9c179e"
             ],
             [
              0.4444444444444444,
              "#bd3786"
             ],
             [
              0.5555555555555556,
              "#d8576b"
             ],
             [
              0.6666666666666666,
              "#ed7953"
             ],
             [
              0.7777777777777778,
              "#fb9f3a"
             ],
             [
              0.8888888888888888,
              "#fdca26"
             ],
             [
              1,
              "#f0f921"
             ]
            ],
            "type": "surface"
           }
          ],
          "table": [
           {
            "cells": {
             "fill": {
              "color": "#EBF0F8"
             },
             "line": {
              "color": "white"
             }
            },
            "header": {
             "fill": {
              "color": "#C8D4E3"
             },
             "line": {
              "color": "white"
             }
            },
            "type": "table"
           }
          ]
         },
         "layout": {
          "annotationdefaults": {
           "arrowcolor": "#2a3f5f",
           "arrowhead": 0,
           "arrowwidth": 1
          },
          "autotypenumbers": "strict",
          "coloraxis": {
           "colorbar": {
            "outlinewidth": 0,
            "ticks": ""
           }
          },
          "colorscale": {
           "diverging": [
            [
             0,
             "#8e0152"
            ],
            [
             0.1,
             "#c51b7d"
            ],
            [
             0.2,
             "#de77ae"
            ],
            [
             0.3,
             "#f1b6da"
            ],
            [
             0.4,
             "#fde0ef"
            ],
            [
             0.5,
             "#f7f7f7"
            ],
            [
             0.6,
             "#e6f5d0"
            ],
            [
             0.7,
             "#b8e186"
            ],
            [
             0.8,
             "#7fbc41"
            ],
            [
             0.9,
             "#4d9221"
            ],
            [
             1,
             "#276419"
            ]
           ],
           "sequential": [
            [
             0,
             "#0d0887"
            ],
            [
             0.1111111111111111,
             "#46039f"
            ],
            [
             0.2222222222222222,
             "#7201a8"
            ],
            [
             0.3333333333333333,
             "#9c179e"
            ],
            [
             0.4444444444444444,
             "#bd3786"
            ],
            [
             0.5555555555555556,
             "#d8576b"
            ],
            [
             0.6666666666666666,
             "#ed7953"
            ],
            [
             0.7777777777777778,
             "#fb9f3a"
            ],
            [
             0.8888888888888888,
             "#fdca26"
            ],
            [
             1,
             "#f0f921"
            ]
           ],
           "sequentialminus": [
            [
             0,
             "#0d0887"
            ],
            [
             0.1111111111111111,
             "#46039f"
            ],
            [
             0.2222222222222222,
             "#7201a8"
            ],
            [
             0.3333333333333333,
             "#9c179e"
            ],
            [
             0.4444444444444444,
             "#bd3786"
            ],
            [
             0.5555555555555556,
             "#d8576b"
            ],
            [
             0.6666666666666666,
             "#ed7953"
            ],
            [
             0.7777777777777778,
             "#fb9f3a"
            ],
            [
             0.8888888888888888,
             "#fdca26"
            ],
            [
             1,
             "#f0f921"
            ]
           ]
          },
          "colorway": [
           "#636efa",
           "#EF553B",
           "#00cc96",
           "#ab63fa",
           "#FFA15A",
           "#19d3f3",
           "#FF6692",
           "#B6E880",
           "#FF97FF",
           "#FECB52"
          ],
          "font": {
           "color": "#2a3f5f"
          },
          "geo": {
           "bgcolor": "white",
           "lakecolor": "white",
           "landcolor": "#E5ECF6",
           "showlakes": true,
           "showland": true,
           "subunitcolor": "white"
          },
          "hoverlabel": {
           "align": "left"
          },
          "hovermode": "closest",
          "mapbox": {
           "style": "light"
          },
          "paper_bgcolor": "white",
          "plot_bgcolor": "#E5ECF6",
          "polar": {
           "angularaxis": {
            "gridcolor": "white",
            "linecolor": "white",
            "ticks": ""
           },
           "bgcolor": "#E5ECF6",
           "radialaxis": {
            "gridcolor": "white",
            "linecolor": "white",
            "ticks": ""
           }
          },
          "scene": {
           "xaxis": {
            "backgroundcolor": "#E5ECF6",
            "gridcolor": "white",
            "gridwidth": 2,
            "linecolor": "white",
            "showbackground": true,
            "ticks": "",
            "zerolinecolor": "white"
           },
           "yaxis": {
            "backgroundcolor": "#E5ECF6",
            "gridcolor": "white",
            "gridwidth": 2,
            "linecolor": "white",
            "showbackground": true,
            "ticks": "",
            "zerolinecolor": "white"
           },
           "zaxis": {
            "backgroundcolor": "#E5ECF6",
            "gridcolor": "white",
            "gridwidth": 2,
            "linecolor": "white",
            "showbackground": true,
            "ticks": "",
            "zerolinecolor": "white"
           }
          },
          "shapedefaults": {
           "line": {
            "color": "#2a3f5f"
           }
          },
          "ternary": {
           "aaxis": {
            "gridcolor": "white",
            "linecolor": "white",
            "ticks": ""
           },
           "baxis": {
            "gridcolor": "white",
            "linecolor": "white",
            "ticks": ""
           },
           "bgcolor": "#E5ECF6",
           "caxis": {
            "gridcolor": "white",
            "linecolor": "white",
            "ticks": ""
           }
          },
          "title": {
           "x": 0.05
          },
          "xaxis": {
           "automargin": true,
           "gridcolor": "white",
           "linecolor": "white",
           "ticks": "",
           "title": {
            "standoff": 15
           },
           "zerolinecolor": "white",
           "zerolinewidth": 2
          },
          "yaxis": {
           "automargin": true,
           "gridcolor": "white",
           "linecolor": "white",
           "ticks": "",
           "title": {
            "standoff": 15
           },
           "zerolinecolor": "white",
           "zerolinewidth": 2
          }
         }
        },
        "title": {
         "text": "Mean Squared Displacement - (BM vs CRW)"
        },
        "xaxis": {
         "title": {
          "text": "Time"
         }
        },
        "yaxis": {
         "title": {
          "text": "MSD"
         }
        }
       }
      }
     },
     "metadata": {},
     "output_type": "display_data"
    }
   ],
   "source": [
    "# Calculate MSDs\n",
    "msd_bm = msd(bm_traj_6)\n",
    "msd_crw = msd(crw_traj_6)\n",
    "\n",
    "fig = go.Figure()\n",
    "fig.add_trace(go.Scatter(x=msd_bm['tau'], y=msd_bm['msd'], mode='lines', name='MSD BM6'))\n",
    "fig.add_trace(go.Scatter(x=msd_crw['tau'], y=msd_crw['msd'], mode='lines', name='MSD CRW6 c=0.9'))\n",
    "\n",
    "fig.update_layout(\n",
    "    title='Mean Squared Displacement - (BM vs CRW)',\n",
    "    xaxis_title='Time',\n",
    "    yaxis_title='MSD',\n",
    "    hovermode='x unified',\n",
    "    height=600\n",
    ")\n",
    "fig.show()"
   ]
  },
  {
   "cell_type": "markdown",
   "metadata": {},
   "source": [
    "# Activity 3: Turning-angle Distribution - (source dist. vs observed dist.)"
   ]
  },
  {
   "cell_type": "markdown",
   "metadata": {},
   "source": [
    "- Consider two **CRW** trajectories with different **Cauchy coefficients.**\n",
    "- Write a function that returns the **turning angles** for a given trajectory.\n",
    "- Compare the observed distribution **(histogram)** to the source distribution (**curve**) for\n",
    "both trajectories, as shown in the figure below.\n",
    "- Display the results using **plotly.**"
   ]
  },
  {
   "cell_type": "markdown",
   "metadata": {},
   "source": [
    "# FUNCTIONS"
   ]
  },
  {
   "cell_type": "code",
   "execution_count": 68,
   "metadata": {},
   "outputs": [],
   "source": [
    "#####################################################################################\n",
    "# Turning angles\n",
    "#####################################################################################\n",
    "def turning_angles(trajectory_df):\n",
    "    \"\"\"    \n",
    "    Arguments\n",
    "    -----------\n",
    "        trajectory_df: DataFrame with 'x' and 'y' columns\n",
    "    \n",
    "    Returns\n",
    "    -----------\n",
    "        numpy: Array of turning angles\n",
    "    \"\"\"\n",
    "    x = trajectory_df['x'].values\n",
    "    y = trajectory_df['y'].values\n",
    "    \n",
    "    # Calculate directions (angles) between consecutive points\n",
    "    dx = np.diff(x)\n",
    "    dy = np.diff(y)\n",
    "    directions = np.arctan2(dy, dx)\n",
    "    \n",
    "    # Calculate turning angles (differences between consecutive directions)\n",
    "    turning_angles = np.diff(directions)\n",
    "    \n",
    "    # Normalize angles to be between -π and π\n",
    "    turning_angles = np.mod(turning_angles + np.pi, 2 * np.pi) - np.pi\n",
    "    \n",
    "    return turning_angles"
   ]
  },
  {
   "cell_type": "code",
   "execution_count": 69,
   "metadata": {},
   "outputs": [],
   "source": [
    "#####################################################################################\n",
    "# Cauchy distribution\n",
    "#####################################################################################\n",
    "def cauchy_pdf(x, gamma):\n",
    "    \"\"\"\n",
    "    Arguments\n",
    "    -----------\n",
    "        x: Points at which to evaluate the PDF\n",
    "        gamma: Scale parameter\n",
    "    \n",
    "    Returns\n",
    "    -----------\n",
    "        PDF values\n",
    "    \"\"\"\n",
    "    return 1 / (np.pi * gamma * (1 + (x / gamma)**2))"
   ]
  },
  {
   "cell_type": "code",
   "execution_count": 180,
   "metadata": {},
   "outputs": [],
   "source": [
    "#####################################################################################\n",
    "# Plotting turning angle distributions\n",
    "#####################################################################################\n",
    "def plot_turning_angle_distributions(trajectories, coefficients, bins=50):\n",
    "    \"\"\"    \n",
    "    Arguments\n",
    "    -----------\n",
    "        trajectories: List of trajectory DataFrames\n",
    "        coefficients: List of correlation coefficients used to generate the trajectories\n",
    "        bins: Number of bins for the histograms\n",
    "    \n",
    "    Returns\n",
    "    -----------\n",
    "        plotly.graph_objects.Figure: Figure with the distributions\n",
    "    \"\"\"\n",
    "    colors = ['blue', 'red']\n",
    "    \n",
    "    # Create a figure\n",
    "    fig = go.Figure()\n",
    "    \n",
    "    # Range for the x-axis\n",
    "    x_range = np.linspace(-3, 3, 1000)\n",
    "    \n",
    "    for i, (trajectory, coef) in enumerate(zip(trajectories, coefficients)):\n",
    "        # Extract turning angles\n",
    "        t_angles = turning_angles(trajectory)\n",
    "        \n",
    "        # Compute histogram values for the observed distribution\n",
    "        hist_values, bin_edges = np.histogram(t_angles, bins=bins*3, density=True, range=(-3, 3)) \n",
    "        bin_centers = (bin_edges[:-1] + bin_edges[1:]) / 2\n",
    "        \n",
    "        # Plot observed distribution (histogram)\n",
    "        fig.add_trace(\n",
    "            go.Bar(\n",
    "                x=bin_centers,\n",
    "                y=hist_values,\n",
    "                width=(bin_edges[1] - bin_edges[0]) * 0.8,  \n",
    "                name=f'observed_{coef}',\n",
    "                marker_color=colors[i],\n",
    "                opacity=0.5,\n",
    "            )\n",
    "        )\n",
    "        \n",
    "        gamma = np.sqrt(1 - coef**2)  # Standard deviation for the normal distribution\n",
    "        \n",
    "        # Convert normal distribution to match scale\n",
    "        theory_values = 1/(gamma * np.sqrt(2 * np.pi)) * np.exp(-(x_range**2)/(2 * gamma**2))\n",
    "        \n",
    "        fig.add_trace(\n",
    "            go.Scatter(\n",
    "                x=x_range,\n",
    "                y=theory_values,\n",
    "                mode='lines',\n",
    "                name=f'cauchy_{coef}', \n",
    "                line=dict(color=colors[i], width=2)\n",
    "            )\n",
    "        )\n",
    "    \n",
    "    # Update layout\n",
    "    fig.update_layout(\n",
    "        title='Turning-angle Distribution - Source vs Observed',\n",
    "        xaxis_title='Turning Angle (radians)',\n",
    "        yaxis_title='Density',\n",
    "        legend_title='Distributions',\n",
    "        height=600,\n",
    "        plot_bgcolor='rgba(240, 248, 255, 0.5)'\n",
    "    )\n",
    "    \n",
    "    return fig"
   ]
  },
  {
   "cell_type": "markdown",
   "metadata": {},
   "source": [
    "# GENERATE TRJECTORIES AND PLOTING"
   ]
  },
  {
   "cell_type": "code",
   "execution_count": 181,
   "metadata": {},
   "outputs": [
    {
     "data": {
      "application/vnd.plotly.v1+json": {
       "config": {
        "plotlyServerURL": "https://plot.ly"
       },
       "data": [
        {
         "marker": {
          "color": "blue"
         },
         "name": "observed_0.6",
         "opacity": 0.5,
         "type": "bar",
         "width": 0.03200000000000003,
         "x": {
          "bdata": "16NwPQrXB8CF61G4HoUHwDMzMzMzMwfA4XoUrkfhBsCPwvUoXI8GwD0K16NwPQbA61G4HoXrBcCamZmZmZkFwEjhehSuRwXA9ihcj8L1BMCkcD0K16MEwFK4HoXrUQTAAAAAAAAABMCuR+F6FK4DwFyPwvUoXAPACtejcD0KA8C4HoXrUbgCwGZmZmZmZgLAFa5H4XoUAsDD9Shcj8IBwHE9CtejcAHAH4XrUbgeAcDNzMzMzMwAwHsUrkfhegDAKVyPwvUoAMCuR+F6FK7/vwrXo3A9Cv+/ZmZmZmZm/r/C9Shcj8L9vx+F61G4Hv2/exSuR+F6/L/Xo3A9Ctf7vzMzMzMzM/u/j8L1KFyP+r/rUbgehev5v0jhehSuR/m/pHA9Ctej+L8AAAAAAAD4v1yPwvUoXPe/uB6F61G49r8UrkfhehT2v3A9CtejcPW/zczMzMzM9L8pXI/C9Sj0v4XrUbgehfO/4XoUrkfh8r89CtejcD3yv5qZmZmZmfG/9ihcj8L18L9SuB6F61Hwv1yPwvUoXO+/FK5H4XoU7r/MzMzMzMzsv4TrUbgeheu/PArXo3A96r/0KFyPwvXov6xH4XoUrue/ZmZmZmZm5r8ghetRuB7lv9ijcD0K1+O/kML1KFyP4r9I4XoUrkfhvwAAAAAAAOC/cD0K16Nw3b/gehSuR+Hav1C4HoXrUdi/wPUoXI/C1b8wMzMzMzPTv6BwPQrXo9C/IFyPwvUozL8I16NwPQrHv/BRuB6F68G/oJmZmZmZub/AHoXrUbiuv4AUrkfhepS/gBSuR+F6lD/AHoXrUbiuP6CZmZmZmbk/8FG4HoXrwT8Q16NwPQrHPzBcj8L1KMw/qHA9Ctej0D84MzMzMzPTP8T1KFyPwtU/ULgehetR2D/gehSuR+HaP3A9CtejcN0/AAAAAAAA4D9I4XoUrkfhP5DC9Shcj+I/2KNwPQrX4z8ghetRuB7lP2hmZmZmZuY/sEfhehSu5z/4KFyPwvXoPz4K16NwPeo/hOtRuB6F6z/MzMzMzMzsPxSuR+F6FO4/XI/C9Shc7z9SuB6F61HwP/YoXI/C9fA/mpmZmZmZ8T8+CtejcD3yP+J6FK5H4fI/hutRuB6F8z8qXI/C9Sj0P87MzMzMzPQ/cj0K16Nw9T8WrkfhehT2P7oehetRuPY/Xo/C9Shc9z8CAAAAAAD4P6ZwPQrXo/g/SuF6FK5H+T/sUbgehev5P47C9Shcj/o/MjMzMzMz+z/Wo3A9Ctf7P3oUrkfhevw/HoXrUbge/T/C9Shcj8L9P2ZmZmZmZv4/CtejcD0K/z+uR+F6FK7/Pylcj8L1KABAexSuR+F6AEDNzMzMzMwAQB+F61G4HgFAcT0K16NwAUDD9Shcj8IBQBWuR+F6FAJAZ2ZmZmZmAkC5HoXrUbgCQAvXo3A9CgNAXY/C9ShcA0CvR+F6FK4DQAEAAAAAAARAU7gehetRBEClcD0K16MEQPYoXI/C9QRAR+F6FK5HBUCZmZmZmZkFQOtRuB6F6wVAPQrXo3A9BkCPwvUoXI8GQOF6FK5H4QZAMzMzMzMzB0CF61G4HoUHQNejcD0K1wdA",
          "dtype": "f8"
         },
         "y": {
          "bdata": "AAAAAAAAAAAAAAAAAAAAAAAAAAAAAAAAAAAAAAAAAAAAAAAAAAAAAAAAAAAAAAAAAAAAAAAAAABMmkEAKaCZPwAAAAAAAAAAAAAAAAAAAAAAAAAAAAAAAPyZQQApoJk/AAAAAAAAAAAAAAAAAAAAAAAAAAAAAAAAAAAAAAAAAAAAAAAAAAAAAAAAAAAAAAAA/JlBACmgmT8AAAAAAAAAAAAAAAAAAAAA/JlBACmgmT8AAAAAAAAAAAAAAAAAAAAA/JlBACmgmT8AAAAAAAAAAPyZQQApoKk/AAAAAAAAAAAkmkEAKaCpP/yZQQApoKk//JlBACmgqT/8mUEAKaCpPwAAAAAAAAAAAAAAAAAAAAB9MzHAHjizPySaQQApoJk/fTMxwB44sz/8mUEAKaC5Pz4AKaAZBMA//JlBACmgmT88zUkgLtTMPySaQQApoKk/PgApoBkEwD8+ACmgGQTQP30zMcAeOMM/fTMxwB44wz/8mUEAKaDJPySaQQApoMk/vWY54CNsxj+9ZjngI2zGP30zMcAeOLM/fTMxwB440z+cs0WQKzrbP30zMcAeONM/vWY54CNs1j/8mUEAKaC5P30zMcAeONM/uTMxwB44wz8ODSvoGtHgPz4AKaAZBMA/3hktMBye0T8ODSvoGtHgP5yzRZArOts/vWY54CNs1j/eGS0wHJ7hPzzNSSAu1Nw/fTMxwB444z/eGS0wHJ7hP5yzRZArOts/TUAzCCAF5D9wACmgGQTQPzzNSSAu1Nw/3hktMBye4T9cgD1wJgbYP30zMcAeOOM/HU01UCHS5D/8mUEAKaDZP9zmTbAwbt4/PM1JIC7U3D8+ACmgGQTgP71mOeAjbNY/riYveB1r4j/eGS0wHJ7RPwNnOeAjbNY/riYveB1r4j+cs0WQKzrbP5yzRZArOts/3hktMBye4T+9ZjngI2zWP9zmTbAwbt4/XIA9cCYG2D8dTTVQIdLUP1yAPXAmBtg/HU01UCHS1D88zUkgLtTMPxQaLTAcntE//JlBACmg2T/eGS0wHJ7RPzzNSSAu1Mw//JlBACmgyT99MzHAHjjDP/yZQQApoMk/fTMxwB440z99MzHAHjjDPzzNSSAu1Mw/fTMxwB44wz8+ACmgGQTAPzzNSSAu1Mw//JlBACmgyT99MzHAHjjDP30zMcAeOMM//JlBACmgqT/8mUEAKaCpPwAAAAAAAAAA/JlBACmgmT+iACmgGQTAP/yZQQApoKk//JlBACmgqT99MzHAHjizP30zMcAeOMM//JlBACmgqT99MzHAHjizP/yZQQApoKk//JlBACmgqT8AAAAAAAAAAPyZQQApoJk/AAAAAAAAAAD8mUEAKaCZPwAAAAAAAAAA/JlBACmgmT/8mUEAKaCZPwAAAAAAAAAAAAAAAAAAAAD8mUEAKaCZPwAAAAAAAAAAAAAAAAAAAAAAAAAAAAAAAAAAAAAAAAAAAAAAAAAAAAD8mUEAKaCZP5yaQQApoJk/AAAAAAAAAAAAAAAAAAAAAAAAAAAAAAAAAAAAAAAAAAAAAAAAAAAAAAAAAAAAAAAAAAAAAAAAAAAAAAAAAAAAAAAAAAAAAAAA",
          "dtype": "f8"
         }
        },
        {
         "line": {
          "color": "blue",
          "width": 2
         },
         "mode": "lines",
         "name": "cauchy_0.6",
         "type": "scatter",
         "x": {
          "bdata": "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",
          "dtype": "f8"
         },
         "y": {
          "bdata": "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",
          "dtype": "f8"
         }
        },
        {
         "marker": {
          "color": "red"
         },
         "name": "observed_0.9",
         "opacity": 0.5,
         "type": "bar",
         "width": 0.03200000000000003,
         "x": {
          "bdata": "16NwPQrXB8CF61G4HoUHwDMzMzMzMwfA4XoUrkfhBsCPwvUoXI8GwD0K16NwPQbA61G4HoXrBcCamZmZmZkFwEjhehSuRwXA9ihcj8L1BMCkcD0K16MEwFK4HoXrUQTAAAAAAAAABMCuR+F6FK4DwFyPwvUoXAPACtejcD0KA8C4HoXrUbgCwGZmZmZmZgLAFa5H4XoUAsDD9Shcj8IBwHE9CtejcAHAH4XrUbgeAcDNzMzMzMwAwHsUrkfhegDAKVyPwvUoAMCuR+F6FK7/vwrXo3A9Cv+/ZmZmZmZm/r/C9Shcj8L9vx+F61G4Hv2/exSuR+F6/L/Xo3A9Ctf7vzMzMzMzM/u/j8L1KFyP+r/rUbgehev5v0jhehSuR/m/pHA9Ctej+L8AAAAAAAD4v1yPwvUoXPe/uB6F61G49r8UrkfhehT2v3A9CtejcPW/zczMzMzM9L8pXI/C9Sj0v4XrUbgehfO/4XoUrkfh8r89CtejcD3yv5qZmZmZmfG/9ihcj8L18L9SuB6F61Hwv1yPwvUoXO+/FK5H4XoU7r/MzMzMzMzsv4TrUbgeheu/PArXo3A96r/0KFyPwvXov6xH4XoUrue/ZmZmZmZm5r8ghetRuB7lv9ijcD0K1+O/kML1KFyP4r9I4XoUrkfhvwAAAAAAAOC/cD0K16Nw3b/gehSuR+Hav1C4HoXrUdi/wPUoXI/C1b8wMzMzMzPTv6BwPQrXo9C/IFyPwvUozL8I16NwPQrHv/BRuB6F68G/oJmZmZmZub/AHoXrUbiuv4AUrkfhepS/gBSuR+F6lD/AHoXrUbiuP6CZmZmZmbk/8FG4HoXrwT8Q16NwPQrHPzBcj8L1KMw/qHA9Ctej0D84MzMzMzPTP8T1KFyPwtU/ULgehetR2D/gehSuR+HaP3A9CtejcN0/AAAAAAAA4D9I4XoUrkfhP5DC9Shcj+I/2KNwPQrX4z8ghetRuB7lP2hmZmZmZuY/sEfhehSu5z/4KFyPwvXoPz4K16NwPeo/hOtRuB6F6z/MzMzMzMzsPxSuR+F6FO4/XI/C9Shc7z9SuB6F61HwP/YoXI/C9fA/mpmZmZmZ8T8+CtejcD3yP+J6FK5H4fI/hutRuB6F8z8qXI/C9Sj0P87MzMzMzPQ/cj0K16Nw9T8WrkfhehT2P7oehetRuPY/Xo/C9Shc9z8CAAAAAAD4P6ZwPQrXo/g/SuF6FK5H+T/sUbgehev5P47C9Shcj/o/MjMzMzMz+z/Wo3A9Ctf7P3oUrkfhevw/HoXrUbge/T/C9Shcj8L9P2ZmZmZmZv4/CtejcD0K/z+uR+F6FK7/Pylcj8L1KABAexSuR+F6AEDNzMzMzMwAQB+F61G4HgFAcT0K16NwAUDD9Shcj8IBQBWuR+F6FAJAZ2ZmZmZmAkC5HoXrUbgCQAvXo3A9CgNAXY/C9ShcA0CvR+F6FK4DQAEAAAAAAARAU7gehetRBEClcD0K16MEQPYoXI/C9QRAR+F6FK5HBUCZmZmZmZkFQOtRuB6F6wVAPQrXo3A9BkCPwvUoXI8GQOF6FK5H4QZAMzMzMzMzB0CF61G4HoUHQNejcD0K1wdA",
          "dtype": "f8"
         },
         "y": {
          "bdata": "AAAAAAAAAAAAAAAAAAAAAAAAAAAAAAAAAAAAAAAAAAAAAAAAAAAAAAAAAAAAAAAAAAAAAAAAAAAAAAAAAAAAAAAAAAAAAAAAAAAAAAAAAAAAAAAAAAAAAAAAAAAAAAAAAAAAAAAAAAAAAAAAAAAAAAAAAAAAAAAAAAAAAAAAAAAAAAAAAAAAAAAAAAAAAAAAAAAAAAAAAAAAAAAAAAAAAAAAAAAAAAAAAAAAAAAAAAAAAAAAAAAAAAAAAAAAAAAAAAAAAAAAAAAAAAAAAAAAAAAAAAAAAAAAAAAAAAAAAAAAAAAAAAAAAAAAAAAAAAAAAAAAAAAAAAAAAAAAAAAAAAAAAAAAAAAAAAAAAAAAAAAAAAAAAAAAACSaQQApoJk/AAAAAAAAAAD8mUEAKaCZPwAAAAAAAAAAAAAAAAAAAAAAAAAAAAAAAAAAAAAAAAAAAAAAAAAAAAAAAAAAAAAAAPyZQQApoJk/AAAAAAAAAAD8mUEAKaCZPySaQQApoJk//JlBACmgmT/8mUEAKaC5P/yZQQApoLk/PgApoBkEwD/8mUEAKaCpP30zMcAeOMM//JlBACmguT99MzHAHjjDPz4AKaAZBNA/Xk01UCHS1D99MzHAHjjTP1yAPXAmBtg/XIA9cCYG2D+uJi94HWviP+1ZN5gin+U/7Vk3mCKf5T/tWTeYIp/lP71mOeAjbNY/TUAzCCAF5D+9ZjngI2zmP1yAPXAmBug/LI0/uCfT6D9o2ktoL6HtP6vzT/gxO+8//JlBACmg6T8VLTAcntHyP6vzT/gxO+8//JlBACmg6T+r80/4MTvvP4xzOyglOec/q/NP+DE77z/tWTeYIp/lPzzNSSAu1Ow/vWY54CNs5j8ODSvoGtHgP/GzRZArOus/PgApoBkE4D/8mUEAKaDZP94ZLTAcnuE/XIA9cCYG2D+cs0WQKzrbP/yZQQApoNk/3hktMBye0T+9ZjngI2zGP71mOeAjbMY/PM1JIC7UzD88zUkgLtTMPxQaLTAcntE/fTMxwB44sz+9ZjngI2zGP/yZQQApoKk//JlBACmgqT99MzHAHjizP/yZQQApoJk/AAAAAAAAAAAAAAAAAAAAAPyZQQApoKk/AAAAAAAAAAD8mUEAKaCZPwAAAAAAAAAA/JlBACmgmT8AAAAAAAAAAAAAAAAAAAAAAAAAAAAAAAD8mUEAKaCZP/yZQQApoJk/AAAAAAAAAACcmkEAKaCZPwAAAAAAAAAAAAAAAAAAAAAAAAAAAAAAAAAAAAAAAAAA/JlBACmgmT8AAAAAAAAAAAAAAAAAAAAAAAAAAAAAAAAAAAAAAAAAAAAAAAAAAAAAAAAAAAAAAAAAAAAAAAAAAAAAAAAAAAAAAAAAAAAAAAAAAAAAAAAAAAAAAAAAAAAAAAAAAAAAAAAAAAAAAAAAAAAAAAAAAAAAAAAAAAAAAAAAAAAAAAAAAAAAAAAAAAAAAAAAAAAAAAAAAAAAAAAAAAAAAAAAAAAAAAAAAAAAAAAAAAAAAAAAAAAAAAAAAAAAAAAAAAAAAAAAAAAAAAAAAAAAAAAAAAAAAAAAAAAAAAAAAAAAAAAAAAAAAAAAAAAA",
          "dtype": "f8"
         }
        },
        {
         "line": {
          "color": "red",
          "width": 2
         },
         "mode": "lines",
         "name": "cauchy_0.9",
         "type": "scatter",
         "x": {
          "bdata": "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",
          "dtype": "f8"
         },
         "y": {
          "bdata": "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",
          "dtype": "f8"
         }
        }
       ],
       "layout": {
        "height": 600,
        "legend": {
         "title": {
          "text": "Distributions"
         }
        },
        "plot_bgcolor": "rgba(240, 248, 255, 0.5)",
        "template": {
         "data": {
          "bar": [
           {
            "error_x": {
             "color": "#2a3f5f"
            },
            "error_y": {
             "color": "#2a3f5f"
            },
            "marker": {
             "line": {
              "color": "#E5ECF6",
              "width": 0.5
             },
             "pattern": {
              "fillmode": "overlay",
              "size": 10,
              "solidity": 0.2
             }
            },
            "type": "bar"
           }
          ],
          "barpolar": [
           {
            "marker": {
             "line": {
              "color": "#E5ECF6",
              "width": 0.5
             },
             "pattern": {
              "fillmode": "overlay",
              "size": 10,
              "solidity": 0.2
             }
            },
            "type": "barpolar"
           }
          ],
          "carpet": [
           {
            "aaxis": {
             "endlinecolor": "#2a3f5f",
             "gridcolor": "white",
             "linecolor": "white",
             "minorgridcolor": "white",
             "startlinecolor": "#2a3f5f"
            },
            "baxis": {
             "endlinecolor": "#2a3f5f",
             "gridcolor": "white",
             "linecolor": "white",
             "minorgridcolor": "white",
             "startlinecolor": "#2a3f5f"
            },
            "type": "carpet"
           }
          ],
          "choropleth": [
           {
            "colorbar": {
             "outlinewidth": 0,
             "ticks": ""
            },
            "type": "choropleth"
           }
          ],
          "contour": [
           {
            "colorbar": {
             "outlinewidth": 0,
             "ticks": ""
            },
            "colorscale": [
             [
              0,
              "#0d0887"
             ],
             [
              0.1111111111111111,
              "#46039f"
             ],
             [
              0.2222222222222222,
              "#7201a8"
             ],
             [
              0.3333333333333333,
              "#9c179e"
             ],
             [
              0.4444444444444444,
              "#bd3786"
             ],
             [
              0.5555555555555556,
              "#d8576b"
             ],
             [
              0.6666666666666666,
              "#ed7953"
             ],
             [
              0.7777777777777778,
              "#fb9f3a"
             ],
             [
              0.8888888888888888,
              "#fdca26"
             ],
             [
              1,
              "#f0f921"
             ]
            ],
            "type": "contour"
           }
          ],
          "contourcarpet": [
           {
            "colorbar": {
             "outlinewidth": 0,
             "ticks": ""
            },
            "type": "contourcarpet"
           }
          ],
          "heatmap": [
           {
            "colorbar": {
             "outlinewidth": 0,
             "ticks": ""
            },
            "colorscale": [
             [
              0,
              "#0d0887"
             ],
             [
              0.1111111111111111,
              "#46039f"
             ],
             [
              0.2222222222222222,
              "#7201a8"
             ],
             [
              0.3333333333333333,
              "#9c179e"
             ],
             [
              0.4444444444444444,
              "#bd3786"
             ],
             [
              0.5555555555555556,
              "#d8576b"
             ],
             [
              0.6666666666666666,
              "#ed7953"
             ],
             [
              0.7777777777777778,
              "#fb9f3a"
             ],
             [
              0.8888888888888888,
              "#fdca26"
             ],
             [
              1,
              "#f0f921"
             ]
            ],
            "type": "heatmap"
           }
          ],
          "histogram": [
           {
            "marker": {
             "pattern": {
              "fillmode": "overlay",
              "size": 10,
              "solidity": 0.2
             }
            },
            "type": "histogram"
           }
          ],
          "histogram2d": [
           {
            "colorbar": {
             "outlinewidth": 0,
             "ticks": ""
            },
            "colorscale": [
             [
              0,
              "#0d0887"
             ],
             [
              0.1111111111111111,
              "#46039f"
             ],
             [
              0.2222222222222222,
              "#7201a8"
             ],
             [
              0.3333333333333333,
              "#9c179e"
             ],
             [
              0.4444444444444444,
              "#bd3786"
             ],
             [
              0.5555555555555556,
              "#d8576b"
             ],
             [
              0.6666666666666666,
              "#ed7953"
             ],
             [
              0.7777777777777778,
              "#fb9f3a"
             ],
             [
              0.8888888888888888,
              "#fdca26"
             ],
             [
              1,
              "#f0f921"
             ]
            ],
            "type": "histogram2d"
           }
          ],
          "histogram2dcontour": [
           {
            "colorbar": {
             "outlinewidth": 0,
             "ticks": ""
            },
            "colorscale": [
             [
              0,
              "#0d0887"
             ],
             [
              0.1111111111111111,
              "#46039f"
             ],
             [
              0.2222222222222222,
              "#7201a8"
             ],
             [
              0.3333333333333333,
              "#9c179e"
             ],
             [
              0.4444444444444444,
              "#bd3786"
             ],
             [
              0.5555555555555556,
              "#d8576b"
             ],
             [
              0.6666666666666666,
              "#ed7953"
             ],
             [
              0.7777777777777778,
              "#fb9f3a"
             ],
             [
              0.8888888888888888,
              "#fdca26"
             ],
             [
              1,
              "#f0f921"
             ]
            ],
            "type": "histogram2dcontour"
           }
          ],
          "mesh3d": [
           {
            "colorbar": {
             "outlinewidth": 0,
             "ticks": ""
            },
            "type": "mesh3d"
           }
          ],
          "parcoords": [
           {
            "line": {
             "colorbar": {
              "outlinewidth": 0,
              "ticks": ""
             }
            },
            "type": "parcoords"
           }
          ],
          "pie": [
           {
            "automargin": true,
            "type": "pie"
           }
          ],
          "scatter": [
           {
            "fillpattern": {
             "fillmode": "overlay",
             "size": 10,
             "solidity": 0.2
            },
            "type": "scatter"
           }
          ],
          "scatter3d": [
           {
            "line": {
             "colorbar": {
              "outlinewidth": 0,
              "ticks": ""
             }
            },
            "marker": {
             "colorbar": {
              "outlinewidth": 0,
              "ticks": ""
             }
            },
            "type": "scatter3d"
           }
          ],
          "scattercarpet": [
           {
            "marker": {
             "colorbar": {
              "outlinewidth": 0,
              "ticks": ""
             }
            },
            "type": "scattercarpet"
           }
          ],
          "scattergeo": [
           {
            "marker": {
             "colorbar": {
              "outlinewidth": 0,
              "ticks": ""
             }
            },
            "type": "scattergeo"
           }
          ],
          "scattergl": [
           {
            "marker": {
             "colorbar": {
              "outlinewidth": 0,
              "ticks": ""
             }
            },
            "type": "scattergl"
           }
          ],
          "scattermap": [
           {
            "marker": {
             "colorbar": {
              "outlinewidth": 0,
              "ticks": ""
             }
            },
            "type": "scattermap"
           }
          ],
          "scattermapbox": [
           {
            "marker": {
             "colorbar": {
              "outlinewidth": 0,
              "ticks": ""
             }
            },
            "type": "scattermapbox"
           }
          ],
          "scatterpolar": [
           {
            "marker": {
             "colorbar": {
              "outlinewidth": 0,
              "ticks": ""
             }
            },
            "type": "scatterpolar"
           }
          ],
          "scatterpolargl": [
           {
            "marker": {
             "colorbar": {
              "outlinewidth": 0,
              "ticks": ""
             }
            },
            "type": "scatterpolargl"
           }
          ],
          "scatterternary": [
           {
            "marker": {
             "colorbar": {
              "outlinewidth": 0,
              "ticks": ""
             }
            },
            "type": "scatterternary"
           }
          ],
          "surface": [
           {
            "colorbar": {
             "outlinewidth": 0,
             "ticks": ""
            },
            "colorscale": [
             [
              0,
              "#0d0887"
             ],
             [
              0.1111111111111111,
              "#46039f"
             ],
             [
              0.2222222222222222,
              "#7201a8"
             ],
             [
              0.3333333333333333,
              "#9c179e"
             ],
             [
              0.4444444444444444,
              "#bd3786"
             ],
             [
              0.5555555555555556,
              "#d8576b"
             ],
             [
              0.6666666666666666,
              "#ed7953"
             ],
             [
              0.7777777777777778,
              "#fb9f3a"
             ],
             [
              0.8888888888888888,
              "#fdca26"
             ],
             [
              1,
              "#f0f921"
             ]
            ],
            "type": "surface"
           }
          ],
          "table": [
           {
            "cells": {
             "fill": {
              "color": "#EBF0F8"
             },
             "line": {
              "color": "white"
             }
            },
            "header": {
             "fill": {
              "color": "#C8D4E3"
             },
             "line": {
              "color": "white"
             }
            },
            "type": "table"
           }
          ]
         },
         "layout": {
          "annotationdefaults": {
           "arrowcolor": "#2a3f5f",
           "arrowhead": 0,
           "arrowwidth": 1
          },
          "autotypenumbers": "strict",
          "coloraxis": {
           "colorbar": {
            "outlinewidth": 0,
            "ticks": ""
           }
          },
          "colorscale": {
           "diverging": [
            [
             0,
             "#8e0152"
            ],
            [
             0.1,
             "#c51b7d"
            ],
            [
             0.2,
             "#de77ae"
            ],
            [
             0.3,
             "#f1b6da"
            ],
            [
             0.4,
             "#fde0ef"
            ],
            [
             0.5,
             "#f7f7f7"
            ],
            [
             0.6,
             "#e6f5d0"
            ],
            [
             0.7,
             "#b8e186"
            ],
            [
             0.8,
             "#7fbc41"
            ],
            [
             0.9,
             "#4d9221"
            ],
            [
             1,
             "#276419"
            ]
           ],
           "sequential": [
            [
             0,
             "#0d0887"
            ],
            [
             0.1111111111111111,
             "#46039f"
            ],
            [
             0.2222222222222222,
             "#7201a8"
            ],
            [
             0.3333333333333333,
             "#9c179e"
            ],
            [
             0.4444444444444444,
             "#bd3786"
            ],
            [
             0.5555555555555556,
             "#d8576b"
            ],
            [
             0.6666666666666666,
             "#ed7953"
            ],
            [
             0.7777777777777778,
             "#fb9f3a"
            ],
            [
             0.8888888888888888,
             "#fdca26"
            ],
            [
             1,
             "#f0f921"
            ]
           ],
           "sequentialminus": [
            [
             0,
             "#0d0887"
            ],
            [
             0.1111111111111111,
             "#46039f"
            ],
            [
             0.2222222222222222,
             "#7201a8"
            ],
            [
             0.3333333333333333,
             "#9c179e"
            ],
            [
             0.4444444444444444,
             "#bd3786"
            ],
            [
             0.5555555555555556,
             "#d8576b"
            ],
            [
             0.6666666666666666,
             "#ed7953"
            ],
            [
             0.7777777777777778,
             "#fb9f3a"
            ],
            [
             0.8888888888888888,
             "#fdca26"
            ],
            [
             1,
             "#f0f921"
            ]
           ]
          },
          "colorway": [
           "#636efa",
           "#EF553B",
           "#00cc96",
           "#ab63fa",
           "#FFA15A",
           "#19d3f3",
           "#FF6692",
           "#B6E880",
           "#FF97FF",
           "#FECB52"
          ],
          "font": {
           "color": "#2a3f5f"
          },
          "geo": {
           "bgcolor": "white",
           "lakecolor": "white",
           "landcolor": "#E5ECF6",
           "showlakes": true,
           "showland": true,
           "subunitcolor": "white"
          },
          "hoverlabel": {
           "align": "left"
          },
          "hovermode": "closest",
          "mapbox": {
           "style": "light"
          },
          "paper_bgcolor": "white",
          "plot_bgcolor": "#E5ECF6",
          "polar": {
           "angularaxis": {
            "gridcolor": "white",
            "linecolor": "white",
            "ticks": ""
           },
           "bgcolor": "#E5ECF6",
           "radialaxis": {
            "gridcolor": "white",
            "linecolor": "white",
            "ticks": ""
           }
          },
          "scene": {
           "xaxis": {
            "backgroundcolor": "#E5ECF6",
            "gridcolor": "white",
            "gridwidth": 2,
            "linecolor": "white",
            "showbackground": true,
            "ticks": "",
            "zerolinecolor": "white"
           },
           "yaxis": {
            "backgroundcolor": "#E5ECF6",
            "gridcolor": "white",
            "gridwidth": 2,
            "linecolor": "white",
            "showbackground": true,
            "ticks": "",
            "zerolinecolor": "white"
           },
           "zaxis": {
            "backgroundcolor": "#E5ECF6",
            "gridcolor": "white",
            "gridwidth": 2,
            "linecolor": "white",
            "showbackground": true,
            "ticks": "",
            "zerolinecolor": "white"
           }
          },
          "shapedefaults": {
           "line": {
            "color": "#2a3f5f"
           }
          },
          "ternary": {
           "aaxis": {
            "gridcolor": "white",
            "linecolor": "white",
            "ticks": ""
           },
           "baxis": {
            "gridcolor": "white",
            "linecolor": "white",
            "ticks": ""
           },
           "bgcolor": "#E5ECF6",
           "caxis": {
            "gridcolor": "white",
            "linecolor": "white",
            "ticks": ""
           }
          },
          "title": {
           "x": 0.05
          },
          "xaxis": {
           "automargin": true,
           "gridcolor": "white",
           "linecolor": "white",
           "ticks": "",
           "title": {
            "standoff": 15
           },
           "zerolinecolor": "white",
           "zerolinewidth": 2
          },
          "yaxis": {
           "automargin": true,
           "gridcolor": "white",
           "linecolor": "white",
           "ticks": "",
           "title": {
            "standoff": 15
           },
           "zerolinecolor": "white",
           "zerolinewidth": 2
          }
         }
        },
        "title": {
         "text": "Turning-angle Distribution - Source vs Observed"
        },
        "xaxis": {
         "title": {
          "text": "Turning Angle (radians)"
         }
        },
        "yaxis": {
         "title": {
          "text": "Density"
         }
        }
       }
      }
     },
     "metadata": {},
     "output_type": "display_data"
    }
   ],
   "source": [
    "cauchy_coefficients = [0.6, 0.9]\n",
    "\n",
    "# Generate trajectories\n",
    "trajectories = []\n",
    "for coef in cauchy_coefficients:\n",
    "    trajectory = crw_trajectory(n_steps=1000, correlation_coeff=coef)\n",
    "    trajectories.append(trajectory)\n",
    "\n",
    "# Plot the distributions\n",
    "fig = plot_turning_angle_distributions(trajectories, cauchy_coefficients)\n",
    "fig.show()"
   ]
  },
  {
   "cell_type": "markdown",
   "metadata": {},
   "source": [
    "# Activity 4: Step-length Distribution - (source dist. vs observed dist.)"
   ]
  },
  {
   "cell_type": "markdown",
   "metadata": {},
   "source": [
    "- Write a function that returns a **Lévy Walk (LW)** trajectory in **pandas** df.\n",
    "- Consider two **LW** trajectories with different **alpha coefficients.**\n",
    "- Write a function that restaurants the **step lengths** for a given trajectory.\n",
    "- Compare the observed distribution (**histogram**) to the source distribution (**curve**) for\n",
    "both trajectories, as shown in the figure below.\n",
    "- Display the results using **plotly.**"
   ]
  },
  {
   "cell_type": "markdown",
   "metadata": {},
   "source": [
    "# FUNCTIONS"
   ]
  },
  {
   "cell_type": "code",
   "execution_count": 202,
   "metadata": {},
   "outputs": [],
   "source": [
    "def levy_walk(steps=1000, alpha=1.0, beta=1.0, scale=1.0, x0=0, y0=0):\n",
    "    \"\"\"\n",
    "        Arguments\n",
    "    -----------\n",
    "        steps: Number of steps in the random walk trajectory\n",
    "        alpha: Stability parameter that determines the shape/heaviness of the tails  and 2)\n",
    "        beta: Skewness parameter of the distribution (float between -1 and 1)\n",
    "        scale: Scale parameter that controls the width of the distribution (float > 0)\n",
    "        x0: Initial x-coordinate position (float)\n",
    "        y0: Initial y-coordinate position (float)\n",
    "    \n",
    "    Returns\n",
    "    -----------\n",
    "        result_df: Pandas DataFrame containing the trajectory coordinates (x,y), step lengths and angles\n",
    "                  Columns: 'x', 'y', 'step_length', 'angle'\n",
    "    \"\"\"\n",
    "\n",
    "    # Step lengths from a Lévy stable distribution\n",
    "    step_lengths = levy_stable.rvs(alpha=alpha, beta=beta, loc=0, scale=scale, size=steps)\n",
    "    step_lengths = np.abs(step_lengths)  # Take absolute values for physical distances\n",
    "    \n",
    "    # Random angles uniformly between 0 and 2π\n",
    "    angles = np.random.uniform(0, 2*np.pi, steps)\n",
    "    \n",
    "    # Initialize arrays for coordinates\n",
    "    x_coords = np.zeros(steps + 1)\n",
    "    y_coords = np.zeros(steps + 1)\n",
    "    \n",
    "    # Set initial position\n",
    "    x_coords[0] = x0\n",
    "    y_coords[0] = y0\n",
    "    \n",
    "    # Calculate trajectory\n",
    "    for i in range(steps):\n",
    "        x_coords[i+1] = x_coords[i] + step_lengths[i] * np.cos(angles[i])\n",
    "        y_coords[i+1] = y_coords[i] + step_lengths[i] * np.sin(angles[i])\n",
    "    \n",
    "    # Create the result DataFrame\n",
    "    result_df = pd.DataFrame({\n",
    "        'x': x_coords,\n",
    "        'y': y_coords,\n",
    "        'step_length': np.append(step_lengths, np.nan),\n",
    "        'angle': np.append(angles, np.nan)\n",
    "    })\n",
    "    \n",
    "    return result_df"
   ]
  }
 ],
 "metadata": {
  "kernelspec": {
   "display_name": ".venv",
   "language": "python",
   "name": "python3"
  },
  "language_info": {
   "codemirror_mode": {
    "name": "ipython",
    "version": 3
   },
   "file_extension": ".py",
   "mimetype": "text/x-python",
   "name": "python",
   "nbconvert_exporter": "python",
   "pygments_lexer": "ipython3",
   "version": "3.9.0"
  }
 },
 "nbformat": 4,
 "nbformat_minor": 2
}
