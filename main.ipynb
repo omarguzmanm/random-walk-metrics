{
 "cells": [
  {
   "cell_type": "markdown",
   "metadata": {},
   "source": [
    "# Homework 3\n",
    "\n",
    "**Name:** Omar Alejandro Guzmán Munguía\n",
    "\n",
    "**e-mail:** omar.guzman5063@alumnos.udg.mx"
   ]
  },
  {
   "cell_type": "markdown",
   "metadata": {},
   "source": [
    "# MODULES"
   ]
  },
  {
   "cell_type": "code",
   "execution_count": 2,
   "metadata": {},
   "outputs": [],
   "source": [
    "# Load modules\n",
    "import numpy as np\n",
    "import math\n",
    "\n",
    "import plotly.graph_objects as go\n",
    "\n",
    "from scipy.stats import exponweib\n",
    "from scipy.spatial import distance\n",
    "\n",
    "import pandas as pd"
   ]
  },
  {
   "cell_type": "markdown",
   "metadata": {},
   "source": [
    "# CLASSES"
   ]
  },
  {
   "cell_type": "code",
   "execution_count": 3,
   "metadata": {},
   "outputs": [],
   "source": [
    "################# http://www.pygame.org/wiki/2DVectorClass ##################\n",
    "class Vec2d(object):\n",
    "    \"\"\"2d vector class, supports vector and scalar operators,\n",
    "       and also provides a bunch of high level functions\n",
    "       \"\"\"\n",
    "    __slots__ = ['x', 'y']\n",
    "\n",
    "    def __init__(self, x_or_pair, y = None):\n",
    "        if y == None:            \n",
    "            self.x = x_or_pair[0]\n",
    "            self.y = x_or_pair[1]\n",
    "        else:\n",
    "            self.x = x_or_pair\n",
    "            self.y = y\n",
    "            \n",
    "    # Addition\n",
    "    def __add__(self, other):\n",
    "        if isinstance(other, Vec2d):\n",
    "            return Vec2d(self.x + other.x, self.y + other.y)\n",
    "        elif hasattr(other, \"__getitem__\"):\n",
    "            return Vec2d(self.x + other[0], self.y + other[1])\n",
    "        else:\n",
    "            return Vec2d(self.x + other, self.y + other)\n",
    "\n",
    "    # Subtraction\n",
    "    def __sub__(self, other):\n",
    "        if isinstance(other, Vec2d):\n",
    "            return Vec2d(self.x - other.x, self.y - other.y)\n",
    "        elif (hasattr(other, \"__getitem__\")):\n",
    "            return Vec2d(self.x - other[0], self.y - other[1])\n",
    "        else:\n",
    "            return Vec2d(self.x - other, self.y - other)\n",
    "    \n",
    "    # Vector length\n",
    "    def get_length(self):\n",
    "        return math.sqrt(self.x**2 + self.y**2)\n",
    "    \n",
    "    # rotate vector\n",
    "    def rotated(self, angle):        \n",
    "        cos = math.cos(angle)\n",
    "        sin = math.sin(angle)\n",
    "        x = self.x*cos - self.y*sin\n",
    "        y = self.x*sin + self.y*cos\n",
    "        return Vec2d(x, y)"
   ]
  },
  {
   "cell_type": "markdown",
   "metadata": {},
   "source": [
    "# Activity 1: Path length - (BM1 vs BM2 vs CRW)"
   ]
  },
  {
   "cell_type": "markdown",
   "metadata": {},
   "source": [
    "- Write a function that returns a **Brownian Motion (BM)** trajectory in **pandas** df.\n",
    "- Write a function that returns a **Correlated Random Walk (CRW)** trajectory in **pandas** df.\n",
    "- Write a function that returns the **path length** for a given trajectory.\n",
    "- **Compare** at least the **path lengt** of **three** trajectories as shown in the figure below.\n",
    "- Display the results using **plotly.**"
   ]
  },
  {
   "cell_type": "markdown",
   "metadata": {},
   "source": [
    "# FUNCTIONS"
   ]
  },
  {
   "cell_type": "code",
   "execution_count": 4,
   "metadata": {},
   "outputs": [],
   "source": [
    "#####################################################################################\n",
    "# Brownian motion trajectoy\n",
    "#####################################################################################\n",
    "def bm_2d(n_steps=1000, speed=5, s_pos=[0,0]):\n",
    "    \"\"\"\n",
    "    Arguments:\n",
    "        n_steps: Number of steps in the trajectory.\n",
    "        speed: Speed of the trajectory.\n",
    "        s_pos: Starting position of the trajectory.\n",
    "    Returns:\n",
    "        BM_2d_df:  DataFrame with the x and y positions of the trajectory.\n",
    "    \"\"\"\n",
    "    \n",
    "    # Init velocity vector\n",
    "    velocity =Vec2d(speed,0)\n",
    "    \n",
    "    # Init DF\n",
    "    BM_2d_df = pd.DataFrame(columns=['x_pos','y_pos'])    \n",
    "    # Add initial position\n",
    "    temp_df = pd.DataFrame([{'x_pos':s_pos[0], 'y_pos':s_pos[1]}])    \n",
    "    BM_2d_df = pd.concat([BM_2d_df, temp_df], ignore_index=True)\n",
    "    \n",
    "    # Generate the trajectory\n",
    "    for i in range(n_steps-1):        \n",
    "        turn_angle = np.random.uniform(low=-np.pi, high=np.pi)\n",
    "        velocity = velocity.rotated(turn_angle)\n",
    "    \n",
    "        temp_df = pd.DataFrame([{'x_pos':BM_2d_df.x_pos[i]+velocity.x, 'y_pos':BM_2d_df.y_pos[i]+velocity.y}])    \n",
    "        BM_2d_df = pd.concat([BM_2d_df, temp_df], ignore_index=True)\n",
    "        \n",
    "    return BM_2d_df"
   ]
  },
  {
   "cell_type": "code",
   "execution_count": 5,
   "metadata": {},
   "outputs": [],
   "source": [
    "#####################################################################################\n",
    "# Correlated Random Walk (CRW)\n",
    "#####################################################################################\n",
    "def crw_trajectory(n_steps=1000, speed=5, correlation_coeff=0.9, s_pos=0.0):\n",
    "    \"\"\"\n",
    "    Arguments:\n",
    "        n_steps: Number of steps in the trajectory.\n",
    "        speed: Length of each step.\n",
    "        correlation_coeff: Correlation coefficient (between -1 and 1) that controls the correlation between consecutive steps.\n",
    "        s_pos: Initial direction of movement in radians (default is 0.0).\n",
    "    Returns:\n",
    "        crw_df: A pandas DataFrame with columns ['x', 'y'] representing the trajectory.\n",
    "    \"\"\"\n",
    "    # Initialize the trajectory with the starting point at the origin\n",
    "    trajectory = [Vec2d(0.0, 0.0)]\n",
    "    \n",
    "    # Initialize the current direction\n",
    "    current_direction = s_pos\n",
    "    \n",
    "    for _ in range(n_steps):\n",
    "        # Generate a random angle change based on the correlation coefficient\n",
    "        angle_change = np.random.normal(0, np.sqrt(1 - correlation_coeff**2))\n",
    "        \n",
    "        # Update the current direction\n",
    "        current_direction += angle_change\n",
    "        \n",
    "        # Calculate the next step vector\n",
    "        next_step = Vec2d(speed, 0).rotated(current_direction)\n",
    "        \n",
    "        # Update the trajectory\n",
    "        next_position = trajectory[-1] + next_step\n",
    "        trajectory.append(next_position)\n",
    "    \n",
    "    # Convert the trajectory to a pandas DataFrame\n",
    "    crw_df = pd.DataFrame([(pos.x, pos.y) for pos in trajectory], columns=['x', 'y'])\n",
    "    \n",
    "    return crw_df"
   ]
  },
  {
   "cell_type": "code",
   "execution_count": 6,
   "metadata": {},
   "outputs": [],
   "source": [
    "#####################################################################################\n",
    "# Path length\n",
    "#####################################################################################\n",
    "def path_length(trajectory_df, s_pos=[0]):\n",
    "    \"\"\"\n",
    "    Arguments:\n",
    "        trajectory_df: DataFrame with the x and y positions of the trajectory.\n",
    "        s_pos: Starting position of the trajectory.\n",
    "    Returns:\n",
    "        path_length: Length of the trajectory.\n",
    "    \"\"\"\n",
    "    # Initialize the path length\n",
    "    path_length = pd.DataFrame(columns=['y_pos'])\n",
    "    df = pd.DataFrame([{'y_pos':s_pos[0]}])\n",
    "\n",
    "    path_length = pd.concat([path_length, df], ignore_index=True)\n",
    "\n",
    "    for i in range(len(trajectory_df)-1):\n",
    "        df = pd.DataFrame([{'y_pos':path_length.y_pos[i] + distance.euclidean(trajectory_df.iloc[i], trajectory_df.iloc[i+1])}])\n",
    "        path_length = pd.concat([path_length, df], ignore_index=True)\n",
    "        \n",
    "    return path_length"
   ]
  },
  {
   "cell_type": "code",
   "execution_count": 7,
   "metadata": {},
   "outputs": [],
   "source": [
    "# Generate trajectories\n",
    "bm_traj_3 = bm_2d(speed=3)\n",
    "bm_traj_6 = bm_2d(speed=6)\n",
    "crw_traj_6 = crw_trajectory(speed=6)\n",
    "\n",
    "# Calculate path lengths\n",
    "bm_pl_3 = path_length(bm_traj_3)\n",
    "bm_pl_6 = path_length(bm_traj_6)\n",
    "crw_pl_6 = path_length(crw_traj_6)"
   ]
  },
  {
   "cell_type": "code",
   "execution_count": 8,
   "metadata": {},
   "outputs": [
    {
     "data": {
      "application/vnd.plotly.v1+json": {
       "config": {
        "plotlyServerURL": "https://plot.ly"
       },
       "data": [
        {
         "mode": "lines",
         "name": "Path length - BM 3",
         "showlegend": true,
         "type": "scatter",
         "x": {
          "bdata": "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",
          "dtype": "i2"
         },
         "y": [
          0,
          3,
          6,
          9,
          12,
          15,
          18,
          21,
          24,
          27,
          30,
          33,
          36,
          39,
          42,
          45,
          48,
          51,
          54,
          57,
          60,
          63,
          66,
          69,
          72,
          75,
          78,
          81,
          84,
          87,
          90,
          93,
          96,
          99,
          102,
          105,
          108,
          111,
          114,
          117,
          120,
          123,
          126,
          129,
          132,
          135,
          138,
          141,
          144,
          147,
          150,
          153,
          156,
          159,
          162,
          165,
          168,
          171,
          174,
          177,
          180,
          183,
          186,
          189,
          192,
          195,
          198,
          201,
          204,
          207,
          210,
          213,
          216,
          219,
          222,
          225,
          228,
          231,
          234,
          237,
          240,
          243,
          246,
          249,
          252,
          255,
          258,
          261,
          264,
          267,
          270,
          273,
          276,
          279,
          282,
          285,
          288,
          291,
          294,
          297,
          300,
          303,
          306,
          309,
          312,
          315,
          318,
          321,
          324,
          327,
          330,
          333,
          336,
          339,
          342,
          345,
          348,
          351,
          354,
          357,
          360,
          363,
          366,
          369,
          372,
          375,
          378,
          381,
          384,
          387,
          390,
          393,
          396,
          399,
          402,
          405,
          408,
          411,
          414,
          417,
          420,
          423,
          426,
          429,
          432,
          435,
          438,
          441,
          444,
          447,
          450,
          453,
          456,
          459,
          462,
          465,
          468,
          471,
          474,
          477,
          480,
          483,
          486,
          489,
          492,
          495,
          498,
          501,
          504,
          507,
          510,
          513,
          516,
          519,
          522,
          525,
          528,
          531,
          534,
          537,
          540,
          543,
          546,
          549,
          552,
          555,
          558,
          561,
          564,
          567,
          570,
          573,
          576,
          579,
          582,
          585,
          588,
          591,
          594,
          597,
          600,
          603,
          606,
          609,
          612,
          615,
          618,
          621,
          624,
          627,
          630,
          633,
          636,
          639,
          642,
          645,
          648,
          651,
          654,
          657,
          660,
          663,
          666,
          669,
          672,
          675,
          678,
          681,
          684,
          687,
          690,
          693,
          696,
          699,
          702,
          705,
          708,
          711,
          714,
          717,
          720,
          723,
          726,
          729,
          732,
          735,
          738,
          741,
          744,
          747,
          750,
          753,
          756,
          759,
          762,
          765,
          768,
          771,
          774,
          777,
          780,
          783,
          786,
          789,
          792,
          795,
          798,
          801,
          804,
          807,
          810,
          813,
          816,
          819,
          822,
          825,
          828,
          831,
          834,
          837,
          840,
          843,
          846,
          849,
          852,
          855,
          858,
          861,
          864,
          867,
          870,
          873,
          876,
          879,
          882,
          885,
          888,
          891,
          894,
          897,
          900,
          903,
          906,
          909,
          912,
          915,
          918,
          921,
          924,
          927,
          930,
          933,
          936,
          939,
          942,
          945,
          948,
          951,
          954,
          957,
          960,
          963,
          966,
          969,
          972,
          975,
          978,
          981,
          984,
          987,
          990,
          993,
          996,
          999,
          1002,
          1005,
          1008,
          1011,
          1014,
          1017,
          1020,
          1023,
          1026,
          1029,
          1032,
          1035,
          1038,
          1041,
          1044,
          1047,
          1050,
          1053,
          1056,
          1059,
          1062,
          1065,
          1068,
          1071,
          1074,
          1077,
          1080,
          1083,
          1086,
          1089,
          1092,
          1095,
          1098,
          1101,
          1104,
          1107,
          1110,
          1113,
          1116,
          1119,
          1122,
          1125,
          1128,
          1131,
          1134,
          1137,
          1140,
          1143,
          1146,
          1149,
          1152,
          1155,
          1158,
          1161,
          1164,
          1167,
          1170,
          1173,
          1176,
          1179,
          1182,
          1185,
          1188,
          1191,
          1194,
          1197,
          1200,
          1203,
          1206,
          1209,
          1212,
          1215,
          1218,
          1221,
          1224,
          1227,
          1230,
          1233,
          1236,
          1239,
          1242,
          1245,
          1248,
          1251,
          1254,
          1257,
          1260,
          1263,
          1266,
          1269,
          1272,
          1275,
          1278,
          1281,
          1284,
          1287,
          1290,
          1293,
          1296,
          1299,
          1302,
          1305,
          1308,
          1311,
          1314,
          1317,
          1320,
          1323,
          1326,
          1329,
          1332,
          1335,
          1338,
          1341,
          1344,
          1347,
          1350,
          1353,
          1356,
          1359,
          1362,
          1365,
          1368,
          1371,
          1374,
          1377,
          1380,
          1383,
          1386,
          1389,
          1392,
          1395,
          1398,
          1401,
          1404,
          1407,
          1410,
          1413,
          1416,
          1419,
          1422,
          1425,
          1428,
          1431,
          1434,
          1437,
          1440,
          1443,
          1446,
          1449,
          1452,
          1455,
          1458,
          1461,
          1464,
          1467,
          1470,
          1473,
          1476,
          1479,
          1482,
          1485,
          1488,
          1491,
          1494,
          1497,
          1500,
          1503,
          1506,
          1509,
          1512,
          1515,
          1518,
          1521,
          1524,
          1527,
          1530,
          1533,
          1536,
          1539,
          1542,
          1545,
          1548,
          1551,
          1554,
          1557,
          1560,
          1563,
          1566,
          1569,
          1572,
          1575,
          1578,
          1581,
          1584,
          1587,
          1590,
          1593,
          1596,
          1599,
          1602,
          1605,
          1608,
          1611,
          1614,
          1617,
          1620,
          1623,
          1626,
          1629,
          1632,
          1635,
          1638,
          1641,
          1644,
          1647,
          1650,
          1653,
          1656,
          1659,
          1662,
          1665,
          1668,
          1671,
          1674,
          1677,
          1680,
          1683,
          1686,
          1689,
          1692,
          1695,
          1698,
          1701,
          1704,
          1707,
          1710,
          1713,
          1716,
          1719,
          1722,
          1725,
          1728,
          1731,
          1734,
          1737,
          1740,
          1743,
          1746,
          1749,
          1752,
          1755,
          1758,
          1761,
          1764,
          1767,
          1770,
          1773,
          1776,
          1779,
          1782,
          1785,
          1788,
          1791,
          1794,
          1797,
          1800,
          1803,
          1806,
          1809,
          1812,
          1815,
          1818,
          1821,
          1824,
          1827,
          1830,
          1833,
          1836,
          1839,
          1842,
          1845,
          1848,
          1851,
          1854,
          1857,
          1860,
          1863,
          1866,
          1869,
          1872,
          1875,
          1878,
          1881,
          1884,
          1887,
          1890,
          1893,
          1896,
          1899,
          1902,
          1905,
          1908,
          1911,
          1914,
          1917,
          1920,
          1923,
          1926,
          1929,
          1932,
          1935,
          1938,
          1941,
          1944,
          1947,
          1950,
          1953,
          1956,
          1959,
          1962,
          1965,
          1968,
          1971,
          1974,
          1977,
          1980,
          1983,
          1986,
          1989,
          1992,
          1995,
          1998,
          2001,
          2004,
          2007,
          2010,
          2013,
          2016,
          2019,
          2022,
          2025,
          2028,
          2031,
          2034,
          2037,
          2040,
          2043,
          2046,
          2049,
          2052,
          2055,
          2058,
          2061,
          2064,
          2067,
          2070,
          2073,
          2076,
          2079,
          2082,
          2085,
          2088,
          2091,
          2094,
          2097,
          2100,
          2103,
          2106,
          2109,
          2112,
          2115,
          2118,
          2121,
          2124,
          2127,
          2130,
          2133,
          2136,
          2139,
          2142,
          2145,
          2148,
          2151,
          2154,
          2157,
          2160,
          2163,
          2166,
          2169,
          2172,
          2175,
          2178,
          2181,
          2184,
          2187,
          2190,
          2193,
          2196,
          2199,
          2202,
          2205,
          2208,
          2211,
          2214,
          2217,
          2220,
          2223,
          2226,
          2229,
          2232,
          2235,
          2238,
          2241,
          2244,
          2247,
          2250,
          2253,
          2256,
          2259,
          2262,
          2265,
          2268,
          2271,
          2274,
          2277,
          2280,
          2283,
          2286,
          2289,
          2292,
          2295,
          2298,
          2301,
          2304,
          2307,
          2310,
          2313,
          2316,
          2319,
          2322,
          2325,
          2328,
          2331,
          2334,
          2337,
          2340,
          2343,
          2346,
          2349,
          2352,
          2355,
          2358,
          2361,
          2364,
          2367,
          2370,
          2373,
          2376,
          2379,
          2382,
          2385,
          2388,
          2391,
          2394,
          2397,
          2400,
          2403,
          2406,
          2409,
          2412,
          2415,
          2418,
          2421,
          2424,
          2427,
          2430,
          2433,
          2436,
          2439,
          2442,
          2445,
          2448,
          2451,
          2454,
          2457,
          2460,
          2463,
          2466,
          2469,
          2472,
          2475,
          2478,
          2481,
          2484,
          2487,
          2490,
          2493,
          2496,
          2499,
          2502,
          2505,
          2508,
          2511,
          2514,
          2517,
          2520,
          2523,
          2526,
          2529,
          2532,
          2535,
          2538,
          2541,
          2544,
          2547,
          2550,
          2553,
          2556,
          2559,
          2562,
          2565,
          2568,
          2571,
          2574,
          2577,
          2580,
          2583,
          2586,
          2589,
          2592,
          2595,
          2598,
          2601,
          2604,
          2607,
          2610,
          2613,
          2616,
          2619,
          2622,
          2625,
          2628,
          2631,
          2634,
          2637,
          2640,
          2643,
          2646,
          2649,
          2652,
          2655,
          2658,
          2661,
          2664,
          2667,
          2670,
          2673,
          2676,
          2679,
          2682,
          2685,
          2688,
          2691,
          2694,
          2697,
          2700,
          2703,
          2706,
          2709,
          2712,
          2715,
          2718,
          2721,
          2724,
          2727,
          2730,
          2733,
          2736,
          2739,
          2742,
          2745,
          2748,
          2751,
          2754,
          2757,
          2760,
          2763,
          2766,
          2769,
          2772,
          2775,
          2778,
          2781,
          2784,
          2787,
          2790,
          2793,
          2796,
          2799,
          2802,
          2805,
          2808,
          2811,
          2814,
          2817,
          2820,
          2823,
          2826,
          2829,
          2832,
          2835,
          2838,
          2841,
          2844,
          2847,
          2850,
          2853,
          2856,
          2859,
          2862,
          2865,
          2868,
          2871,
          2874,
          2877,
          2880,
          2883,
          2886,
          2889,
          2892,
          2895,
          2898,
          2901,
          2904,
          2907,
          2910,
          2913,
          2916,
          2919,
          2922,
          2925,
          2928,
          2931,
          2934,
          2937,
          2940,
          2943,
          2946,
          2949,
          2952,
          2955,
          2958,
          2961,
          2964,
          2967,
          2970,
          2973,
          2976,
          2979,
          2982,
          2985,
          2988,
          2991,
          2994,
          2997
         ]
        },
        {
         "line": {
          "width": 6
         },
         "marker": {
          "size": 2
         },
         "mode": "lines",
         "name": "Path length - BM 6",
         "showlegend": true,
         "type": "scatter",
         "x": {
          "bdata": "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",
          "dtype": "i2"
         },
         "y": [
          0,
          6,
          12,
          18,
          24,
          29.999999999999996,
          35.99999999999999,
          41.99999999999999,
          47.99999999999999,
          53.99999999999999,
          59.99999999999999,
          65.99999999999999,
          71.99999999999999,
          77.99999999999999,
          83.99999999999999,
          89.99999999999999,
          95.99999999999999,
          101.99999999999999,
          107.99999999999999,
          113.99999999999999,
          119.99999999999999,
          125.99999999999999,
          131.99999999999997,
          137.99999999999997,
          143.99999999999997,
          149.99999999999997,
          155.99999999999997,
          161.99999999999997,
          167.99999999999997,
          173.99999999999997,
          179.99999999999997,
          185.99999999999997,
          191.99999999999997,
          197.99999999999997,
          203.99999999999997,
          209.99999999999997,
          215.99999999999997,
          221.99999999999997,
          227.99999999999997,
          233.99999999999997,
          239.99999999999997,
          245.99999999999997,
          251.99999999999997,
          257.99999999999994,
          263.99999999999994,
          269.99999999999994,
          275.99999999999994,
          281.99999999999994,
          287.99999999999994,
          293.99999999999994,
          299.99999999999994,
          305.99999999999994,
          311.99999999999994,
          317.99999999999994,
          323.99999999999994,
          329.99999999999994,
          335.99999999999994,
          341.99999999999994,
          347.99999999999994,
          353.99999999999994,
          359.99999999999994,
          365.99999999999994,
          371.99999999999994,
          377.99999999999994,
          383.99999999999994,
          389.99999999999994,
          395.99999999999994,
          401.99999999999994,
          407.99999999999994,
          413.99999999999994,
          419.99999999999994,
          425.99999999999994,
          431.99999999999994,
          437.99999999999994,
          443.99999999999994,
          449.99999999999994,
          455.99999999999994,
          461.99999999999994,
          467.99999999999994,
          473.99999999999994,
          479.99999999999994,
          485.99999999999994,
          491.99999999999994,
          497.99999999999994,
          503.99999999999994,
          509.99999999999994,
          515.9999999999999,
          521.9999999999999,
          527.9999999999999,
          533.9999999999999,
          539.9999999999999,
          545.9999999999999,
          551.9999999999999,
          557.9999999999999,
          563.9999999999999,
          569.9999999999999,
          575.9999999999999,
          581.9999999999999,
          587.9999999999999,
          593.9999999999999,
          599.9999999999999,
          605.9999999999999,
          611.9999999999999,
          617.9999999999999,
          623.9999999999999,
          629.9999999999999,
          635.9999999999999,
          641.9999999999999,
          647.9999999999999,
          653.9999999999999,
          659.9999999999999,
          665.9999999999999,
          671.9999999999999,
          677.9999999999999,
          683.9999999999999,
          689.9999999999999,
          695.9999999999999,
          701.9999999999999,
          707.9999999999999,
          713.9999999999999,
          719.9999999999999,
          725.9999999999999,
          731.9999999999999,
          737.9999999999999,
          743.9999999999999,
          749.9999999999999,
          755.9999999999999,
          761.9999999999999,
          767.9999999999999,
          773.9999999999999,
          779.9999999999999,
          785.9999999999999,
          791.9999999999999,
          797.9999999999999,
          803.9999999999999,
          809.9999999999999,
          815.9999999999999,
          821.9999999999999,
          827.9999999999999,
          833.9999999999999,
          839.9999999999999,
          845.9999999999999,
          851.9999999999999,
          857.9999999999999,
          863.9999999999999,
          869.9999999999999,
          875.9999999999999,
          881.9999999999999,
          887.9999999999999,
          893.9999999999999,
          899.9999999999999,
          905.9999999999999,
          911.9999999999999,
          917.9999999999999,
          923.9999999999999,
          929.9999999999999,
          935.9999999999999,
          941.9999999999999,
          947.9999999999999,
          953.9999999999999,
          959.9999999999999,
          965.9999999999999,
          971.9999999999999,
          977.9999999999999,
          983.9999999999999,
          989.9999999999999,
          995.9999999999999,
          1001.9999999999999,
          1007.9999999999999,
          1013.9999999999999,
          1019.9999999999999,
          1026,
          1032,
          1038,
          1044,
          1050,
          1056,
          1062,
          1068,
          1074,
          1080,
          1086,
          1092,
          1098,
          1104,
          1110,
          1116,
          1122,
          1128,
          1134,
          1140,
          1146,
          1152,
          1158,
          1164,
          1170,
          1176,
          1182,
          1188,
          1194,
          1200,
          1206,
          1212,
          1218,
          1224,
          1230,
          1236,
          1242,
          1248,
          1254,
          1260,
          1266,
          1272,
          1278,
          1284,
          1290,
          1296,
          1302,
          1308,
          1314,
          1320,
          1326,
          1332,
          1338,
          1344,
          1350,
          1356,
          1362,
          1368,
          1374,
          1380,
          1386,
          1392,
          1398,
          1404,
          1410,
          1416,
          1422,
          1428,
          1434,
          1440,
          1446,
          1452,
          1458,
          1464,
          1470,
          1476,
          1482,
          1488,
          1494,
          1500,
          1506,
          1512,
          1518,
          1524,
          1530,
          1536,
          1542,
          1548,
          1554,
          1560,
          1566,
          1572,
          1578,
          1584,
          1590,
          1596,
          1602,
          1608,
          1614,
          1620,
          1626,
          1632,
          1638,
          1644,
          1650,
          1656,
          1662,
          1668,
          1674,
          1680,
          1686,
          1692,
          1698,
          1704,
          1710,
          1716,
          1722,
          1728,
          1734,
          1740,
          1746,
          1752,
          1758,
          1764,
          1770,
          1776,
          1782,
          1788,
          1794,
          1800,
          1806,
          1812,
          1818,
          1824,
          1830,
          1836,
          1842,
          1848,
          1854,
          1860,
          1866,
          1872,
          1878,
          1884,
          1890,
          1896,
          1902,
          1908,
          1914,
          1920,
          1926,
          1932,
          1938,
          1944,
          1950,
          1956,
          1962,
          1968,
          1974,
          1980,
          1986,
          1992,
          1998,
          2004,
          2010,
          2016,
          2022,
          2028,
          2034,
          2040,
          2046,
          2052,
          2058,
          2064,
          2070,
          2076,
          2082,
          2088,
          2094,
          2100,
          2106,
          2112,
          2118,
          2124,
          2130,
          2136,
          2142,
          2148,
          2154,
          2160,
          2166,
          2172,
          2178,
          2184,
          2190,
          2196,
          2202,
          2208,
          2214,
          2220,
          2226,
          2232,
          2238,
          2244,
          2250,
          2256,
          2262,
          2268,
          2274,
          2280,
          2286,
          2292,
          2298,
          2304,
          2310,
          2316,
          2322,
          2328,
          2334,
          2340,
          2346,
          2352,
          2358,
          2364,
          2370,
          2376,
          2382,
          2388,
          2394,
          2400,
          2406,
          2412,
          2418,
          2424,
          2430,
          2436,
          2442,
          2448,
          2454,
          2460,
          2466,
          2472,
          2478,
          2484,
          2490,
          2496,
          2502,
          2508,
          2514,
          2520,
          2526,
          2532,
          2538,
          2544,
          2550,
          2556,
          2562,
          2568,
          2574,
          2580,
          2586,
          2592,
          2598,
          2604,
          2610,
          2616,
          2622,
          2628,
          2634,
          2640,
          2646,
          2652,
          2658,
          2664,
          2670,
          2676,
          2682,
          2688,
          2694,
          2700,
          2706,
          2712,
          2718,
          2724,
          2730,
          2736,
          2742,
          2748,
          2754,
          2760,
          2766,
          2772,
          2778,
          2784,
          2790,
          2796,
          2802,
          2808,
          2814,
          2820,
          2826,
          2832,
          2838,
          2844,
          2850,
          2856,
          2862,
          2868,
          2874,
          2880,
          2886,
          2892,
          2898,
          2904,
          2910,
          2916,
          2922,
          2928,
          2934,
          2940,
          2946,
          2952,
          2958,
          2964,
          2970,
          2976,
          2982,
          2988,
          2994,
          3000,
          3006,
          3012,
          3018,
          3024,
          3030,
          3036,
          3042,
          3048,
          3054,
          3060,
          3066,
          3072,
          3078,
          3084,
          3090,
          3096,
          3102,
          3108,
          3114,
          3120,
          3126,
          3132,
          3138,
          3144,
          3150,
          3156,
          3162,
          3168,
          3174,
          3180,
          3186,
          3192,
          3198,
          3204,
          3210,
          3216,
          3222,
          3228,
          3234,
          3240,
          3246,
          3252,
          3258,
          3264,
          3270,
          3276,
          3282,
          3288,
          3294,
          3300,
          3306,
          3312,
          3318,
          3324,
          3330,
          3336,
          3342,
          3348,
          3354,
          3360,
          3366,
          3372,
          3378,
          3384,
          3390,
          3396,
          3402,
          3408,
          3414,
          3420,
          3426,
          3432,
          3438,
          3444,
          3450,
          3456,
          3462,
          3468,
          3474,
          3480,
          3486,
          3492,
          3498,
          3504,
          3510,
          3516,
          3522,
          3528,
          3534,
          3540,
          3546,
          3552,
          3558,
          3564,
          3570,
          3576,
          3582,
          3588,
          3594,
          3600,
          3606,
          3612,
          3618,
          3624,
          3630,
          3636,
          3642,
          3648,
          3654,
          3660,
          3666,
          3672,
          3678,
          3684,
          3690,
          3696,
          3702,
          3708,
          3714,
          3720,
          3726,
          3732,
          3738,
          3744,
          3750,
          3756,
          3762,
          3768,
          3774,
          3780,
          3786,
          3792,
          3798,
          3804,
          3810,
          3816,
          3822,
          3828,
          3834,
          3840,
          3846,
          3852,
          3858,
          3864,
          3870,
          3876,
          3882,
          3888,
          3894,
          3900,
          3906,
          3912,
          3918,
          3924,
          3930,
          3936,
          3942,
          3948,
          3954,
          3960,
          3966,
          3972,
          3978,
          3984,
          3990,
          3996,
          4002,
          4008,
          4014,
          4020,
          4026,
          4032,
          4038,
          4044,
          4050,
          4056,
          4062,
          4068,
          4074,
          4080,
          4086,
          4092,
          4098,
          4104,
          4110,
          4116,
          4122,
          4128,
          4134,
          4140,
          4146,
          4152,
          4158,
          4164,
          4170,
          4176,
          4182,
          4188,
          4194,
          4200,
          4206,
          4212,
          4218,
          4224,
          4230,
          4236,
          4242,
          4248,
          4254,
          4260,
          4266,
          4272,
          4278,
          4284,
          4290,
          4296,
          4302,
          4308,
          4314,
          4320,
          4326,
          4332,
          4338,
          4344,
          4350,
          4356,
          4362,
          4368,
          4374,
          4380,
          4386,
          4392,
          4398,
          4404,
          4410,
          4416,
          4422,
          4428,
          4434,
          4440,
          4446,
          4452,
          4458,
          4464,
          4470,
          4476,
          4482,
          4488,
          4494,
          4500,
          4506,
          4512,
          4518,
          4524,
          4530,
          4536,
          4542,
          4548,
          4554,
          4560,
          4566,
          4572,
          4578,
          4584,
          4590,
          4596,
          4602,
          4608,
          4614,
          4620,
          4626,
          4632,
          4638,
          4644,
          4650,
          4656,
          4662,
          4668,
          4674,
          4680,
          4686,
          4692,
          4698,
          4704,
          4710,
          4716,
          4722,
          4728,
          4734,
          4740,
          4746,
          4752,
          4758,
          4764,
          4770,
          4776,
          4782,
          4788,
          4794,
          4800,
          4806,
          4812,
          4818,
          4824,
          4830,
          4836,
          4842,
          4848,
          4854,
          4860,
          4866,
          4872,
          4878,
          4884,
          4890,
          4896,
          4902,
          4908,
          4914,
          4920,
          4926,
          4932,
          4938,
          4944,
          4950,
          4956,
          4962,
          4968,
          4974,
          4980,
          4986,
          4992,
          4998,
          5004,
          5010,
          5016,
          5022,
          5028,
          5034,
          5040,
          5046,
          5052,
          5058,
          5064,
          5070,
          5076,
          5082,
          5088,
          5094,
          5100,
          5106,
          5112,
          5118,
          5124,
          5130,
          5136,
          5142,
          5148,
          5154,
          5160,
          5166,
          5172,
          5178,
          5184,
          5190,
          5196,
          5202,
          5208,
          5214,
          5220,
          5226,
          5232,
          5238,
          5244,
          5250,
          5256,
          5262,
          5268,
          5274,
          5280,
          5286,
          5292,
          5298,
          5304,
          5310,
          5316,
          5322,
          5328,
          5334,
          5340,
          5346,
          5352,
          5358,
          5364,
          5370,
          5376,
          5382,
          5388,
          5394,
          5400,
          5406,
          5412,
          5418,
          5424,
          5430,
          5436,
          5442,
          5448,
          5454,
          5460,
          5466,
          5472,
          5478,
          5484,
          5490,
          5496,
          5502,
          5508,
          5514,
          5520,
          5526,
          5532,
          5538,
          5544,
          5550,
          5556,
          5562,
          5568,
          5574,
          5580,
          5586,
          5592,
          5598,
          5604,
          5610,
          5616,
          5622,
          5628,
          5634,
          5640,
          5646,
          5652,
          5658,
          5664,
          5670,
          5676,
          5682,
          5688,
          5694,
          5700,
          5706,
          5712,
          5718,
          5724,
          5730,
          5736,
          5742,
          5748,
          5754,
          5760,
          5766,
          5772,
          5778,
          5784,
          5790,
          5796,
          5802,
          5808,
          5814,
          5820,
          5826,
          5832,
          5838,
          5844,
          5850,
          5856,
          5862,
          5868,
          5874,
          5880,
          5886,
          5892,
          5898,
          5904,
          5910,
          5916,
          5922,
          5928,
          5934,
          5940,
          5946,
          5952,
          5958,
          5964,
          5970,
          5976,
          5982,
          5988,
          5994
         ]
        },
        {
         "mode": "lines",
         "name": "Path length - CRW 6",
         "showlegend": true,
         "type": "scatter",
         "x": {
          "bdata": "AAABAAIAAwAEAAUABgAHAAgACQAKAAsADAANAA4ADwAQABEAEgATABQAFQAWABcAGAAZABoAGwAcAB0AHgAfACAAIQAiACMAJAAlACYAJwAoACkAKgArACwALQAuAC8AMAAxADIAMwA0ADUANgA3ADgAOQA6ADsAPAA9AD4APwBAAEEAQgBDAEQARQBGAEcASABJAEoASwBMAE0ATgBPAFAAUQBSAFMAVABVAFYAVwBYAFkAWgBbAFwAXQBeAF8AYABhAGIAYwBkAGUAZgBnAGgAaQBqAGsAbABtAG4AbwBwAHEAcgBzAHQAdQB2AHcAeAB5AHoAewB8AH0AfgB/AIAAgQCCAIMAhACFAIYAhwCIAIkAigCLAIwAjQCOAI8AkACRAJIAkwCUAJUAlgCXAJgAmQCaAJsAnACdAJ4AnwCgAKEAogCjAKQApQCmAKcAqACpAKoAqwCsAK0ArgCvALAAsQCyALMAtAC1ALYAtwC4ALkAugC7ALwAvQC+AL8AwADBAMIAwwDEAMUAxgDHAMgAyQDKAMsAzADNAM4AzwDQANEA0gDTANQA1QDWANcA2ADZANoA2wDcAN0A3gDfAOAA4QDiAOMA5ADlAOYA5wDoAOkA6gDrAOwA7QDuAO8A8ADxAPIA8wD0APUA9gD3APgA+QD6APsA/AD9AP4A/wAAAQEBAgEDAQQBBQEGAQcBCAEJAQoBCwEMAQ0BDgEPARABEQESARMBFAEVARYBFwEYARkBGgEbARwBHQEeAR8BIAEhASIBIwEkASUBJgEnASgBKQEqASsBLAEtAS4BLwEwATEBMgEzATQBNQE2ATcBOAE5AToBOwE8AT0BPgE/AUABQQFCAUMBRAFFAUYBRwFIAUkBSgFLAUwBTQFOAU8BUAFRAVIBUwFUAVUBVgFXAVgBWQFaAVsBXAFdAV4BXwFgAWEBYgFjAWQBZQFmAWcBaAFpAWoBawFsAW0BbgFvAXABcQFyAXMBdAF1AXYBdwF4AXkBegF7AXwBfQF+AX8BgAGBAYIBgwGEAYUBhgGHAYgBiQGKAYsBjAGNAY4BjwGQAZEBkgGTAZQBlQGWAZcBmAGZAZoBmwGcAZ0BngGfAaABoQGiAaMBpAGlAaYBpwGoAakBqgGrAawBrQGuAa8BsAGxAbIBswG0AbUBtgG3AbgBuQG6AbsBvAG9Ab4BvwHAAcEBwgHDAcQBxQHGAccByAHJAcoBywHMAc0BzgHPAdAB0QHSAdMB1AHVAdYB1wHYAdkB2gHbAdwB3QHeAd8B4AHhAeIB4wHkAeUB5gHnAegB6QHqAesB7AHtAe4B7wHwAfEB8gHzAfQB9QH2AfcB+AH5AfoB+wH8Af0B/gH/AQACAQICAgMCBAIFAgYCBwIIAgkCCgILAgwCDQIOAg8CEAIRAhICEwIUAhUCFgIXAhgCGQIaAhsCHAIdAh4CHwIgAiECIgIjAiQCJQImAicCKAIpAioCKwIsAi0CLgIvAjACMQIyAjMCNAI1AjYCNwI4AjkCOgI7AjwCPQI+Aj8CQAJBAkICQwJEAkUCRgJHAkgCSQJKAksCTAJNAk4CTwJQAlECUgJTAlQCVQJWAlcCWAJZAloCWwJcAl0CXgJfAmACYQJiAmMCZAJlAmYCZwJoAmkCagJrAmwCbQJuAm8CcAJxAnICcwJ0AnUCdgJ3AngCeQJ6AnsCfAJ9An4CfwKAAoECggKDAoQChQKGAocCiAKJAooCiwKMAo0CjgKPApACkQKSApMClAKVApYClwKYApkCmgKbApwCnQKeAp8CoAKhAqICowKkAqUCpgKnAqgCqQKqAqsCrAKtAq4CrwKwArECsgKzArQCtQK2ArcCuAK5AroCuwK8Ar0CvgK/AsACwQLCAsMCxALFAsYCxwLIAskCygLLAswCzQLOAs8C0ALRAtIC0wLUAtUC1gLXAtgC2QLaAtsC3ALdAt4C3wLgAuEC4gLjAuQC5QLmAucC6ALpAuoC6wLsAu0C7gLvAvAC8QLyAvMC9AL1AvYC9wL4AvkC+gL7AvwC/QL+Av8CAAMBAwIDAwMEAwUDBgMHAwgDCQMKAwsDDAMNAw4DDwMQAxEDEgMTAxQDFQMWAxcDGAMZAxoDGwMcAx0DHgMfAyADIQMiAyMDJAMlAyYDJwMoAykDKgMrAywDLQMuAy8DMAMxAzIDMwM0AzUDNgM3AzgDOQM6AzsDPAM9Az4DPwNAA0EDQgNDA0QDRQNGA0cDSANJA0oDSwNMA00DTgNPA1ADUQNSA1MDVANVA1YDVwNYA1kDWgNbA1wDXQNeA18DYANhA2IDYwNkA2UDZgNnA2gDaQNqA2sDbANtA24DbwNwA3EDcgNzA3QDdQN2A3cDeAN5A3oDewN8A30DfgN/A4ADgQOCA4MDhAOFA4YDhwOIA4kDigOLA4wDjQOOA48DkAORA5IDkwOUA5UDlgOXA5gDmQOaA5sDnAOdA54DnwOgA6EDogOjA6QDpQOmA6cDqAOpA6oDqwOsA60DrgOvA7ADsQOyA7MDtAO1A7YDtwO4A7kDugO7A7wDvQO+A78DwAPBA8IDwwPEA8UDxgPHA8gDyQPKA8sDzAPNA84DzwPQA9ED0gPTA9QD1QPWA9cD2APZA9oD2wPcA90D3gPfA+AD4QPiA+MD5APlA+YD5wPoAw==",
          "dtype": "i2"
         },
         "y": [
          0,
          6,
          12,
          18,
          24,
          30.000000000000004,
          36,
          42,
          48,
          54,
          60,
          66,
          72,
          78,
          84,
          90,
          96,
          102,
          108,
          114,
          120,
          126,
          132,
          138,
          144,
          150,
          156,
          162,
          168,
          174,
          180,
          186,
          192,
          198,
          204,
          210,
          216,
          222,
          228,
          234,
          240,
          246,
          252,
          258,
          264,
          270,
          276,
          282,
          288,
          294,
          300,
          306,
          312,
          318,
          324,
          330,
          336,
          342,
          348,
          354,
          360,
          366,
          372,
          378,
          384,
          390,
          396,
          402,
          408,
          414,
          420,
          426,
          432,
          438,
          444,
          450,
          456,
          462,
          468,
          474,
          480,
          486,
          492,
          498,
          504,
          510,
          516,
          522,
          528,
          534,
          540,
          546,
          552,
          558,
          564,
          570,
          576,
          582,
          588,
          594,
          600,
          606,
          612,
          618,
          624,
          630,
          636,
          642,
          648,
          654,
          660,
          666,
          672,
          678,
          684,
          690,
          696,
          702,
          708,
          714,
          720,
          726,
          732,
          738,
          744,
          750,
          756,
          762,
          768,
          774,
          780,
          786,
          792,
          798,
          804,
          810,
          816,
          822,
          828,
          834,
          840,
          846,
          852,
          858,
          864,
          870,
          876,
          882,
          888,
          894,
          900,
          906,
          912,
          918,
          924,
          930,
          936,
          942,
          948,
          954,
          960,
          966,
          972,
          978,
          984,
          990,
          996,
          1002,
          1008,
          1014,
          1020,
          1026,
          1032,
          1038,
          1044,
          1050,
          1056,
          1062,
          1068,
          1074,
          1080,
          1086,
          1092,
          1098,
          1104,
          1110,
          1116,
          1122,
          1128,
          1134,
          1140,
          1146,
          1152,
          1158,
          1164,
          1170,
          1176,
          1182,
          1188,
          1194,
          1200,
          1206,
          1212,
          1218,
          1224,
          1230,
          1236,
          1242,
          1248,
          1254,
          1260,
          1266,
          1272,
          1278,
          1284,
          1290,
          1296,
          1302,
          1308,
          1314,
          1320,
          1326,
          1332,
          1338,
          1344,
          1350,
          1356,
          1362,
          1368,
          1374,
          1380,
          1386,
          1392,
          1398,
          1404,
          1410,
          1416,
          1422,
          1428,
          1434,
          1440,
          1446,
          1452,
          1458,
          1464,
          1470,
          1476,
          1482,
          1488,
          1494,
          1500,
          1506,
          1512,
          1518,
          1524,
          1530,
          1536,
          1542,
          1548,
          1554,
          1560,
          1566,
          1572,
          1578,
          1584,
          1590,
          1596,
          1602,
          1608,
          1614,
          1620,
          1626,
          1632,
          1638,
          1644,
          1650,
          1656,
          1662,
          1668,
          1674,
          1680,
          1686,
          1692,
          1698,
          1704,
          1710,
          1716,
          1722,
          1728,
          1734,
          1740,
          1746,
          1752,
          1758,
          1764,
          1770,
          1776,
          1782,
          1788,
          1794,
          1800,
          1806,
          1812,
          1818,
          1824,
          1830,
          1836,
          1842,
          1848,
          1854,
          1860,
          1866,
          1872,
          1878,
          1884,
          1890,
          1896,
          1902,
          1908,
          1914,
          1920,
          1926,
          1932,
          1938,
          1944,
          1950,
          1956,
          1962,
          1968,
          1974,
          1980,
          1986,
          1992,
          1998,
          2004,
          2010,
          2016,
          2022,
          2028,
          2034,
          2040,
          2046,
          2052,
          2058,
          2064,
          2070,
          2076,
          2082,
          2088,
          2094,
          2100,
          2106,
          2112,
          2118,
          2124,
          2130,
          2136,
          2142,
          2148,
          2154,
          2160,
          2166,
          2172,
          2178,
          2184,
          2190,
          2196,
          2202,
          2208,
          2214,
          2220,
          2226,
          2232,
          2238,
          2244,
          2250,
          2256,
          2262,
          2268,
          2274,
          2280,
          2286,
          2292,
          2298,
          2304,
          2310,
          2316,
          2322,
          2328,
          2334,
          2340,
          2346,
          2352,
          2358,
          2364,
          2370,
          2376,
          2382,
          2388,
          2394,
          2400,
          2406,
          2412,
          2418,
          2424,
          2430,
          2436,
          2442,
          2448,
          2454,
          2460,
          2466,
          2472,
          2478,
          2484,
          2490,
          2496,
          2502,
          2508,
          2514,
          2520,
          2526,
          2532,
          2538,
          2544,
          2550,
          2556,
          2562,
          2568,
          2574,
          2580,
          2586,
          2592,
          2598,
          2604,
          2610,
          2616,
          2622,
          2628,
          2634,
          2640,
          2646,
          2652,
          2658,
          2664,
          2670,
          2676,
          2682,
          2688,
          2694,
          2700,
          2706,
          2712,
          2718,
          2724,
          2730,
          2736,
          2742,
          2748,
          2754,
          2760,
          2766,
          2772,
          2778,
          2784,
          2790,
          2796,
          2802,
          2808,
          2814,
          2820,
          2826,
          2832,
          2838,
          2844,
          2850,
          2856,
          2862,
          2868,
          2874,
          2880,
          2886,
          2892,
          2898,
          2904,
          2910,
          2916,
          2922,
          2928,
          2934,
          2940,
          2946,
          2952,
          2958,
          2964,
          2970,
          2976,
          2982,
          2988,
          2994,
          3000,
          3006,
          3012,
          3018,
          3024,
          3030,
          3036,
          3042,
          3048,
          3054,
          3060,
          3066,
          3072,
          3078,
          3084,
          3090,
          3096,
          3102,
          3108,
          3114,
          3120,
          3126,
          3132,
          3138,
          3144,
          3150,
          3156,
          3162,
          3168,
          3174,
          3180,
          3186,
          3192,
          3198,
          3204,
          3210,
          3216,
          3222,
          3228,
          3234,
          3240,
          3246,
          3252,
          3258,
          3264,
          3270,
          3276,
          3282,
          3288,
          3294,
          3300,
          3306,
          3312,
          3318,
          3324,
          3330,
          3336,
          3342,
          3348,
          3354,
          3360,
          3366,
          3372,
          3378,
          3384,
          3390,
          3396,
          3402,
          3408,
          3414,
          3420,
          3426,
          3432,
          3438,
          3444,
          3450,
          3456,
          3462,
          3468,
          3474,
          3480,
          3486,
          3492,
          3498,
          3504,
          3510,
          3516,
          3522,
          3528,
          3534,
          3540,
          3546,
          3552,
          3558,
          3564,
          3570,
          3576,
          3582,
          3588,
          3594,
          3600,
          3606,
          3612,
          3618,
          3624,
          3630,
          3636,
          3642,
          3648,
          3654,
          3660,
          3666,
          3672,
          3678,
          3684,
          3690,
          3696,
          3702,
          3708,
          3714,
          3720,
          3726,
          3732,
          3738,
          3744,
          3750,
          3756,
          3762,
          3768,
          3774,
          3780,
          3786,
          3792,
          3798,
          3804,
          3810,
          3816,
          3822,
          3828,
          3834,
          3840,
          3846,
          3852,
          3858,
          3864,
          3870,
          3876,
          3882,
          3888,
          3894,
          3900,
          3906,
          3912,
          3918,
          3924,
          3930,
          3936,
          3942,
          3948,
          3954,
          3960,
          3966,
          3972,
          3978,
          3984,
          3990,
          3996,
          4002,
          4008,
          4014,
          4020,
          4026,
          4032,
          4038,
          4044,
          4050,
          4056,
          4062,
          4068,
          4074,
          4080,
          4086,
          4092,
          4098,
          4104,
          4110,
          4116,
          4122,
          4128,
          4134,
          4140,
          4146,
          4152,
          4158,
          4164,
          4170,
          4176,
          4182,
          4188,
          4194,
          4200,
          4206,
          4212,
          4218,
          4224,
          4230,
          4236,
          4242,
          4248,
          4254,
          4260,
          4266,
          4272,
          4278,
          4284,
          4290,
          4296,
          4302,
          4308,
          4314,
          4320,
          4326,
          4332,
          4338,
          4344,
          4350,
          4356,
          4362,
          4368,
          4374,
          4380,
          4386,
          4392,
          4398,
          4404,
          4410,
          4416,
          4422,
          4428,
          4434,
          4440,
          4446,
          4452,
          4458,
          4464,
          4470,
          4476,
          4482,
          4488,
          4494,
          4500,
          4506,
          4512,
          4518,
          4524,
          4530,
          4536,
          4542,
          4548,
          4554,
          4560,
          4566,
          4572,
          4578,
          4584,
          4590,
          4596,
          4602,
          4608,
          4614,
          4620,
          4626,
          4632,
          4638,
          4644,
          4650,
          4656,
          4662,
          4668,
          4674,
          4680,
          4686,
          4692,
          4698,
          4704,
          4710,
          4716,
          4722,
          4728,
          4734,
          4740,
          4746,
          4752,
          4758,
          4764,
          4770,
          4776,
          4782,
          4788,
          4794,
          4800,
          4806,
          4812,
          4818,
          4824,
          4830,
          4836,
          4842,
          4848,
          4854,
          4860,
          4866,
          4872,
          4878,
          4884,
          4890,
          4896,
          4902,
          4908,
          4914,
          4920,
          4926,
          4932,
          4938,
          4944,
          4950,
          4956,
          4962,
          4968,
          4974,
          4980,
          4986,
          4992,
          4998,
          5004,
          5010,
          5016,
          5022,
          5028,
          5034,
          5040,
          5046,
          5052,
          5058,
          5064,
          5070,
          5076,
          5082,
          5088,
          5094,
          5100,
          5106,
          5112,
          5118,
          5124,
          5130,
          5136,
          5142,
          5148,
          5154,
          5160,
          5166,
          5172,
          5178,
          5184,
          5190,
          5196,
          5202,
          5208,
          5214,
          5220,
          5226,
          5232,
          5238,
          5244,
          5250,
          5256,
          5262,
          5268,
          5274,
          5280,
          5286,
          5292,
          5298,
          5304,
          5310,
          5316,
          5322,
          5328,
          5334,
          5340,
          5346,
          5352,
          5358,
          5364,
          5370,
          5376,
          5382,
          5388,
          5394,
          5400,
          5406,
          5412,
          5418,
          5424,
          5430,
          5436,
          5442,
          5448,
          5454,
          5460,
          5466,
          5472,
          5478,
          5484,
          5490,
          5496,
          5502,
          5508,
          5514,
          5520,
          5526,
          5532,
          5538,
          5544,
          5550,
          5556,
          5562,
          5568,
          5574,
          5580,
          5586,
          5592,
          5598,
          5604,
          5610,
          5616,
          5622,
          5628,
          5634,
          5640,
          5646,
          5652,
          5658,
          5664,
          5670,
          5676,
          5682,
          5688,
          5694,
          5700,
          5706,
          5712,
          5718,
          5724,
          5730,
          5736,
          5742,
          5748,
          5754,
          5760,
          5766,
          5772,
          5778,
          5784,
          5790,
          5796,
          5802,
          5808,
          5814,
          5820,
          5826,
          5832,
          5838,
          5844,
          5850,
          5856,
          5862,
          5868,
          5874,
          5880,
          5886,
          5892,
          5898,
          5904,
          5910,
          5916,
          5922,
          5928,
          5934,
          5940,
          5946,
          5952,
          5958,
          5964,
          5970,
          5976,
          5982,
          5988,
          5994,
          6000
         ]
        }
       ],
       "layout": {
        "height": 800,
        "template": {
         "data": {
          "bar": [
           {
            "error_x": {
             "color": "#2a3f5f"
            },
            "error_y": {
             "color": "#2a3f5f"
            },
            "marker": {
             "line": {
              "color": "#E5ECF6",
              "width": 0.5
             },
             "pattern": {
              "fillmode": "overlay",
              "size": 10,
              "solidity": 0.2
             }
            },
            "type": "bar"
           }
          ],
          "barpolar": [
           {
            "marker": {
             "line": {
              "color": "#E5ECF6",
              "width": 0.5
             },
             "pattern": {
              "fillmode": "overlay",
              "size": 10,
              "solidity": 0.2
             }
            },
            "type": "barpolar"
           }
          ],
          "carpet": [
           {
            "aaxis": {
             "endlinecolor": "#2a3f5f",
             "gridcolor": "white",
             "linecolor": "white",
             "minorgridcolor": "white",
             "startlinecolor": "#2a3f5f"
            },
            "baxis": {
             "endlinecolor": "#2a3f5f",
             "gridcolor": "white",
             "linecolor": "white",
             "minorgridcolor": "white",
             "startlinecolor": "#2a3f5f"
            },
            "type": "carpet"
           }
          ],
          "choropleth": [
           {
            "colorbar": {
             "outlinewidth": 0,
             "ticks": ""
            },
            "type": "choropleth"
           }
          ],
          "contour": [
           {
            "colorbar": {
             "outlinewidth": 0,
             "ticks": ""
            },
            "colorscale": [
             [
              0,
              "#0d0887"
             ],
             [
              0.1111111111111111,
              "#46039f"
             ],
             [
              0.2222222222222222,
              "#7201a8"
             ],
             [
              0.3333333333333333,
              "#9c179e"
             ],
             [
              0.4444444444444444,
              "#bd3786"
             ],
             [
              0.5555555555555556,
              "#d8576b"
             ],
             [
              0.6666666666666666,
              "#ed7953"
             ],
             [
              0.7777777777777778,
              "#fb9f3a"
             ],
             [
              0.8888888888888888,
              "#fdca26"
             ],
             [
              1,
              "#f0f921"
             ]
            ],
            "type": "contour"
           }
          ],
          "contourcarpet": [
           {
            "colorbar": {
             "outlinewidth": 0,
             "ticks": ""
            },
            "type": "contourcarpet"
           }
          ],
          "heatmap": [
           {
            "colorbar": {
             "outlinewidth": 0,
             "ticks": ""
            },
            "colorscale": [
             [
              0,
              "#0d0887"
             ],
             [
              0.1111111111111111,
              "#46039f"
             ],
             [
              0.2222222222222222,
              "#7201a8"
             ],
             [
              0.3333333333333333,
              "#9c179e"
             ],
             [
              0.4444444444444444,
              "#bd3786"
             ],
             [
              0.5555555555555556,
              "#d8576b"
             ],
             [
              0.6666666666666666,
              "#ed7953"
             ],
             [
              0.7777777777777778,
              "#fb9f3a"
             ],
             [
              0.8888888888888888,
              "#fdca26"
             ],
             [
              1,
              "#f0f921"
             ]
            ],
            "type": "heatmap"
           }
          ],
          "histogram": [
           {
            "marker": {
             "pattern": {
              "fillmode": "overlay",
              "size": 10,
              "solidity": 0.2
             }
            },
            "type": "histogram"
           }
          ],
          "histogram2d": [
           {
            "colorbar": {
             "outlinewidth": 0,
             "ticks": ""
            },
            "colorscale": [
             [
              0,
              "#0d0887"
             ],
             [
              0.1111111111111111,
              "#46039f"
             ],
             [
              0.2222222222222222,
              "#7201a8"
             ],
             [
              0.3333333333333333,
              "#9c179e"
             ],
             [
              0.4444444444444444,
              "#bd3786"
             ],
             [
              0.5555555555555556,
              "#d8576b"
             ],
             [
              0.6666666666666666,
              "#ed7953"
             ],
             [
              0.7777777777777778,
              "#fb9f3a"
             ],
             [
              0.8888888888888888,
              "#fdca26"
             ],
             [
              1,
              "#f0f921"
             ]
            ],
            "type": "histogram2d"
           }
          ],
          "histogram2dcontour": [
           {
            "colorbar": {
             "outlinewidth": 0,
             "ticks": ""
            },
            "colorscale": [
             [
              0,
              "#0d0887"
             ],
             [
              0.1111111111111111,
              "#46039f"
             ],
             [
              0.2222222222222222,
              "#7201a8"
             ],
             [
              0.3333333333333333,
              "#9c179e"
             ],
             [
              0.4444444444444444,
              "#bd3786"
             ],
             [
              0.5555555555555556,
              "#d8576b"
             ],
             [
              0.6666666666666666,
              "#ed7953"
             ],
             [
              0.7777777777777778,
              "#fb9f3a"
             ],
             [
              0.8888888888888888,
              "#fdca26"
             ],
             [
              1,
              "#f0f921"
             ]
            ],
            "type": "histogram2dcontour"
           }
          ],
          "mesh3d": [
           {
            "colorbar": {
             "outlinewidth": 0,
             "ticks": ""
            },
            "type": "mesh3d"
           }
          ],
          "parcoords": [
           {
            "line": {
             "colorbar": {
              "outlinewidth": 0,
              "ticks": ""
             }
            },
            "type": "parcoords"
           }
          ],
          "pie": [
           {
            "automargin": true,
            "type": "pie"
           }
          ],
          "scatter": [
           {
            "fillpattern": {
             "fillmode": "overlay",
             "size": 10,
             "solidity": 0.2
            },
            "type": "scatter"
           }
          ],
          "scatter3d": [
           {
            "line": {
             "colorbar": {
              "outlinewidth": 0,
              "ticks": ""
             }
            },
            "marker": {
             "colorbar": {
              "outlinewidth": 0,
              "ticks": ""
             }
            },
            "type": "scatter3d"
           }
          ],
          "scattercarpet": [
           {
            "marker": {
             "colorbar": {
              "outlinewidth": 0,
              "ticks": ""
             }
            },
            "type": "scattercarpet"
           }
          ],
          "scattergeo": [
           {
            "marker": {
             "colorbar": {
              "outlinewidth": 0,
              "ticks": ""
             }
            },
            "type": "scattergeo"
           }
          ],
          "scattergl": [
           {
            "marker": {
             "colorbar": {
              "outlinewidth": 0,
              "ticks": ""
             }
            },
            "type": "scattergl"
           }
          ],
          "scattermap": [
           {
            "marker": {
             "colorbar": {
              "outlinewidth": 0,
              "ticks": ""
             }
            },
            "type": "scattermap"
           }
          ],
          "scattermapbox": [
           {
            "marker": {
             "colorbar": {
              "outlinewidth": 0,
              "ticks": ""
             }
            },
            "type": "scattermapbox"
           }
          ],
          "scatterpolar": [
           {
            "marker": {
             "colorbar": {
              "outlinewidth": 0,
              "ticks": ""
             }
            },
            "type": "scatterpolar"
           }
          ],
          "scatterpolargl": [
           {
            "marker": {
             "colorbar": {
              "outlinewidth": 0,
              "ticks": ""
             }
            },
            "type": "scatterpolargl"
           }
          ],
          "scatterternary": [
           {
            "marker": {
             "colorbar": {
              "outlinewidth": 0,
              "ticks": ""
             }
            },
            "type": "scatterternary"
           }
          ],
          "surface": [
           {
            "colorbar": {
             "outlinewidth": 0,
             "ticks": ""
            },
            "colorscale": [
             [
              0,
              "#0d0887"
             ],
             [
              0.1111111111111111,
              "#46039f"
             ],
             [
              0.2222222222222222,
              "#7201a8"
             ],
             [
              0.3333333333333333,
              "#9c179e"
             ],
             [
              0.4444444444444444,
              "#bd3786"
             ],
             [
              0.5555555555555556,
              "#d8576b"
             ],
             [
              0.6666666666666666,
              "#ed7953"
             ],
             [
              0.7777777777777778,
              "#fb9f3a"
             ],
             [
              0.8888888888888888,
              "#fdca26"
             ],
             [
              1,
              "#f0f921"
             ]
            ],
            "type": "surface"
           }
          ],
          "table": [
           {
            "cells": {
             "fill": {
              "color": "#EBF0F8"
             },
             "line": {
              "color": "white"
             }
            },
            "header": {
             "fill": {
              "color": "#C8D4E3"
             },
             "line": {
              "color": "white"
             }
            },
            "type": "table"
           }
          ]
         },
         "layout": {
          "annotationdefaults": {
           "arrowcolor": "#2a3f5f",
           "arrowhead": 0,
           "arrowwidth": 1
          },
          "autotypenumbers": "strict",
          "coloraxis": {
           "colorbar": {
            "outlinewidth": 0,
            "ticks": ""
           }
          },
          "colorscale": {
           "diverging": [
            [
             0,
             "#8e0152"
            ],
            [
             0.1,
             "#c51b7d"
            ],
            [
             0.2,
             "#de77ae"
            ],
            [
             0.3,
             "#f1b6da"
            ],
            [
             0.4,
             "#fde0ef"
            ],
            [
             0.5,
             "#f7f7f7"
            ],
            [
             0.6,
             "#e6f5d0"
            ],
            [
             0.7,
             "#b8e186"
            ],
            [
             0.8,
             "#7fbc41"
            ],
            [
             0.9,
             "#4d9221"
            ],
            [
             1,
             "#276419"
            ]
           ],
           "sequential": [
            [
             0,
             "#0d0887"
            ],
            [
             0.1111111111111111,
             "#46039f"
            ],
            [
             0.2222222222222222,
             "#7201a8"
            ],
            [
             0.3333333333333333,
             "#9c179e"
            ],
            [
             0.4444444444444444,
             "#bd3786"
            ],
            [
             0.5555555555555556,
             "#d8576b"
            ],
            [
             0.6666666666666666,
             "#ed7953"
            ],
            [
             0.7777777777777778,
             "#fb9f3a"
            ],
            [
             0.8888888888888888,
             "#fdca26"
            ],
            [
             1,
             "#f0f921"
            ]
           ],
           "sequentialminus": [
            [
             0,
             "#0d0887"
            ],
            [
             0.1111111111111111,
             "#46039f"
            ],
            [
             0.2222222222222222,
             "#7201a8"
            ],
            [
             0.3333333333333333,
             "#9c179e"
            ],
            [
             0.4444444444444444,
             "#bd3786"
            ],
            [
             0.5555555555555556,
             "#d8576b"
            ],
            [
             0.6666666666666666,
             "#ed7953"
            ],
            [
             0.7777777777777778,
             "#fb9f3a"
            ],
            [
             0.8888888888888888,
             "#fdca26"
            ],
            [
             1,
             "#f0f921"
            ]
           ]
          },
          "colorway": [
           "#636efa",
           "#EF553B",
           "#00cc96",
           "#ab63fa",
           "#FFA15A",
           "#19d3f3",
           "#FF6692",
           "#B6E880",
           "#FF97FF",
           "#FECB52"
          ],
          "font": {
           "color": "#2a3f5f"
          },
          "geo": {
           "bgcolor": "white",
           "lakecolor": "white",
           "landcolor": "#E5ECF6",
           "showlakes": true,
           "showland": true,
           "subunitcolor": "white"
          },
          "hoverlabel": {
           "align": "left"
          },
          "hovermode": "closest",
          "mapbox": {
           "style": "light"
          },
          "paper_bgcolor": "white",
          "plot_bgcolor": "#E5ECF6",
          "polar": {
           "angularaxis": {
            "gridcolor": "white",
            "linecolor": "white",
            "ticks": ""
           },
           "bgcolor": "#E5ECF6",
           "radialaxis": {
            "gridcolor": "white",
            "linecolor": "white",
            "ticks": ""
           }
          },
          "scene": {
           "xaxis": {
            "backgroundcolor": "#E5ECF6",
            "gridcolor": "white",
            "gridwidth": 2,
            "linecolor": "white",
            "showbackground": true,
            "ticks": "",
            "zerolinecolor": "white"
           },
           "yaxis": {
            "backgroundcolor": "#E5ECF6",
            "gridcolor": "white",
            "gridwidth": 2,
            "linecolor": "white",
            "showbackground": true,
            "ticks": "",
            "zerolinecolor": "white"
           },
           "zaxis": {
            "backgroundcolor": "#E5ECF6",
            "gridcolor": "white",
            "gridwidth": 2,
            "linecolor": "white",
            "showbackground": true,
            "ticks": "",
            "zerolinecolor": "white"
           }
          },
          "shapedefaults": {
           "line": {
            "color": "#2a3f5f"
           }
          },
          "ternary": {
           "aaxis": {
            "gridcolor": "white",
            "linecolor": "white",
            "ticks": ""
           },
           "baxis": {
            "gridcolor": "white",
            "linecolor": "white",
            "ticks": ""
           },
           "bgcolor": "#E5ECF6",
           "caxis": {
            "gridcolor": "white",
            "linecolor": "white",
            "ticks": ""
           }
          },
          "title": {
           "x": 0.05
          },
          "xaxis": {
           "automargin": true,
           "gridcolor": "white",
           "linecolor": "white",
           "ticks": "",
           "title": {
            "standoff": 15
           },
           "zerolinecolor": "white",
           "zerolinewidth": 2
          },
          "yaxis": {
           "automargin": true,
           "gridcolor": "white",
           "linecolor": "white",
           "ticks": "",
           "title": {
            "standoff": 15
           },
           "zerolinecolor": "white",
           "zerolinewidth": 2
          }
         }
        },
        "title": {
         "text": "Path Lengths"
        }
       }
      }
     },
     "metadata": {},
     "output_type": "display_data"
    }
   ],
   "source": [
    "fig = go.Figure()\n",
    "\n",
    "fig.add_trace(go.Scatter(\n",
    "    x= bm_pl_3.index,\n",
    "    y= bm_pl_3.y_pos,\n",
    "    name='Path length - BM 3',\n",
    "    mode='lines',\n",
    "    showlegend=True\n",
    "))\n",
    "\n",
    "fig.add_trace(go.Scatter(\n",
    "    x= bm_pl_6.index,\n",
    "    y= bm_pl_6.y_pos,\n",
    "    name='Path length - BM 6',\n",
    "    marker = dict(size=2),\n",
    "    line = dict(width=6),\n",
    "    mode='lines',\n",
    "    showlegend=True\n",
    "))\n",
    "\n",
    "fig.add_trace(go.Scatter(\n",
    "    x= crw_pl_6.index,\n",
    "    y= crw_pl_6.y_pos,\n",
    "    name='Path length - CRW 6',\n",
    "    mode='lines',\n",
    "    showlegend=True\n",
    "))\n",
    "\n",
    "fig.update_layout(\n",
    "    title='Path Lengths',\n",
    "    height=800,\n",
    ")\n",
    "\n",
    "fig.show()"
   ]
  },
  {
   "cell_type": "markdown",
   "metadata": {},
   "source": [
    "# Activity 2: Mean Squared Displacement - (BM vs CRW)"
   ]
  },
  {
   "cell_type": "markdown",
   "metadata": {},
   "source": [
    "- Write a function that returns the **mean squared displacement** for a given trajectory.\n",
    "- Compare the **mean squared displacement** curves of at least two trajectories of\n",
    "different kinds, as shown in the figure below.\n",
    "- Display the results using **plotly.**"
   ]
  },
  {
   "cell_type": "markdown",
   "metadata": {},
   "source": [
    "# FUNCTIONS"
   ]
  },
  {
   "cell_type": "code",
   "execution_count": null,
   "metadata": {},
   "outputs": [],
   "source": [
    "def msd(trajectory_df):\n",
    "    \"\"\"    \n",
    "    \n",
    "    Arguments:\n",
    "        trajectory_df: DataFrame with columns ['x', 'y'] or ['x_pos', 'y_pos'].\n",
    "    Returns:\n",
    "        msd_df: DataFrame with columns ['tau', 'msd'] (time lag vs MSD).\n",
    "    \"\"\"\n",
    "    x_col = 'x' if 'x' in trajectory_df.columns else 'x_pos'\n",
    "    y_col = 'y' if 'y' in trajectory_df.columns else 'y_pos'\n",
    "    \n",
    "    # Extract coordinates\n",
    "    x = trajectory_df[x_col].values\n",
    "    y = trajectory_df[y_col].values\n",
    "    n = len(x)\n",
    "    \n",
    "    msd_values = np.zeros(n - 1)  # Store MSD values\n",
    "    taus = np.arange(1, n)  # All possible time lags\n",
    "    \n",
    "    for tau in taus:\n",
    "        displacements = (x[tau:] - x[:-tau])**2 + (y[tau:] - y[:-tau])**2\n",
    "        msd_values[tau - 1] = np.mean(displacements)  # Store MSD value for this tau\n",
    "    \n",
    "    return pd.DataFrame({'tau': taus, 'msd': msd_values})  "
   ]
  },
  {
   "cell_type": "code",
   "execution_count": 103,
   "metadata": {},
   "outputs": [
    {
     "data": {
      "application/vnd.plotly.v1+json": {
       "config": {
        "plotlyServerURL": "https://plot.ly"
       },
       "data": [
        {
         "mode": "lines",
         "name": "MSD BM6",
         "type": "scatter",
         "x": {
          "bdata": "AQACAAMABAAFAAYABwAIAAkACgALAAwADQAOAA8AEAARABIAEwAUABUAFgAXABgAGQAaABsAHAAdAB4AHwAgACEAIgAjACQAJQAmACcAKAApACoAKwAsAC0ALgAvADAAMQAyADMANAA1ADYANwA4ADkAOgA7ADwAPQA+AD8AQABBAEIAQwBEAEUARgBHAEgASQBKAEsATABNAE4ATwBQAFEAUgBTAFQAVQBWAFcAWABZAFoAWwBcAF0AXgBfAGAAYQBiAGMAZABlAGYAZwBoAGkAagBrAGwAbQBuAG8AcABxAHIAcwB0AHUAdgB3AHgAeQB6AHsAfAB9AH4AfwCAAIEAggCDAIQAhQCGAIcAiACJAIoAiwCMAI0AjgCPAJAAkQCSAJMAlACVAJYAlwCYAJkAmgCbAJwAnQCeAJ8AoAChAKIAowCkAKUApgCnAKgAqQCqAKsArACtAK4ArwCwALEAsgCzALQAtQC2ALcAuAC5ALoAuwC8AL0AvgC/AMAAwQDCAMMAxADFAMYAxwDIAMkAygDLAMwAzQDOAM8A0ADRANIA0wDUANUA1gDXANgA2QDaANsA3ADdAN4A3wDgAOEA4gDjAOQA5QDmAOcA6ADpAOoA6wDsAO0A7gDvAPAA8QDyAPMA9AD1APYA9wD4APkA+gD7APwA/QD+AP8AAAEBAQIBAwEEAQUBBgEHAQgBCQEKAQsBDAENAQ4BDwEQAREBEgETARQBFQEWARcBGAEZARoBGwEcAR0BHgEfASABIQEiASMBJAElASYBJwEoASkBKgErASwBLQEuAS8BMAExATIBMwE0ATUBNgE3ATgBOQE6ATsBPAE9AT4BPwFAAUEBQgFDAUQBRQFGAUcBSAFJAUoBSwFMAU0BTgFPAVABUQFSAVMBVAFVAVYBVwFYAVkBWgFbAVwBXQFeAV8BYAFhAWIBYwFkAWUBZgFnAWgBaQFqAWsBbAFtAW4BbwFwAXEBcgFzAXQBdQF2AXcBeAF5AXoBewF8AX0BfgF/AYABgQGCAYMBhAGFAYYBhwGIAYkBigGLAYwBjQGOAY8BkAGRAZIBkwGUAZUBlgGXAZgBmQGaAZsBnAGdAZ4BnwGgAaEBogGjAaQBpQGmAacBqAGpAaoBqwGsAa0BrgGvAbABsQGyAbMBtAG1AbYBtwG4AbkBugG7AbwBvQG+Ab8BwAHBAcIBwwHEAcUBxgHHAcgByQHKAcsBzAHNAc4BzwHQAdEB0gHTAdQB1QHWAdcB2AHZAdoB2wHcAd0B3gHfAeAB4QHiAeMB5AHlAeYB5wHoAekB6gHrAewB7QHuAe8B8AHxAfIB8wH0AfUB9gH3AfgB+QH6AfsB/AH9Af4B/wEAAgECAgIDAgQCBQIGAgcCCAIJAgoCCwIMAg0CDgIPAhACEQISAhMCFAIVAhYCFwIYAhkCGgIbAhwCHQIeAh8CIAIhAiICIwIkAiUCJgInAigCKQIqAisCLAItAi4CLwIwAjECMgIzAjQCNQI2AjcCOAI5AjoCOwI8Aj0CPgI/AkACQQJCAkMCRAJFAkYCRwJIAkkCSgJLAkwCTQJOAk8CUAJRAlICUwJUAlUCVgJXAlgCWQJaAlsCXAJdAl4CXwJgAmECYgJjAmQCZQJmAmcCaAJpAmoCawJsAm0CbgJvAnACcQJyAnMCdAJ1AnYCdwJ4AnkCegJ7AnwCfQJ+An8CgAKBAoICgwKEAoUChgKHAogCiQKKAosCjAKNAo4CjwKQApECkgKTApQClQKWApcCmAKZApoCmwKcAp0CngKfAqACoQKiAqMCpAKlAqYCpwKoAqkCqgKrAqwCrQKuAq8CsAKxArICswK0ArUCtgK3ArgCuQK6ArsCvAK9Ar4CvwLAAsECwgLDAsQCxQLGAscCyALJAsoCywLMAs0CzgLPAtAC0QLSAtMC1ALVAtYC1wLYAtkC2gLbAtwC3QLeAt8C4ALhAuIC4wLkAuUC5gLnAugC6QLqAusC7ALtAu4C7wLwAvEC8gLzAvQC9QL2AvcC+AL5AvoC+wL8Av0C/gL/AgADAQMCAwMDBAMFAwYDBwMIAwkDCgMLAwwDDQMOAw8DEAMRAxIDEwMUAxUDFgMXAxgDGQMaAxsDHAMdAx4DHwMgAyEDIgMjAyQDJQMmAycDKAMpAyoDKwMsAy0DLgMvAzADMQMyAzMDNAM1AzYDNwM4AzkDOgM7AzwDPQM+Az8DQANBA0IDQwNEA0UDRgNHA0gDSQNKA0sDTANNA04DTwNQA1EDUgNTA1QDVQNWA1cDWANZA1oDWwNcA10DXgNfA2ADYQNiA2MDZANlA2YDZwNoA2kDagNrA2wDbQNuA28DcANxA3IDcwN0A3UDdgN3A3gDeQN6A3sDfAN9A34DfwOAA4EDggODA4QDhQOGA4cDiAOJA4oDiwOMA40DjgOPA5ADkQOSA5MDlAOVA5YDlwOYA5kDmgObA5wDnQOeA58DoAOhA6IDowOkA6UDpgOnA6gDqQOqA6sDrAOtA64DrwOwA7EDsgOzA7QDtQO2A7cDuAO5A7oDuwO8A70DvgO/A8ADwQPCA8MDxAPFA8YDxwPIA8kDygPLA8wDzQPOA88D0APRA9ID0wPUA9UD1gPXA9gD2QPaA9sD3APdA94D3wPgA+ED4gPjA+QD5QPmA+cD",
          "dtype": "i2"
         },
         "y": {
          "bdata": "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",
          "dtype": "f8"
         }
        },
        {
         "mode": "lines",
         "name": "MSD CRW6 c=0.9",
         "type": "scatter",
         "x": {
          "bdata": "AQACAAMABAAFAAYABwAIAAkACgALAAwADQAOAA8AEAARABIAEwAUABUAFgAXABgAGQAaABsAHAAdAB4AHwAgACEAIgAjACQAJQAmACcAKAApACoAKwAsAC0ALgAvADAAMQAyADMANAA1ADYANwA4ADkAOgA7ADwAPQA+AD8AQABBAEIAQwBEAEUARgBHAEgASQBKAEsATABNAE4ATwBQAFEAUgBTAFQAVQBWAFcAWABZAFoAWwBcAF0AXgBfAGAAYQBiAGMAZABlAGYAZwBoAGkAagBrAGwAbQBuAG8AcABxAHIAcwB0AHUAdgB3AHgAeQB6AHsAfAB9AH4AfwCAAIEAggCDAIQAhQCGAIcAiACJAIoAiwCMAI0AjgCPAJAAkQCSAJMAlACVAJYAlwCYAJkAmgCbAJwAnQCeAJ8AoAChAKIAowCkAKUApgCnAKgAqQCqAKsArACtAK4ArwCwALEAsgCzALQAtQC2ALcAuAC5ALoAuwC8AL0AvgC/AMAAwQDCAMMAxADFAMYAxwDIAMkAygDLAMwAzQDOAM8A0ADRANIA0wDUANUA1gDXANgA2QDaANsA3ADdAN4A3wDgAOEA4gDjAOQA5QDmAOcA6ADpAOoA6wDsAO0A7gDvAPAA8QDyAPMA9AD1APYA9wD4APkA+gD7APwA/QD+AP8AAAEBAQIBAwEEAQUBBgEHAQgBCQEKAQsBDAENAQ4BDwEQAREBEgETARQBFQEWARcBGAEZARoBGwEcAR0BHgEfASABIQEiASMBJAElASYBJwEoASkBKgErASwBLQEuAS8BMAExATIBMwE0ATUBNgE3ATgBOQE6ATsBPAE9AT4BPwFAAUEBQgFDAUQBRQFGAUcBSAFJAUoBSwFMAU0BTgFPAVABUQFSAVMBVAFVAVYBVwFYAVkBWgFbAVwBXQFeAV8BYAFhAWIBYwFkAWUBZgFnAWgBaQFqAWsBbAFtAW4BbwFwAXEBcgFzAXQBdQF2AXcBeAF5AXoBewF8AX0BfgF/AYABgQGCAYMBhAGFAYYBhwGIAYkBigGLAYwBjQGOAY8BkAGRAZIBkwGUAZUBlgGXAZgBmQGaAZsBnAGdAZ4BnwGgAaEBogGjAaQBpQGmAacBqAGpAaoBqwGsAa0BrgGvAbABsQGyAbMBtAG1AbYBtwG4AbkBugG7AbwBvQG+Ab8BwAHBAcIBwwHEAcUBxgHHAcgByQHKAcsBzAHNAc4BzwHQAdEB0gHTAdQB1QHWAdcB2AHZAdoB2wHcAd0B3gHfAeAB4QHiAeMB5AHlAeYB5wHoAekB6gHrAewB7QHuAe8B8AHxAfIB8wH0AfUB9gH3AfgB+QH6AfsB/AH9Af4B/wEAAgECAgIDAgQCBQIGAgcCCAIJAgoCCwIMAg0CDgIPAhACEQISAhMCFAIVAhYCFwIYAhkCGgIbAhwCHQIeAh8CIAIhAiICIwIkAiUCJgInAigCKQIqAisCLAItAi4CLwIwAjECMgIzAjQCNQI2AjcCOAI5AjoCOwI8Aj0CPgI/AkACQQJCAkMCRAJFAkYCRwJIAkkCSgJLAkwCTQJOAk8CUAJRAlICUwJUAlUCVgJXAlgCWQJaAlsCXAJdAl4CXwJgAmECYgJjAmQCZQJmAmcCaAJpAmoCawJsAm0CbgJvAnACcQJyAnMCdAJ1AnYCdwJ4AnkCegJ7AnwCfQJ+An8CgAKBAoICgwKEAoUChgKHAogCiQKKAosCjAKNAo4CjwKQApECkgKTApQClQKWApcCmAKZApoCmwKcAp0CngKfAqACoQKiAqMCpAKlAqYCpwKoAqkCqgKrAqwCrQKuAq8CsAKxArICswK0ArUCtgK3ArgCuQK6ArsCvAK9Ar4CvwLAAsECwgLDAsQCxQLGAscCyALJAsoCywLMAs0CzgLPAtAC0QLSAtMC1ALVAtYC1wLYAtkC2gLbAtwC3QLeAt8C4ALhAuIC4wLkAuUC5gLnAugC6QLqAusC7ALtAu4C7wLwAvEC8gLzAvQC9QL2AvcC+AL5AvoC+wL8Av0C/gL/AgADAQMCAwMDBAMFAwYDBwMIAwkDCgMLAwwDDQMOAw8DEAMRAxIDEwMUAxUDFgMXAxgDGQMaAxsDHAMdAx4DHwMgAyEDIgMjAyQDJQMmAycDKAMpAyoDKwMsAy0DLgMvAzADMQMyAzMDNAM1AzYDNwM4AzkDOgM7AzwDPQM+Az8DQANBA0IDQwNEA0UDRgNHA0gDSQNKA0sDTANNA04DTwNQA1EDUgNTA1QDVQNWA1cDWANZA1oDWwNcA10DXgNfA2ADYQNiA2MDZANlA2YDZwNoA2kDagNrA2wDbQNuA28DcANxA3IDcwN0A3UDdgN3A3gDeQN6A3sDfAN9A34DfwOAA4EDggODA4QDhQOGA4cDiAOJA4oDiwOMA40DjgOPA5ADkQOSA5MDlAOVA5YDlwOYA5kDmgObA5wDnQOeA58DoAOhA6IDowOkA6UDpgOnA6gDqQOqA6sDrAOtA64DrwOwA7EDsgOzA7QDtQO2A7cDuAO5A7oDuwO8A70DvgO/A8ADwQPCA8MDxAPFA8YDxwPIA8kDygPLA8wDzQPOA88D0APRA9ID0wPUA9UD1gPXA9gD2QPaA9sD3APdA94D3wPgA+ED4gPjA+QD5QPmA+cD6AM=",
          "dtype": "i2"
         },
         "y": {
          "bdata": "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",
          "dtype": "f8"
         }
        }
       ],
       "layout": {
        "height": 600,
        "hovermode": "x unified",
        "template": {
         "data": {
          "bar": [
           {
            "error_x": {
             "color": "#2a3f5f"
            },
            "error_y": {
             "color": "#2a3f5f"
            },
            "marker": {
             "line": {
              "color": "#E5ECF6",
              "width": 0.5
             },
             "pattern": {
              "fillmode": "overlay",
              "size": 10,
              "solidity": 0.2
             }
            },
            "type": "bar"
           }
          ],
          "barpolar": [
           {
            "marker": {
             "line": {
              "color": "#E5ECF6",
              "width": 0.5
             },
             "pattern": {
              "fillmode": "overlay",
              "size": 10,
              "solidity": 0.2
             }
            },
            "type": "barpolar"
           }
          ],
          "carpet": [
           {
            "aaxis": {
             "endlinecolor": "#2a3f5f",
             "gridcolor": "white",
             "linecolor": "white",
             "minorgridcolor": "white",
             "startlinecolor": "#2a3f5f"
            },
            "baxis": {
             "endlinecolor": "#2a3f5f",
             "gridcolor": "white",
             "linecolor": "white",
             "minorgridcolor": "white",
             "startlinecolor": "#2a3f5f"
            },
            "type": "carpet"
           }
          ],
          "choropleth": [
           {
            "colorbar": {
             "outlinewidth": 0,
             "ticks": ""
            },
            "type": "choropleth"
           }
          ],
          "contour": [
           {
            "colorbar": {
             "outlinewidth": 0,
             "ticks": ""
            },
            "colorscale": [
             [
              0,
              "#0d0887"
             ],
             [
              0.1111111111111111,
              "#46039f"
             ],
             [
              0.2222222222222222,
              "#7201a8"
             ],
             [
              0.3333333333333333,
              "#9c179e"
             ],
             [
              0.4444444444444444,
              "#bd3786"
             ],
             [
              0.5555555555555556,
              "#d8576b"
             ],
             [
              0.6666666666666666,
              "#ed7953"
             ],
             [
              0.7777777777777778,
              "#fb9f3a"
             ],
             [
              0.8888888888888888,
              "#fdca26"
             ],
             [
              1,
              "#f0f921"
             ]
            ],
            "type": "contour"
           }
          ],
          "contourcarpet": [
           {
            "colorbar": {
             "outlinewidth": 0,
             "ticks": ""
            },
            "type": "contourcarpet"
           }
          ],
          "heatmap": [
           {
            "colorbar": {
             "outlinewidth": 0,
             "ticks": ""
            },
            "colorscale": [
             [
              0,
              "#0d0887"
             ],
             [
              0.1111111111111111,
              "#46039f"
             ],
             [
              0.2222222222222222,
              "#7201a8"
             ],
             [
              0.3333333333333333,
              "#9c179e"
             ],
             [
              0.4444444444444444,
              "#bd3786"
             ],
             [
              0.5555555555555556,
              "#d8576b"
             ],
             [
              0.6666666666666666,
              "#ed7953"
             ],
             [
              0.7777777777777778,
              "#fb9f3a"
             ],
             [
              0.8888888888888888,
              "#fdca26"
             ],
             [
              1,
              "#f0f921"
             ]
            ],
            "type": "heatmap"
           }
          ],
          "histogram": [
           {
            "marker": {
             "pattern": {
              "fillmode": "overlay",
              "size": 10,
              "solidity": 0.2
             }
            },
            "type": "histogram"
           }
          ],
          "histogram2d": [
           {
            "colorbar": {
             "outlinewidth": 0,
             "ticks": ""
            },
            "colorscale": [
             [
              0,
              "#0d0887"
             ],
             [
              0.1111111111111111,
              "#46039f"
             ],
             [
              0.2222222222222222,
              "#7201a8"
             ],
             [
              0.3333333333333333,
              "#9c179e"
             ],
             [
              0.4444444444444444,
              "#bd3786"
             ],
             [
              0.5555555555555556,
              "#d8576b"
             ],
             [
              0.6666666666666666,
              "#ed7953"
             ],
             [
              0.7777777777777778,
              "#fb9f3a"
             ],
             [
              0.8888888888888888,
              "#fdca26"
             ],
             [
              1,
              "#f0f921"
             ]
            ],
            "type": "histogram2d"
           }
          ],
          "histogram2dcontour": [
           {
            "colorbar": {
             "outlinewidth": 0,
             "ticks": ""
            },
            "colorscale": [
             [
              0,
              "#0d0887"
             ],
             [
              0.1111111111111111,
              "#46039f"
             ],
             [
              0.2222222222222222,
              "#7201a8"
             ],
             [
              0.3333333333333333,
              "#9c179e"
             ],
             [
              0.4444444444444444,
              "#bd3786"
             ],
             [
              0.5555555555555556,
              "#d8576b"
             ],
             [
              0.6666666666666666,
              "#ed7953"
             ],
             [
              0.7777777777777778,
              "#fb9f3a"
             ],
             [
              0.8888888888888888,
              "#fdca26"
             ],
             [
              1,
              "#f0f921"
             ]
            ],
            "type": "histogram2dcontour"
           }
          ],
          "mesh3d": [
           {
            "colorbar": {
             "outlinewidth": 0,
             "ticks": ""
            },
            "type": "mesh3d"
           }
          ],
          "parcoords": [
           {
            "line": {
             "colorbar": {
              "outlinewidth": 0,
              "ticks": ""
             }
            },
            "type": "parcoords"
           }
          ],
          "pie": [
           {
            "automargin": true,
            "type": "pie"
           }
          ],
          "scatter": [
           {
            "fillpattern": {
             "fillmode": "overlay",
             "size": 10,
             "solidity": 0.2
            },
            "type": "scatter"
           }
          ],
          "scatter3d": [
           {
            "line": {
             "colorbar": {
              "outlinewidth": 0,
              "ticks": ""
             }
            },
            "marker": {
             "colorbar": {
              "outlinewidth": 0,
              "ticks": ""
             }
            },
            "type": "scatter3d"
           }
          ],
          "scattercarpet": [
           {
            "marker": {
             "colorbar": {
              "outlinewidth": 0,
              "ticks": ""
             }
            },
            "type": "scattercarpet"
           }
          ],
          "scattergeo": [
           {
            "marker": {
             "colorbar": {
              "outlinewidth": 0,
              "ticks": ""
             }
            },
            "type": "scattergeo"
           }
          ],
          "scattergl": [
           {
            "marker": {
             "colorbar": {
              "outlinewidth": 0,
              "ticks": ""
             }
            },
            "type": "scattergl"
           }
          ],
          "scattermap": [
           {
            "marker": {
             "colorbar": {
              "outlinewidth": 0,
              "ticks": ""
             }
            },
            "type": "scattermap"
           }
          ],
          "scattermapbox": [
           {
            "marker": {
             "colorbar": {
              "outlinewidth": 0,
              "ticks": ""
             }
            },
            "type": "scattermapbox"
           }
          ],
          "scatterpolar": [
           {
            "marker": {
             "colorbar": {
              "outlinewidth": 0,
              "ticks": ""
             }
            },
            "type": "scatterpolar"
           }
          ],
          "scatterpolargl": [
           {
            "marker": {
             "colorbar": {
              "outlinewidth": 0,
              "ticks": ""
             }
            },
            "type": "scatterpolargl"
           }
          ],
          "scatterternary": [
           {
            "marker": {
             "colorbar": {
              "outlinewidth": 0,
              "ticks": ""
             }
            },
            "type": "scatterternary"
           }
          ],
          "surface": [
           {
            "colorbar": {
             "outlinewidth": 0,
             "ticks": ""
            },
            "colorscale": [
             [
              0,
              "#0d0887"
             ],
             [
              0.1111111111111111,
              "#46039f"
             ],
             [
              0.2222222222222222,
              "#7201a8"
             ],
             [
              0.3333333333333333,
              "#9c179e"
             ],
             [
              0.4444444444444444,
              "#bd3786"
             ],
             [
              0.5555555555555556,
              "#d8576b"
             ],
             [
              0.6666666666666666,
              "#ed7953"
             ],
             [
              0.7777777777777778,
              "#fb9f3a"
             ],
             [
              0.8888888888888888,
              "#fdca26"
             ],
             [
              1,
              "#f0f921"
             ]
            ],
            "type": "surface"
           }
          ],
          "table": [
           {
            "cells": {
             "fill": {
              "color": "#EBF0F8"
             },
             "line": {
              "color": "white"
             }
            },
            "header": {
             "fill": {
              "color": "#C8D4E3"
             },
             "line": {
              "color": "white"
             }
            },
            "type": "table"
           }
          ]
         },
         "layout": {
          "annotationdefaults": {
           "arrowcolor": "#2a3f5f",
           "arrowhead": 0,
           "arrowwidth": 1
          },
          "autotypenumbers": "strict",
          "coloraxis": {
           "colorbar": {
            "outlinewidth": 0,
            "ticks": ""
           }
          },
          "colorscale": {
           "diverging": [
            [
             0,
             "#8e0152"
            ],
            [
             0.1,
             "#c51b7d"
            ],
            [
             0.2,
             "#de77ae"
            ],
            [
             0.3,
             "#f1b6da"
            ],
            [
             0.4,
             "#fde0ef"
            ],
            [
             0.5,
             "#f7f7f7"
            ],
            [
             0.6,
             "#e6f5d0"
            ],
            [
             0.7,
             "#b8e186"
            ],
            [
             0.8,
             "#7fbc41"
            ],
            [
             0.9,
             "#4d9221"
            ],
            [
             1,
             "#276419"
            ]
           ],
           "sequential": [
            [
             0,
             "#0d0887"
            ],
            [
             0.1111111111111111,
             "#46039f"
            ],
            [
             0.2222222222222222,
             "#7201a8"
            ],
            [
             0.3333333333333333,
             "#9c179e"
            ],
            [
             0.4444444444444444,
             "#bd3786"
            ],
            [
             0.5555555555555556,
             "#d8576b"
            ],
            [
             0.6666666666666666,
             "#ed7953"
            ],
            [
             0.7777777777777778,
             "#fb9f3a"
            ],
            [
             0.8888888888888888,
             "#fdca26"
            ],
            [
             1,
             "#f0f921"
            ]
           ],
           "sequentialminus": [
            [
             0,
             "#0d0887"
            ],
            [
             0.1111111111111111,
             "#46039f"
            ],
            [
             0.2222222222222222,
             "#7201a8"
            ],
            [
             0.3333333333333333,
             "#9c179e"
            ],
            [
             0.4444444444444444,
             "#bd3786"
            ],
            [
             0.5555555555555556,
             "#d8576b"
            ],
            [
             0.6666666666666666,
             "#ed7953"
            ],
            [
             0.7777777777777778,
             "#fb9f3a"
            ],
            [
             0.8888888888888888,
             "#fdca26"
            ],
            [
             1,
             "#f0f921"
            ]
           ]
          },
          "colorway": [
           "#636efa",
           "#EF553B",
           "#00cc96",
           "#ab63fa",
           "#FFA15A",
           "#19d3f3",
           "#FF6692",
           "#B6E880",
           "#FF97FF",
           "#FECB52"
          ],
          "font": {
           "color": "#2a3f5f"
          },
          "geo": {
           "bgcolor": "white",
           "lakecolor": "white",
           "landcolor": "#E5ECF6",
           "showlakes": true,
           "showland": true,
           "subunitcolor": "white"
          },
          "hoverlabel": {
           "align": "left"
          },
          "hovermode": "closest",
          "mapbox": {
           "style": "light"
          },
          "paper_bgcolor": "white",
          "plot_bgcolor": "#E5ECF6",
          "polar": {
           "angularaxis": {
            "gridcolor": "white",
            "linecolor": "white",
            "ticks": ""
           },
           "bgcolor": "#E5ECF6",
           "radialaxis": {
            "gridcolor": "white",
            "linecolor": "white",
            "ticks": ""
           }
          },
          "scene": {
           "xaxis": {
            "backgroundcolor": "#E5ECF6",
            "gridcolor": "white",
            "gridwidth": 2,
            "linecolor": "white",
            "showbackground": true,
            "ticks": "",
            "zerolinecolor": "white"
           },
           "yaxis": {
            "backgroundcolor": "#E5ECF6",
            "gridcolor": "white",
            "gridwidth": 2,
            "linecolor": "white",
            "showbackground": true,
            "ticks": "",
            "zerolinecolor": "white"
           },
           "zaxis": {
            "backgroundcolor": "#E5ECF6",
            "gridcolor": "white",
            "gridwidth": 2,
            "linecolor": "white",
            "showbackground": true,
            "ticks": "",
            "zerolinecolor": "white"
           }
          },
          "shapedefaults": {
           "line": {
            "color": "#2a3f5f"
           }
          },
          "ternary": {
           "aaxis": {
            "gridcolor": "white",
            "linecolor": "white",
            "ticks": ""
           },
           "baxis": {
            "gridcolor": "white",
            "linecolor": "white",
            "ticks": ""
           },
           "bgcolor": "#E5ECF6",
           "caxis": {
            "gridcolor": "white",
            "linecolor": "white",
            "ticks": ""
           }
          },
          "title": {
           "x": 0.05
          },
          "xaxis": {
           "automargin": true,
           "gridcolor": "white",
           "linecolor": "white",
           "ticks": "",
           "title": {
            "standoff": 15
           },
           "zerolinecolor": "white",
           "zerolinewidth": 2
          },
          "yaxis": {
           "automargin": true,
           "gridcolor": "white",
           "linecolor": "white",
           "ticks": "",
           "title": {
            "standoff": 15
           },
           "zerolinecolor": "white",
           "zerolinewidth": 2
          }
         }
        },
        "title": {
         "text": "Mean Squared Displacement - (BM vs CRW)"
        },
        "xaxis": {
         "title": {
          "text": "Time Lag (τ)"
         }
        },
        "yaxis": {
         "title": {
          "text": "MSD (σ²)"
         }
        }
       }
      }
     },
     "metadata": {},
     "output_type": "display_data"
    }
   ],
   "source": [
    "# Calculate MSDs\n",
    "msd_bm = msd(bm_traj_6)\n",
    "msd_crw_high = msd(crw_traj_6)\n",
    "\n",
    "fig = go.Figure()\n",
    "fig.add_trace(go.Scatter(x=msd_bm['tau'], y=msd_bm['msd'], mode='lines', name='MSD BM6'))\n",
    "fig.add_trace(go.Scatter(x=msd_crw_high['tau'], y=msd_crw_high['msd'], mode='lines', name='MSD CRW6 c=0.9'))\n",
    "\n",
    "fig.update_layout(\n",
    "    title='Mean Squared Displacement - (BM vs CRW)',\n",
    "    xaxis_title='Time Lag (τ)',\n",
    "    yaxis_title='MSD (σ²)',\n",
    "    hovermode='x unified',\n",
    "    height=600\n",
    ")\n",
    "fig.show()"
   ]
  },
  {
   "cell_type": "code",
   "execution_count": null,
   "metadata": {},
   "outputs": [],
   "source": []
  }
 ],
 "metadata": {
  "kernelspec": {
   "display_name": ".venv",
   "language": "python",
   "name": "python3"
  },
  "language_info": {
   "codemirror_mode": {
    "name": "ipython",
    "version": 3
   },
   "file_extension": ".py",
   "mimetype": "text/x-python",
   "name": "python",
   "nbconvert_exporter": "python",
   "pygments_lexer": "ipython3",
   "version": "3.10.6"
  }
 },
 "nbformat": 4,
 "nbformat_minor": 2
}
